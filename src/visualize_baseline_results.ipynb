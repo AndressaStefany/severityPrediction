{
 "cells": [
  {
   "cell_type": "code",
   "execution_count": 1,
   "metadata": {},
   "outputs": [],
   "source": [
    "import optuna\n",
    "from pathlib import Path\n",
    "import plotly.express as px\n",
    "import os"
   ]
  },
  {
   "cell_type": "code",
   "execution_count": 2,
   "metadata": {},
   "outputs": [],
   "source": [
    "original_path = Path(\".\")\n",
    "root_path = (Path(\".\").parent / \"../data/baseline_studies/studies/sel/\").resolve()\n",
    "os.chdir(root_path)\n",
    "p = Path(\"../images_baseline\").resolve()\n",
    "p.mkdir(exist_ok=True)"
   ]
  },
  {
   "cell_type": "code",
   "execution_count": 3,
   "metadata": {},
   "outputs": [],
   "source": [
    "study_name = \"study-knn_mozilla_200k_1000_samples-_24932448\"\n",
    "study_name = \"study-svc_mozilla_200k_1000_samples-_24932435\"\n",
    "study_name = \"study-bayesian-networks_mozilla_200k_1000_samples-_24932422\"\n",
    "study = optuna.load_study(study_name=study_name,storage=f\"sqlite:///{study_name}.db\")"
   ]
  },
  {
   "cell_type": "code",
   "execution_count": 63,
   "metadata": {},
   "outputs": [
    {
     "ename": "KeyboardInterrupt",
     "evalue": "",
     "output_type": "error",
     "traceback": [
      "\u001b[1;31m---------------------------------------------------------------------------\u001b[0m",
      "\u001b[1;31mKeyboardInterrupt\u001b[0m                         Traceback (most recent call last)",
      "Cell \u001b[1;32mIn[63], line 97\u001b[0m\n\u001b[0;32m     95\u001b[0m mapping \u001b[38;5;241m=\u001b[39m {\u001b[38;5;124m'\u001b[39m\u001b[38;5;124mclassifier_name\u001b[39m\u001b[38;5;124m'\u001b[39m:\u001b[38;5;124m'\u001b[39m\u001b[38;5;124mClassifier name\u001b[39m\u001b[38;5;124m'\u001b[39m,\u001b[38;5;124m'\u001b[39m\u001b[38;5;124mvar_smoothing\u001b[39m\u001b[38;5;124m'\u001b[39m:\u001b[38;5;124m'\u001b[39m\u001b[38;5;124mVariable smoothing\u001b[39m\u001b[38;5;124m'\u001b[39m}\n\u001b[0;32m     96\u001b[0m mapping \u001b[38;5;241m=\u001b[39m {\u001b[38;5;124m'\u001b[39m\u001b[38;5;124malpha\u001b[39m\u001b[38;5;124m'\u001b[39m:\u001b[38;5;124m'\u001b[39m\u001b[38;5;124malpha\u001b[39m\u001b[38;5;124m'\u001b[39m,\u001b[38;5;124m'\u001b[39m\u001b[38;5;124mfit_prior\u001b[39m\u001b[38;5;124m'\u001b[39m:\u001b[38;5;124m'\u001b[39m\u001b[38;5;124mFit prior\u001b[39m\u001b[38;5;124m'\u001b[39m,\u001b[38;5;124m'\u001b[39m\u001b[38;5;124mclassifier_name\u001b[39m\u001b[38;5;124m'\u001b[39m:\u001b[38;5;124m'\u001b[39m\u001b[38;5;124mClassifier name\u001b[39m\u001b[38;5;124m'\u001b[39m}\n\u001b[1;32m---> 97\u001b[0m fig \u001b[38;5;241m=\u001b[39m \u001b[43mplot_parallel_coordinate\u001b[49m\u001b[43m(\u001b[49m\u001b[43mstudy\u001b[49m\u001b[43m,\u001b[49m\u001b[38;5;28;43mlist\u001b[39;49m\u001b[43m(\u001b[49m\u001b[43mmapping\u001b[49m\u001b[38;5;241;43m.\u001b[39;49m\u001b[43mkeys\u001b[49m\u001b[43m(\u001b[49m\u001b[43m)\u001b[49m\u001b[43m)\u001b[49m\u001b[43m,\u001b[49m\u001b[43mmapping\u001b[49m\u001b[38;5;241;43m=\u001b[39;49m\u001b[43mmapping\u001b[49m\u001b[43m)\u001b[49m\n",
      "Cell \u001b[1;32mIn[63], line 20\u001b[0m, in \u001b[0;36mplot_parallel_coordinate\u001b[1;34m(study, params, target, target_name, cmap, linewidths, mapping)\u001b[0m\n\u001b[0;32m      9\u001b[0m \u001b[38;5;28;01mdef\u001b[39;00m \u001b[38;5;21mplot_parallel_coordinate\u001b[39m(\n\u001b[0;32m     10\u001b[0m     study,\n\u001b[0;32m     11\u001b[0m     params,\n\u001b[1;32m   (...)\u001b[0m\n\u001b[0;32m     17\u001b[0m     mapping: Optional[Dict[\u001b[38;5;28mstr\u001b[39m,\u001b[38;5;28mstr\u001b[39m]] \u001b[38;5;241m=\u001b[39m \u001b[38;5;28;01mNone\u001b[39;00m\n\u001b[0;32m     18\u001b[0m ):\n\u001b[0;32m     19\u001b[0m     info \u001b[38;5;241m=\u001b[39m _get_parallel_coordinate_info(study, params, target, target_name)\n\u001b[1;32m---> 20\u001b[0m     \u001b[38;5;28;01mreturn\u001b[39;00m \u001b[43m_get_parallel_coordinate_plot\u001b[49m\u001b[43m(\u001b[49m\u001b[43minfo\u001b[49m\u001b[43m,\u001b[49m\u001b[43m \u001b[49m\u001b[43mcmap\u001b[49m\u001b[38;5;241;43m=\u001b[39;49m\u001b[43mcmap\u001b[49m\u001b[43m,\u001b[49m\u001b[43m \u001b[49m\u001b[43mlinewidths\u001b[49m\u001b[38;5;241;43m=\u001b[39;49m\u001b[43mlinewidths\u001b[49m\u001b[43m,\u001b[49m\u001b[43m \u001b[49m\u001b[43mmapping\u001b[49m\u001b[38;5;241;43m=\u001b[39;49m\u001b[43mmapping\u001b[49m\u001b[43m)\u001b[49m\n",
      "Cell \u001b[1;32mIn[63], line 63\u001b[0m, in \u001b[0;36m_get_parallel_coordinate_plot\u001b[1;34m(info, cmap, linewidths, mapping)\u001b[0m\n\u001b[0;32m     61\u001b[0m ax\u001b[38;5;241m.\u001b[39mset_ylim(info\u001b[38;5;241m.\u001b[39mdim_objective\u001b[38;5;241m.\u001b[39mrange[\u001b[38;5;241m0\u001b[39m], info\u001b[38;5;241m.\u001b[39mdim_objective\u001b[38;5;241m.\u001b[39mrange[\u001b[38;5;241m1\u001b[39m])\n\u001b[0;32m     62\u001b[0m xs \u001b[38;5;241m=\u001b[39m [\u001b[38;5;28mrange\u001b[39m(n_params \u001b[38;5;241m+\u001b[39m \u001b[38;5;241m1\u001b[39m) \u001b[38;5;28;01mfor\u001b[39;00m _ \u001b[38;5;129;01min\u001b[39;00m \u001b[38;5;28mrange\u001b[39m(\u001b[38;5;28mlen\u001b[39m(dims_obj_base))]\n\u001b[1;32m---> 63\u001b[0m segments \u001b[38;5;241m=\u001b[39m [np\u001b[38;5;241m.\u001b[39mcolumn_stack([x, y]) \u001b[38;5;28;01mfor\u001b[39;00m x, y \u001b[38;5;129;01min\u001b[39;00m \u001b[38;5;28mzip\u001b[39m(xs, dims_obj_base)]\n\u001b[0;32m     64\u001b[0m lc \u001b[38;5;241m=\u001b[39m LineCollection(segments, cmap\u001b[38;5;241m=\u001b[39mcmap, linewidths\u001b[38;5;241m=\u001b[39mlinewidths, antialiaseds\u001b[38;5;241m=\u001b[39m\u001b[38;5;28;01mTrue\u001b[39;00m)\n\u001b[0;32m     65\u001b[0m lc\u001b[38;5;241m.\u001b[39mset_array(np\u001b[38;5;241m.\u001b[39masarray(info\u001b[38;5;241m.\u001b[39mdim_objective\u001b[38;5;241m.\u001b[39mvalues))\n",
      "Cell \u001b[1;32mIn[63], line 63\u001b[0m, in \u001b[0;36m_get_parallel_coordinate_plot\u001b[1;34m(info, cmap, linewidths, mapping)\u001b[0m\n\u001b[0;32m     61\u001b[0m ax\u001b[38;5;241m.\u001b[39mset_ylim(info\u001b[38;5;241m.\u001b[39mdim_objective\u001b[38;5;241m.\u001b[39mrange[\u001b[38;5;241m0\u001b[39m], info\u001b[38;5;241m.\u001b[39mdim_objective\u001b[38;5;241m.\u001b[39mrange[\u001b[38;5;241m1\u001b[39m])\n\u001b[0;32m     62\u001b[0m xs \u001b[38;5;241m=\u001b[39m [\u001b[38;5;28mrange\u001b[39m(n_params \u001b[38;5;241m+\u001b[39m \u001b[38;5;241m1\u001b[39m) \u001b[38;5;28;01mfor\u001b[39;00m _ \u001b[38;5;129;01min\u001b[39;00m \u001b[38;5;28mrange\u001b[39m(\u001b[38;5;28mlen\u001b[39m(dims_obj_base))]\n\u001b[1;32m---> 63\u001b[0m segments \u001b[38;5;241m=\u001b[39m [np\u001b[38;5;241m.\u001b[39mcolumn_stack([x, y]) \u001b[38;5;28;01mfor\u001b[39;00m x, y \u001b[38;5;129;01min\u001b[39;00m \u001b[38;5;28mzip\u001b[39m(xs, dims_obj_base)]\n\u001b[0;32m     64\u001b[0m lc \u001b[38;5;241m=\u001b[39m LineCollection(segments, cmap\u001b[38;5;241m=\u001b[39mcmap, linewidths\u001b[38;5;241m=\u001b[39mlinewidths, antialiaseds\u001b[38;5;241m=\u001b[39m\u001b[38;5;28;01mTrue\u001b[39;00m)\n\u001b[0;32m     65\u001b[0m lc\u001b[38;5;241m.\u001b[39mset_array(np\u001b[38;5;241m.\u001b[39masarray(info\u001b[38;5;241m.\u001b[39mdim_objective\u001b[38;5;241m.\u001b[39mvalues))\n",
      "File \u001b[1;32m_pydevd_bundle/pydevd_cython.pyx:1457\u001b[0m, in \u001b[0;36m_pydevd_bundle.pydevd_cython.SafeCallWrapper.__call__\u001b[1;34m()\u001b[0m\n",
      "File \u001b[1;32m_pydevd_bundle/pydevd_cython.pyx:701\u001b[0m, in \u001b[0;36m_pydevd_bundle.pydevd_cython.PyDBFrame.trace_dispatch\u001b[1;34m()\u001b[0m\n",
      "File \u001b[1;32m_pydevd_bundle/pydevd_cython.pyx:1152\u001b[0m, in \u001b[0;36m_pydevd_bundle.pydevd_cython.PyDBFrame.trace_dispatch\u001b[1;34m()\u001b[0m\n",
      "File \u001b[1;32m_pydevd_bundle/pydevd_cython.pyx:1135\u001b[0m, in \u001b[0;36m_pydevd_bundle.pydevd_cython.PyDBFrame.trace_dispatch\u001b[1;34m()\u001b[0m\n",
      "File \u001b[1;32m_pydevd_bundle/pydevd_cython.pyx:312\u001b[0m, in \u001b[0;36m_pydevd_bundle.pydevd_cython.PyDBFrame.do_wait_suspend\u001b[1;34m()\u001b[0m\n",
      "File \u001b[1;32mc:\\Users\\robin\\miniconda3\\envs\\severityPrediction\\lib\\site-packages\\debugpy\\_vendored\\pydevd\\pydevd.py:2070\u001b[0m, in \u001b[0;36mPyDB.do_wait_suspend\u001b[1;34m(self, thread, frame, event, arg, exception_type)\u001b[0m\n\u001b[0;32m   2067\u001b[0m             from_this_thread\u001b[38;5;241m.\u001b[39mappend(frame_custom_thread_id)\n\u001b[0;32m   2069\u001b[0m     \u001b[38;5;28;01mwith\u001b[39;00m \u001b[38;5;28mself\u001b[39m\u001b[38;5;241m.\u001b[39m_threads_suspended_single_notification\u001b[38;5;241m.\u001b[39mnotify_thread_suspended(thread_id, thread, stop_reason):\n\u001b[1;32m-> 2070\u001b[0m         keep_suspended \u001b[38;5;241m=\u001b[39m \u001b[38;5;28;43mself\u001b[39;49m\u001b[38;5;241;43m.\u001b[39;49m\u001b[43m_do_wait_suspend\u001b[49m\u001b[43m(\u001b[49m\u001b[43mthread\u001b[49m\u001b[43m,\u001b[49m\u001b[43m \u001b[49m\u001b[43mframe\u001b[49m\u001b[43m,\u001b[49m\u001b[43m \u001b[49m\u001b[43mevent\u001b[49m\u001b[43m,\u001b[49m\u001b[43m \u001b[49m\u001b[43marg\u001b[49m\u001b[43m,\u001b[49m\u001b[43m \u001b[49m\u001b[43msuspend_type\u001b[49m\u001b[43m,\u001b[49m\u001b[43m \u001b[49m\u001b[43mfrom_this_thread\u001b[49m\u001b[43m,\u001b[49m\u001b[43m \u001b[49m\u001b[43mframes_tracker\u001b[49m\u001b[43m)\u001b[49m\n\u001b[0;32m   2072\u001b[0m frames_list \u001b[38;5;241m=\u001b[39m \u001b[38;5;28;01mNone\u001b[39;00m\n\u001b[0;32m   2074\u001b[0m \u001b[38;5;28;01mif\u001b[39;00m keep_suspended:\n\u001b[0;32m   2075\u001b[0m     \u001b[38;5;66;03m# This means that we should pause again after a set next statement.\u001b[39;00m\n",
      "File \u001b[1;32mc:\\Users\\robin\\miniconda3\\envs\\severityPrediction\\lib\\site-packages\\debugpy\\_vendored\\pydevd\\pydevd.py:2106\u001b[0m, in \u001b[0;36mPyDB._do_wait_suspend\u001b[1;34m(self, thread, frame, event, arg, suspend_type, from_this_thread, frames_tracker)\u001b[0m\n\u001b[0;32m   2103\u001b[0m         \u001b[38;5;28mself\u001b[39m\u001b[38;5;241m.\u001b[39m_call_input_hook()\n\u001b[0;32m   2105\u001b[0m     \u001b[38;5;28mself\u001b[39m\u001b[38;5;241m.\u001b[39mprocess_internal_commands()\n\u001b[1;32m-> 2106\u001b[0m     \u001b[43mtime\u001b[49m\u001b[38;5;241;43m.\u001b[39;49m\u001b[43msleep\u001b[49m\u001b[43m(\u001b[49m\u001b[38;5;241;43m0.01\u001b[39;49m\u001b[43m)\u001b[49m\n\u001b[0;32m   2108\u001b[0m \u001b[38;5;28mself\u001b[39m\u001b[38;5;241m.\u001b[39mcancel_async_evaluation(get_current_thread_id(thread), \u001b[38;5;28mstr\u001b[39m(\u001b[38;5;28mid\u001b[39m(frame)))\n\u001b[0;32m   2110\u001b[0m \u001b[38;5;66;03m# process any stepping instructions\u001b[39;00m\n",
      "\u001b[1;31mKeyboardInterrupt\u001b[0m: "
     ]
    },
    {
     "data": {
      "image/png": "[encoded data removed]",
      "text/plain": [
       "<Figure size 640x480 with 1 Axes>"
      ]
     },
     "metadata": {},
     "output_type": "display_data"
    }
   ],
   "source": [
    "# Extracted from https://optuna.readthedocs.io/en/stable/_modules/optuna/visualization/matplotlib/_parallel_coordinate.html#plot_parallel_coordinate\n",
    "import matplotlib.pyplot as plt\n",
    "from optuna.visualization._parallel_coordinate import _get_parallel_coordinate_info\n",
    "from optuna.visualization._parallel_coordinate import _ParallelCoordinateInfo\n",
    "from optuna.visualization.matplotlib._matplotlib_imports import Axes\n",
    "from optuna.visualization.matplotlib._matplotlib_imports import LineCollection\n",
    "from typing import *\n",
    "import numpy as np\n",
    "def plot_parallel_coordinate(\n",
    "    study,\n",
    "    params,\n",
    "    *,\n",
    "    target = None,\n",
    "    target_name: str = \"Objective Value\",\n",
    "    cmap: str = \"Blues_r\",\n",
    "    linewidths: float = 2,\n",
    "    mapping: Optional[Dict[str,str]] = None\n",
    "):\n",
    "    info = _get_parallel_coordinate_info(study, params, target, target_name)\n",
    "    return _get_parallel_coordinate_plot(info, cmap=cmap, linewidths=linewidths, mapping=mapping)\n",
    "def _get_parallel_coordinate_plot(info, cmap, linewidths, mapping):\n",
    "    reversescale = info.reverse_scale\n",
    "    target_name = info.target_name\n",
    "\n",
    "    # Set up the graph style.\n",
    "    fig, ax = plt.subplots()\n",
    "    cmap = plt.get_cmap(cmap)\n",
    "    ax.spines[\"top\"].set_visible(False)\n",
    "    ax.spines[\"bottom\"].set_visible(False)\n",
    "\n",
    "    # Prepare data for plotting.\n",
    "    if len(info.dims_params) == 0 or len(info.dim_objective.values) == 0:\n",
    "        return ax\n",
    "\n",
    "    obj_min = info.dim_objective.range[0]\n",
    "    obj_max = info.dim_objective.range[1]\n",
    "    obj_w = obj_max - obj_min\n",
    "    dims_obj_base = [[o] for o in info.dim_objective.values] # for each trial\n",
    "    for dim in info.dims_params:\n",
    "        if dim.label not in mapping:\n",
    "            continue\n",
    "        p_min = dim.range[0]\n",
    "        p_max = dim.range[1]\n",
    "        p_w = p_max - p_min\n",
    "\n",
    "        if p_w == 0.0:\n",
    "            center = obj_w / 2 + obj_min\n",
    "            for i in range(len(dim.values)):\n",
    "                dims_obj_base[i].append(center)\n",
    "        else:\n",
    "            for i, v in enumerate(dim.values):\n",
    "                dims_obj_base[i].append((v - p_min) / p_w * obj_w + obj_min)\n",
    "\n",
    "    # Draw multiple line plots and axes.\n",
    "    # Ref: https://stackoverflow.com/a/50029441\n",
    "    var_names = [info.dim_objective.label] + [dim.label for dim in info.dims_params]\n",
    "    if mapping is not None:\n",
    "        var_names = [mapping[v] for v in var_names if v in mapping]\n",
    "    n_params = len(var_names)\n",
    "    ax.set_xlim(0, n_params)\n",
    "    ax.set_ylim(info.dim_objective.range[0], info.dim_objective.range[1])\n",
    "    xs = [range(n_params + 1) for _ in range(len(dims_obj_base))]\n",
    "    segments = [np.column_stack([x, y]) for x, y in zip(xs, dims_obj_base)]\n",
    "    lc = LineCollection(segments, cmap=cmap, linewidths=linewidths, antialiaseds=True)\n",
    "    lc.set_array(np.asarray(info.dim_objective.values))\n",
    "    axcb = fig.colorbar(lc, pad=0.1, ax=ax)\n",
    "    # axcb.set_label(target_name)\n",
    "    print(var_names)\n",
    "    plt.xticks(range(len(var_names) + 1), var_names, rotation=330)\n",
    "\n",
    "    for i, dim in enumerate(info.dims_params):\n",
    "        if dim.label not in mapping:\n",
    "            continue\n",
    "        ax2 = ax.twinx()\n",
    "        if dim.is_log:\n",
    "            ax2.set_ylim(np.power(10, dim.range[0]), np.power(10, dim.range[1]))\n",
    "            ax2.set_yscale(\"log\")\n",
    "        else:\n",
    "            ax2.set_ylim(dim.range[0], dim.range[1])\n",
    "        ax2.spines[\"top\"].set_visible(False)\n",
    "        ax2.spines[\"bottom\"].set_visible(False)\n",
    "        ax2.xaxis.set_visible(False)\n",
    "        ax2.spines[\"right\"].set_position((\"axes\", (i + 1) / n_params))\n",
    "        if dim.is_cat:\n",
    "            ax2.set_yticks(dim.tickvals)\n",
    "            ax2.set_yticklabels(dim.ticktext)\n",
    "\n",
    "    ax.add_collection(lc)\n",
    "\n",
    "    return ax\n",
    "mapping = {'algorithm':'Algorithm','leaf_size':'Leaf size','n_neighbors':'Number of neighbors','p':'p','weights':'Weight'}\n",
    "mapping = {'C':'C (regularization)','class_weight':'Class weight','coef0':'coef0','decision_function_shape':'Decision fn shape','degree':'Degree', 'kernel': 'Kernel', 'max_iter': 'Max. iterations', 'shrinking':'Shrinking','tol':'Tolerance'}\n",
    "mapping = {'alpha':'alpha','binarize':'Binarize','fit_prior':'Fit prior','classifier_name':'Classifier name'}\n",
    "mapping = {'alpha':'alpha','classifier_name':'Classifier name','fit_prior':'Fit prior', 'norm':\"Normalization\"}\n",
    "mapping = {'classifier_name':'Classifier name','var_smoothing':'Variable smoothing'}\n",
    "mapping = {'alpha':'alpha','fit_prior':'Fit prior','classifier_name':'Classifier name'}\n",
    "fig = plot_parallel_coordinate(study,list(mapping.keys()),mapping=mapping)"
   ]
  },
  {
   "cell_type": "code",
   "execution_count": null,
   "metadata": {},
   "outputs": [],
   "source": []
  }
 ],
 "metadata": {
  "kernelspec": {
   "display_name": "severityPrediction",
   "language": "python",
   "name": "python3"
  },
  "language_info": {
   "codemirror_mode": {
    "name": "ipython",
    "version": 3
   },
   "file_extension": ".py",
   "mimetype": "text/x-python",
   "name": "python",
   "nbconvert_exporter": "python",
   "pygments_lexer": "ipython3",
   "version": "3.9.18"
  }
 },
 "nbformat": 4,
 "nbformat_minor": 2
}
