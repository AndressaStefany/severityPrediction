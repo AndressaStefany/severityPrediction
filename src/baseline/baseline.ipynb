{
 "cells": [
  {
   "cell_type": "markdown",
   "metadata": {},
   "source": [
    "# Severity prediction of bug reports"
   ]
  },
  {
   "cell_type": "markdown",
   "metadata": {},
   "source": [
    "## Baseline"
   ]
  },
  {
   "cell_type": "markdown",
   "metadata": {},
   "source": [
    "- Preprocess: \n",
    "- Embedding using:\n",
    "- Algorithms for binary classification:\n",
    "- Metrics: "
   ]
  },
  {
   "cell_type": "markdown",
   "metadata": {},
   "source": [
    "## Code"
   ]
  },
  {
   "cell_type": "markdown",
   "metadata": {},
   "source": [
    "### Boot"
   ]
  },
  {
   "cell_type": "code",
   "execution_count": 1,
   "metadata": {},
   "outputs": [
    {
     "name": "stderr",
     "output_type": "stream",
     "text": [
      "[nltk_data] Downloading package punkt to /home/robin/nltk_data...\n",
      "[nltk_data]   Package punkt is already up-to-date!\n",
      "[nltk_data] Downloading package stopwords to /home/robin/nltk_data...\n",
      "[nltk_data]   Package stopwords is already up-to-date!\n"
     ]
    },
    {
     "data": {
      "text/plain": [
       "True"
      ]
     },
     "execution_count": 1,
     "metadata": {},
     "output_type": "execute_result"
    }
   ],
   "source": [
    "import nltk\n",
    "nltk.download('punkt')\n",
    "nltk.download('stopwords')"
   ]
  },
  {
   "cell_type": "code",
   "execution_count": 2,
   "metadata": {},
   "outputs": [],
   "source": [
    "import pandas as pd\n",
    "from pathlib import Path\n",
    "\n",
    "from sklearn.pipeline import Pipeline\n",
    "from sklearn.naive_bayes import BernoulliNB, GaussianNB, ComplementNB, MultinomialNB\n",
    "from sklearn.neighbors import KNeighborsClassifier\n",
    "from sklearn.svm import SVC\n",
    "\n",
    "from baseline_functions import print_pipeline, pipeline_1NN_SVM, pipeline_naive_bayes,  pipeline_custom, cross_validation_with_classifier\n"
   ]
  },
  {
   "cell_type": "code",
   "execution_count": 3,
   "metadata": {},
   "outputs": [],
   "source": [
    "data_path = Path(\"../../data/\")"
   ]
  },
  {
   "cell_type": "markdown",
   "metadata": {},
   "source": [
    "### Data"
   ]
  },
  {
   "cell_type": "code",
   "execution_count": 4,
   "metadata": {},
   "outputs": [
    {
     "name": "stdout",
     "output_type": "stream",
     "text": [
      "<class 'pandas.core.frame.DataFrame'>\n",
      "RangeIndex: 11232 entries, 0 to 11231\n",
      "Data columns (total 4 columns):\n",
      " #   Column        Non-Null Count  Dtype \n",
      "---  ------        --------------  ----- \n",
      " 0   _id           11232 non-null  object\n",
      " 1   bug_id        11232 non-null  int64 \n",
      " 2   description   11232 non-null  object\n",
      " 3   bug_severity  11232 non-null  object\n",
      "dtypes: int64(1), object(3)\n",
      "memory usage: 351.1+ KB\n"
     ]
    }
   ],
   "source": [
    "bug_reports = pd.read_csv(data_path / 'eclipse_filtered.csv')\n",
    "bug_reports.info()"
   ]
  },
  {
   "cell_type": "code",
   "execution_count": 5,
   "metadata": {},
   "outputs": [],
   "source": [
    "# checar se estou tratando os enters\n",
    "# qual a melhor ordem de colocar o tratamento dos enters\n",
    "# testar o passo de remover URL e CODE\n",
    "# checar a estrutura da primeira referencia\n",
    "# fazer os testes em pedaços dos bugs e ir salvando os arquivos (chuncks)"
   ]
  },
  {
   "cell_type": "code",
   "execution_count": 6,
   "metadata": {},
   "outputs": [
    {
     "data": {
      "text/html": [
       "<style>#sk-container-id-1 {color: black;}#sk-container-id-1 pre{padding: 0;}#sk-container-id-1 div.sk-toggleable {background-color: white;}#sk-container-id-1 label.sk-toggleable__label {cursor: pointer;display: block;width: 100%;margin-bottom: 0;padding: 0.3em;box-sizing: border-box;text-align: center;}#sk-container-id-1 label.sk-toggleable__label-arrow:before {content: \"▸\";float: left;margin-right: 0.25em;color: #696969;}#sk-container-id-1 label.sk-toggleable__label-arrow:hover:before {color: black;}#sk-container-id-1 div.sk-estimator:hover label.sk-toggleable__label-arrow:before {color: black;}#sk-container-id-1 div.sk-toggleable__content {max-height: 0;max-width: 0;overflow: hidden;text-align: left;background-color: #f0f8ff;}#sk-container-id-1 div.sk-toggleable__content pre {margin: 0.2em;color: black;border-radius: 0.25em;background-color: #f0f8ff;}#sk-container-id-1 input.sk-toggleable__control:checked~div.sk-toggleable__content {max-height: 200px;max-width: 100%;overflow: auto;}#sk-container-id-1 input.sk-toggleable__control:checked~label.sk-toggleable__label-arrow:before {content: \"▾\";}#sk-container-id-1 div.sk-estimator input.sk-toggleable__control:checked~label.sk-toggleable__label {background-color: #d4ebff;}#sk-container-id-1 div.sk-label input.sk-toggleable__control:checked~label.sk-toggleable__label {background-color: #d4ebff;}#sk-container-id-1 input.sk-hidden--visually {border: 0;clip: rect(1px 1px 1px 1px);clip: rect(1px, 1px, 1px, 1px);height: 1px;margin: -1px;overflow: hidden;padding: 0;position: absolute;width: 1px;}#sk-container-id-1 div.sk-estimator {font-family: monospace;background-color: #f0f8ff;border: 1px dotted black;border-radius: 0.25em;box-sizing: border-box;margin-bottom: 0.5em;}#sk-container-id-1 div.sk-estimator:hover {background-color: #d4ebff;}#sk-container-id-1 div.sk-parallel-item::after {content: \"\";width: 100%;border-bottom: 1px solid gray;flex-grow: 1;}#sk-container-id-1 div.sk-label:hover label.sk-toggleable__label {background-color: #d4ebff;}#sk-container-id-1 div.sk-serial::before {content: \"\";position: absolute;border-left: 1px solid gray;box-sizing: border-box;top: 0;bottom: 0;left: 50%;z-index: 0;}#sk-container-id-1 div.sk-serial {display: flex;flex-direction: column;align-items: center;background-color: white;padding-right: 0.2em;padding-left: 0.2em;position: relative;}#sk-container-id-1 div.sk-item {position: relative;z-index: 1;}#sk-container-id-1 div.sk-parallel {display: flex;align-items: stretch;justify-content: center;background-color: white;position: relative;}#sk-container-id-1 div.sk-item::before, #sk-container-id-1 div.sk-parallel-item::before {content: \"\";position: absolute;border-left: 1px solid gray;box-sizing: border-box;top: 0;bottom: 0;left: 50%;z-index: -1;}#sk-container-id-1 div.sk-parallel-item {display: flex;flex-direction: column;z-index: 1;position: relative;background-color: white;}#sk-container-id-1 div.sk-parallel-item:first-child::after {align-self: flex-end;width: 50%;}#sk-container-id-1 div.sk-parallel-item:last-child::after {align-self: flex-start;width: 50%;}#sk-container-id-1 div.sk-parallel-item:only-child::after {width: 0;}#sk-container-id-1 div.sk-dashed-wrapped {border: 1px dashed gray;margin: 0 0.4em 0.5em 0.4em;box-sizing: border-box;padding-bottom: 0.4em;background-color: white;}#sk-container-id-1 div.sk-label label {font-family: monospace;font-weight: bold;display: inline-block;line-height: 1.2em;}#sk-container-id-1 div.sk-label-container {text-align: center;}#sk-container-id-1 div.sk-container {/* jupyter's `normalize.less` sets `[hidden] { display: none; }` but bootstrap.min.css set `[hidden] { display: none !important; }` so we also need the `!important` here to be able to override the default hidden behavior on the sphinx rendered scikit-learn.org. See: https://github.com/scikit-learn/scikit-learn/issues/21755 */display: inline-block !important;position: relative;}#sk-container-id-1 div.sk-text-repr-fallback {display: none;}</style><div id=\"sk-container-id-1\" class=\"sk-top-container\"><div class=\"sk-text-repr-fallback\"><pre>Pipeline(steps=[(&#x27;bug_severity_filter&#x27;,\n",
       "                 FunctionTransformer(func=&lt;function filter_bug_severity at 0x7f1e7f247b80&gt;,\n",
       "                                     kw_args={&#x27;severity_col&#x27;: &#x27;bug_severity&#x27;})),\n",
       "                (&#x27;binary_feature&#x27;,\n",
       "                 FunctionTransformer(func=&lt;function create_binary_feature at 0x7f1e7f247c10&gt;,\n",
       "                                     kw_args={&#x27;severity_col&#x27;: &#x27;bug_severity&#x27;})),\n",
       "                (&#x27;remove_url_and_code&#x27;,\n",
       "                 FunctionTransformer(func=&lt;function remove_urls_and_codes at 0x7f1e7f250670&gt;,\n",
       "                                     kw_args={&#x27;col_to_process&#x27;: &#x27;description&#x27;})),\n",
       "                (&#x27;preprocessor&#x27;,\n",
       "                 FunctionTransformer(func=&lt;function preprocess_text at 0x7f1e7f250790&gt;,\n",
       "                                     kw_args={&#x27;col_to_process&#x27;: &#x27;description&#x27;}))])</pre><b>In a Jupyter environment, please rerun this cell to show the HTML representation or trust the notebook. <br />On GitHub, the HTML representation is unable to render, please try loading this page with nbviewer.org.</b></div><div class=\"sk-container\" hidden><div class=\"sk-item sk-dashed-wrapped\"><div class=\"sk-label-container\"><div class=\"sk-label sk-toggleable\"><input class=\"sk-toggleable__control sk-hidden--visually\" id=\"sk-estimator-id-1\" type=\"checkbox\" ><label for=\"sk-estimator-id-1\" class=\"sk-toggleable__label sk-toggleable__label-arrow\">Pipeline</label><div class=\"sk-toggleable__content\"><pre>Pipeline(steps=[(&#x27;bug_severity_filter&#x27;,\n",
       "                 FunctionTransformer(func=&lt;function filter_bug_severity at 0x7f1e7f247b80&gt;,\n",
       "                                     kw_args={&#x27;severity_col&#x27;: &#x27;bug_severity&#x27;})),\n",
       "                (&#x27;binary_feature&#x27;,\n",
       "                 FunctionTransformer(func=&lt;function create_binary_feature at 0x7f1e7f247c10&gt;,\n",
       "                                     kw_args={&#x27;severity_col&#x27;: &#x27;bug_severity&#x27;})),\n",
       "                (&#x27;remove_url_and_code&#x27;,\n",
       "                 FunctionTransformer(func=&lt;function remove_urls_and_codes at 0x7f1e7f250670&gt;,\n",
       "                                     kw_args={&#x27;col_to_process&#x27;: &#x27;description&#x27;})),\n",
       "                (&#x27;preprocessor&#x27;,\n",
       "                 FunctionTransformer(func=&lt;function preprocess_text at 0x7f1e7f250790&gt;,\n",
       "                                     kw_args={&#x27;col_to_process&#x27;: &#x27;description&#x27;}))])</pre></div></div></div><div class=\"sk-serial\"><div class=\"sk-item\"><div class=\"sk-estimator sk-toggleable\"><input class=\"sk-toggleable__control sk-hidden--visually\" id=\"sk-estimator-id-2\" type=\"checkbox\" ><label for=\"sk-estimator-id-2\" class=\"sk-toggleable__label sk-toggleable__label-arrow\">FunctionTransformer</label><div class=\"sk-toggleable__content\"><pre>FunctionTransformer(func=&lt;function filter_bug_severity at 0x7f1e7f247b80&gt;,\n",
       "                    kw_args={&#x27;severity_col&#x27;: &#x27;bug_severity&#x27;})</pre></div></div></div><div class=\"sk-item\"><div class=\"sk-estimator sk-toggleable\"><input class=\"sk-toggleable__control sk-hidden--visually\" id=\"sk-estimator-id-3\" type=\"checkbox\" ><label for=\"sk-estimator-id-3\" class=\"sk-toggleable__label sk-toggleable__label-arrow\">FunctionTransformer</label><div class=\"sk-toggleable__content\"><pre>FunctionTransformer(func=&lt;function create_binary_feature at 0x7f1e7f247c10&gt;,\n",
       "                    kw_args={&#x27;severity_col&#x27;: &#x27;bug_severity&#x27;})</pre></div></div></div><div class=\"sk-item\"><div class=\"sk-estimator sk-toggleable\"><input class=\"sk-toggleable__control sk-hidden--visually\" id=\"sk-estimator-id-4\" type=\"checkbox\" ><label for=\"sk-estimator-id-4\" class=\"sk-toggleable__label sk-toggleable__label-arrow\">FunctionTransformer</label><div class=\"sk-toggleable__content\"><pre>FunctionTransformer(func=&lt;function remove_urls_and_codes at 0x7f1e7f250670&gt;,\n",
       "                    kw_args={&#x27;col_to_process&#x27;: &#x27;description&#x27;})</pre></div></div></div><div class=\"sk-item\"><div class=\"sk-estimator sk-toggleable\"><input class=\"sk-toggleable__control sk-hidden--visually\" id=\"sk-estimator-id-5\" type=\"checkbox\" ><label for=\"sk-estimator-id-5\" class=\"sk-toggleable__label sk-toggleable__label-arrow\">FunctionTransformer</label><div class=\"sk-toggleable__content\"><pre>FunctionTransformer(func=&lt;function preprocess_text at 0x7f1e7f250790&gt;,\n",
       "                    kw_args={&#x27;col_to_process&#x27;: &#x27;description&#x27;})</pre></div></div></div></div></div></div></div>"
      ],
      "text/plain": [
       "Pipeline(steps=[('bug_severity_filter',\n",
       "                 FunctionTransformer(func=<function filter_bug_severity at 0x7f1e7f247b80>,\n",
       "                                     kw_args={'severity_col': 'bug_severity'})),\n",
       "                ('binary_feature',\n",
       "                 FunctionTransformer(func=<function create_binary_feature at 0x7f1e7f247c10>,\n",
       "                                     kw_args={'severity_col': 'bug_severity'})),\n",
       "                ('remove_url_and_code',\n",
       "                 FunctionTransformer(func=<function remove_urls_and_codes at 0x7f1e7f250670>,\n",
       "                                     kw_args={'col_to_process': 'description'})),\n",
       "                ('preprocessor',\n",
       "                 FunctionTransformer(func=<function preprocess_text at 0x7f1e7f250790>,\n",
       "                                     kw_args={'col_to_process': 'description'}))])"
      ]
     },
     "execution_count": 6,
     "metadata": {},
     "output_type": "execute_result"
    }
   ],
   "source": [
    "pipeline = pipeline_custom()\n",
    "pipeline.fit(bug_reports)"
   ]
  },
  {
   "cell_type": "code",
   "execution_count": 7,
   "metadata": {},
   "outputs": [
    {
     "name": "stdout",
     "output_type": "stream",
     "text": [
      "----------------------------------------------------------------------------------------------------\n",
      "Step bug_severity_filter\n",
      "<class 'pandas.core.frame.DataFrame'>\n",
      "RangeIndex: 11232 entries, 0 to 11231\n",
      "Data columns (total 4 columns):\n",
      " #   Column        Non-Null Count  Dtype \n",
      "---  ------        --------------  ----- \n",
      " 0   _id           11232 non-null  object\n",
      " 1   bug_id        11232 non-null  int64 \n",
      " 2   description   11232 non-null  object\n",
      " 3   bug_severity  11232 non-null  object\n",
      "dtypes: int64(1), object(3)\n",
      "memory usage: 351.1+ KB\n",
      "None\n"
     ]
    },
    {
     "data": {
      "text/html": [
       "<div>\n",
       "<style scoped>\n",
       "    .dataframe tbody tr th:only-of-type {\n",
       "        vertical-align: middle;\n",
       "    }\n",
       "\n",
       "    .dataframe tbody tr th {\n",
       "        vertical-align: top;\n",
       "    }\n",
       "\n",
       "    .dataframe thead th {\n",
       "        text-align: right;\n",
       "    }\n",
       "</style>\n",
       "<table border=\"1\" class=\"dataframe\">\n",
       "  <thead>\n",
       "    <tr style=\"text-align: right;\">\n",
       "      <th></th>\n",
       "      <th>_id</th>\n",
       "      <th>bug_id</th>\n",
       "      <th>description</th>\n",
       "      <th>bug_severity</th>\n",
       "    </tr>\n",
       "  </thead>\n",
       "  <tbody>\n",
       "    <tr>\n",
       "      <th>0</th>\n",
       "      <td>{'$oid': '52e9b44954dc1c25ebdb1f11'}</td>\n",
       "      <td>43</td>\n",
       "      <td>I have a project (Junk) that has been released...</td>\n",
       "      <td>major</td>\n",
       "    </tr>\n",
       "    <tr>\n",
       "      <th>1</th>\n",
       "      <td>{'$oid': '52e9b44f54dc1c25ebdb1f87'}</td>\n",
       "      <td>163</td>\n",
       "      <td>AK (6/12/01 4:55:24 PM)\\n\\ti got this exceptio...</td>\n",
       "      <td>critical</td>\n",
       "    </tr>\n",
       "    <tr>\n",
       "      <th>2</th>\n",
       "      <td>{'$oid': '52e9b45054dc1c25ebdb1fa5'}</td>\n",
       "      <td>194</td>\n",
       "      <td>1) Add a global ignore pattern \"BazProject\"\\n2...</td>\n",
       "      <td>major</td>\n",
       "    </tr>\n",
       "    <tr>\n",
       "      <th>3</th>\n",
       "      <td>{'$oid': '52e9b45054dc1c25ebdb1fa7'}</td>\n",
       "      <td>195</td>\n",
       "      <td>1) Release a project and file to the stream\\n2...</td>\n",
       "      <td>major</td>\n",
       "    </tr>\n",
       "    <tr>\n",
       "      <th>4</th>\n",
       "      <td>{'$oid': '52e9b45054dc1c25ebdb1fa8'}</td>\n",
       "      <td>196</td>\n",
       "      <td>Started with following structure:\\n\\nJFinalSmo...</td>\n",
       "      <td>major</td>\n",
       "    </tr>\n",
       "  </tbody>\n",
       "</table>\n",
       "</div>"
      ],
      "text/plain": [
       "                                    _id  bug_id  \\\n",
       "0  {'$oid': '52e9b44954dc1c25ebdb1f11'}      43   \n",
       "1  {'$oid': '52e9b44f54dc1c25ebdb1f87'}     163   \n",
       "2  {'$oid': '52e9b45054dc1c25ebdb1fa5'}     194   \n",
       "3  {'$oid': '52e9b45054dc1c25ebdb1fa7'}     195   \n",
       "4  {'$oid': '52e9b45054dc1c25ebdb1fa8'}     196   \n",
       "\n",
       "                                         description bug_severity  \n",
       "0  I have a project (Junk) that has been released...        major  \n",
       "1  AK (6/12/01 4:55:24 PM)\\n\\ti got this exceptio...     critical  \n",
       "2  1) Add a global ignore pattern \"BazProject\"\\n2...        major  \n",
       "3  1) Release a project and file to the stream\\n2...        major  \n",
       "4  Started with following structure:\\n\\nJFinalSmo...        major  "
      ]
     },
     "metadata": {},
     "output_type": "display_data"
    },
    {
     "name": "stdout",
     "output_type": "stream",
     "text": [
      "----------------------------------------------------------------------------------------------------\n",
      "Step binary_feature\n",
      "<class 'pandas.core.frame.DataFrame'>\n",
      "RangeIndex: 11232 entries, 0 to 11231\n",
      "Data columns (total 5 columns):\n",
      " #   Column           Non-Null Count  Dtype \n",
      "---  ------           --------------  ----- \n",
      " 0   _id              11232 non-null  object\n",
      " 1   bug_id           11232 non-null  int64 \n",
      " 2   description      11232 non-null  object\n",
      " 3   bug_severity     11232 non-null  object\n",
      " 4   binary_severity  11232 non-null  int64 \n",
      "dtypes: int64(2), object(3)\n",
      "memory usage: 438.9+ KB\n",
      "None\n"
     ]
    },
    {
     "data": {
      "text/html": [
       "<div>\n",
       "<style scoped>\n",
       "    .dataframe tbody tr th:only-of-type {\n",
       "        vertical-align: middle;\n",
       "    }\n",
       "\n",
       "    .dataframe tbody tr th {\n",
       "        vertical-align: top;\n",
       "    }\n",
       "\n",
       "    .dataframe thead th {\n",
       "        text-align: right;\n",
       "    }\n",
       "</style>\n",
       "<table border=\"1\" class=\"dataframe\">\n",
       "  <thead>\n",
       "    <tr style=\"text-align: right;\">\n",
       "      <th></th>\n",
       "      <th>_id</th>\n",
       "      <th>bug_id</th>\n",
       "      <th>description</th>\n",
       "      <th>bug_severity</th>\n",
       "      <th>binary_severity</th>\n",
       "    </tr>\n",
       "  </thead>\n",
       "  <tbody>\n",
       "    <tr>\n",
       "      <th>0</th>\n",
       "      <td>{'$oid': '52e9b44954dc1c25ebdb1f11'}</td>\n",
       "      <td>43</td>\n",
       "      <td>I have a project (Junk) that has been released...</td>\n",
       "      <td>major</td>\n",
       "      <td>1</td>\n",
       "    </tr>\n",
       "    <tr>\n",
       "      <th>1</th>\n",
       "      <td>{'$oid': '52e9b44f54dc1c25ebdb1f87'}</td>\n",
       "      <td>163</td>\n",
       "      <td>AK (6/12/01 4:55:24 PM)\\n\\ti got this exceptio...</td>\n",
       "      <td>critical</td>\n",
       "      <td>1</td>\n",
       "    </tr>\n",
       "    <tr>\n",
       "      <th>2</th>\n",
       "      <td>{'$oid': '52e9b45054dc1c25ebdb1fa5'}</td>\n",
       "      <td>194</td>\n",
       "      <td>1) Add a global ignore pattern \"BazProject\"\\n2...</td>\n",
       "      <td>major</td>\n",
       "      <td>1</td>\n",
       "    </tr>\n",
       "    <tr>\n",
       "      <th>3</th>\n",
       "      <td>{'$oid': '52e9b45054dc1c25ebdb1fa7'}</td>\n",
       "      <td>195</td>\n",
       "      <td>1) Release a project and file to the stream\\n2...</td>\n",
       "      <td>major</td>\n",
       "      <td>1</td>\n",
       "    </tr>\n",
       "    <tr>\n",
       "      <th>4</th>\n",
       "      <td>{'$oid': '52e9b45054dc1c25ebdb1fa8'}</td>\n",
       "      <td>196</td>\n",
       "      <td>Started with following structure:\\n\\nJFinalSmo...</td>\n",
       "      <td>major</td>\n",
       "      <td>1</td>\n",
       "    </tr>\n",
       "  </tbody>\n",
       "</table>\n",
       "</div>"
      ],
      "text/plain": [
       "                                    _id  bug_id  \\\n",
       "0  {'$oid': '52e9b44954dc1c25ebdb1f11'}      43   \n",
       "1  {'$oid': '52e9b44f54dc1c25ebdb1f87'}     163   \n",
       "2  {'$oid': '52e9b45054dc1c25ebdb1fa5'}     194   \n",
       "3  {'$oid': '52e9b45054dc1c25ebdb1fa7'}     195   \n",
       "4  {'$oid': '52e9b45054dc1c25ebdb1fa8'}     196   \n",
       "\n",
       "                                         description bug_severity  \\\n",
       "0  I have a project (Junk) that has been released...        major   \n",
       "1  AK (6/12/01 4:55:24 PM)\\n\\ti got this exceptio...     critical   \n",
       "2  1) Add a global ignore pattern \"BazProject\"\\n2...        major   \n",
       "3  1) Release a project and file to the stream\\n2...        major   \n",
       "4  Started with following structure:\\n\\nJFinalSmo...        major   \n",
       "\n",
       "   binary_severity  \n",
       "0                1  \n",
       "1                1  \n",
       "2                1  \n",
       "3                1  \n",
       "4                1  "
      ]
     },
     "metadata": {},
     "output_type": "display_data"
    },
    {
     "name": "stdout",
     "output_type": "stream",
     "text": [
      "----------------------------------------------------------------------------------------------------\n",
      "Step remove_url_and_code\n",
      "<class 'pandas.core.frame.DataFrame'>\n",
      "RangeIndex: 11232 entries, 0 to 11231\n",
      "Data columns (total 5 columns):\n",
      " #   Column           Non-Null Count  Dtype \n",
      "---  ------           --------------  ----- \n",
      " 0   _id              11232 non-null  object\n",
      " 1   bug_id           11232 non-null  int64 \n",
      " 2   description      11232 non-null  object\n",
      " 3   bug_severity     11232 non-null  object\n",
      " 4   binary_severity  11232 non-null  int64 \n",
      "dtypes: int64(2), object(3)\n",
      "memory usage: 438.9+ KB\n",
      "None\n"
     ]
    },
    {
     "data": {
      "text/html": [
       "<div>\n",
       "<style scoped>\n",
       "    .dataframe tbody tr th:only-of-type {\n",
       "        vertical-align: middle;\n",
       "    }\n",
       "\n",
       "    .dataframe tbody tr th {\n",
       "        vertical-align: top;\n",
       "    }\n",
       "\n",
       "    .dataframe thead th {\n",
       "        text-align: right;\n",
       "    }\n",
       "</style>\n",
       "<table border=\"1\" class=\"dataframe\">\n",
       "  <thead>\n",
       "    <tr style=\"text-align: right;\">\n",
       "      <th></th>\n",
       "      <th>_id</th>\n",
       "      <th>bug_id</th>\n",
       "      <th>description</th>\n",
       "      <th>bug_severity</th>\n",
       "      <th>binary_severity</th>\n",
       "    </tr>\n",
       "  </thead>\n",
       "  <tbody>\n",
       "    <tr>\n",
       "      <th>0</th>\n",
       "      <td>{'$oid': '52e9b44954dc1c25ebdb1f11'}</td>\n",
       "      <td>43</td>\n",
       "      <td>I have a project (Junk) that has been released...</td>\n",
       "      <td>major</td>\n",
       "      <td>1</td>\n",
       "    </tr>\n",
       "    <tr>\n",
       "      <th>1</th>\n",
       "      <td>{'$oid': '52e9b44f54dc1c25ebdb1f87'}</td>\n",
       "      <td>163</td>\n",
       "      <td>AK (6/12/01 4:55:24 PM)\\n\\ti got this exceptio...</td>\n",
       "      <td>critical</td>\n",
       "      <td>1</td>\n",
       "    </tr>\n",
       "    <tr>\n",
       "      <th>2</th>\n",
       "      <td>{'$oid': '52e9b45054dc1c25ebdb1fa5'}</td>\n",
       "      <td>194</td>\n",
       "      <td>1) Add a global ignore pattern \"BazProject\"\\n2...</td>\n",
       "      <td>major</td>\n",
       "      <td>1</td>\n",
       "    </tr>\n",
       "    <tr>\n",
       "      <th>3</th>\n",
       "      <td>{'$oid': '52e9b45054dc1c25ebdb1fa7'}</td>\n",
       "      <td>195</td>\n",
       "      <td>1) Release a project and file to the stream\\n2...</td>\n",
       "      <td>major</td>\n",
       "      <td>1</td>\n",
       "    </tr>\n",
       "    <tr>\n",
       "      <th>4</th>\n",
       "      <td>{'$oid': '52e9b45054dc1c25ebdb1fa8'}</td>\n",
       "      <td>196</td>\n",
       "      <td>Started with following structure:\\n\\nJFinalSmo...</td>\n",
       "      <td>major</td>\n",
       "      <td>1</td>\n",
       "    </tr>\n",
       "  </tbody>\n",
       "</table>\n",
       "</div>"
      ],
      "text/plain": [
       "                                    _id  bug_id  \\\n",
       "0  {'$oid': '52e9b44954dc1c25ebdb1f11'}      43   \n",
       "1  {'$oid': '52e9b44f54dc1c25ebdb1f87'}     163   \n",
       "2  {'$oid': '52e9b45054dc1c25ebdb1fa5'}     194   \n",
       "3  {'$oid': '52e9b45054dc1c25ebdb1fa7'}     195   \n",
       "4  {'$oid': '52e9b45054dc1c25ebdb1fa8'}     196   \n",
       "\n",
       "                                         description bug_severity  \\\n",
       "0  I have a project (Junk) that has been released...        major   \n",
       "1  AK (6/12/01 4:55:24 PM)\\n\\ti got this exceptio...     critical   \n",
       "2  1) Add a global ignore pattern \"BazProject\"\\n2...        major   \n",
       "3  1) Release a project and file to the stream\\n2...        major   \n",
       "4  Started with following structure:\\n\\nJFinalSmo...        major   \n",
       "\n",
       "   binary_severity  \n",
       "0                1  \n",
       "1                1  \n",
       "2                1  \n",
       "3                1  \n",
       "4                1  "
      ]
     },
     "metadata": {},
     "output_type": "display_data"
    },
    {
     "name": "stdout",
     "output_type": "stream",
     "text": [
      "----------------------------------------------------------------------------------------------------\n",
      "Step preprocessor\n",
      "<class 'pandas.core.frame.DataFrame'>\n",
      "RangeIndex: 11232 entries, 0 to 11231\n",
      "Data columns (total 6 columns):\n",
      " #   Column           Non-Null Count  Dtype \n",
      "---  ------           --------------  ----- \n",
      " 0   _id              11232 non-null  object\n",
      " 1   bug_id           11232 non-null  int64 \n",
      " 2   description      11232 non-null  object\n",
      " 3   bug_severity     11232 non-null  object\n",
      " 4   binary_severity  11232 non-null  int64 \n",
      " 5   preprocess_desc  11232 non-null  object\n",
      "dtypes: int64(2), object(4)\n",
      "memory usage: 526.6+ KB\n",
      "None\n"
     ]
    },
    {
     "data": {
      "text/html": [
       "<div>\n",
       "<style scoped>\n",
       "    .dataframe tbody tr th:only-of-type {\n",
       "        vertical-align: middle;\n",
       "    }\n",
       "\n",
       "    .dataframe tbody tr th {\n",
       "        vertical-align: top;\n",
       "    }\n",
       "\n",
       "    .dataframe thead th {\n",
       "        text-align: right;\n",
       "    }\n",
       "</style>\n",
       "<table border=\"1\" class=\"dataframe\">\n",
       "  <thead>\n",
       "    <tr style=\"text-align: right;\">\n",
       "      <th></th>\n",
       "      <th>_id</th>\n",
       "      <th>bug_id</th>\n",
       "      <th>description</th>\n",
       "      <th>bug_severity</th>\n",
       "      <th>binary_severity</th>\n",
       "      <th>preprocess_desc</th>\n",
       "    </tr>\n",
       "  </thead>\n",
       "  <tbody>\n",
       "    <tr>\n",
       "      <th>0</th>\n",
       "      <td>{'$oid': '52e9b44954dc1c25ebdb1f11'}</td>\n",
       "      <td>43</td>\n",
       "      <td>I have a project (Junk) that has been released...</td>\n",
       "      <td>major</td>\n",
       "      <td>1</td>\n",
       "      <td>project junk releas teamstream renam project a...</td>\n",
       "    </tr>\n",
       "    <tr>\n",
       "      <th>1</th>\n",
       "      <td>{'$oid': '52e9b44f54dc1c25ebdb1f87'}</td>\n",
       "      <td>163</td>\n",
       "      <td>AK (6/12/01 4:55:24 PM)\\n\\ti got this exceptio...</td>\n",
       "      <td>critical</td>\n",
       "      <td>1</td>\n",
       "      <td>ak 6/12/01 4:55:24 pm got except last night wo...</td>\n",
       "    </tr>\n",
       "    <tr>\n",
       "      <th>2</th>\n",
       "      <td>{'$oid': '52e9b45054dc1c25ebdb1fa5'}</td>\n",
       "      <td>194</td>\n",
       "      <td>1) Add a global ignore pattern \"BazProject\"\\n2...</td>\n",
       "      <td>major</td>\n",
       "      <td>1</td>\n",
       "      <td>1 add global ignor pattern bazproject 2 creat ...</td>\n",
       "    </tr>\n",
       "    <tr>\n",
       "      <th>3</th>\n",
       "      <td>{'$oid': '52e9b45054dc1c25ebdb1fa7'}</td>\n",
       "      <td>195</td>\n",
       "      <td>1) Release a project and file to the stream\\n2...</td>\n",
       "      <td>major</td>\n",
       "      <td>1</td>\n",
       "      <td>1 releas project file stream 2 delet file loca...</td>\n",
       "    </tr>\n",
       "    <tr>\n",
       "      <th>4</th>\n",
       "      <td>{'$oid': '52e9b45054dc1c25ebdb1fa8'}</td>\n",
       "      <td>196</td>\n",
       "      <td>Started with following structure:\\n\\nJFinalSmo...</td>\n",
       "      <td>major</td>\n",
       "      <td>1</td>\n",
       "      <td>start follow structur jfinalsmok project org b...</td>\n",
       "    </tr>\n",
       "  </tbody>\n",
       "</table>\n",
       "</div>"
      ],
      "text/plain": [
       "                                    _id  bug_id  \\\n",
       "0  {'$oid': '52e9b44954dc1c25ebdb1f11'}      43   \n",
       "1  {'$oid': '52e9b44f54dc1c25ebdb1f87'}     163   \n",
       "2  {'$oid': '52e9b45054dc1c25ebdb1fa5'}     194   \n",
       "3  {'$oid': '52e9b45054dc1c25ebdb1fa7'}     195   \n",
       "4  {'$oid': '52e9b45054dc1c25ebdb1fa8'}     196   \n",
       "\n",
       "                                         description bug_severity  \\\n",
       "0  I have a project (Junk) that has been released...        major   \n",
       "1  AK (6/12/01 4:55:24 PM)\\n\\ti got this exceptio...     critical   \n",
       "2  1) Add a global ignore pattern \"BazProject\"\\n2...        major   \n",
       "3  1) Release a project and file to the stream\\n2...        major   \n",
       "4  Started with following structure:\\n\\nJFinalSmo...        major   \n",
       "\n",
       "   binary_severity                                    preprocess_desc  \n",
       "0                1  project junk releas teamstream renam project a...  \n",
       "1                1  ak 6/12/01 4:55:24 pm got except last night wo...  \n",
       "2                1  1 add global ignor pattern bazproject 2 creat ...  \n",
       "3                1  1 releas project file stream 2 delet file loca...  \n",
       "4                1  start follow structur jfinalsmok project org b...  "
      ]
     },
     "metadata": {},
     "output_type": "display_data"
    }
   ],
   "source": [
    "print_pipeline(pipeline,bug_reports)\n"
   ]
  },
  {
   "cell_type": "markdown",
   "metadata": {},
   "source": [
    "#### Pipeline Naive Bayes\n",
    "\n",
    "[Article of A. Lamkanfi (Comparing...)](https://ieeexplore.ieee.org/abstract/document/5741332?casa_token=dnUxAhCPIfYAAAAA:EdGf86hHjs7WSgDOSKP9EGYDDeJzi2KWT4b9qQhqfAG931MWlbafeZaTlSC3KbwFrhJxIjpfEW4)"
   ]
  },
  {
   "cell_type": "code",
   "execution_count": 8,
   "metadata": {},
   "outputs": [],
   "source": [
    "pipeline,vectorizer = pipeline_naive_bayes()\n",
    "X, y = pipeline.fit_transform(bug_reports)"
   ]
  },
  {
   "cell_type": "code",
   "execution_count": 9,
   "metadata": {},
   "outputs": [
    {
     "name": "stdout",
     "output_type": "stream",
     "text": [
      "----------------------------------------------------------------------------------------------------\n",
      "Step bug_severity_filter\n",
      "<class 'pandas.core.frame.DataFrame'>\n",
      "RangeIndex: 11232 entries, 0 to 11231\n",
      "Data columns (total 4 columns):\n",
      " #   Column        Non-Null Count  Dtype \n",
      "---  ------        --------------  ----- \n",
      " 0   _id           11232 non-null  object\n",
      " 1   bug_id        11232 non-null  int64 \n",
      " 2   description   11232 non-null  object\n",
      " 3   bug_severity  11232 non-null  object\n",
      "dtypes: int64(1), object(3)\n",
      "memory usage: 351.1+ KB\n",
      "None\n"
     ]
    },
    {
     "data": {
      "text/html": [
       "<div>\n",
       "<style scoped>\n",
       "    .dataframe tbody tr th:only-of-type {\n",
       "        vertical-align: middle;\n",
       "    }\n",
       "\n",
       "    .dataframe tbody tr th {\n",
       "        vertical-align: top;\n",
       "    }\n",
       "\n",
       "    .dataframe thead th {\n",
       "        text-align: right;\n",
       "    }\n",
       "</style>\n",
       "<table border=\"1\" class=\"dataframe\">\n",
       "  <thead>\n",
       "    <tr style=\"text-align: right;\">\n",
       "      <th></th>\n",
       "      <th>_id</th>\n",
       "      <th>bug_id</th>\n",
       "      <th>description</th>\n",
       "      <th>bug_severity</th>\n",
       "    </tr>\n",
       "  </thead>\n",
       "  <tbody>\n",
       "    <tr>\n",
       "      <th>0</th>\n",
       "      <td>{'$oid': '52e9b44954dc1c25ebdb1f11'}</td>\n",
       "      <td>43</td>\n",
       "      <td>I have a project (Junk) that has been released...</td>\n",
       "      <td>major</td>\n",
       "    </tr>\n",
       "    <tr>\n",
       "      <th>1</th>\n",
       "      <td>{'$oid': '52e9b44f54dc1c25ebdb1f87'}</td>\n",
       "      <td>163</td>\n",
       "      <td>AK (6/12/01 4:55:24 PM)\\n\\ti got this exceptio...</td>\n",
       "      <td>critical</td>\n",
       "    </tr>\n",
       "    <tr>\n",
       "      <th>2</th>\n",
       "      <td>{'$oid': '52e9b45054dc1c25ebdb1fa5'}</td>\n",
       "      <td>194</td>\n",
       "      <td>1) Add a global ignore pattern \"BazProject\"\\n2...</td>\n",
       "      <td>major</td>\n",
       "    </tr>\n",
       "    <tr>\n",
       "      <th>3</th>\n",
       "      <td>{'$oid': '52e9b45054dc1c25ebdb1fa7'}</td>\n",
       "      <td>195</td>\n",
       "      <td>1) Release a project and file to the stream\\n2...</td>\n",
       "      <td>major</td>\n",
       "    </tr>\n",
       "    <tr>\n",
       "      <th>4</th>\n",
       "      <td>{'$oid': '52e9b45054dc1c25ebdb1fa8'}</td>\n",
       "      <td>196</td>\n",
       "      <td>Started with following structure:\\n\\nJFinalSmo...</td>\n",
       "      <td>major</td>\n",
       "    </tr>\n",
       "  </tbody>\n",
       "</table>\n",
       "</div>"
      ],
      "text/plain": [
       "                                    _id  bug_id  \\\n",
       "0  {'$oid': '52e9b44954dc1c25ebdb1f11'}      43   \n",
       "1  {'$oid': '52e9b44f54dc1c25ebdb1f87'}     163   \n",
       "2  {'$oid': '52e9b45054dc1c25ebdb1fa5'}     194   \n",
       "3  {'$oid': '52e9b45054dc1c25ebdb1fa7'}     195   \n",
       "4  {'$oid': '52e9b45054dc1c25ebdb1fa8'}     196   \n",
       "\n",
       "                                         description bug_severity  \n",
       "0  I have a project (Junk) that has been released...        major  \n",
       "1  AK (6/12/01 4:55:24 PM)\\n\\ti got this exceptio...     critical  \n",
       "2  1) Add a global ignore pattern \"BazProject\"\\n2...        major  \n",
       "3  1) Release a project and file to the stream\\n2...        major  \n",
       "4  Started with following structure:\\n\\nJFinalSmo...        major  "
      ]
     },
     "metadata": {},
     "output_type": "display_data"
    },
    {
     "name": "stdout",
     "output_type": "stream",
     "text": [
      "----------------------------------------------------------------------------------------------------\n",
      "Step binary_feature\n",
      "<class 'pandas.core.frame.DataFrame'>\n",
      "RangeIndex: 11232 entries, 0 to 11231\n",
      "Data columns (total 5 columns):\n",
      " #   Column           Non-Null Count  Dtype \n",
      "---  ------           --------------  ----- \n",
      " 0   _id              11232 non-null  object\n",
      " 1   bug_id           11232 non-null  int64 \n",
      " 2   description      11232 non-null  object\n",
      " 3   bug_severity     11232 non-null  object\n",
      " 4   binary_severity  11232 non-null  int64 \n",
      "dtypes: int64(2), object(3)\n",
      "memory usage: 438.9+ KB\n",
      "None\n"
     ]
    },
    {
     "data": {
      "text/html": [
       "<div>\n",
       "<style scoped>\n",
       "    .dataframe tbody tr th:only-of-type {\n",
       "        vertical-align: middle;\n",
       "    }\n",
       "\n",
       "    .dataframe tbody tr th {\n",
       "        vertical-align: top;\n",
       "    }\n",
       "\n",
       "    .dataframe thead th {\n",
       "        text-align: right;\n",
       "    }\n",
       "</style>\n",
       "<table border=\"1\" class=\"dataframe\">\n",
       "  <thead>\n",
       "    <tr style=\"text-align: right;\">\n",
       "      <th></th>\n",
       "      <th>_id</th>\n",
       "      <th>bug_id</th>\n",
       "      <th>description</th>\n",
       "      <th>bug_severity</th>\n",
       "      <th>binary_severity</th>\n",
       "    </tr>\n",
       "  </thead>\n",
       "  <tbody>\n",
       "    <tr>\n",
       "      <th>0</th>\n",
       "      <td>{'$oid': '52e9b44954dc1c25ebdb1f11'}</td>\n",
       "      <td>43</td>\n",
       "      <td>I have a project (Junk) that has been released...</td>\n",
       "      <td>major</td>\n",
       "      <td>1</td>\n",
       "    </tr>\n",
       "    <tr>\n",
       "      <th>1</th>\n",
       "      <td>{'$oid': '52e9b44f54dc1c25ebdb1f87'}</td>\n",
       "      <td>163</td>\n",
       "      <td>AK (6/12/01 4:55:24 PM)\\n\\ti got this exceptio...</td>\n",
       "      <td>critical</td>\n",
       "      <td>1</td>\n",
       "    </tr>\n",
       "    <tr>\n",
       "      <th>2</th>\n",
       "      <td>{'$oid': '52e9b45054dc1c25ebdb1fa5'}</td>\n",
       "      <td>194</td>\n",
       "      <td>1) Add a global ignore pattern \"BazProject\"\\n2...</td>\n",
       "      <td>major</td>\n",
       "      <td>1</td>\n",
       "    </tr>\n",
       "    <tr>\n",
       "      <th>3</th>\n",
       "      <td>{'$oid': '52e9b45054dc1c25ebdb1fa7'}</td>\n",
       "      <td>195</td>\n",
       "      <td>1) Release a project and file to the stream\\n2...</td>\n",
       "      <td>major</td>\n",
       "      <td>1</td>\n",
       "    </tr>\n",
       "    <tr>\n",
       "      <th>4</th>\n",
       "      <td>{'$oid': '52e9b45054dc1c25ebdb1fa8'}</td>\n",
       "      <td>196</td>\n",
       "      <td>Started with following structure:\\n\\nJFinalSmo...</td>\n",
       "      <td>major</td>\n",
       "      <td>1</td>\n",
       "    </tr>\n",
       "  </tbody>\n",
       "</table>\n",
       "</div>"
      ],
      "text/plain": [
       "                                    _id  bug_id  \\\n",
       "0  {'$oid': '52e9b44954dc1c25ebdb1f11'}      43   \n",
       "1  {'$oid': '52e9b44f54dc1c25ebdb1f87'}     163   \n",
       "2  {'$oid': '52e9b45054dc1c25ebdb1fa5'}     194   \n",
       "3  {'$oid': '52e9b45054dc1c25ebdb1fa7'}     195   \n",
       "4  {'$oid': '52e9b45054dc1c25ebdb1fa8'}     196   \n",
       "\n",
       "                                         description bug_severity  \\\n",
       "0  I have a project (Junk) that has been released...        major   \n",
       "1  AK (6/12/01 4:55:24 PM)\\n\\ti got this exceptio...     critical   \n",
       "2  1) Add a global ignore pattern \"BazProject\"\\n2...        major   \n",
       "3  1) Release a project and file to the stream\\n2...        major   \n",
       "4  Started with following structure:\\n\\nJFinalSmo...        major   \n",
       "\n",
       "   binary_severity  \n",
       "0                1  \n",
       "1                1  \n",
       "2                1  \n",
       "3                1  \n",
       "4                1  "
      ]
     },
     "metadata": {},
     "output_type": "display_data"
    },
    {
     "name": "stdout",
     "output_type": "stream",
     "text": [
      "----------------------------------------------------------------------------------------------------\n",
      "Step preprocessor\n",
      "<class 'pandas.core.frame.DataFrame'>\n",
      "RangeIndex: 11232 entries, 0 to 11231\n",
      "Data columns (total 6 columns):\n",
      " #   Column           Non-Null Count  Dtype \n",
      "---  ------           --------------  ----- \n",
      " 0   _id              11232 non-null  object\n",
      " 1   bug_id           11232 non-null  int64 \n",
      " 2   description      11232 non-null  object\n",
      " 3   bug_severity     11232 non-null  object\n",
      " 4   binary_severity  11232 non-null  int64 \n",
      " 5   preprocess_desc  11232 non-null  object\n",
      "dtypes: int64(2), object(4)\n",
      "memory usage: 526.6+ KB\n",
      "None\n"
     ]
    },
    {
     "data": {
      "text/html": [
       "<div>\n",
       "<style scoped>\n",
       "    .dataframe tbody tr th:only-of-type {\n",
       "        vertical-align: middle;\n",
       "    }\n",
       "\n",
       "    .dataframe tbody tr th {\n",
       "        vertical-align: top;\n",
       "    }\n",
       "\n",
       "    .dataframe thead th {\n",
       "        text-align: right;\n",
       "    }\n",
       "</style>\n",
       "<table border=\"1\" class=\"dataframe\">\n",
       "  <thead>\n",
       "    <tr style=\"text-align: right;\">\n",
       "      <th></th>\n",
       "      <th>_id</th>\n",
       "      <th>bug_id</th>\n",
       "      <th>description</th>\n",
       "      <th>bug_severity</th>\n",
       "      <th>binary_severity</th>\n",
       "      <th>preprocess_desc</th>\n",
       "    </tr>\n",
       "  </thead>\n",
       "  <tbody>\n",
       "    <tr>\n",
       "      <th>0</th>\n",
       "      <td>{'$oid': '52e9b44954dc1c25ebdb1f11'}</td>\n",
       "      <td>43</td>\n",
       "      <td>I have a project (Junk) that has been released...</td>\n",
       "      <td>major</td>\n",
       "      <td>1</td>\n",
       "      <td>project junk releas teamstream renam project a...</td>\n",
       "    </tr>\n",
       "    <tr>\n",
       "      <th>1</th>\n",
       "      <td>{'$oid': '52e9b44f54dc1c25ebdb1f87'}</td>\n",
       "      <td>163</td>\n",
       "      <td>AK (6/12/01 4:55:24 PM)\\n\\ti got this exceptio...</td>\n",
       "      <td>critical</td>\n",
       "      <td>1</td>\n",
       "      <td>ak 6/12/01 4:55:24 pm got except last night wo...</td>\n",
       "    </tr>\n",
       "    <tr>\n",
       "      <th>2</th>\n",
       "      <td>{'$oid': '52e9b45054dc1c25ebdb1fa5'}</td>\n",
       "      <td>194</td>\n",
       "      <td>1) Add a global ignore pattern \"BazProject\"\\n2...</td>\n",
       "      <td>major</td>\n",
       "      <td>1</td>\n",
       "      <td>1 add global ignor pattern bazproject 2 creat ...</td>\n",
       "    </tr>\n",
       "    <tr>\n",
       "      <th>3</th>\n",
       "      <td>{'$oid': '52e9b45054dc1c25ebdb1fa7'}</td>\n",
       "      <td>195</td>\n",
       "      <td>1) Release a project and file to the stream\\n2...</td>\n",
       "      <td>major</td>\n",
       "      <td>1</td>\n",
       "      <td>1 releas project file stream 2 delet file loca...</td>\n",
       "    </tr>\n",
       "    <tr>\n",
       "      <th>4</th>\n",
       "      <td>{'$oid': '52e9b45054dc1c25ebdb1fa8'}</td>\n",
       "      <td>196</td>\n",
       "      <td>Started with following structure:\\n\\nJFinalSmo...</td>\n",
       "      <td>major</td>\n",
       "      <td>1</td>\n",
       "      <td>start follow structur jfinalsmok project org b...</td>\n",
       "    </tr>\n",
       "  </tbody>\n",
       "</table>\n",
       "</div>"
      ],
      "text/plain": [
       "                                    _id  bug_id  \\\n",
       "0  {'$oid': '52e9b44954dc1c25ebdb1f11'}      43   \n",
       "1  {'$oid': '52e9b44f54dc1c25ebdb1f87'}     163   \n",
       "2  {'$oid': '52e9b45054dc1c25ebdb1fa5'}     194   \n",
       "3  {'$oid': '52e9b45054dc1c25ebdb1fa7'}     195   \n",
       "4  {'$oid': '52e9b45054dc1c25ebdb1fa8'}     196   \n",
       "\n",
       "                                         description bug_severity  \\\n",
       "0  I have a project (Junk) that has been released...        major   \n",
       "1  AK (6/12/01 4:55:24 PM)\\n\\ti got this exceptio...     critical   \n",
       "2  1) Add a global ignore pattern \"BazProject\"\\n2...        major   \n",
       "3  1) Release a project and file to the stream\\n2...        major   \n",
       "4  Started with following structure:\\n\\nJFinalSmo...        major   \n",
       "\n",
       "   binary_severity                                    preprocess_desc  \n",
       "0                1  project junk releas teamstream renam project a...  \n",
       "1                1  ak 6/12/01 4:55:24 pm got except last night wo...  \n",
       "2                1  1 add global ignor pattern bazproject 2 creat ...  \n",
       "3                1  1 releas project file stream 2 delet file loca...  \n",
       "4                1  start follow structur jfinalsmok project org b...  "
      ]
     },
     "metadata": {},
     "output_type": "display_data"
    },
    {
     "name": "stdout",
     "output_type": "stream",
     "text": [
      "----------------------------------------------------------------------------------------------------\n",
      "Step extract_x_y\n",
      "X: ['project junk releas teamstream renam project attempt releas teamstream compar fail junk exist project must renam back old name artifact left first renam left must delet project releas project releas show conflict element compar phase note km 5/22/01 9:42:15 pm need flush sync info renam jean-michel 31/05/2001 6:35:07 pm time-permit'\n",
      " \"ak 6/12/01 4:55:24 pm got except last night work home connect internet n't rememb press 'synchron stream think sure though 're 2 walkback guess 're relat 4 org.eclipse.vcm.cor 4 locat host zrhcvs.zrh.oti.com java.net.unknownhostexcept zrhcvs.zrh.oti.com java.net.inetaddress.getallbyname0 inetaddress.java:585 java.net.inetaddress.getallbyname0 inetaddress.java:554 java.net.inetaddress.getbynam inetaddress.java:463 java.net.socket. init socket.java:112 org.eclipse.vcm.internal.core.ccvs.client.pserverconnection.createsocket pserverconnection.java:140 org.eclipse.vcm.internal.core.ccvs.client.pserverconnection.open pserverconnection.java:190 org.eclipse.vcm.internal.core.ccvs.client.connection.open connection.java:224 org.eclipse.vcm.internal.core.ccvs.client.client. init client.java:226 org.eclipse.vcm.internal.core.ccvs.context.fetchresourceat context.java:96 org.eclipse.vcm.internal.core.teamstreamhandle.getserverresourc teamstreamhandle.java:92 org.eclipse.vcm.internal.core.teamstreamhandle.fetchversionhistori teamstreamhandle.java:55 org.eclipse.vcm.internal.ui.versionselectiondialog 6.run versionselectiondialog.java:221 org.eclipse.swt.custom.busyindicator.showwhil busyindicator.java:98 org.eclipse.vcm.internal.ui.versionselectiondialog 5.getel versionselectiondialog.java:215 org.eclipse.jface.viewers.structuredviewer.getrawchildren structuredviewer.java:332 org.eclipse.jface.viewers.structuredviewer.getfilteredchildren structuredviewer.java:281 org.eclipse.jface.viewers.structuredviewer.getsortedchildren structuredviewer.java:378 org.eclipse.jface.viewers.tableviewer.internalrefresh tableviewer.java:425 org.eclipse.jface.viewers.structuredview 1.run structuredviewer.java:572 org.eclipse.jface.viewers.structuredviewer.preservingselect structuredviewer.java:542 org.eclipse.jface.viewers.structuredviewer.refresh structuredviewer.java:570 org.eclipse.jface.viewers.structuredviewer.refresh structuredviewer.java:562 org.eclipse.jface.viewers.tableviewer.inputchang tableviewer.java:383 org.eclipse.jface.viewers.contentviewer.setinput contentviewer.java:234 org.eclipse.jface.viewers.structuredviewer.setinput structuredviewer.java:655 org.eclipse.vcm.internal.ui.versionselectiondialog.handlerepositoryselectionchang versionselectiondialog.java:269 org.eclipse.vcm.internal.ui.versionselectiondialog.initi versionselectiondialog.java:300 org.eclipse.vcm.internal.ui.versionselectiondialog.cr versionselectiondialog.java:78 org.eclipse.jface.window.window.open window.java:510 org.eclipse.vcm.internal.ui.actions.comparewithversionaction.geteditionstocompar comparewithversionaction.java:64 org.eclipse.vcm.internal.ui.actions.comparewithaction.run comparewithaction.java:51 org.eclipse.ui.internal.pluginaction.run pluginaction.java:125 org.eclipse.jface.action.actioncontributionitem.handlewidgetselect actioncontributionitem.java:408 org.eclipse.jface.action.actioncontributionitem.handlewidgetev actioncontributionitem.java:362 org.eclipse.jface.action.actioncontributionitem.access 0 actioncontributionitem.java:353 org.eclipse.jface.action.actioncontributionitem actionlistener.handleev actioncontributionitem.java:47 org.eclipse.swt.widgets.eventtable.sendev eventtable.java compil code org.eclipse.swt.widgets.widget.notifylisten widget.java:622 org.eclipse.swt.widgets.display.rundeferredev display.java compil code org.eclipse.swt.widgets.display.readanddispatch display.java compil code org.eclipse.ui.internal.workbench.runeventloop workbench.java compil code org.eclipse.ui.internal.workbench.run workbench.java:620 org.eclipse.core.internal.boot.internalbootloader.run internalbootloader.java:815 org.eclipse.core.boot.bootloader.run bootloader.java:285 java.lang.reflect.method.invok nativ method org.eclipse.core.launcher.main.basicrun main.java:69 org.eclipse.core.launcher.main.run main.java:311 org.eclipse.core.launcher.main.main main.java:198 log tue jun 12 03:02:48 cest 2001 1 org.eclipse.core.resourc 4 unhandl except caught event loop log tue jun 12 03:02:48 cest 2001 4 org.eclipse.ui 0 java.lang.nullpointerexcept java.lang.nullpointerexcept org.eclipse.vcm.internal.ui.vcmeditionselectiondialog historylabelprovider.getcolumntext vcmeditionselectiondialog.java:93 org.eclipse.jface.viewers.tableviewer.doupdateitem tableviewer.java:180 org.eclipse.jface.viewers.structuredviewer.updateitem structuredviewer.java:879 org.eclipse.jface.viewers.tableviewer.internalrefresh tableviewer.java:465 org.eclipse.jface.viewers.structuredview 1.run structuredviewer.java:572 org.eclipse.jface.viewers.structuredviewer.preservingselect structuredviewer.java:542 org.eclipse.jface.viewers.structuredviewer.refresh structuredviewer.java:570 org.eclipse.jface.viewers.structuredviewer.refresh structuredviewer.java:562 org.eclipse.jface.viewers.tableviewer.inputchang tableviewer.java:383 org.eclipse.jface.viewers.contentviewer.setinput contentviewer.java:234 org.eclipse.jface.viewers.structuredviewer.setinput structuredviewer.java:655 org.eclipse.vcm.internal.ui.vcmeditionselectiondialog.selectedit vcmeditionselectiondialog.java:491 org.eclipse.vcm.internal.ui.actions.comparewithaction.runfilecompar comparewithaction.java:89 org.eclipse.vcm.internal.ui.actions.comparewithaction.runcompar comparewithaction.java:70 org.eclipse.vcm.internal.ui.actions.comparewithaction.run comparewithaction.java:53 org.eclipse.ui.internal.pluginaction.run pluginaction.java:125 org.eclipse.jface.action.actioncontributionitem.handlewidgetselect actioncontributionitem.java:408 org.eclipse.jface.action.actioncontributionitem.handlewidgetev actioncontributionitem.java:362 org.eclipse.jface.action.actioncontributionitem.access 0 actioncontributionitem.java:353 org.eclipse.jface.action.actioncontributionitem actionlistener.handleev actioncontributionitem.java:47 org.eclipse.swt.widgets.widget.notifylisten widget.java compil code org.eclipse.swt.widgets.widget.notifylisten widget.java compil code org.eclipse.swt.widgets.display.rundeferredev display.java compil code org.eclipse.swt.widgets.display.readanddispatch display.java compil code org.eclipse.ui.internal.workbench.runeventloop workbench.java compil code org.eclipse.ui.internal.workbench.run workbench.java:620 org.eclipse.core.internal.boot.internalbootloader.run internalbootloader.java:815 org.eclipse.core.boot.bootloader.run bootloader.java:285 java.lang.reflect.method.invok nativ method org.eclipse.core.launcher.main.basicrun main.java:69 org.eclipse.core.launcher.main.run main.java:311 org.eclipse.core.launcher.main.main main.java:198 note johna 6/13/2001 9:40:21 look like compar file error case fix 1gf5w6u itpvcm win2000 nullpointerexcept compar version dialog\"\n",
      " \"1 add global ignor pattern bazproject 2 creat simpl project call bazproject 3 team- version- automatic- ok 4 error dialog titl version problem messag follow resourc version detail area n't say resourc could n't version note\"\n",
      " \"1 releas project file stream 2 delet file local 3 select project compar stream 4 select file compar editor click copi whole document right left 5 left hand side click save noth happen n't creat file exact thing sync view creat file note\"\n",
      " 'start follow structur jfinalsmok project org baz -foo abc.txt c.java foo c.java replac stream project cancel replac middl delet everyth except project team- synchron stream catchup/releas mode select org catchup error occur dialog titl problem synchron messag io error ad detail problem creat parent problem creat parent catchup success error dialog show anyway note johna 6/20/2001 1:17:55 pm pretti rare case happen cancel tri resuscit delet sync view also succe show error dialog appar reason'\n",
      " \"dlw 8/10/2001 10:28:32 1 go team perspect 2 select repositori view 3 add repositori list 4 ask password press cancel 5 tell leav repositori list 6 expand tree repositori 7 expand tree project version 8 prompt password press cancel 9 observ goe away next project version leav impress ca n't open anymor even password doubl click project version expand display desir behavior restor step 8 note kh 9/14/2001 4:58:17 pm descript pr look like vcmui issu pl investig provid detail turn jface/workbench issu\"\n",
      " 'plug-in creat plugin develop project first time requir section sourc code extens point select panel empti plugin developemnt project creat thereaft miss requir section code extens point select panel also empti problem occur driver 136a driver 135 problem korean function broke driver 136a step recreat step miss requir section -creat plug-in project file- new- project ... select plug-in develop plug-in project press next -name project sbc name aaa press next press next -select creat plug-in use templat wizard default plug-in gener press next press finish -from panel aaa1 plugin select sourc tab bottom screen -the plugin sourc code display follow xml version= 1.0 encoding= utf-8 plugin name= aaa plugin id= aaa version= 1.0.0 class= aaa.aaaplugin requir import plugin= org.eclipse.core.runtim import plugin= org.eclipse.core.ressourc import plugin= org.eclipse.ui /requir runtim librari name= aaa.jar /runtim section requir ... /requir miss sourc stepb empti extens point select panel display bottom screen turn extens page push new button start extens wizard -select gener wizard schema-bas extens press next empti extens point select display note descript note'\n",
      " \"dbcs-pde sourc page plug-in manifest editor display correct dbc char display look like correct dbc char realiti corrupt dbc char step recreat test case 2 plug-in develop ad new action set extens point new top level menu -creat plug-in project file- new- project ... select plug-in develop plug-in project press next creat action set menu dbc label field chang label dbc use properti view check sourc page make sure charact corrupt charact editor sourc page corrupt dbc due corrupt charact could n't compil verifi menu label show correctli menu bar run-tim workspac xml version= 1.0 encoding= utf-8 actionset label= dbc visible= true id= j.actionset2 menu label= dbc id= j.menu2 ... editor dbc use dbc charact display correctli editor well correct dbc char menu label run-tim window note rtp test e. nair verifi 136a 137 fix dbc languag project name dbc also display properli howev project name plugin limit resolv compil\"\n",
      " 'plug-in requir section compris basic user interfac core servic miss plug-in code chines languag also empti extens point select panel display problem happen w2k t. chines w2k s. chines w2k japanes w2k korean work fine step recreat step miss requir section -creat plug-in project file- new- project ... select plug-in develop plug-in project press next -name project sbc name aaa press next press next -select creat plug-in use templat wizard default plug-in gener press next press finish -from panel aaa1 plugin select sourc tab bottom screen -the plugin sourc code display follow xml version= 1.0 encoding= utf-8 plugin name= aaa plugin id= aaa version= 1.0.0 class= aaa.aaaplugin requir import plugin= org.eclipse.core.runtim import plugin= org.eclipse.core.ressourc import plugin= org.eclipse.ui /requir runtim librari name= aaa.jar /runtim section requir ... /requir miss s.chines t.chines station display correctli japanes korean english station stepb empti extens point select panel s.chines t.chines bottom screen turn extens page push new button start extens wizard -select gener wizard schema-bas extens press next empti extens point select display chines station note rtp test e. nair fix verifi 137 build close'\n",
      " 'dbc got except thread error messag launch plug-in project code runtim workbench instanc problem happen s. chines t.chines korean japanes station work fine step recreat take plug-in project code launch runtim workbench instanc get follow error messag consol java.lang.noclass deffound error note rtp test e. nair fix verifi 137 build close relat defect 1gkbeou org/eclipse/core/launcher/uimain except thread main'] <class 'numpy.ndarray'>\n",
      "y: [1 1 1 1 1 0 1 1 1 1] <class 'numpy.ndarray'>\n",
      "----------------------------------------------------------------------------------------------------\n",
      "Step embedding\n",
      "X: [[0 0 0 ... 0 0 0]\n",
      " [0 0 0 ... 0 0 0]\n",
      " [0 0 0 ... 0 0 0]\n",
      " ...\n",
      " [0 0 0 ... 0 0 0]\n",
      " [0 0 0 ... 0 0 0]\n",
      " [0 0 0 ... 0 0 0]] <class 'numpy.ndarray'>\n",
      "y: [1 1 1 1 1 0 1 1 1 1] <class 'numpy.ndarray'>\n"
     ]
    }
   ],
   "source": [
    "print_pipeline(pipeline,bug_reports)"
   ]
  },
  {
   "cell_type": "code",
   "execution_count": 10,
   "metadata": {},
   "outputs": [
    {
     "name": "stdout",
     "output_type": "stream",
     "text": [
      "There are feature vector of size 63651 (vocabulary size found)\n",
      "Here are 10 of the feature names (vocabulary) found:\n",
      "00\n",
      "000\n",
      "0000\n",
      "000000\n",
      "00000000\n",
      "0000000000000000\n",
      "0000000000000001\n",
      "00000000401149e0\n",
      "00000001\n",
      "00000008\n"
     ]
    }
   ],
   "source": [
    "# Create bag-of-words representation and inspect the result on the preprocessed description column\n",
    "feature_names = vectorizer.get_feature_names_out()\n",
    "\n",
    "# Print the bag-of-words representation\n",
    "print(f\"There are feature vector of size {len(feature_names)} (vocabulary size found)\")\n",
    "n_samples = 10\n",
    "print(f\"Here are {n_samples} of the feature names (vocabulary) found:\")\n",
    "for f in feature_names[:n_samples]:\n",
    "    print(f)"
   ]
  },
  {
   "cell_type": "code",
   "execution_count": 11,
   "metadata": {},
   "outputs": [
    {
     "data": {
      "application/vnd.jupyter.widget-view+json": {
       "model_id": "924fd2daf05844288324282bbf5d6b77",
       "version_major": 2,
       "version_minor": 0
      },
      "text/plain": [
       "Output()"
      ]
     },
     "metadata": {},
     "output_type": "display_data"
    },
    {
     "data": {
      "text/html": [
       "<pre style=\"white-space:pre;overflow-x:auto;line-height:normal;font-family:Menlo,'DejaVu Sans Mono',consolas,'Courier New',monospace\">Fold 1 of size 8985 tr and 2247 test\n",
       "</pre>\n"
      ],
      "text/plain": [
       "Fold 1 of size 8985 tr and 2247 test\n"
      ]
     },
     "metadata": {},
     "output_type": "display_data"
    },
    {
     "ename": "",
     "evalue": "",
     "output_type": "error",
     "traceback": [
      "\u001b[1;31mThe Kernel crashed while executing code in the the current cell or a previous cell. Please review the code in the cell(s) to identify a possible cause of the failure. Click <a href='https://aka.ms/vscodeJupyterKernelCrash'>here</a> for more info. View Jupyter <a href='command:jupyter.viewOutput'>log</a> for further details."
     ]
    }
   ],
   "source": [
    "############# Bernouli\n",
    "# Define the Naive Bayes classifier\n",
    "naive_bayes_classifier = BernoulliNB()\n",
    "cross_validation_with_classifier(naive_bayes_classifier,X,y)"
   ]
  },
  {
   "cell_type": "code",
   "execution_count": null,
   "metadata": {},
   "outputs": [
    {
     "name": "stdout",
     "output_type": "stream",
     "text": [
      "Fold 1 - Train Accuracy: 0.8635, Test Accuracy: 0.6637\n",
      "Fold 2 - Train Accuracy: 0.8624, Test Accuracy: 0.6619\n",
      "Fold 3 - Train Accuracy: 0.8614, Test Accuracy: 0.6759\n",
      "Fold 4 - Train Accuracy: 0.8639, Test Accuracy: 0.6429\n",
      "Fold 5 - Train Accuracy: 0.8633, Test Accuracy: 0.6687\n",
      "Fold 6 - Train Accuracy: 0.8616, Test Accuracy: 0.6723\n",
      "Fold 7 - Train Accuracy: 0.8645, Test Accuracy: 0.6447\n",
      "Fold 8 - Train Accuracy: 0.8624, Test Accuracy: 0.6741\n",
      "Fold 9 - Train Accuracy: 0.8615, Test Accuracy: 0.6723\n",
      "Fold 10 - Train Accuracy: 0.8641, Test Accuracy: 0.6759\n",
      "Mean Train Accuracy: 0.8629, Mean Test Accuracy: 0.6652\n"
     ]
    }
   ],
   "source": [
    "############# GaussianNB\n",
    "\n",
    "naive_bayes_classifier = MultinomialNB()\n",
    "cross_validation_with_classifier(naive_bayes_classifier,X,y)"
   ]
  },
  {
   "cell_type": "code",
   "execution_count": null,
   "metadata": {},
   "outputs": [
    {
     "name": "stdout",
     "output_type": "stream",
     "text": [
      "Fold 1 - ROC AUC: 0.6267\n",
      "Fold 1 - Train Accuracy: 0.8635, Test Accuracy: 0.6637\n",
      "Fold 2 - ROC AUC: 0.6445\n",
      "Fold 2 - Train Accuracy: 0.8624, Test Accuracy: 0.6619\n",
      "Fold 3 - ROC AUC: 0.6506\n",
      "Fold 3 - Train Accuracy: 0.8614, Test Accuracy: 0.6759\n",
      "Fold 4 - ROC AUC: 0.6226\n",
      "Fold 4 - Train Accuracy: 0.8639, Test Accuracy: 0.6429\n",
      "Fold 5 - ROC AUC: 0.6345\n",
      "Fold 5 - Train Accuracy: 0.8633, Test Accuracy: 0.6687\n",
      "Fold 6 - ROC AUC: 0.6375\n",
      "Fold 6 - Train Accuracy: 0.8616, Test Accuracy: 0.6723\n",
      "Fold 7 - ROC AUC: 0.6117\n",
      "Fold 7 - Train Accuracy: 0.8645, Test Accuracy: 0.6447\n",
      "Fold 8 - ROC AUC: 0.6450\n",
      "Fold 8 - Train Accuracy: 0.8624, Test Accuracy: 0.6741\n",
      "Fold 9 - ROC AUC: 0.6311\n",
      "Fold 9 - Train Accuracy: 0.8615, Test Accuracy: 0.6723\n",
      "Fold 10 - ROC AUC: 0.6563\n",
      "Fold 10 - Train Accuracy: 0.8641, Test Accuracy: 0.6759\n",
      "Mean Train Accuracy: 0.8629, Mean Test Accuracy: 0.6652\n"
     ]
    }
   ],
   "source": [
    "############# GaussianNB\n",
    "\n",
    "naive_bayes_classifier = GaussianNB()\n",
    "cross_validation_with_classifier(naive_bayes_classifier,X,y)"
   ]
  },
  {
   "cell_type": "markdown",
   "metadata": {},
   "source": [
    "Mean AUC: 0.63605"
   ]
  },
  {
   "cell_type": "code",
   "execution_count": null,
   "metadata": {},
   "outputs": [
    {
     "name": "stdout",
     "output_type": "stream",
     "text": [
      "Fold 1 - Train Accuracy: 0.4556, Test Accuracy: 0.4297\n",
      "Fold 2 - Train Accuracy: 0.4502, Test Accuracy: 0.4422\n",
      "Fold 3 - Train Accuracy: 0.4503, Test Accuracy: 0.4461\n",
      "Fold 4 - Train Accuracy: 0.4500, Test Accuracy: 0.4354\n",
      "Fold 5 - Train Accuracy: 0.4532, Test Accuracy: 0.4337\n",
      "Fold 6 - Train Accuracy: 0.4552, Test Accuracy: 0.4408\n",
      "Fold 7 - Train Accuracy: 0.4528, Test Accuracy: 0.4159\n",
      "Fold 8 - Train Accuracy: 0.4502, Test Accuracy: 0.4550\n",
      "Fold 9 - Train Accuracy: 0.4540, Test Accuracy: 0.4203\n",
      "Fold 10 - Train Accuracy: 0.4528, Test Accuracy: 0.4497\n",
      "Mean Train Accuracy: 0.4524, Mean Test Accuracy: 0.4369\n"
     ]
    }
   ],
   "source": [
    "############# ComplementNB\n",
    "\n",
    "naive_bayes_classifier = ComplementNB()\n",
    "cross_validation_with_classifier(naive_bayes_classifier,X,y)"
   ]
  },
  {
   "cell_type": "code",
   "execution_count": null,
   "metadata": {},
   "outputs": [],
   "source": [
    "def bag_of_words(texts):\n",
    "    vectorizer = CountVectorizer()\n",
    "    bag_of_words = vectorizer.fit_transform(data_preprocessed['preprocess_desc'])\n",
    "\n",
    "    return bag_of_words.toarray()"
   ]
  },
  {
   "cell_type": "code",
   "execution_count": null,
   "metadata": {},
   "outputs": [],
   "source": [
    "complete_pipeline = Pipeline([\n",
    "    ('embedding', FunctionTransformer(bag_of_words)),\n",
    "    ('classifier', naive_bayes_classifier)\n",
    "])"
   ]
  },
  {
   "cell_type": "code",
   "execution_count": null,
   "metadata": {},
   "outputs": [
    {
     "name": "stdout",
     "output_type": "stream",
     "text": [
      "2861\n",
      "2861\n",
      "2861\n",
      "2861\n",
      "2861\n",
      "2861\n",
      "2861\n",
      "2861\n",
      "2861\n",
      "2862\n"
     ]
    },
    {
     "ename": "ValueError",
     "evalue": "\nAll the 10 fits failed.\nIt is very likely that your model is misconfigured.\nYou can try to debug the error by setting error_score='raise'.\n\nBelow are more details about the failures:\n--------------------------------------------------------------------------------\n10 fits failed with the following error:\nTraceback (most recent call last):\n  File \"c:\\Users\\dessa\\anaconda3\\envs\\Master\\lib\\site-packages\\sklearn\\model_selection\\_validation.py\", line 732, in _fit_and_score\n    estimator.fit(X_train, y_train, **fit_params)\n  File \"c:\\Users\\dessa\\anaconda3\\envs\\Master\\lib\\site-packages\\sklearn\\base.py\", line 1151, in wrapper\n    return fit_method(estimator, *args, **kwargs)\n  File \"c:\\Users\\dessa\\anaconda3\\envs\\Master\\lib\\site-packages\\sklearn\\pipeline.py\", line 416, in fit\n    Xt = self._fit(X, y, **fit_params_steps)\n  File \"c:\\Users\\dessa\\anaconda3\\envs\\Master\\lib\\site-packages\\sklearn\\pipeline.py\", line 370, in _fit\n    X, fitted_transformer = fit_transform_one_cached(\n  File \"c:\\Users\\dessa\\anaconda3\\envs\\Master\\lib\\site-packages\\joblib\\memory.py\", line 353, in __call__\n    return self.func(*args, **kwargs)\n  File \"c:\\Users\\dessa\\anaconda3\\envs\\Master\\lib\\site-packages\\sklearn\\pipeline.py\", line 950, in _fit_transform_one\n    res = transformer.fit_transform(X, y, **fit_params)\n  File \"c:\\Users\\dessa\\anaconda3\\envs\\Master\\lib\\site-packages\\sklearn\\utils\\_set_output.py\", line 140, in wrapped\n    data_to_wrap = f(self, X, *args, **kwargs)\n  File \"c:\\Users\\dessa\\anaconda3\\envs\\Master\\lib\\site-packages\\sklearn\\base.py\", line 918, in fit_transform\n    return self.fit(X, y, **fit_params).transform(X)\n  File \"c:\\Users\\dessa\\anaconda3\\envs\\Master\\lib\\site-packages\\sklearn\\utils\\_set_output.py\", line 140, in wrapped\n    data_to_wrap = f(self, X, *args, **kwargs)\n  File \"c:\\Users\\dessa\\anaconda3\\envs\\Master\\lib\\site-packages\\sklearn\\preprocessing\\_function_transformer.py\", line 240, in transform\n    return self._transform(X, func=self.func, kw_args=self.kw_args)\n  File \"c:\\Users\\dessa\\anaconda3\\envs\\Master\\lib\\site-packages\\sklearn\\preprocessing\\_function_transformer.py\", line 312, in _transform\n    return func(X, **(kw_args if kw_args else {}))\n  File \"C:\\Users\\dessa\\AppData\\Local\\Temp\\ipykernel_364\\580279345.py\", line 4, in bag_of_words\n    bag_of_words = binary_representation.fit_transform(texts.tolist)\n  File \"c:\\Users\\dessa\\anaconda3\\envs\\Master\\lib\\site-packages\\sklearn\\base.py\", line 1151, in wrapper\n    return fit_method(estimator, *args, **kwargs)\n  File \"c:\\Users\\dessa\\anaconda3\\envs\\Master\\lib\\site-packages\\sklearn\\feature_extraction\\text.py\", line 1383, in fit_transform\n    vocabulary, X = self._count_vocab(raw_documents, self.fixed_vocabulary_)\n  File \"c:\\Users\\dessa\\anaconda3\\envs\\Master\\lib\\site-packages\\sklearn\\feature_extraction\\text.py\", line 1268, in _count_vocab\n    for doc in raw_documents:\nTypeError: 'method' object is not iterable\n",
     "output_type": "error",
     "traceback": [
      "\u001b[1;31m---------------------------------------------------------------------------\u001b[0m",
      "\u001b[1;31mValueError\u001b[0m                                Traceback (most recent call last)",
      "Cell \u001b[1;32mIn[132], line 6\u001b[0m\n\u001b[0;32m      3\u001b[0m skf \u001b[39m=\u001b[39m StratifiedKFold(n_splits\u001b[39m=\u001b[39mk, shuffle\u001b[39m=\u001b[39m\u001b[39mTrue\u001b[39;00m, random_state\u001b[39m=\u001b[39m\u001b[39m42\u001b[39m)\n\u001b[0;32m      5\u001b[0m \u001b[39m# Calculate accuracy using cross_val_score\u001b[39;00m\n\u001b[1;32m----> 6\u001b[0m accuracy_scores \u001b[39m=\u001b[39m cross_val_score(complete_pipeline, X, y, cv\u001b[39m=\u001b[39;49mskf, scoring\u001b[39m=\u001b[39;49m\u001b[39m'\u001b[39;49m\u001b[39maccuracy\u001b[39;49m\u001b[39m'\u001b[39;49m)\n\u001b[0;32m      8\u001b[0m \u001b[39m# Calculate and print mean accuracy across all folds\u001b[39;00m\n\u001b[0;32m      9\u001b[0m \u001b[39m#mean_accuracy = accuracy_scores.mean()\u001b[39;00m\n\u001b[0;32m     10\u001b[0m \u001b[39m#print(f'Mean Accuracy: {mean_accuracy:.4f}')\u001b[39;00m\n",
      "File \u001b[1;32mc:\\Users\\dessa\\anaconda3\\envs\\Master\\lib\\site-packages\\sklearn\\model_selection\\_validation.py:562\u001b[0m, in \u001b[0;36mcross_val_score\u001b[1;34m(estimator, X, y, groups, scoring, cv, n_jobs, verbose, fit_params, pre_dispatch, error_score)\u001b[0m\n\u001b[0;32m    559\u001b[0m \u001b[39m# To ensure multimetric format is not supported\u001b[39;00m\n\u001b[0;32m    560\u001b[0m scorer \u001b[39m=\u001b[39m check_scoring(estimator, scoring\u001b[39m=\u001b[39mscoring)\n\u001b[1;32m--> 562\u001b[0m cv_results \u001b[39m=\u001b[39m cross_validate(\n\u001b[0;32m    563\u001b[0m     estimator\u001b[39m=\u001b[39;49mestimator,\n\u001b[0;32m    564\u001b[0m     X\u001b[39m=\u001b[39;49mX,\n\u001b[0;32m    565\u001b[0m     y\u001b[39m=\u001b[39;49my,\n\u001b[0;32m    566\u001b[0m     groups\u001b[39m=\u001b[39;49mgroups,\n\u001b[0;32m    567\u001b[0m     scoring\u001b[39m=\u001b[39;49m{\u001b[39m\"\u001b[39;49m\u001b[39mscore\u001b[39;49m\u001b[39m\"\u001b[39;49m: scorer},\n\u001b[0;32m    568\u001b[0m     cv\u001b[39m=\u001b[39;49mcv,\n\u001b[0;32m    569\u001b[0m     n_jobs\u001b[39m=\u001b[39;49mn_jobs,\n\u001b[0;32m    570\u001b[0m     verbose\u001b[39m=\u001b[39;49mverbose,\n\u001b[0;32m    571\u001b[0m     fit_params\u001b[39m=\u001b[39;49mfit_params,\n\u001b[0;32m    572\u001b[0m     pre_dispatch\u001b[39m=\u001b[39;49mpre_dispatch,\n\u001b[0;32m    573\u001b[0m     error_score\u001b[39m=\u001b[39;49merror_score,\n\u001b[0;32m    574\u001b[0m )\n\u001b[0;32m    575\u001b[0m \u001b[39mreturn\u001b[39;00m cv_results[\u001b[39m\"\u001b[39m\u001b[39mtest_score\u001b[39m\u001b[39m\"\u001b[39m]\n",
      "File \u001b[1;32mc:\\Users\\dessa\\anaconda3\\envs\\Master\\lib\\site-packages\\sklearn\\utils\\_param_validation.py:211\u001b[0m, in \u001b[0;36mvalidate_params.<locals>.decorator.<locals>.wrapper\u001b[1;34m(*args, **kwargs)\u001b[0m\n\u001b[0;32m    205\u001b[0m \u001b[39mtry\u001b[39;00m:\n\u001b[0;32m    206\u001b[0m     \u001b[39mwith\u001b[39;00m config_context(\n\u001b[0;32m    207\u001b[0m         skip_parameter_validation\u001b[39m=\u001b[39m(\n\u001b[0;32m    208\u001b[0m             prefer_skip_nested_validation \u001b[39mor\u001b[39;00m global_skip_validation\n\u001b[0;32m    209\u001b[0m         )\n\u001b[0;32m    210\u001b[0m     ):\n\u001b[1;32m--> 211\u001b[0m         \u001b[39mreturn\u001b[39;00m func(\u001b[39m*\u001b[39margs, \u001b[39m*\u001b[39m\u001b[39m*\u001b[39mkwargs)\n\u001b[0;32m    212\u001b[0m \u001b[39mexcept\u001b[39;00m InvalidParameterError \u001b[39mas\u001b[39;00m e:\n\u001b[0;32m    213\u001b[0m     \u001b[39m# When the function is just a wrapper around an estimator, we allow\u001b[39;00m\n\u001b[0;32m    214\u001b[0m     \u001b[39m# the function to delegate validation to the estimator, but we replace\u001b[39;00m\n\u001b[0;32m    215\u001b[0m     \u001b[39m# the name of the estimator by the name of the function in the error\u001b[39;00m\n\u001b[0;32m    216\u001b[0m     \u001b[39m# message to avoid confusion.\u001b[39;00m\n\u001b[0;32m    217\u001b[0m     msg \u001b[39m=\u001b[39m re\u001b[39m.\u001b[39msub(\n\u001b[0;32m    218\u001b[0m         \u001b[39mr\u001b[39m\u001b[39m\"\u001b[39m\u001b[39mparameter of \u001b[39m\u001b[39m\\\u001b[39m\u001b[39mw+ must be\u001b[39m\u001b[39m\"\u001b[39m,\n\u001b[0;32m    219\u001b[0m         \u001b[39mf\u001b[39m\u001b[39m\"\u001b[39m\u001b[39mparameter of \u001b[39m\u001b[39m{\u001b[39;00mfunc\u001b[39m.\u001b[39m\u001b[39m__qualname__\u001b[39m\u001b[39m}\u001b[39;00m\u001b[39m must be\u001b[39m\u001b[39m\"\u001b[39m,\n\u001b[0;32m    220\u001b[0m         \u001b[39mstr\u001b[39m(e),\n\u001b[0;32m    221\u001b[0m     )\n",
      "File \u001b[1;32mc:\\Users\\dessa\\anaconda3\\envs\\Master\\lib\\site-packages\\sklearn\\model_selection\\_validation.py:328\u001b[0m, in \u001b[0;36mcross_validate\u001b[1;34m(estimator, X, y, groups, scoring, cv, n_jobs, verbose, fit_params, pre_dispatch, return_train_score, return_estimator, return_indices, error_score)\u001b[0m\n\u001b[0;32m    308\u001b[0m parallel \u001b[39m=\u001b[39m Parallel(n_jobs\u001b[39m=\u001b[39mn_jobs, verbose\u001b[39m=\u001b[39mverbose, pre_dispatch\u001b[39m=\u001b[39mpre_dispatch)\n\u001b[0;32m    309\u001b[0m results \u001b[39m=\u001b[39m parallel(\n\u001b[0;32m    310\u001b[0m     delayed(_fit_and_score)(\n\u001b[0;32m    311\u001b[0m         clone(estimator),\n\u001b[1;32m   (...)\u001b[0m\n\u001b[0;32m    325\u001b[0m     \u001b[39mfor\u001b[39;00m train, test \u001b[39min\u001b[39;00m indices\n\u001b[0;32m    326\u001b[0m )\n\u001b[1;32m--> 328\u001b[0m _warn_or_raise_about_fit_failures(results, error_score)\n\u001b[0;32m    330\u001b[0m \u001b[39m# For callable scoring, the return type is only know after calling. If the\u001b[39;00m\n\u001b[0;32m    331\u001b[0m \u001b[39m# return type is a dictionary, the error scores can now be inserted with\u001b[39;00m\n\u001b[0;32m    332\u001b[0m \u001b[39m# the correct key.\u001b[39;00m\n\u001b[0;32m    333\u001b[0m \u001b[39mif\u001b[39;00m \u001b[39mcallable\u001b[39m(scoring):\n",
      "File \u001b[1;32mc:\\Users\\dessa\\anaconda3\\envs\\Master\\lib\\site-packages\\sklearn\\model_selection\\_validation.py:414\u001b[0m, in \u001b[0;36m_warn_or_raise_about_fit_failures\u001b[1;34m(results, error_score)\u001b[0m\n\u001b[0;32m    407\u001b[0m \u001b[39mif\u001b[39;00m num_failed_fits \u001b[39m==\u001b[39m num_fits:\n\u001b[0;32m    408\u001b[0m     all_fits_failed_message \u001b[39m=\u001b[39m (\n\u001b[0;32m    409\u001b[0m         \u001b[39mf\u001b[39m\u001b[39m\"\u001b[39m\u001b[39m\\n\u001b[39;00m\u001b[39mAll the \u001b[39m\u001b[39m{\u001b[39;00mnum_fits\u001b[39m}\u001b[39;00m\u001b[39m fits failed.\u001b[39m\u001b[39m\\n\u001b[39;00m\u001b[39m\"\u001b[39m\n\u001b[0;32m    410\u001b[0m         \u001b[39m\"\u001b[39m\u001b[39mIt is very likely that your model is misconfigured.\u001b[39m\u001b[39m\\n\u001b[39;00m\u001b[39m\"\u001b[39m\n\u001b[0;32m    411\u001b[0m         \u001b[39m\"\u001b[39m\u001b[39mYou can try to debug the error by setting error_score=\u001b[39m\u001b[39m'\u001b[39m\u001b[39mraise\u001b[39m\u001b[39m'\u001b[39m\u001b[39m.\u001b[39m\u001b[39m\\n\u001b[39;00m\u001b[39m\\n\u001b[39;00m\u001b[39m\"\u001b[39m\n\u001b[0;32m    412\u001b[0m         \u001b[39mf\u001b[39m\u001b[39m\"\u001b[39m\u001b[39mBelow are more details about the failures:\u001b[39m\u001b[39m\\n\u001b[39;00m\u001b[39m{\u001b[39;00mfit_errors_summary\u001b[39m}\u001b[39;00m\u001b[39m\"\u001b[39m\n\u001b[0;32m    413\u001b[0m     )\n\u001b[1;32m--> 414\u001b[0m     \u001b[39mraise\u001b[39;00m \u001b[39mValueError\u001b[39;00m(all_fits_failed_message)\n\u001b[0;32m    416\u001b[0m \u001b[39melse\u001b[39;00m:\n\u001b[0;32m    417\u001b[0m     some_fits_failed_message \u001b[39m=\u001b[39m (\n\u001b[0;32m    418\u001b[0m         \u001b[39mf\u001b[39m\u001b[39m\"\u001b[39m\u001b[39m\\n\u001b[39;00m\u001b[39m{\u001b[39;00mnum_failed_fits\u001b[39m}\u001b[39;00m\u001b[39m fits failed out of a total of \u001b[39m\u001b[39m{\u001b[39;00mnum_fits\u001b[39m}\u001b[39;00m\u001b[39m.\u001b[39m\u001b[39m\\n\u001b[39;00m\u001b[39m\"\u001b[39m\n\u001b[0;32m    419\u001b[0m         \u001b[39m\"\u001b[39m\u001b[39mThe score on these train-test partitions for these parameters\u001b[39m\u001b[39m\"\u001b[39m\n\u001b[1;32m   (...)\u001b[0m\n\u001b[0;32m    423\u001b[0m         \u001b[39mf\u001b[39m\u001b[39m\"\u001b[39m\u001b[39mBelow are more details about the failures:\u001b[39m\u001b[39m\\n\u001b[39;00m\u001b[39m{\u001b[39;00mfit_errors_summary\u001b[39m}\u001b[39;00m\u001b[39m\"\u001b[39m\n\u001b[0;32m    424\u001b[0m     )\n",
      "\u001b[1;31mValueError\u001b[0m: \nAll the 10 fits failed.\nIt is very likely that your model is misconfigured.\nYou can try to debug the error by setting error_score='raise'.\n\nBelow are more details about the failures:\n--------------------------------------------------------------------------------\n10 fits failed with the following error:\nTraceback (most recent call last):\n  File \"c:\\Users\\dessa\\anaconda3\\envs\\Master\\lib\\site-packages\\sklearn\\model_selection\\_validation.py\", line 732, in _fit_and_score\n    estimator.fit(X_train, y_train, **fit_params)\n  File \"c:\\Users\\dessa\\anaconda3\\envs\\Master\\lib\\site-packages\\sklearn\\base.py\", line 1151, in wrapper\n    return fit_method(estimator, *args, **kwargs)\n  File \"c:\\Users\\dessa\\anaconda3\\envs\\Master\\lib\\site-packages\\sklearn\\pipeline.py\", line 416, in fit\n    Xt = self._fit(X, y, **fit_params_steps)\n  File \"c:\\Users\\dessa\\anaconda3\\envs\\Master\\lib\\site-packages\\sklearn\\pipeline.py\", line 370, in _fit\n    X, fitted_transformer = fit_transform_one_cached(\n  File \"c:\\Users\\dessa\\anaconda3\\envs\\Master\\lib\\site-packages\\joblib\\memory.py\", line 353, in __call__\n    return self.func(*args, **kwargs)\n  File \"c:\\Users\\dessa\\anaconda3\\envs\\Master\\lib\\site-packages\\sklearn\\pipeline.py\", line 950, in _fit_transform_one\n    res = transformer.fit_transform(X, y, **fit_params)\n  File \"c:\\Users\\dessa\\anaconda3\\envs\\Master\\lib\\site-packages\\sklearn\\utils\\_set_output.py\", line 140, in wrapped\n    data_to_wrap = f(self, X, *args, **kwargs)\n  File \"c:\\Users\\dessa\\anaconda3\\envs\\Master\\lib\\site-packages\\sklearn\\base.py\", line 918, in fit_transform\n    return self.fit(X, y, **fit_params).transform(X)\n  File \"c:\\Users\\dessa\\anaconda3\\envs\\Master\\lib\\site-packages\\sklearn\\utils\\_set_output.py\", line 140, in wrapped\n    data_to_wrap = f(self, X, *args, **kwargs)\n  File \"c:\\Users\\dessa\\anaconda3\\envs\\Master\\lib\\site-packages\\sklearn\\preprocessing\\_function_transformer.py\", line 240, in transform\n    return self._transform(X, func=self.func, kw_args=self.kw_args)\n  File \"c:\\Users\\dessa\\anaconda3\\envs\\Master\\lib\\site-packages\\sklearn\\preprocessing\\_function_transformer.py\", line 312, in _transform\n    return func(X, **(kw_args if kw_args else {}))\n  File \"C:\\Users\\dessa\\AppData\\Local\\Temp\\ipykernel_364\\580279345.py\", line 4, in bag_of_words\n    bag_of_words = binary_representation.fit_transform(texts.tolist)\n  File \"c:\\Users\\dessa\\anaconda3\\envs\\Master\\lib\\site-packages\\sklearn\\base.py\", line 1151, in wrapper\n    return fit_method(estimator, *args, **kwargs)\n  File \"c:\\Users\\dessa\\anaconda3\\envs\\Master\\lib\\site-packages\\sklearn\\feature_extraction\\text.py\", line 1383, in fit_transform\n    vocabulary, X = self._count_vocab(raw_documents, self.fixed_vocabulary_)\n  File \"c:\\Users\\dessa\\anaconda3\\envs\\Master\\lib\\site-packages\\sklearn\\feature_extraction\\text.py\", line 1268, in _count_vocab\n    for doc in raw_documents:\nTypeError: 'method' object is not iterable\n"
     ]
    }
   ],
   "source": [
    "# k-fold cross-validation\n",
    "k = 10\n",
    "skf = StratifiedKFold(n_splits=k, shuffle=True, random_state=42)\n",
    "\n",
    "# Calculate accuracy using cross_val_score\n",
    "accuracy_scores = cross_val_score(complete_pipeline, X, y, cv=skf, scoring='accuracy')\n",
    "\n",
    "# Calculate and print mean accuracy across all folds\n",
    "# mean_accuracy = accuracy_scores.mean()\n",
    "# print(f'Mean Accuracy: {mean_accuracy:.4f}')"
   ]
  },
  {
   "cell_type": "code",
   "execution_count": null,
   "metadata": {},
   "outputs": [],
   "source": [
    "# Apply initial steps on the whole dataset\n",
    "data_preprocessed = pipeline.named_steps['preprocessor'].transform(data)"
   ]
  },
  {
   "cell_type": "markdown",
   "metadata": {},
   "source": [
    "### Pipeline KNN\n",
    "\n",
    "Article of A. Lamkanfi (Comparing...)"
   ]
  },
  {
   "cell_type": "code",
   "execution_count": null,
   "metadata": {},
   "outputs": [],
   "source": [
    "# data_preprocessed = data_preprocess_pipeline.transform(bug_reports)"
   ]
  },
  {
   "cell_type": "code",
   "execution_count": null,
   "metadata": {},
   "outputs": [],
   "source": [
    "# Embedding\n",
    "# Initialize the TF-IDF vectorizer\n",
    "tfidf_vectorizer = TfidfVectorizer()\n",
    "\n",
    "# Create a KNN classifier\n",
    "knn_classifier = KNeighborsClassifier(n_neighbors=5)"
   ]
  },
  {
   "cell_type": "code",
   "execution_count": null,
   "metadata": {},
   "outputs": [
    {
     "data": {
      "text/plain": [
       "Index(['_id', 'bug_id', 'description', 'bug_severity', 'binary_severity',\n",
       "       'preprocess_desc'],\n",
       "      dtype='object')"
      ]
     },
     "execution_count": 13,
     "metadata": {},
     "output_type": "execute_result"
    }
   ],
   "source": [
    "data_preprocessed.columns"
   ]
  },
  {
   "cell_type": "code",
   "execution_count": null,
   "metadata": {},
   "outputs": [],
   "source": [
    "#k-fold cross-validation\n",
    "k = 10\n",
    "skf = StratifiedKFold(n_splits=k, shuffle=True, random_state=42)\n",
    "\n",
    "X = data_preprocessed['preprocess_desc']\n",
    "y = data_preprocessed['binary_severity'].values"
   ]
  },
  {
   "cell_type": "code",
   "execution_count": null,
   "metadata": {},
   "outputs": [
    {
     "name": "stdout",
     "output_type": "stream",
     "text": [
      "Fold 1 - ROC AUC: 0.5014\n",
      "Fold 1 - Train Accuracy: 0.7655, Test Accuracy: 0.7580\n",
      "Fold 2 - ROC AUC: 0.4995\n",
      "Fold 2 - Train Accuracy: 0.7649, Test Accuracy: 0.7571\n",
      "Fold 3 - ROC AUC: 0.5056\n",
      "Fold 3 - Train Accuracy: 0.7641, Test Accuracy: 0.7631\n",
      "Fold 4 - ROC AUC: 0.5031\n",
      "Fold 4 - Train Accuracy: 0.7642, Test Accuracy: 0.7614\n",
      "Fold 5 - ROC AUC: 0.4988\n",
      "Fold 5 - Train Accuracy: 0.7648, Test Accuracy: 0.7587\n",
      "Fold 6 - ROC AUC: 0.5001\n",
      "Fold 6 - Train Accuracy: 0.7654, Test Accuracy: 0.7578\n",
      "Fold 7 - ROC AUC: 0.5031\n",
      "Fold 7 - Train Accuracy: 0.7645, Test Accuracy: 0.7605\n",
      "Fold 8 - ROC AUC: 0.5094\n",
      "Fold 8 - Train Accuracy: 0.7643, Test Accuracy: 0.7622\n",
      "Fold 9 - ROC AUC: 0.5050\n",
      "Fold 9 - Train Accuracy: 0.7643, Test Accuracy: 0.7614\n",
      "Fold 10 - ROC AUC: 0.5088\n",
      "Fold 10 - Train Accuracy: 0.7644, Test Accuracy: 0.7614\n",
      "Mean Train Accuracy: 0.7646, Mean Test Accuracy: 0.7602, Mean AUC: 0.5035\n"
     ]
    }
   ],
   "source": [
    "train_accuracies = []\n",
    "test_accuracies = []\n",
    "aucs = []\n",
    "\n",
    "for fold, (train_indices, test_indices) in enumerate(skf.split(X, y)):\n",
    "    X_train, X_test = X.iloc[train_indices], X.iloc[test_indices]\n",
    "    y_train, y_test = y[train_indices], y[test_indices]\n",
    "\n",
    "    # Fit and transform TF-IDF vectors\n",
    "    X_train_tfidf = tfidf_vectorizer.fit_transform(X_train)\n",
    "    X_test_tfidf = tfidf_vectorizer.transform(X_test)\n",
    "\n",
    "    knn_classifier.fit(X_train_tfidf, y_train)\n",
    "    y_pred = knn_classifier.predict(X_test_tfidf)\n",
    "\n",
    "    # Calculate and store test accuracy\n",
    "    test_accuracy = accuracy_score(y_test, y_pred)\n",
    "    test_accuracies.append(test_accuracy)\n",
    "    \n",
    "    # Calculate ROC curve and AUC\n",
    "    fpr, tpr, thresholds = roc_curve(y_test, y_pred)\n",
    "    roc_auc = auc(fpr, tpr)\n",
    "    aucs.append(roc_auc)\n",
    "    print(f'Fold {fold + 1} - ROC AUC: {roc_auc:.4f}')\n",
    "\n",
    "    # Predict on the training data and calculate train accuracy\n",
    "    y_train_pred = knn_classifier.predict(X_train_tfidf)\n",
    "    train_accuracy = accuracy_score(y_train, y_train_pred)\n",
    "    train_accuracies.append(train_accuracy)\n",
    "\n",
    "    print(f'Fold {fold + 1} - Train Accuracy: {train_accuracy:.4f}, Test Accuracy: {test_accuracy:.4f}')\n",
    "\n",
    "mean_train_accuracy = sum(train_accuracies) / k\n",
    "mean_test_accuracy = sum(test_accuracies) / k\n",
    "mean_aucs = sum(aucs) / k\n",
    "print(f'Mean Train Accuracy: {mean_train_accuracy:.4f}, Mean Test Accuracy: {mean_test_accuracy:.4f}, Mean AUC: {mean_aucs:.4f}')"
   ]
  },
  {
   "cell_type": "markdown",
   "metadata": {},
   "source": [
    "### Pipeline SVM\n",
    "\n",
    "Article of A. Lamkanfi (Comparing...)"
   ]
  },
  {
   "cell_type": "code",
   "execution_count": null,
   "metadata": {},
   "outputs": [],
   "source": [
    "# Initialize the TF-IDF vectorizer\n",
    "tfidf_vectorizer = TfidfVectorizer()\n",
    "\n",
    "# Create an SVM classifier\n",
    "svm_classifier = SVC(C=100.0, kernel='rbf', gamma=0.001, probability=True) # how set cost=100.0?\n",
    "\n",
    "# k-fold cross-validation\n",
    "k = 10\n",
    "skf = StratifiedKFold(n_splits=k, shuffle=True, random_state=42)\n",
    "\n",
    "X = data_preprocessed['preprocess_desc']\n",
    "y = data_preprocessed['binary_severity'].values"
   ]
  },
  {
   "cell_type": "code",
   "execution_count": null,
   "metadata": {},
   "outputs": [
    {
     "name": "stdout",
     "output_type": "stream",
     "text": [
      "Fold 1 - ROC AUC: 0.7914\n",
      "Fold 1 - Train Accuracy: 0.7705, Test Accuracy: 0.7714\n",
      "Fold 2 - ROC AUC: 0.7779\n",
      "Fold 2 - Train Accuracy: 0.7727, Test Accuracy: 0.7625\n",
      "Fold 3 - ROC AUC: 0.7896\n",
      "Fold 3 - Train Accuracy: 0.7706, Test Accuracy: 0.7649\n",
      "Fold 4 - ROC AUC: 0.8102\n",
      "Fold 4 - Train Accuracy: 0.7705, Test Accuracy: 0.7703\n",
      "Fold 5 - ROC AUC: 0.8145\n",
      "Fold 5 - Train Accuracy: 0.7703, Test Accuracy: 0.7658\n",
      "Fold 6 - ROC AUC: 0.8014\n",
      "Fold 6 - Train Accuracy: 0.7715, Test Accuracy: 0.7685\n",
      "Fold 7 - ROC AUC: 0.7894\n",
      "Fold 7 - Train Accuracy: 0.7709, Test Accuracy: 0.7658\n",
      "Fold 8 - ROC AUC: 0.7957\n",
      "Fold 8 - Train Accuracy: 0.7728, Test Accuracy: 0.7631\n",
      "Fold 9 - ROC AUC: 0.7996\n",
      "Fold 9 - Train Accuracy: 0.7727, Test Accuracy: 0.7614\n",
      "Fold 10 - ROC AUC: 0.7802\n",
      "Fold 10 - Train Accuracy: 0.7703, Test Accuracy: 0.7640\n",
      "Mean Train Accuracy: 0.7713, Mean Test Accuracy: 0.7658, Mean AUC: 0.7950\n"
     ]
    }
   ],
   "source": [
    "train_accuracies = []\n",
    "test_accuracies = []\n",
    "aucs = []\n",
    "\n",
    "for fold, (train_indices, test_indices) in enumerate(skf.split(X, y)):\n",
    "    X_train, X_test = X.iloc[train_indices], X.iloc[test_indices]\n",
    "    y_train, y_test = y[train_indices], y[test_indices]\n",
    "\n",
    "    # Fit and transform TF-IDF vectors\n",
    "    X_train_tfidf = tfidf_vectorizer.fit_transform(X_train)\n",
    "    X_test_tfidf = tfidf_vectorizer.transform(X_test)\n",
    "\n",
    "    svm_classifier.fit(X_train_tfidf, y_train)\n",
    "    y_pred = svm_classifier.predict(X_test_tfidf)\n",
    "\n",
    "    # Calculate and store test accuracy\n",
    "    test_accuracy = accuracy_score(y_test, y_pred)\n",
    "    test_accuracies.append(test_accuracy)\n",
    "    \n",
    "    # Calculate ROC curve and AUC\n",
    "    fpr, tpr, thresholds = roc_curve(y_test, svm_classifier.predict_proba(X_test_tfidf)[:, 1])\n",
    "    roc_auc = auc(fpr, tpr)\n",
    "    aucs.append(roc_auc)\n",
    "    print(f'Fold {fold + 1} - ROC AUC: {roc_auc:.4f}')\n",
    "\n",
    "    # Predict on the training data and calculate train accuracy\n",
    "    y_train_pred = svm_classifier.predict(X_train_tfidf)\n",
    "    train_accuracy = accuracy_score(y_train, y_train_pred)\n",
    "    train_accuracies.append(train_accuracy)\n",
    "\n",
    "    print(f'Fold {fold + 1} - Train Accuracy: {train_accuracy:.4f}, Test Accuracy: {test_accuracy:.4f}')\n",
    "\n",
    "mean_train_accuracy = sum(train_accuracies) / k\n",
    "mean_test_accuracy = sum(test_accuracies) / k\n",
    "mean_aucs = sum(aucs) / k\n",
    "print(f'Mean Train Accuracy: {mean_train_accuracy:.4f}, Mean Test Accuracy: {mean_test_accuracy:.4f}, Mean AUC: {mean_aucs:.4f}')"
   ]
  },
  {
   "cell_type": "markdown",
   "metadata": {},
   "source": [
    "# Production"
   ]
  },
  {
   "cell_type": "code",
   "execution_count": null,
   "metadata": {},
   "outputs": [],
   "source": [
    "# Create the pipeline for production\n",
    "production_pipeline = Pipeline([\n",
    "    ('bug_severity_filter', FunctionTransformer(filter_bug_severity, kw_args={'col': 'bug_severity'})),\n",
    "    ('binary_feature', FunctionTransformer(create_binary_feature, kw_args={'col': 'bug_severity'})),\n",
    "    ('preprocessing', TextPreprocessor()),\n",
    "    ('embedding', Word2VecEmbedding()),\n",
    "    ('classifier', SVC())\n",
    "])\n",
    "\n",
    "# Fit the production pipeline on the entire dataset\n",
    "production_pipeline.fit(X_text, y)  # Assuming X_text and y are already defined\n",
    "\n",
    "# Make predictions on new, unseen data\n",
    "new_data = ['New sentence 1.', 'New sentence 2.', ...]\n",
    "predictions = production_pipeline.predict(new_data)\n",
    "print(predictions)\n",
    "# In this production pipeline, I've removed the data splitting step and fitted the pipeline on the entire dataset.\n",
    "# Then, I can use this pipeline to make predictions on new, unseen data by calling the predict method with the new data. This is a common approach in production when you're deploying a trained model for making predictions on real-world data.\n",
    "\n",
    "\n",
    "\n",
    "\n",
    "\n"
   ]
  }
 ],
 "metadata": {
  "kernelspec": {
   "display_name": "Master",
   "language": "python",
   "name": "python3"
  },
  "language_info": {
   "codemirror_mode": {
    "name": "ipython",
    "version": 3
   },
   "file_extension": ".py",
   "mimetype": "text/x-python",
   "name": "python",
   "nbconvert_exporter": "python",
   "pygments_lexer": "ipython3",
   "version": "3.9.18"
  },
  "orig_nbformat": 4
 },
 "nbformat": 4,
 "nbformat_minor": 2
}
