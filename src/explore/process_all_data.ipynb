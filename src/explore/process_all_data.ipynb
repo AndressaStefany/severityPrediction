{
 "cells": [
  {
   "cell_type": "markdown",
   "metadata": {},
   "source": [
    "The data from the \"eclipse_clear.json\" file undergoes a comprehensive preprocessing process that includes the following steps:\n",
    "\n",
    "1. Filtering: This step involves the removal of entries associated with both normal and X severities, ensuring that the data focuses exclusively on specific severity levels of interest.\n",
    "2. Binary Severity Creation: A new column, 'binary_severity,' is created, enabling the classification of entries into a binary severity category for streamlined analysis and interpretation.\n",
    "3. Bag-of-Words Preprocessing: The data is further processed using the bag-of-words technique, facilitating the extraction of key features and patterns from the text data.\n",
    "4. Stemming: Additionally, stemming techniques are applied to the preprocessed text, reducing words to their root form to enhance the effectiveness of subsequent natural language processing tasks."
   ]
  },
  {
   "cell_type": "code",
   "execution_count": 1,
   "metadata": {},
   "outputs": [],
   "source": [
    "from pathlib import Path\n",
    "import pandas as pd\n",
    "\n",
    "from string import Template "
   ]
  },
  {
   "cell_type": "code",
   "execution_count": 2,
   "metadata": {},
   "outputs": [
    {
     "name": "stderr",
     "output_type": "stream",
     "text": [
      "c:\\Users\\dessa\\anaconda3\\envs\\Master\\lib\\site-packages\\tqdm\\auto.py:21: TqdmWarning: IProgress not found. Please update jupyter and ipywidgets. See https://ipywidgets.readthedocs.io/en/stable/user_install.html\n",
      "  from .autonotebook import tqdm as notebook_tqdm\n"
     ]
    }
   ],
   "source": [
    "import sys\n",
    "\n",
    "sys.path.append('../baseline/')\n",
    "from baseline_functions import filter_bug_severity, create_binary_feature, preprocess_text"
   ]
  },
  {
   "cell_type": "code",
   "execution_count": 3,
   "metadata": {},
   "outputs": [],
   "source": [
    "data_path = Path('../../data/eclipse_clear.json')"
   ]
  },
  {
   "cell_type": "code",
   "execution_count": 4,
   "metadata": {},
   "outputs": [
    {
     "data": {
      "text/html": [
       "<div>\n",
       "<style scoped>\n",
       "    .dataframe tbody tr th:only-of-type {\n",
       "        vertical-align: middle;\n",
       "    }\n",
       "\n",
       "    .dataframe tbody tr th {\n",
       "        vertical-align: top;\n",
       "    }\n",
       "\n",
       "    .dataframe thead th {\n",
       "        text-align: right;\n",
       "    }\n",
       "</style>\n",
       "<table border=\"1\" class=\"dataframe\">\n",
       "  <thead>\n",
       "    <tr style=\"text-align: right;\">\n",
       "      <th></th>\n",
       "      <th>_id</th>\n",
       "      <th>bug_id</th>\n",
       "      <th>product</th>\n",
       "      <th>description</th>\n",
       "      <th>bug_severity</th>\n",
       "      <th>dup_id</th>\n",
       "      <th>short_desc</th>\n",
       "      <th>priority</th>\n",
       "      <th>version</th>\n",
       "      <th>component</th>\n",
       "      <th>delta_ts</th>\n",
       "      <th>bug_status</th>\n",
       "      <th>creation_ts</th>\n",
       "      <th>resolution</th>\n",
       "    </tr>\n",
       "  </thead>\n",
       "  <tbody>\n",
       "    <tr>\n",
       "      <th>0</th>\n",
       "      <td>{'$oid': '52e9b44754dc1c25ebdb1ee5'}</td>\n",
       "      <td>3</td>\n",
       "      <td>Platform</td>\n",
       "      <td>KM (10/2/2001 5:55:18 PM)\\n\\tThis PR about the...</td>\n",
       "      <td>normal</td>\n",
       "      <td>[]</td>\n",
       "      <td>Sync does not indicate deletion (1GIEN83)</td>\n",
       "      <td>P5</td>\n",
       "      <td>2.0</td>\n",
       "      <td>Team</td>\n",
       "      <td>2010-05-07 10:28:53 -0400</td>\n",
       "      <td>RESOLVED</td>\n",
       "      <td>2001-10-10 21:34:00 -0400</td>\n",
       "      <td>FIXED</td>\n",
       "    </tr>\n",
       "    <tr>\n",
       "      <th>1</th>\n",
       "      <td>{'$oid': '52e9b44754dc1c25ebdb1ee6'}</td>\n",
       "      <td>1</td>\n",
       "      <td>Platform</td>\n",
       "      <td>- Setup a project that contains a *.gif resour...</td>\n",
       "      <td>normal</td>\n",
       "      <td>[]</td>\n",
       "      <td>Usability issue with external editors (1GE6IRL)</td>\n",
       "      <td>P3</td>\n",
       "      <td>2.0</td>\n",
       "      <td>Team</td>\n",
       "      <td>2012-02-09 15:57:47 -0500</td>\n",
       "      <td>CLOSED</td>\n",
       "      <td>2001-10-10 21:34:00 -0400</td>\n",
       "      <td>FIXED</td>\n",
       "    </tr>\n",
       "  </tbody>\n",
       "</table>\n",
       "</div>"
      ],
      "text/plain": [
       "                                    _id  bug_id   product  \\\n",
       "0  {'$oid': '52e9b44754dc1c25ebdb1ee5'}       3  Platform   \n",
       "1  {'$oid': '52e9b44754dc1c25ebdb1ee6'}       1  Platform   \n",
       "\n",
       "                                         description bug_severity dup_id  \\\n",
       "0  KM (10/2/2001 5:55:18 PM)\\n\\tThis PR about the...       normal     []   \n",
       "1  - Setup a project that contains a *.gif resour...       normal     []   \n",
       "\n",
       "                                        short_desc priority version component  \\\n",
       "0        Sync does not indicate deletion (1GIEN83)       P5     2.0      Team   \n",
       "1  Usability issue with external editors (1GE6IRL)       P3     2.0      Team   \n",
       "\n",
       "                    delta_ts bug_status                creation_ts resolution  \n",
       "0  2010-05-07 10:28:53 -0400   RESOLVED  2001-10-10 21:34:00 -0400      FIXED  \n",
       "1  2012-02-09 15:57:47 -0500     CLOSED  2001-10-10 21:34:00 -0400      FIXED  "
      ]
     },
     "execution_count": 4,
     "metadata": {},
     "output_type": "execute_result"
    }
   ],
   "source": [
    "df_json = pd.read_json(data_path, lines=True)\n",
    "df_json.head(2)"
   ]
  },
  {
   "cell_type": "code",
   "execution_count": 5,
   "metadata": {},
   "outputs": [],
   "source": [
    "df_filtered = filter_bug_severity(df_json, severity_col='bug_severity')\n",
    "df_binary = create_binary_feature(df_filtered, severity_col ='bug_severity')"
   ]
  },
  {
   "cell_type": "code",
   "execution_count": 6,
   "metadata": {},
   "outputs": [
    {
     "data": {
      "text/html": [
       "<div>\n",
       "<style scoped>\n",
       "    .dataframe tbody tr th:only-of-type {\n",
       "        vertical-align: middle;\n",
       "    }\n",
       "\n",
       "    .dataframe tbody tr th {\n",
       "        vertical-align: top;\n",
       "    }\n",
       "\n",
       "    .dataframe thead th {\n",
       "        text-align: right;\n",
       "    }\n",
       "</style>\n",
       "<table border=\"1\" class=\"dataframe\">\n",
       "  <thead>\n",
       "    <tr style=\"text-align: right;\">\n",
       "      <th></th>\n",
       "      <th>bug_id</th>\n",
       "      <th>description</th>\n",
       "      <th>bug_severity</th>\n",
       "      <th>binary_severity</th>\n",
       "    </tr>\n",
       "  </thead>\n",
       "  <tbody>\n",
       "    <tr>\n",
       "      <th>44</th>\n",
       "      <td>43</td>\n",
       "      <td>I have a project (Junk) that has been released...</td>\n",
       "      <td>major</td>\n",
       "      <td>1</td>\n",
       "    </tr>\n",
       "    <tr>\n",
       "      <th>162</th>\n",
       "      <td>163</td>\n",
       "      <td>AK (6/12/01 4:55:24 PM)\\n\\ti got this exceptio...</td>\n",
       "      <td>critical</td>\n",
       "      <td>1</td>\n",
       "    </tr>\n",
       "  </tbody>\n",
       "</table>\n",
       "</div>"
      ],
      "text/plain": [
       "     bug_id                                        description bug_severity  \\\n",
       "44       43  I have a project (Junk) that has been released...        major   \n",
       "162     163  AK (6/12/01 4:55:24 PM)\\n\\ti got this exceptio...     critical   \n",
       "\n",
       "     binary_severity  \n",
       "44                 1  \n",
       "162                1  "
      ]
     },
     "execution_count": 6,
     "metadata": {},
     "output_type": "execute_result"
    }
   ],
   "source": [
    "df_binary.head(2)"
   ]
  },
  {
   "cell_type": "code",
   "execution_count": 7,
   "metadata": {},
   "outputs": [],
   "source": [
    "df_preprocess = preprocess_text(df_binary)"
   ]
  },
  {
   "cell_type": "code",
   "execution_count": 8,
   "metadata": {},
   "outputs": [
    {
     "data": {
      "text/plain": [
       "(72192, 5)"
      ]
     },
     "execution_count": 8,
     "metadata": {},
     "output_type": "execute_result"
    }
   ],
   "source": [
    "df_preprocess.shape"
   ]
  },
  {
   "cell_type": "code",
   "execution_count": 9,
   "metadata": {},
   "outputs": [
    {
     "data": {
      "text/html": [
       "<div>\n",
       "<style scoped>\n",
       "    .dataframe tbody tr th:only-of-type {\n",
       "        vertical-align: middle;\n",
       "    }\n",
       "\n",
       "    .dataframe tbody tr th {\n",
       "        vertical-align: top;\n",
       "    }\n",
       "\n",
       "    .dataframe thead th {\n",
       "        text-align: right;\n",
       "    }\n",
       "</style>\n",
       "<table border=\"1\" class=\"dataframe\">\n",
       "  <thead>\n",
       "    <tr style=\"text-align: right;\">\n",
       "      <th></th>\n",
       "      <th>bug_id</th>\n",
       "      <th>bug_severity</th>\n",
       "      <th>binary_severity</th>\n",
       "      <th>description</th>\n",
       "      <th>stemmed_description</th>\n",
       "    </tr>\n",
       "  </thead>\n",
       "  <tbody>\n",
       "    <tr>\n",
       "      <th>44</th>\n",
       "      <td>43</td>\n",
       "      <td>major</td>\n",
       "      <td>1</td>\n",
       "      <td>project Junk released teamstream rename projec...</td>\n",
       "      <td>project junk releas teamstream renam project a...</td>\n",
       "    </tr>\n",
       "    <tr>\n",
       "      <th>162</th>\n",
       "      <td>163</td>\n",
       "      <td>critical</td>\n",
       "      <td>1</td>\n",
       "      <td>AK 6/12/01 4:55:24 PM got exception last night...</td>\n",
       "      <td>ak 6/12/01 4:55:24 pm got except last night wo...</td>\n",
       "    </tr>\n",
       "    <tr>\n",
       "      <th>192</th>\n",
       "      <td>194</td>\n",
       "      <td>major</td>\n",
       "      <td>1</td>\n",
       "      <td>1 Add global ignore pattern BazProject 2 Creat...</td>\n",
       "      <td>1 add global ignor pattern bazproject 2 creat ...</td>\n",
       "    </tr>\n",
       "  </tbody>\n",
       "</table>\n",
       "</div>"
      ],
      "text/plain": [
       "     bug_id bug_severity  binary_severity  \\\n",
       "44       43        major                1   \n",
       "162     163     critical                1   \n",
       "192     194        major                1   \n",
       "\n",
       "                                           description  \\\n",
       "44   project Junk released teamstream rename projec...   \n",
       "162  AK 6/12/01 4:55:24 PM got exception last night...   \n",
       "192  1 Add global ignore pattern BazProject 2 Creat...   \n",
       "\n",
       "                                   stemmed_description  \n",
       "44   project junk releas teamstream renam project a...  \n",
       "162  ak 6/12/01 4:55:24 pm got except last night wo...  \n",
       "192  1 add global ignor pattern bazproject 2 creat ...  "
      ]
     },
     "execution_count": 9,
     "metadata": {},
     "output_type": "execute_result"
    }
   ],
   "source": [
    "df_preprocess.head(3)"
   ]
  },
  {
   "cell_type": "code",
   "execution_count": 10,
   "metadata": {},
   "outputs": [],
   "source": [
    "df_preprocess.to_json(\"../../data/eclipse_72k.json\", orient=\"records\", indent=4)"
   ]
  }
 ],
 "metadata": {
  "kernelspec": {
   "display_name": "Master",
   "language": "python",
   "name": "python3"
  },
  "language_info": {
   "codemirror_mode": {
    "name": "ipython",
    "version": 3
   },
   "file_extension": ".py",
   "mimetype": "text/x-python",
   "name": "python",
   "nbconvert_exporter": "python",
   "pygments_lexer": "ipython3",
   "version": "3.9.17"
  }
 },
 "nbformat": 4,
 "nbformat_minor": 2
}
