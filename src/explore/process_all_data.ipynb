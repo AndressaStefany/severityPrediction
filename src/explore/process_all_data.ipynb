{
 "cells": [
  {
   "cell_type": "markdown",
   "metadata": {},
   "source": [
    "The data from the \"eclipse_clear.json\" file undergoes a comprehensive preprocessing process that includes the following steps:\n",
    "\n",
    "1. Filtering: This step involves the removal of entries associated with both normal and X severities, ensuring that the data focuses exclusively on specific severity levels of interest.\n",
    "2. Binary Severity Creation: A new column, 'binary_severity,' is created, enabling the classification of entries into a binary severity category for streamlined analysis and interpretation.\n",
    "3. Bag-of-Words Preprocessing: The data is further processed using the bag-of-words technique, facilitating the extraction of key features and patterns from the text data.\n",
    "4. Stemming: Additionally, stemming techniques are applied to the preprocessed text, reducing words to their root form to enhance the effectiveness of subsequent natural language processing tasks."
   ]
  },
  {
   "cell_type": "code",
   "execution_count": 1,
   "metadata": {},
   "outputs": [],
   "source": [
    "from pathlib import Path\n",
    "import pandas as pd\n",
    "\n",
    "from string import Template "
   ]
  },
  {
   "cell_type": "code",
   "execution_count": 2,
   "metadata": {},
   "outputs": [
    {
     "name": "stderr",
     "output_type": "stream",
     "text": [
      "c:\\Users\\dessa\\anaconda3\\envs\\Master\\lib\\site-packages\\tqdm\\auto.py:21: TqdmWarning: IProgress not found. Please update jupyter and ipywidgets. See https://ipywidgets.readthedocs.io/en/stable/user_install.html\n",
      "  from .autonotebook import tqdm as notebook_tqdm\n"
     ]
    }
   ],
   "source": [
    "import sys\n",
    "\n",
    "sys.path.append('../baseline/')\n",
    "from baseline_functions import filter_bug_severity, create_binary_feature, preprocess_text"
   ]
  },
  {
   "cell_type": "code",
   "execution_count": 3,
   "metadata": {},
   "outputs": [],
   "source": [
    "data_path = Path('../../data/eclipse_clear.json')"
   ]
  },
  {
   "cell_type": "code",
   "execution_count": 4,
   "metadata": {},
   "outputs": [
    {
     "data": {
      "text/html": [
       "<div>\n",
       "<style scoped>\n",
       "    .dataframe tbody tr th:only-of-type {\n",
       "        vertical-align: middle;\n",
       "    }\n",
       "\n",
       "    .dataframe tbody tr th {\n",
       "        vertical-align: top;\n",
       "    }\n",
       "\n",
       "    .dataframe thead th {\n",
       "        text-align: right;\n",
       "    }\n",
       "</style>\n",
       "<table border=\"1\" class=\"dataframe\">\n",
       "  <thead>\n",
       "    <tr style=\"text-align: right;\">\n",
       "      <th></th>\n",
       "      <th>_id</th>\n",
       "      <th>bug_id</th>\n",
       "      <th>product</th>\n",
       "      <th>description</th>\n",
       "      <th>bug_severity</th>\n",
       "      <th>dup_id</th>\n",
       "      <th>short_desc</th>\n",
       "      <th>priority</th>\n",
       "      <th>version</th>\n",
       "      <th>component</th>\n",
       "      <th>delta_ts</th>\n",
       "      <th>bug_status</th>\n",
       "      <th>creation_ts</th>\n",
       "      <th>resolution</th>\n",
       "    </tr>\n",
       "  </thead>\n",
       "  <tbody>\n",
       "    <tr>\n",
       "      <th>0</th>\n",
       "      <td>{'$oid': '52e9b44754dc1c25ebdb1ee5'}</td>\n",
       "      <td>3</td>\n",
       "      <td>Platform</td>\n",
       "      <td>KM (10/2/2001 5:55:18 PM)\\n\\tThis PR about the...</td>\n",
       "      <td>normal</td>\n",
       "      <td>[]</td>\n",
       "      <td>Sync does not indicate deletion (1GIEN83)</td>\n",
       "      <td>P5</td>\n",
       "      <td>2.0</td>\n",
       "      <td>Team</td>\n",
       "      <td>2010-05-07 10:28:53 -0400</td>\n",
       "      <td>RESOLVED</td>\n",
       "      <td>2001-10-10 21:34:00 -0400</td>\n",
       "      <td>FIXED</td>\n",
       "    </tr>\n",
       "    <tr>\n",
       "      <th>1</th>\n",
       "      <td>{'$oid': '52e9b44754dc1c25ebdb1ee6'}</td>\n",
       "      <td>1</td>\n",
       "      <td>Platform</td>\n",
       "      <td>- Setup a project that contains a *.gif resour...</td>\n",
       "      <td>normal</td>\n",
       "      <td>[]</td>\n",
       "      <td>Usability issue with external editors (1GE6IRL)</td>\n",
       "      <td>P3</td>\n",
       "      <td>2.0</td>\n",
       "      <td>Team</td>\n",
       "      <td>2012-02-09 15:57:47 -0500</td>\n",
       "      <td>CLOSED</td>\n",
       "      <td>2001-10-10 21:34:00 -0400</td>\n",
       "      <td>FIXED</td>\n",
       "    </tr>\n",
       "  </tbody>\n",
       "</table>\n",
       "</div>"
      ],
      "text/plain": [
       "                                    _id  bug_id   product  \\\n",
       "0  {'$oid': '52e9b44754dc1c25ebdb1ee5'}       3  Platform   \n",
       "1  {'$oid': '52e9b44754dc1c25ebdb1ee6'}       1  Platform   \n",
       "\n",
       "                                         description bug_severity dup_id  \\\n",
       "0  KM (10/2/2001 5:55:18 PM)\\n\\tThis PR about the...       normal     []   \n",
       "1  - Setup a project that contains a *.gif resour...       normal     []   \n",
       "\n",
       "                                        short_desc priority version component  \\\n",
       "0        Sync does not indicate deletion (1GIEN83)       P5     2.0      Team   \n",
       "1  Usability issue with external editors (1GE6IRL)       P3     2.0      Team   \n",
       "\n",
       "                    delta_ts bug_status                creation_ts resolution  \n",
       "0  2010-05-07 10:28:53 -0400   RESOLVED  2001-10-10 21:34:00 -0400      FIXED  \n",
       "1  2012-02-09 15:57:47 -0500     CLOSED  2001-10-10 21:34:00 -0400      FIXED  "
      ]
     },
     "execution_count": 4,
     "metadata": {},
     "output_type": "execute_result"
    }
   ],
   "source": [
    "df_json = pd.read_json(data_path, lines=True)\n",
    "df_json.head(2)"
   ]
  },
  {
   "cell_type": "code",
   "execution_count": 5,
   "metadata": {},
   "outputs": [],
   "source": [
    "df_filtered = filter_bug_severity(df_json, severity_col='bug_severity')\n",
    "df_binary = create_binary_feature(df_filtered, severity_col ='bug_severity')"
   ]
  },
  {
   "cell_type": "code",
   "execution_count": 6,
   "metadata": {},
   "outputs": [
    {
     "data": {
      "text/html": [
       "<div>\n",
       "<style scoped>\n",
       "    .dataframe tbody tr th:only-of-type {\n",
       "        vertical-align: middle;\n",
       "    }\n",
       "\n",
       "    .dataframe tbody tr th {\n",
       "        vertical-align: top;\n",
       "    }\n",
       "\n",
       "    .dataframe thead th {\n",
       "        text-align: right;\n",
       "    }\n",
       "</style>\n",
       "<table border=\"1\" class=\"dataframe\">\n",
       "  <thead>\n",
       "    <tr style=\"text-align: right;\">\n",
       "      <th></th>\n",
       "      <th>bug_id</th>\n",
       "      <th>description</th>\n",
       "      <th>bug_severity</th>\n",
       "      <th>binary_severity</th>\n",
       "    </tr>\n",
       "  </thead>\n",
       "  <tbody>\n",
       "    <tr>\n",
       "      <th>44</th>\n",
       "      <td>43</td>\n",
       "      <td>I have a project (Junk) that has been released...</td>\n",
       "      <td>major</td>\n",
       "      <td>1</td>\n",
       "    </tr>\n",
       "    <tr>\n",
       "      <th>162</th>\n",
       "      <td>163</td>\n",
       "      <td>AK (6/12/01 4:55:24 PM)\\n\\ti got this exceptio...</td>\n",
       "      <td>critical</td>\n",
       "      <td>1</td>\n",
       "    </tr>\n",
       "  </tbody>\n",
       "</table>\n",
       "</div>"
      ],
      "text/plain": [
       "     bug_id                                        description bug_severity  \\\n",
       "44       43  I have a project (Junk) that has been released...        major   \n",
       "162     163  AK (6/12/01 4:55:24 PM)\\n\\ti got this exceptio...     critical   \n",
       "\n",
       "     binary_severity  \n",
       "44                 1  \n",
       "162                1  "
      ]
     },
     "execution_count": 6,
     "metadata": {},
     "output_type": "execute_result"
    }
   ],
   "source": [
    "df_binary.head(2)"
   ]
  },
  {
   "cell_type": "code",
   "execution_count": 7,
   "metadata": {},
   "outputs": [],
   "source": [
    "df_preprocess = preprocess_text(df_binary)"
   ]
  },
  {
   "cell_type": "code",
   "execution_count": 8,
   "metadata": {},
   "outputs": [
    {
     "data": {
      "text/plain": [
       "(72192, 5)"
      ]
     },
     "execution_count": 8,
     "metadata": {},
     "output_type": "execute_result"
    }
   ],
   "source": [
    "df_preprocess.shape"
   ]
  },
  {
   "cell_type": "code",
   "execution_count": 9,
   "metadata": {},
   "outputs": [
    {
     "data": {
      "text/html": [
       "<div>\n",
       "<style scoped>\n",
       "    .dataframe tbody tr th:only-of-type {\n",
       "        vertical-align: middle;\n",
       "    }\n",
       "\n",
       "    .dataframe tbody tr th {\n",
       "        vertical-align: top;\n",
       "    }\n",
       "\n",
       "    .dataframe thead th {\n",
       "        text-align: right;\n",
       "    }\n",
       "</style>\n",
       "<table border=\"1\" class=\"dataframe\">\n",
       "  <thead>\n",
       "    <tr style=\"text-align: right;\">\n",
       "      <th></th>\n",
       "      <th>bug_id</th>\n",
       "      <th>bug_severity</th>\n",
       "      <th>binary_severity</th>\n",
       "      <th>description</th>\n",
       "      <th>stemmed_description</th>\n",
       "    </tr>\n",
       "  </thead>\n",
       "  <tbody>\n",
       "    <tr>\n",
       "      <th>44</th>\n",
       "      <td>43</td>\n",
       "      <td>major</td>\n",
       "      <td>1</td>\n",
       "      <td>project Junk released teamstream rename projec...</td>\n",
       "      <td>project junk releas teamstream renam project a...</td>\n",
       "    </tr>\n",
       "    <tr>\n",
       "      <th>162</th>\n",
       "      <td>163</td>\n",
       "      <td>critical</td>\n",
       "      <td>1</td>\n",
       "      <td>AK 6/12/01 4:55:24 PM got exception last night...</td>\n",
       "      <td>ak 6/12/01 4:55:24 pm got except last night wo...</td>\n",
       "    </tr>\n",
       "    <tr>\n",
       "      <th>192</th>\n",
       "      <td>194</td>\n",
       "      <td>major</td>\n",
       "      <td>1</td>\n",
       "      <td>1 Add global ignore pattern BazProject 2 Creat...</td>\n",
       "      <td>1 add global ignor pattern bazproject 2 creat ...</td>\n",
       "    </tr>\n",
       "  </tbody>\n",
       "</table>\n",
       "</div>"
      ],
      "text/plain": [
       "     bug_id bug_severity  binary_severity  \\\n",
       "44       43        major                1   \n",
       "162     163     critical                1   \n",
       "192     194        major                1   \n",
       "\n",
       "                                           description  \\\n",
       "44   project Junk released teamstream rename projec...   \n",
       "162  AK 6/12/01 4:55:24 PM got exception last night...   \n",
       "192  1 Add global ignore pattern BazProject 2 Creat...   \n",
       "\n",
       "                                   stemmed_description  \n",
       "44   project junk releas teamstream renam project a...  \n",
       "162  ak 6/12/01 4:55:24 pm got except last night wo...  \n",
       "192  1 add global ignor pattern bazproject 2 creat ...  "
      ]
     },
     "execution_count": 9,
     "metadata": {},
     "output_type": "execute_result"
    }
   ],
   "source": [
    "df_preprocess.head(3)"
   ]
  },
  {
   "cell_type": "code",
   "execution_count": 10,
   "metadata": {},
   "outputs": [],
   "source": [
    "df_preprocess.to_json(\"../../data/eclipse_72k.json\", orient=\"records\", indent=4)"
   ]
  },
  {
   "cell_type": "markdown",
   "metadata": {},
   "source": [
    "# Mozilla"
   ]
  },
  {
   "cell_type": "code",
   "execution_count": 4,
   "metadata": {},
   "outputs": [
    {
     "data": {
      "text/plain": [
       "(768335, 14)"
      ]
     },
     "execution_count": 4,
     "metadata": {},
     "output_type": "execute_result"
    }
   ],
   "source": [
    "mozilla_path = Path('../../data/mozilla_mozall.json')\n",
    "mozilla_json = pd.read_json(mozilla_path, lines=True)\n",
    "mozilla_json.shape"
   ]
  },
  {
   "cell_type": "code",
   "execution_count": 13,
   "metadata": {},
   "outputs": [
    {
     "name": "stdout",
     "output_type": "stream",
     "text": [
      "<class 'pandas.core.frame.DataFrame'>\n",
      "RangeIndex: 768335 entries, 0 to 768334\n",
      "Data columns (total 14 columns):\n",
      " #   Column        Non-Null Count   Dtype \n",
      "---  ------        --------------   ----- \n",
      " 0   _id           768335 non-null  object\n",
      " 1   bug_id        768335 non-null  int64 \n",
      " 2   product       768335 non-null  object\n",
      " 3   description   768326 non-null  object\n",
      " 4   bug_severity  768335 non-null  object\n",
      " 5   dup_id        768335 non-null  object\n",
      " 6   short_desc    768335 non-null  object\n",
      " 7   priority      768335 non-null  object\n",
      " 8   version       768335 non-null  object\n",
      " 9   component     768335 non-null  object\n",
      " 10  delta_ts      768335 non-null  object\n",
      " 11  bug_status    768335 non-null  object\n",
      " 12  creation_ts   768335 non-null  object\n",
      " 13  resolution    768335 non-null  object\n",
      "dtypes: int64(1), object(13)\n",
      "memory usage: 82.1+ MB\n"
     ]
    }
   ],
   "source": [
    "mozilla_json.info()"
   ]
  },
  {
   "cell_type": "code",
   "execution_count": 24,
   "metadata": {},
   "outputs": [
    {
     "data": {
      "text/html": [
       "<div>\n",
       "<style scoped>\n",
       "    .dataframe tbody tr th:only-of-type {\n",
       "        vertical-align: middle;\n",
       "    }\n",
       "\n",
       "    .dataframe tbody tr th {\n",
       "        vertical-align: top;\n",
       "    }\n",
       "\n",
       "    .dataframe thead th {\n",
       "        text-align: right;\n",
       "    }\n",
       "</style>\n",
       "<table border=\"1\" class=\"dataframe\">\n",
       "  <thead>\n",
       "    <tr style=\"text-align: right;\">\n",
       "      <th></th>\n",
       "      <th>_id</th>\n",
       "      <th>bug_id</th>\n",
       "      <th>product</th>\n",
       "      <th>description</th>\n",
       "      <th>bug_severity</th>\n",
       "      <th>dup_id</th>\n",
       "      <th>short_desc</th>\n",
       "      <th>priority</th>\n",
       "      <th>version</th>\n",
       "      <th>component</th>\n",
       "      <th>delta_ts</th>\n",
       "      <th>bug_status</th>\n",
       "      <th>creation_ts</th>\n",
       "      <th>resolution</th>\n",
       "    </tr>\n",
       "  </thead>\n",
       "  <tbody>\n",
       "    <tr>\n",
       "      <th>0</th>\n",
       "      <td>{'$oid': '52eaece454dc1c410c4fbc01'}</td>\n",
       "      <td>35</td>\n",
       "      <td>MozillaClassic</td>\n",
       "      <td>Created by   (weitsang@cs.cornell.edu) on Mond...</td>\n",
       "      <td>minor</td>\n",
       "      <td>[]</td>\n",
       "      <td>Navigator does not free preference hash table ...</td>\n",
       "      <td>P3</td>\n",
       "      <td>1998-03-31</td>\n",
       "      <td>XFE</td>\n",
       "      <td>2013-11-19 18:16:47 -0800</td>\n",
       "      <td>VERIFIED</td>\n",
       "      <td>1998-04-07 01:37:03 -0700</td>\n",
       "      <td>WONTFIX</td>\n",
       "    </tr>\n",
       "    <tr>\n",
       "      <th>1</th>\n",
       "      <td>{'$oid': '52eaece454dc1c410c4fbc02'}</td>\n",
       "      <td>36</td>\n",
       "      <td>SeaMonkey</td>\n",
       "      <td>Created by J. Daniel Powell (dan@java-linux.or...</td>\n",
       "      <td>critical</td>\n",
       "      <td>[]</td>\n",
       "      <td>Floating Point Exception on Execution</td>\n",
       "      <td>P2</td>\n",
       "      <td>Trunk</td>\n",
       "      <td>Build Config</td>\n",
       "      <td>2012-10-31 18:36:36 -0700</td>\n",
       "      <td>VERIFIED</td>\n",
       "      <td>1998-04-07 02:04:03 -0700</td>\n",
       "      <td>INVALID</td>\n",
       "    </tr>\n",
       "    <tr>\n",
       "      <th>2</th>\n",
       "      <td>{'$oid': '52eaece454dc1c410c4fbc03'}</td>\n",
       "      <td>37</td>\n",
       "      <td>MozillaClassic</td>\n",
       "      <td>Created by Chen Ronghua (chenrh@usa.net) on Mo...</td>\n",
       "      <td>normal</td>\n",
       "      <td>[]</td>\n",
       "      <td>Preference Dialog does not show</td>\n",
       "      <td>P2</td>\n",
       "      <td>1998-03-31</td>\n",
       "      <td>Windows FE</td>\n",
       "      <td>2000-12-25 17:53:17 -0800</td>\n",
       "      <td>VERIFIED</td>\n",
       "      <td>1998-04-07 02:20:01 -0700</td>\n",
       "      <td>FIXED</td>\n",
       "    </tr>\n",
       "    <tr>\n",
       "      <th>3</th>\n",
       "      <td>{'$oid': '52eaece454dc1c410c4fbc04'}</td>\n",
       "      <td>39</td>\n",
       "      <td>MozillaClassic</td>\n",
       "      <td>Created by Chen Ronghua (chenrh@usa.net) on Mo...</td>\n",
       "      <td>normal</td>\n",
       "      <td>[]</td>\n",
       "      <td>Bookmark properties leads to an Assert  failed</td>\n",
       "      <td>P2</td>\n",
       "      <td>1998-03-31</td>\n",
       "      <td>Aurora/RDF BE</td>\n",
       "      <td>2013-11-19 23:42:54 -0800</td>\n",
       "      <td>VERIFIED</td>\n",
       "      <td>1998-04-07 02:34:14 -0700</td>\n",
       "      <td>WONTFIX</td>\n",
       "    </tr>\n",
       "    <tr>\n",
       "      <th>4</th>\n",
       "      <td>{'$oid': '52eaece454dc1c410c4fbc05'}</td>\n",
       "      <td>42</td>\n",
       "      <td>MozillaClassic</td>\n",
       "      <td>Created by Stephan  Nagy (steph8@flash.net) on...</td>\n",
       "      <td>minor</td>\n",
       "      <td>[]</td>\n",
       "      <td>navigator redraw after initial startup</td>\n",
       "      <td>P2</td>\n",
       "      <td>1998-03-31</td>\n",
       "      <td>XFE</td>\n",
       "      <td>2013-07-22 06:53:51 -0700</td>\n",
       "      <td>VERIFIED</td>\n",
       "      <td>1998-04-07 05:42:04 -0700</td>\n",
       "      <td>FIXED</td>\n",
       "    </tr>\n",
       "    <tr>\n",
       "      <th>5</th>\n",
       "      <td>{'$oid': '52eaece454dc1c410c4fbc06'}</td>\n",
       "      <td>38</td>\n",
       "      <td>MozillaClassic</td>\n",
       "      <td>Created by Chen Ronghua (chenrh@usa.net) on Mo...</td>\n",
       "      <td>normal</td>\n",
       "      <td>[]</td>\n",
       "      <td>Close Mozilla lead to a Assert Failed</td>\n",
       "      <td>P2</td>\n",
       "      <td>1998-03-31</td>\n",
       "      <td>NetLib</td>\n",
       "      <td>2000-12-25 17:52:34 -0800</td>\n",
       "      <td>VERIFIED</td>\n",
       "      <td>1998-04-07 02:30:03 -0700</td>\n",
       "      <td>FIXED</td>\n",
       "    </tr>\n",
       "    <tr>\n",
       "      <th>6</th>\n",
       "      <td>{'$oid': '52eaece454dc1c410c4fbc07'}</td>\n",
       "      <td>41</td>\n",
       "      <td>MozillaClassic</td>\n",
       "      <td>Created by Chris Kennedy (chris@groovy.org) on...</td>\n",
       "      <td>critical</td>\n",
       "      <td>[]</td>\n",
       "      <td>Multiple Netscape windows cannot recieve data ...</td>\n",
       "      <td>P2</td>\n",
       "      <td>1998-03-31</td>\n",
       "      <td>XFE</td>\n",
       "      <td>2003-04-16 06:31:21 -0700</td>\n",
       "      <td>VERIFIED</td>\n",
       "      <td>1998-04-07 05:05:25 -0700</td>\n",
       "      <td>WONTFIX</td>\n",
       "    </tr>\n",
       "    <tr>\n",
       "      <th>7</th>\n",
       "      <td>{'$oid': '52eaece554dc1c410c4fbc08'}</td>\n",
       "      <td>43</td>\n",
       "      <td>MozillaClassic</td>\n",
       "      <td>Created by Aleksandar Totic (atotic@netscape.c...</td>\n",
       "      <td>normal</td>\n",
       "      <td>[]</td>\n",
       "      <td>Just testing</td>\n",
       "      <td>P3</td>\n",
       "      <td>1998-03-31</td>\n",
       "      <td>Macintosh FE</td>\n",
       "      <td>2002-09-13 16:18:32 -0700</td>\n",
       "      <td>VERIFIED</td>\n",
       "      <td>1998-04-07 06:53:01 -0700</td>\n",
       "      <td>INVALID</td>\n",
       "    </tr>\n",
       "    <tr>\n",
       "      <th>8</th>\n",
       "      <td>{'$oid': '52eaece554dc1c410c4fbc09'}</td>\n",
       "      <td>51</td>\n",
       "      <td>MozillaClassic</td>\n",
       "      <td>Created by Svein Erik Brostigen (sbrostig@no.o...</td>\n",
       "      <td>normal</td>\n",
       "      <td>[]</td>\n",
       "      <td>Resizing communicator changes display format o...</td>\n",
       "      <td>P2</td>\n",
       "      <td>1998-03-31</td>\n",
       "      <td>StubFE</td>\n",
       "      <td>2000-12-25 17:52:41 -0800</td>\n",
       "      <td>VERIFIED</td>\n",
       "      <td>1998-04-07 08:22:31 -0700</td>\n",
       "      <td>FIXED</td>\n",
       "    </tr>\n",
       "    <tr>\n",
       "      <th>9</th>\n",
       "      <td>{'$oid': '52eaece554dc1c410c4fbc0a'}</td>\n",
       "      <td>61</td>\n",
       "      <td>MozillaClassic</td>\n",
       "      <td>Created by Jukka Santala (donwulff@iki.fi) on ...</td>\n",
       "      <td>minor</td>\n",
       "      <td>[]</td>\n",
       "      <td>Navigator shutdown set-zero-context bug</td>\n",
       "      <td>P3</td>\n",
       "      <td>1998-03-31</td>\n",
       "      <td>Windows FE</td>\n",
       "      <td>2000-11-07 10:41:58 -0800</td>\n",
       "      <td>VERIFIED</td>\n",
       "      <td>1998-04-07 11:56:14 -0700</td>\n",
       "      <td>FIXED</td>\n",
       "    </tr>\n",
       "  </tbody>\n",
       "</table>\n",
       "</div>"
      ],
      "text/plain": [
       "                                    _id  bug_id         product  \\\n",
       "0  {'$oid': '52eaece454dc1c410c4fbc01'}      35  MozillaClassic   \n",
       "1  {'$oid': '52eaece454dc1c410c4fbc02'}      36       SeaMonkey   \n",
       "2  {'$oid': '52eaece454dc1c410c4fbc03'}      37  MozillaClassic   \n",
       "3  {'$oid': '52eaece454dc1c410c4fbc04'}      39  MozillaClassic   \n",
       "4  {'$oid': '52eaece454dc1c410c4fbc05'}      42  MozillaClassic   \n",
       "5  {'$oid': '52eaece454dc1c410c4fbc06'}      38  MozillaClassic   \n",
       "6  {'$oid': '52eaece454dc1c410c4fbc07'}      41  MozillaClassic   \n",
       "7  {'$oid': '52eaece554dc1c410c4fbc08'}      43  MozillaClassic   \n",
       "8  {'$oid': '52eaece554dc1c410c4fbc09'}      51  MozillaClassic   \n",
       "9  {'$oid': '52eaece554dc1c410c4fbc0a'}      61  MozillaClassic   \n",
       "\n",
       "                                         description bug_severity dup_id  \\\n",
       "0  Created by   (weitsang@cs.cornell.edu) on Mond...        minor     []   \n",
       "1  Created by J. Daniel Powell (dan@java-linux.or...     critical     []   \n",
       "2  Created by Chen Ronghua (chenrh@usa.net) on Mo...       normal     []   \n",
       "3  Created by Chen Ronghua (chenrh@usa.net) on Mo...       normal     []   \n",
       "4  Created by Stephan  Nagy (steph8@flash.net) on...        minor     []   \n",
       "5  Created by Chen Ronghua (chenrh@usa.net) on Mo...       normal     []   \n",
       "6  Created by Chris Kennedy (chris@groovy.org) on...     critical     []   \n",
       "7  Created by Aleksandar Totic (atotic@netscape.c...       normal     []   \n",
       "8  Created by Svein Erik Brostigen (sbrostig@no.o...       normal     []   \n",
       "9  Created by Jukka Santala (donwulff@iki.fi) on ...        minor     []   \n",
       "\n",
       "                                          short_desc priority     version  \\\n",
       "0  Navigator does not free preference hash table ...       P3  1998-03-31   \n",
       "1              Floating Point Exception on Execution       P2       Trunk   \n",
       "2                    Preference Dialog does not show       P2  1998-03-31   \n",
       "3     Bookmark properties leads to an Assert  failed       P2  1998-03-31   \n",
       "4             navigator redraw after initial startup       P2  1998-03-31   \n",
       "5              Close Mozilla lead to a Assert Failed       P2  1998-03-31   \n",
       "6  Multiple Netscape windows cannot recieve data ...       P2  1998-03-31   \n",
       "7                                       Just testing       P3  1998-03-31   \n",
       "8  Resizing communicator changes display format o...       P2  1998-03-31   \n",
       "9            Navigator shutdown set-zero-context bug       P3  1998-03-31   \n",
       "\n",
       "       component                   delta_ts bug_status  \\\n",
       "0            XFE  2013-11-19 18:16:47 -0800   VERIFIED   \n",
       "1   Build Config  2012-10-31 18:36:36 -0700   VERIFIED   \n",
       "2     Windows FE  2000-12-25 17:53:17 -0800   VERIFIED   \n",
       "3  Aurora/RDF BE  2013-11-19 23:42:54 -0800   VERIFIED   \n",
       "4            XFE  2013-07-22 06:53:51 -0700   VERIFIED   \n",
       "5         NetLib  2000-12-25 17:52:34 -0800   VERIFIED   \n",
       "6            XFE  2003-04-16 06:31:21 -0700   VERIFIED   \n",
       "7   Macintosh FE  2002-09-13 16:18:32 -0700   VERIFIED   \n",
       "8         StubFE  2000-12-25 17:52:41 -0800   VERIFIED   \n",
       "9     Windows FE  2000-11-07 10:41:58 -0800   VERIFIED   \n",
       "\n",
       "                 creation_ts resolution  \n",
       "0  1998-04-07 01:37:03 -0700    WONTFIX  \n",
       "1  1998-04-07 02:04:03 -0700    INVALID  \n",
       "2  1998-04-07 02:20:01 -0700      FIXED  \n",
       "3  1998-04-07 02:34:14 -0700    WONTFIX  \n",
       "4  1998-04-07 05:42:04 -0700      FIXED  \n",
       "5  1998-04-07 02:30:03 -0700      FIXED  \n",
       "6  1998-04-07 05:05:25 -0700    WONTFIX  \n",
       "7  1998-04-07 06:53:01 -0700    INVALID  \n",
       "8  1998-04-07 08:22:31 -0700      FIXED  \n",
       "9  1998-04-07 11:56:14 -0700      FIXED  "
      ]
     },
     "execution_count": 24,
     "metadata": {},
     "output_type": "execute_result"
    }
   ],
   "source": [
    "mozilla_json.head(10)"
   ]
  },
  {
   "cell_type": "code",
   "execution_count": 21,
   "metadata": {},
   "outputs": [],
   "source": [
    "id_eclipse_list = df_preprocess['bug_id'].tolist()\n",
    "id_mozilla_list = mozilla_json['bug_id'].tolist()"
   ]
  },
  {
   "cell_type": "code",
   "execution_count": 23,
   "metadata": {},
   "outputs": [
    {
     "name": "stdout",
     "output_type": "stream",
     "text": [
      "There are common elements.\n",
      "Common elements: 67055\n"
     ]
    }
   ],
   "source": [
    "common_elements = set(id_eclipse_list) & set(id_mozilla_list)\n",
    "\n",
    "if common_elements:\n",
    "    print(\"There are common elements.\")\n",
    "    print(\"Common elements:\", len(common_elements))\n",
    "else:\n",
    "    print(\"No common elements found.\")"
   ]
  },
  {
   "cell_type": "code",
   "execution_count": 5,
   "metadata": {},
   "outputs": [],
   "source": [
    "mozilla_filtered = filter_bug_severity(mozilla_json, severity_col='bug_severity', description_col='short_desc')\n",
    "mozilla_binary = create_binary_feature(mozilla_filtered, severity_col ='bug_severity')"
   ]
  },
  {
   "cell_type": "code",
   "execution_count": 6,
   "metadata": {},
   "outputs": [
    {
     "data": {
      "text/html": [
       "<div>\n",
       "<style scoped>\n",
       "    .dataframe tbody tr th:only-of-type {\n",
       "        vertical-align: middle;\n",
       "    }\n",
       "\n",
       "    .dataframe tbody tr th {\n",
       "        vertical-align: top;\n",
       "    }\n",
       "\n",
       "    .dataframe thead th {\n",
       "        text-align: right;\n",
       "    }\n",
       "</style>\n",
       "<table border=\"1\" class=\"dataframe\">\n",
       "  <thead>\n",
       "    <tr style=\"text-align: right;\">\n",
       "      <th></th>\n",
       "      <th>bug_id</th>\n",
       "      <th>short_desc</th>\n",
       "      <th>bug_severity</th>\n",
       "      <th>binary_severity</th>\n",
       "    </tr>\n",
       "  </thead>\n",
       "  <tbody>\n",
       "    <tr>\n",
       "      <th>0</th>\n",
       "      <td>35</td>\n",
       "      <td>Navigator does not free preference hash table ...</td>\n",
       "      <td>minor</td>\n",
       "      <td>0</td>\n",
       "    </tr>\n",
       "    <tr>\n",
       "      <th>1</th>\n",
       "      <td>36</td>\n",
       "      <td>Floating Point Exception on Execution</td>\n",
       "      <td>critical</td>\n",
       "      <td>1</td>\n",
       "    </tr>\n",
       "    <tr>\n",
       "      <th>4</th>\n",
       "      <td>42</td>\n",
       "      <td>navigator redraw after initial startup</td>\n",
       "      <td>minor</td>\n",
       "      <td>0</td>\n",
       "    </tr>\n",
       "  </tbody>\n",
       "</table>\n",
       "</div>"
      ],
      "text/plain": [
       "   bug_id                                         short_desc bug_severity  \\\n",
       "0      35  Navigator does not free preference hash table ...        minor   \n",
       "1      36              Floating Point Exception on Execution     critical   \n",
       "4      42             navigator redraw after initial startup        minor   \n",
       "\n",
       "   binary_severity  \n",
       "0                0  \n",
       "1                1  \n",
       "4                0  "
      ]
     },
     "execution_count": 6,
     "metadata": {},
     "output_type": "execute_result"
    }
   ],
   "source": [
    "mozilla_binary.head(3)"
   ]
  },
  {
   "cell_type": "code",
   "execution_count": 7,
   "metadata": {},
   "outputs": [
    {
     "data": {
      "text/plain": [
       "(201106, 4)"
      ]
     },
     "execution_count": 7,
     "metadata": {},
     "output_type": "execute_result"
    }
   ],
   "source": [
    "mozilla_binary.shape"
   ]
  },
  {
   "cell_type": "code",
   "execution_count": 8,
   "metadata": {},
   "outputs": [],
   "source": [
    "mozilla_preprocess = preprocess_text(dataframe=mozilla_binary, col_to_process='short_desc')"
   ]
  },
  {
   "cell_type": "code",
   "execution_count": 9,
   "metadata": {},
   "outputs": [
    {
     "data": {
      "text/plain": [
       "(201093, 5)"
      ]
     },
     "execution_count": 9,
     "metadata": {},
     "output_type": "execute_result"
    }
   ],
   "source": [
    "mozilla_preprocess.shape"
   ]
  },
  {
   "cell_type": "code",
   "execution_count": 10,
   "metadata": {},
   "outputs": [
    {
     "data": {
      "text/html": [
       "<div>\n",
       "<style scoped>\n",
       "    .dataframe tbody tr th:only-of-type {\n",
       "        vertical-align: middle;\n",
       "    }\n",
       "\n",
       "    .dataframe tbody tr th {\n",
       "        vertical-align: top;\n",
       "    }\n",
       "\n",
       "    .dataframe thead th {\n",
       "        text-align: right;\n",
       "    }\n",
       "</style>\n",
       "<table border=\"1\" class=\"dataframe\">\n",
       "  <thead>\n",
       "    <tr style=\"text-align: right;\">\n",
       "      <th></th>\n",
       "      <th>bug_id</th>\n",
       "      <th>bug_severity</th>\n",
       "      <th>binary_severity</th>\n",
       "      <th>description</th>\n",
       "      <th>stemmed_description</th>\n",
       "    </tr>\n",
       "  </thead>\n",
       "  <tbody>\n",
       "    <tr>\n",
       "      <th>0</th>\n",
       "      <td>35</td>\n",
       "      <td>minor</td>\n",
       "      <td>0</td>\n",
       "      <td>Navigator free preference hash table exit</td>\n",
       "      <td>navig free prefer hash tabl exit</td>\n",
       "    </tr>\n",
       "    <tr>\n",
       "      <th>1</th>\n",
       "      <td>36</td>\n",
       "      <td>critical</td>\n",
       "      <td>1</td>\n",
       "      <td>Floating Point Exception Execution</td>\n",
       "      <td>float point except execut</td>\n",
       "    </tr>\n",
       "  </tbody>\n",
       "</table>\n",
       "</div>"
      ],
      "text/plain": [
       "   bug_id bug_severity  binary_severity  \\\n",
       "0      35        minor                0   \n",
       "1      36     critical                1   \n",
       "\n",
       "                                 description               stemmed_description  \n",
       "0  Navigator free preference hash table exit  navig free prefer hash tabl exit  \n",
       "1         Floating Point Exception Execution         float point except execut  "
      ]
     },
     "execution_count": 10,
     "metadata": {},
     "output_type": "execute_result"
    }
   ],
   "source": [
    "mozilla_preprocess.head(2)"
   ]
  },
  {
   "cell_type": "code",
   "execution_count": 11,
   "metadata": {},
   "outputs": [],
   "source": [
    "mozilla_preprocess.to_json(\"../../data/mozilla_201k.json\", orient=\"records\", indent=4)"
   ]
  }
 ],
 "metadata": {
  "kernelspec": {
   "display_name": "Master",
   "language": "python",
   "name": "python3"
  },
  "language_info": {
   "codemirror_mode": {
    "name": "ipython",
    "version": 3
   },
   "file_extension": ".py",
   "mimetype": "text/x-python",
   "name": "python",
   "nbconvert_exporter": "python",
   "pygments_lexer": "ipython3",
   "version": "3.9.17"
  }
 },
 "nbformat": 4,
 "nbformat_minor": 2
}
