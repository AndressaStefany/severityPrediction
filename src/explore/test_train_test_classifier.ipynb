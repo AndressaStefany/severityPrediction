{
 "cells": [
  {
   "cell_type": "code",
   "execution_count": 1,
   "metadata": {},
   "outputs": [],
   "source": [
    "from pathlib import Path\n",
    "import pandas as pd\n",
    "import importlib\n",
    "\n",
    "from string import Template"
   ]
  },
  {
   "cell_type": "code",
   "execution_count": 2,
   "metadata": {},
   "outputs": [],
   "source": [
    "try:\n",
    "    import h5py\n",
    "except ImportError:\n",
    "    !pip install h5py\n",
    "    import h5py"
   ]
  },
  {
   "cell_type": "code",
   "execution_count": 3,
   "metadata": {},
   "outputs": [
    {
     "name": "stderr",
     "output_type": "stream",
     "text": [
      "c:\\Users\\dessa\\anaconda3\\envs\\Master\\lib\\site-packages\\tqdm\\auto.py:21: TqdmWarning: IProgress not found. Please update jupyter and ipywidgets. See https://ipywidgets.readthedocs.io/en/stable/user_install.html\n",
      "  from .autonotebook import tqdm as notebook_tqdm\n"
     ]
    },
    {
     "name": "stdout",
     "output_type": "stream",
     "text": [
      "\n",
      "===================================BUG REPORT===================================\n",
      "Welcome to bitsandbytes. For bug reports, please run\n",
      "\n",
      "python -m bitsandbytes\n",
      "\n",
      " and submit this information together with your error trace to: https://github.com/TimDettmers/bitsandbytes/issues\n",
      "================================================================================\n",
      "bin c:\\Users\\dessa\\anaconda3\\envs\\Master\\lib\\site-packages\\bitsandbytes\\libbitsandbytes_cpu.so\n",
      "'NoneType' object has no attribute 'cadam32bit_grad_fp32'\n",
      "CUDA SETUP: Loading binary c:\\Users\\dessa\\anaconda3\\envs\\Master\\lib\\site-packages\\bitsandbytes\\libbitsandbytes_cpu.so...\n",
      "argument of type 'WindowsPath' is not iterable\n"
     ]
    },
    {
     "name": "stderr",
     "output_type": "stream",
     "text": [
      "c:\\Users\\dessa\\anaconda3\\envs\\Master\\lib\\site-packages\\bitsandbytes\\cextension.py:34: UserWarning: The installed version of bitsandbytes was compiled without GPU support. 8-bit optimizers, 8-bit multiplication, and GPU quantization are unavailable.\n",
      "  warn(\"The installed version of bitsandbytes was compiled without GPU support. \"\n"
     ]
    },
    {
     "name": "stdout",
     "output_type": "stream",
     "text": [
      "Import of import trl failed\n"
     ]
    }
   ],
   "source": [
    "import sys\n",
    "\n",
    "sys.path.append('../llm/llama/')\n",
    "from main import train_test_classifier"
   ]
  },
  {
   "cell_type": "code",
   "execution_count": 4,
   "metadata": {},
   "outputs": [
    {
     "name": "stdout",
     "output_type": "stream",
     "text": [
      "Epoch [1/100], Step [1/46], Loss: 0.2828\n",
      "Epoch [1/100], Step [2/46], Loss: 0.2253\n",
      "Epoch [1/100], Step [3/46], Loss: 0.1668\n",
      "Epoch [1/100], Step [4/46], Loss: 0.2253\n",
      "Epoch [1/100], Step [5/46], Loss: 0.1278\n",
      "Epoch [1/100], Step [6/46], Loss: 0.3033\n",
      "Epoch [1/100], Step [7/46], Loss: 0.2448\n",
      "Epoch [1/100], Step [8/46], Loss: 0.2448\n",
      "Epoch [1/100], Step [9/46], Loss: 0.2058\n",
      "Epoch [1/100], Step [10/46], Loss: 0.1863\n",
      "Epoch [1/100], Step [11/46], Loss: 0.1863\n",
      "Epoch [1/100], Step [12/46], Loss: 0.3617\n",
      "Epoch [1/100], Step [13/46], Loss: 0.1668\n",
      "Epoch [1/100], Step [14/46], Loss: 0.2253\n",
      "Epoch [1/100], Step [15/46], Loss: 0.3033\n",
      "Epoch [1/100], Step [16/46], Loss: 0.2838\n",
      "Epoch [1/100], Step [17/46], Loss: 0.2448\n",
      "Epoch [1/100], Step [18/46], Loss: 0.2448\n",
      "Epoch [1/100], Step [19/46], Loss: 0.2448\n",
      "Epoch [1/100], Step [20/46], Loss: 0.1668\n",
      "Epoch [1/100], Step [21/46], Loss: 0.1473\n",
      "Epoch [1/100], Step [22/46], Loss: 0.1863\n",
      "Epoch [1/100], Step [23/46], Loss: 0.1863\n",
      "Epoch [1/100], Step [24/46], Loss: 0.1863\n",
      "Epoch [1/100], Step [25/46], Loss: 0.1863\n",
      "Epoch [1/100], Step [26/46], Loss: 0.3033\n",
      "Epoch [1/100], Step [27/46], Loss: 0.2253\n",
      "Epoch [1/100], Step [28/46], Loss: 0.2643\n",
      "Epoch [1/100], Step [29/46], Loss: 0.2253\n",
      "Epoch [1/100], Step [30/46], Loss: 0.1668\n",
      "Epoch [1/100], Step [31/46], Loss: 0.2643\n",
      "Epoch [1/100], Step [32/46], Loss: 0.2643\n",
      "Epoch [1/100], Step [33/46], Loss: 0.1863\n",
      "Epoch [1/100], Step [34/46], Loss: 0.2058\n",
      "Epoch [1/100], Step [35/46], Loss: 0.2643\n",
      "Epoch [1/100], Step [36/46], Loss: 0.2058\n",
      "Epoch [1/100], Step [37/46], Loss: 0.2838\n",
      "Epoch [1/100], Step [38/46], Loss: 0.1668\n",
      "Epoch [1/100], Step [39/46], Loss: 0.2058\n",
      "Epoch [1/100], Step [40/46], Loss: 0.2058\n",
      "Epoch [1/100], Step [41/46], Loss: 0.2058\n",
      "Epoch [1/100], Step [42/46], Loss: 0.3033\n",
      "Epoch [1/100], Step [43/46], Loss: 0.2058\n",
      "Epoch [1/100], Step [44/46], Loss: 0.1863\n",
      "Epoch [1/100], Step [45/46], Loss: 0.2253\n",
      "Epoch [1/100], Step [46/46], Loss: 0.2373\n",
      "Epoch [51/100], Step [1/46], Loss: 0.1473\n",
      "Epoch [51/100], Step [2/46], Loss: 0.1863\n",
      "Epoch [51/100], Step [3/46], Loss: 0.2448\n",
      "Epoch [51/100], Step [4/46], Loss: 0.2253\n",
      "Epoch [51/100], Step [5/46], Loss: 0.1668\n",
      "Epoch [51/100], Step [6/46], Loss: 0.2253\n",
      "Epoch [51/100], Step [7/46], Loss: 0.1668\n",
      "Epoch [51/100], Step [8/46], Loss: 0.2253\n",
      "Epoch [51/100], Step [9/46], Loss: 0.1863\n",
      "Epoch [51/100], Step [10/46], Loss: 0.1863\n",
      "Epoch [51/100], Step [11/46], Loss: 0.2253\n",
      "Epoch [51/100], Step [12/46], Loss: 0.2448\n",
      "Epoch [51/100], Step [13/46], Loss: 0.2838\n",
      "Epoch [51/100], Step [14/46], Loss: 0.2448\n",
      "Epoch [51/100], Step [15/46], Loss: 0.1668\n",
      "Epoch [51/100], Step [16/46], Loss: 0.2253\n",
      "Epoch [51/100], Step [17/46], Loss: 0.3227\n",
      "Epoch [51/100], Step [18/46], Loss: 0.2253\n",
      "Epoch [51/100], Step [19/46], Loss: 0.1863\n",
      "Epoch [51/100], Step [20/46], Loss: 0.3033\n",
      "Epoch [51/100], Step [21/46], Loss: 0.2643\n",
      "Epoch [51/100], Step [22/46], Loss: 0.2448\n",
      "Epoch [51/100], Step [23/46], Loss: 0.2253\n",
      "Epoch [51/100], Step [24/46], Loss: 0.1863\n",
      "Epoch [51/100], Step [25/46], Loss: 0.2448\n",
      "Epoch [51/100], Step [26/46], Loss: 0.2643\n",
      "Epoch [51/100], Step [27/46], Loss: 0.2253\n",
      "Epoch [51/100], Step [28/46], Loss: 0.1863\n",
      "Epoch [51/100], Step [29/46], Loss: 0.2448\n",
      "Epoch [51/100], Step [30/46], Loss: 0.1863\n",
      "Epoch [51/100], Step [31/46], Loss: 0.3033\n",
      "Epoch [51/100], Step [32/46], Loss: 0.1083\n",
      "Epoch [51/100], Step [33/46], Loss: 0.1668\n",
      "Epoch [51/100], Step [34/46], Loss: 0.2838\n",
      "Epoch [51/100], Step [35/46], Loss: 0.2058\n",
      "Epoch [51/100], Step [36/46], Loss: 0.2253\n",
      "Epoch [51/100], Step [37/46], Loss: 0.2448\n",
      "Epoch [51/100], Step [38/46], Loss: 0.1863\n",
      "Epoch [51/100], Step [39/46], Loss: 0.3033\n",
      "Epoch [51/100], Step [40/46], Loss: 0.1863\n",
      "Epoch [51/100], Step [41/46], Loss: 0.3227\n",
      "Epoch [51/100], Step [42/46], Loss: 0.1668\n",
      "Epoch [51/100], Step [43/46], Loss: 0.2448\n",
      "Epoch [51/100], Step [44/46], Loss: 0.2448\n",
      "Epoch [51/100], Step [45/46], Loss: 0.1863\n",
      "Epoch [51/100], Step [46/46], Loss: 0.2373\n",
      "val_result_listttttt [{'bug_id': 14884.0, 'binary_severity': 0.0, 'prediction': 0.0}, {'bug_id': 13815.0, 'binary_severity': 0.0, 'prediction': 0.0}, {'bug_id': 10002.0, 'binary_severity': 0.0, 'prediction': 0.0}, {'bug_id': 6493.0, 'binary_severity': 1.0, 'prediction': 0.0}, {'bug_id': 10377.0, 'binary_severity': 1.0, 'prediction': 0.0}, {'bug_id': 3987.0, 'binary_severity': 1.0, 'prediction': 0.0}, {'bug_id': 7400.0, 'binary_severity': 1.0, 'prediction': 0.0}, {'bug_id': 12294.0, 'binary_severity': 1.0, 'prediction': 0.0}, {'bug_id': 13770.0, 'binary_severity': 1.0, 'prediction': 0.0}, {'bug_id': 14828.0, 'binary_severity': 1.0, 'prediction': 0.0}, {'bug_id': 13974.0, 'binary_severity': 1.0, 'prediction': 0.0}, {'bug_id': 14227.0, 'binary_severity': 1.0, 'prediction': 0.0}, {'bug_id': 16885.0, 'binary_severity': 1.0, 'prediction': 0.0}, {'bug_id': 14740.0, 'binary_severity': 1.0, 'prediction': 0.0}, {'bug_id': 10976.0, 'binary_severity': 0.0, 'prediction': 0.0}, {'bug_id': 17203.0, 'binary_severity': 1.0, 'prediction': 0.0}, {'bug_id': 11986.0, 'binary_severity': 1.0, 'prediction': 0.0}, {'bug_id': 13346.0, 'binary_severity': 1.0, 'prediction': 0.0}, {'bug_id': 3688.0, 'binary_severity': 1.0, 'prediction': 0.0}, {'bug_id': 8419.0, 'binary_severity': 0.0, 'prediction': 0.0}, {'bug_id': 13335.0, 'binary_severity': 1.0, 'prediction': 0.0}, {'bug_id': 10610.0, 'binary_severity': 1.0, 'prediction': 0.0}, {'bug_id': 5449.0, 'binary_severity': 0.0, 'prediction': 0.0}, {'bug_id': 12341.0, 'binary_severity': 1.0, 'prediction': 0.0}, {'bug_id': 10041.0, 'binary_severity': 0.0, 'prediction': 0.0}, {'bug_id': 13894.0, 'binary_severity': 1.0, 'prediction': 0.0}, {'bug_id': 10885.0, 'binary_severity': 1.0, 'prediction': 0.0}, {'bug_id': 13182.0, 'binary_severity': 1.0, 'prediction': 0.0}, {'bug_id': 4802.0, 'binary_severity': 0.0, 'prediction': 0.0}, {'bug_id': 7009.0, 'binary_severity': 1.0, 'prediction': 0.0}, {'bug_id': 12260.0, 'binary_severity': 1.0, 'prediction': 0.0}, {'bug_id': 14314.0, 'binary_severity': 1.0, 'prediction': 0.0}, {'bug_id': 3937.0, 'binary_severity': 0.0, 'prediction': 0.0}, {'bug_id': 15525.0, 'binary_severity': 1.0, 'prediction': 0.0}, {'bug_id': 16023.0, 'binary_severity': 1.0, 'prediction': 0.0}, {'bug_id': 16564.0, 'binary_severity': 1.0, 'prediction': 0.0}, {'bug_id': 15012.0, 'binary_severity': 1.0, 'prediction': 0.0}, {'bug_id': 14298.0, 'binary_severity': 1.0, 'prediction': 0.0}, {'bug_id': 4026.0, 'binary_severity': 1.0, 'prediction': 0.0}, {'bug_id': 6722.0, 'binary_severity': 0.0, 'prediction': 0.0}, {'bug_id': 16098.0, 'binary_severity': 1.0, 'prediction': 0.0}, {'bug_id': 3527.0, 'binary_severity': 0.0, 'prediction': 0.0}, {'bug_id': 16623.0, 'binary_severity': 1.0, 'prediction': 0.0}, {'bug_id': 6927.0, 'binary_severity': 1.0, 'prediction': 0.0}, {'bug_id': 7238.0, 'binary_severity': 0.0, 'prediction': 0.0}, {'bug_id': 16762.0, 'binary_severity': 0.0, 'prediction': 0.0}, {'bug_id': 6937.0, 'binary_severity': 1.0, 'prediction': 0.0}, {'bug_id': 12140.0, 'binary_severity': 0.0, 'prediction': 0.0}, {'bug_id': 4054.0, 'binary_severity': 1.0, 'prediction': 0.0}, {'bug_id': 10549.0, 'binary_severity': 1.0, 'prediction': 0.0}, {'bug_id': 6735.0, 'binary_severity': 1.0, 'prediction': 0.0}, {'bug_id': 13879.0, 'binary_severity': 1.0, 'prediction': 0.0}, {'bug_id': 1883.0, 'binary_severity': 1.0, 'prediction': 0.0}, {'bug_id': 7798.0, 'binary_severity': 0.0, 'prediction': 0.0}, {'bug_id': 7073.0, 'binary_severity': 1.0, 'prediction': 0.0}, {'bug_id': 4531.0, 'binary_severity': 1.0, 'prediction': 0.0}, {'bug_id': 9668.0, 'binary_severity': 1.0, 'prediction': 0.0}, {'bug_id': 14720.0, 'binary_severity': 1.0, 'prediction': 0.0}, {'bug_id': 9957.0, 'binary_severity': 0.0, 'prediction': 0.0}, {'bug_id': 6991.0, 'binary_severity': 1.0, 'prediction': 0.0}, {'bug_id': 16568.0, 'binary_severity': 1.0, 'prediction': 0.0}, {'bug_id': 5438.0, 'binary_severity': 0.0, 'prediction': 0.0}, {'bug_id': 11107.0, 'binary_severity': 0.0, 'prediction': 0.0}, {'bug_id': 16962.0, 'binary_severity': 1.0, 'prediction': 0.0}, {'bug_id': 16463.0, 'binary_severity': 1.0, 'prediction': 0.0}, {'bug_id': 10531.0, 'binary_severity': 1.0, 'prediction': 0.0}, {'bug_id': 14708.0, 'binary_severity': 1.0, 'prediction': 0.0}, {'bug_id': 10508.0, 'binary_severity': 0.0, 'prediction': 0.0}, {'bug_id': 6746.0, 'binary_severity': 1.0, 'prediction': 0.0}, {'bug_id': 5503.0, 'binary_severity': 1.0, 'prediction': 0.0}, {'bug_id': 4057.0, 'binary_severity': 1.0, 'prediction': 0.0}, {'bug_id': 12422.0, 'binary_severity': 0.0, 'prediction': 0.0}, {'bug_id': 14908.0, 'binary_severity': 1.0, 'prediction': 0.0}, {'bug_id': 14968.0, 'binary_severity': 1.0, 'prediction': 0.0}, {'bug_id': 9311.0, 'binary_severity': 0.0, 'prediction': 0.0}, {'bug_id': 11502.0, 'binary_severity': 0.0, 'prediction': 0.0}, {'bug_id': 11217.0, 'binary_severity': 0.0, 'prediction': 0.0}, {'bug_id': 4007.0, 'binary_severity': 0.0, 'prediction': 0.0}, {'bug_id': 3212.0, 'binary_severity': 0.0, 'prediction': 0.0}, {'bug_id': 9494.0, 'binary_severity': 1.0, 'prediction': 0.0}, {'bug_id': 10156.0, 'binary_severity': 0.0, 'prediction': 0.0}, {'bug_id': 16071.0, 'binary_severity': 1.0, 'prediction': 0.0}, {'bug_id': 16118.0, 'binary_severity': 1.0, 'prediction': 0.0}, {'bug_id': 17147.0, 'binary_severity': 0.0, 'prediction': 0.0}, {'bug_id': 8455.0, 'binary_severity': 0.0, 'prediction': 0.0}, {'bug_id': 9443.0, 'binary_severity': 0.0, 'prediction': 0.0}, {'bug_id': 4975.0, 'binary_severity': 0.0, 'prediction': 0.0}, {'bug_id': 9423.0, 'binary_severity': 1.0, 'prediction': 0.0}, {'bug_id': 9436.0, 'binary_severity': 1.0, 'prediction': 0.0}, {'bug_id': 7205.0, 'binary_severity': 1.0, 'prediction': 0.0}, {'bug_id': 15897.0, 'binary_severity': 1.0, 'prediction': 0.0}, {'bug_id': 11305.0, 'binary_severity': 1.0, 'prediction': 0.0}, {'bug_id': 9730.0, 'binary_severity': 0.0, 'prediction': 0.0}, {'bug_id': 6190.0, 'binary_severity': 0.0, 'prediction': 0.0}, {'bug_id': 8584.0, 'binary_severity': 0.0, 'prediction': 0.0}, {'bug_id': 15888.0, 'binary_severity': 1.0, 'prediction': 0.0}, {'bug_id': 1678.0, 'binary_severity': 0.0, 'prediction': 0.0}, {'bug_id': 10567.0, 'binary_severity': 0.0, 'prediction': 0.0}, {'bug_id': 11741.0, 'binary_severity': 1.0, 'prediction': 0.0}, {'bug_id': 9261.0, 'binary_severity': 1.0, 'prediction': 0.0}, {'bug_id': 6024.0, 'binary_severity': 1.0, 'prediction': 0.0}, {'bug_id': 8121.0, 'binary_severity': 1.0, 'prediction': 0.0}, {'bug_id': 8579.0, 'binary_severity': 1.0, 'prediction': 0.0}, {'bug_id': 16280.0, 'binary_severity': 1.0, 'prediction': 0.0}, {'bug_id': 15486.0, 'binary_severity': 1.0, 'prediction': 0.0}, {'bug_id': 6888.0, 'binary_severity': 0.0, 'prediction': 0.0}, {'bug_id': 14206.0, 'binary_severity': 1.0, 'prediction': 0.0}, {'bug_id': 10103.0, 'binary_severity': 1.0, 'prediction': 0.0}, {'bug_id': 6483.0, 'binary_severity': 1.0, 'prediction': 0.0}, {'bug_id': 11585.0, 'binary_severity': 1.0, 'prediction': 0.0}, {'bug_id': 14909.0, 'binary_severity': 1.0, 'prediction': 0.0}, {'bug_id': 7646.0, 'binary_severity': 1.0, 'prediction': 0.0}, {'bug_id': 16458.0, 'binary_severity': 0.0, 'prediction': 0.0}, {'bug_id': 9350.0, 'binary_severity': 1.0, 'prediction': 0.0}, {'bug_id': 4563.0, 'binary_severity': 0.0, 'prediction': 0.0}, {'bug_id': 16858.0, 'binary_severity': 0.0, 'prediction': 0.0}, {'bug_id': 12043.0, 'binary_severity': 1.0, 'prediction': 0.0}, {'bug_id': 11796.0, 'binary_severity': 1.0, 'prediction': 0.0}, {'bug_id': 10884.0, 'binary_severity': 1.0, 'prediction': 0.0}, {'bug_id': 7393.0, 'binary_severity': 0.0, 'prediction': 0.0}, {'bug_id': 13800.0, 'binary_severity': 1.0, 'prediction': 0.0}, {'bug_id': 15600.0, 'binary_severity': 1.0, 'prediction': 0.0}, {'bug_id': 7904.0, 'binary_severity': 1.0, 'prediction': 0.0}, {'bug_id': 2469.0, 'binary_severity': 0.0, 'prediction': 0.0}, {'bug_id': 6513.0, 'binary_severity': 1.0, 'prediction': 0.0}, {'bug_id': 4096.0, 'binary_severity': 1.0, 'prediction': 0.0}, {'bug_id': 16583.0, 'binary_severity': 1.0, 'prediction': 0.0}, {'bug_id': 6738.0, 'binary_severity': 1.0, 'prediction': 0.0}, {'bug_id': 13862.0, 'binary_severity': 1.0, 'prediction': 0.0}, {'bug_id': 5585.0, 'binary_severity': 1.0, 'prediction': 0.0}, {'bug_id': 16114.0, 'binary_severity': 1.0, 'prediction': 0.0}, {'bug_id': 3942.0, 'binary_severity': 0.0, 'prediction': 0.0}, {'bug_id': 10863.0, 'binary_severity': 1.0, 'prediction': 0.0}, {'bug_id': 6392.0, 'binary_severity': 0.0, 'prediction': 0.0}, {'bug_id': 5878.0, 'binary_severity': 0.0, 'prediction': 0.0}, {'bug_id': 6570.0, 'binary_severity': 1.0, 'prediction': 0.0}, {'bug_id': 9618.0, 'binary_severity': 1.0, 'prediction': 0.0}, {'bug_id': 12670.0, 'binary_severity': 1.0, 'prediction': 0.0}, {'bug_id': 10225.0, 'binary_severity': 0.0, 'prediction': 0.0}, {'bug_id': 10008.0, 'binary_severity': 1.0, 'prediction': 0.0}, {'bug_id': 6551.0, 'binary_severity': 0.0, 'prediction': 0.0}, {'bug_id': 15574.0, 'binary_severity': 1.0, 'prediction': 0.0}, {'bug_id': 5399.0, 'binary_severity': 1.0, 'prediction': 0.0}, {'bug_id': 8758.0, 'binary_severity': 1.0, 'prediction': 0.0}, {'bug_id': 12407.0, 'binary_severity': 1.0, 'prediction': 0.0}, {'bug_id': 11394.0, 'binary_severity': 1.0, 'prediction': 0.0}, {'bug_id': 9498.0, 'binary_severity': 1.0, 'prediction': 0.0}, {'bug_id': 13189.0, 'binary_severity': 1.0, 'prediction': 0.0}, {'bug_id': 12945.0, 'binary_severity': 0.0, 'prediction': 0.0}, {'bug_id': 10624.0, 'binary_severity': 0.0, 'prediction': 0.0}, {'bug_id': 10520.0, 'binary_severity': 1.0, 'prediction': 0.0}, {'bug_id': 17102.0, 'binary_severity': 1.0, 'prediction': 0.0}, {'bug_id': 16847.0, 'binary_severity': 1.0, 'prediction': 0.0}, {'bug_id': 3834.0, 'binary_severity': 1.0, 'prediction': 0.0}, {'bug_id': 3729.0, 'binary_severity': 0.0, 'prediction': 0.0}, {'bug_id': 16533.0, 'binary_severity': 1.0, 'prediction': 0.0}, {'bug_id': 3674.0, 'binary_severity': 1.0, 'prediction': 0.0}, {'bug_id': 3550.0, 'binary_severity': 0.0, 'prediction': 0.0}, {'bug_id': 15110.0, 'binary_severity': 1.0, 'prediction': 0.0}, {'bug_id': 15364.0, 'binary_severity': 1.0, 'prediction': 0.0}, {'bug_id': 10275.0, 'binary_severity': 1.0, 'prediction': 0.0}, {'bug_id': 11866.0, 'binary_severity': 0.0, 'prediction': 0.0}, {'bug_id': 15488.0, 'binary_severity': 1.0, 'prediction': 0.0}, {'bug_id': 13898.0, 'binary_severity': 1.0, 'prediction': 0.0}, {'bug_id': 10523.0, 'binary_severity': 0.0, 'prediction': 0.0}, {'bug_id': 15233.0, 'binary_severity': 1.0, 'prediction': 0.0}, {'bug_id': 15873.0, 'binary_severity': 0.0, 'prediction': 0.0}, {'bug_id': 7597.0, 'binary_severity': 1.0, 'prediction': 0.0}, {'bug_id': 4916.0, 'binary_severity': 1.0, 'prediction': 0.0}, {'bug_id': 14089.0, 'binary_severity': 1.0, 'prediction': 0.0}, {'bug_id': 14565.0, 'binary_severity': 1.0, 'prediction': 0.0}, {'bug_id': 7417.0, 'binary_severity': 1.0, 'prediction': 0.0}, {'bug_id': 16059.0, 'binary_severity': 1.0, 'prediction': 0.0}, {'bug_id': 7940.0, 'binary_severity': 1.0, 'prediction': 0.0}, {'bug_id': 15958.0, 'binary_severity': 1.0, 'prediction': 0.0}, {'bug_id': 10684.0, 'binary_severity': 0.0, 'prediction': 0.0}, {'bug_id': 10799.0, 'binary_severity': 1.0, 'prediction': 0.0}, {'bug_id': 16382.0, 'binary_severity': 1.0, 'prediction': 0.0}, {'bug_id': 12231.0, 'binary_severity': 1.0, 'prediction': 0.0}, {'bug_id': 8543.0, 'binary_severity': 1.0, 'prediction': 0.0}, {'bug_id': 13682.0, 'binary_severity': 1.0, 'prediction': 0.0}, {'bug_id': 5549.0, 'binary_severity': 0.0, 'prediction': 0.0}, {'bug_id': 3921.0, 'binary_severity': 1.0, 'prediction': 0.0}, {'bug_id': 14036.0, 'binary_severity': 1.0, 'prediction': 0.0}, {'bug_id': 3846.0, 'binary_severity': 0.0, 'prediction': 0.0}, {'bug_id': 3695.0, 'binary_severity': 1.0, 'prediction': 0.0}, {'bug_id': 3899.0, 'binary_severity': 1.0, 'prediction': 0.0}, {'bug_id': 10560.0, 'binary_severity': 0.0, 'prediction': 0.0}, {'bug_id': 6444.0, 'binary_severity': 1.0, 'prediction': 0.0}, {'bug_id': 3769.0, 'binary_severity': 1.0, 'prediction': 0.0}, {'bug_id': 15078.0, 'binary_severity': 1.0, 'prediction': 0.0}, {'bug_id': 3459.0, 'binary_severity': 0.0, 'prediction': 0.0}, {'bug_id': 5320.0, 'binary_severity': 1.0, 'prediction': 0.0}, {'bug_id': 3972.0, 'binary_severity': 1.0, 'prediction': 0.0}, {'bug_id': 16035.0, 'binary_severity': 0.0, 'prediction': 0.0}, {'bug_id': 16961.0, 'binary_severity': 1.0, 'prediction': 0.0}, {'bug_id': 3668.0, 'binary_severity': 1.0, 'prediction': 0.0}, {'bug_id': 3923.0, 'binary_severity': 1.0, 'prediction': 0.0}, {'bug_id': 5846.0, 'binary_severity': 1.0, 'prediction': 0.0}, {'bug_id': 2588.0, 'binary_severity': 1.0, 'prediction': 0.0}, {'bug_id': 8853.0, 'binary_severity': 1.0, 'prediction': 0.0}, {'bug_id': 3525.0, 'binary_severity': 1.0, 'prediction': 0.0}, {'bug_id': 14477.0, 'binary_severity': 1.0, 'prediction': 0.0}, {'bug_id': 3726.0, 'binary_severity': 1.0, 'prediction': 0.0}, {'bug_id': 4015.0, 'binary_severity': 0.0, 'prediction': 0.0}, {'bug_id': 12492.0, 'binary_severity': 1.0, 'prediction': 0.0}, {'bug_id': 10048.0, 'binary_severity': 1.0, 'prediction': 0.0}, {'bug_id': 13152.0, 'binary_severity': 1.0, 'prediction': 0.0}, {'bug_id': 14981.0, 'binary_severity': 1.0, 'prediction': 0.0}, {'bug_id': 5742.0, 'binary_severity': 0.0, 'prediction': 0.0}, {'bug_id': 12999.0, 'binary_severity': 0.0, 'prediction': 0.0}, {'bug_id': 9589.0, 'binary_severity': 1.0, 'prediction': 0.0}, {'bug_id': 9783.0, 'binary_severity': 1.0, 'prediction': 0.0}, {'bug_id': 8939.0, 'binary_severity': 1.0, 'prediction': 0.0}, {'bug_id': 4333.0, 'binary_severity': 1.0, 'prediction': 0.0}, {'bug_id': 3714.0, 'binary_severity': 1.0, 'prediction': 0.0}, {'bug_id': 7909.0, 'binary_severity': 1.0, 'prediction': 0.0}, {'bug_id': 10420.0, 'binary_severity': 1.0, 'prediction': 0.0}, {'bug_id': 5719.0, 'binary_severity': 0.0, 'prediction': 0.0}, {'bug_id': 15336.0, 'binary_severity': 1.0, 'prediction': 0.0}, {'bug_id': 3753.0, 'binary_severity': 1.0, 'prediction': 0.0}, {'bug_id': 3958.0, 'binary_severity': 1.0, 'prediction': 0.0}, {'bug_id': 6164.0, 'binary_severity': 0.0, 'prediction': 0.0}, {'bug_id': 17159.0, 'binary_severity': 1.0, 'prediction': 0.0}, {'bug_id': 5303.0, 'binary_severity': 1.0, 'prediction': 0.0}, {'bug_id': 5638.0, 'binary_severity': 0.0, 'prediction': 0.0}, {'bug_id': 1680.0, 'binary_severity': 0.0, 'prediction': 0.0}, {'bug_id': 2743.0, 'binary_severity': 0.0, 'prediction': 0.0}, {'bug_id': 15069.0, 'binary_severity': 1.0, 'prediction': 0.0}, {'bug_id': 10417.0, 'binary_severity': 1.0, 'prediction': 0.0}, {'bug_id': 6973.0, 'binary_severity': 0.0, 'prediction': 0.0}, {'bug_id': 16283.0, 'binary_severity': 1.0, 'prediction': 0.0}, {'bug_id': 14179.0, 'binary_severity': 1.0, 'prediction': 0.0}, {'bug_id': 3754.0, 'binary_severity': 1.0, 'prediction': 0.0}, {'bug_id': 16538.0, 'binary_severity': 1.0, 'prediction': 0.0}, {'bug_id': 12208.0, 'binary_severity': 1.0, 'prediction': 0.0}, {'bug_id': 195.0, 'binary_severity': 1.0, 'prediction': 0.0}, {'bug_id': 8242.0, 'binary_severity': 1.0, 'prediction': 0.0}, {'bug_id': 16742.0, 'binary_severity': 1.0, 'prediction': 0.0}, {'bug_id': 14185.0, 'binary_severity': 0.0, 'prediction': 0.0}, {'bug_id': 10319.0, 'binary_severity': 0.0, 'prediction': 0.0}, {'bug_id': 8468.0, 'binary_severity': 1.0, 'prediction': 0.0}, {'bug_id': 15908.0, 'binary_severity': 1.0, 'prediction': 0.0}, {'bug_id': 5353.0, 'binary_severity': 1.0, 'prediction': 0.0}, {'bug_id': 14156.0, 'binary_severity': 1.0, 'prediction': 0.0}, {'bug_id': 15614.0, 'binary_severity': 1.0, 'prediction': 0.0}, {'bug_id': 12324.0, 'binary_severity': 1.0, 'prediction': 0.0}, {'bug_id': 14268.0, 'binary_severity': 1.0, 'prediction': 0.0}, {'bug_id': 9185.0, 'binary_severity': 1.0, 'prediction': 0.0}, {'bug_id': 16215.0, 'binary_severity': 1.0, 'prediction': 0.0}, {'bug_id': 6437.0, 'binary_severity': 1.0, 'prediction': 0.0}, {'bug_id': 4059.0, 'binary_severity': 1.0, 'prediction': 0.0}, {'bug_id': 5363.0, 'binary_severity': 0.0, 'prediction': 0.0}, {'bug_id': 15413.0, 'binary_severity': 1.0, 'prediction': 0.0}, {'bug_id': 12517.0, 'binary_severity': 1.0, 'prediction': 0.0}, {'bug_id': 6447.0, 'binary_severity': 1.0, 'prediction': 0.0}, {'bug_id': 7613.0, 'binary_severity': 1.0, 'prediction': 0.0}, {'bug_id': 15550.0, 'binary_severity': 0.0, 'prediction': 0.0}, {'bug_id': 10485.0, 'binary_severity': 0.0, 'prediction': 0.0}, {'bug_id': 5562.0, 'binary_severity': 1.0, 'prediction': 0.0}, {'bug_id': 5145.0, 'binary_severity': 1.0, 'prediction': 0.0}, {'bug_id': 5356.0, 'binary_severity': 0.0, 'prediction': 0.0}, {'bug_id': 16276.0, 'binary_severity': 1.0, 'prediction': 0.0}, {'bug_id': 5225.0, 'binary_severity': 1.0, 'prediction': 0.0}, {'bug_id': 5888.0, 'binary_severity': 1.0, 'prediction': 0.0}, {'bug_id': 5539.0, 'binary_severity': 0.0, 'prediction': 0.0}, {'bug_id': 12718.0, 'binary_severity': 1.0, 'prediction': 0.0}, {'bug_id': 14680.0, 'binary_severity': 1.0, 'prediction': 0.0}, {'bug_id': 3887.0, 'binary_severity': 0.0, 'prediction': 0.0}, {'bug_id': 8542.0, 'binary_severity': 0.0, 'prediction': 0.0}, {'bug_id': 7467.0, 'binary_severity': 0.0, 'prediction': 0.0}, {'bug_id': 12402.0, 'binary_severity': 1.0, 'prediction': 0.0}, {'bug_id': 3869.0, 'binary_severity': 1.0, 'prediction': 0.0}, {'bug_id': 7211.0, 'binary_severity': 1.0, 'prediction': 0.0}, {'bug_id': 7890.0, 'binary_severity': 1.0, 'prediction': 0.0}, {'bug_id': 3757.0, 'binary_severity': 0.0, 'prediction': 0.0}, {'bug_id': 13246.0, 'binary_severity': 1.0, 'prediction': 0.0}, {'bug_id': 1648.0, 'binary_severity': 0.0, 'prediction': 0.0}, {'bug_id': 3874.0, 'binary_severity': 1.0, 'prediction': 0.0}, {'bug_id': 14042.0, 'binary_severity': 1.0, 'prediction': 0.0}, {'bug_id': 8441.0, 'binary_severity': 1.0, 'prediction': 0.0}, {'bug_id': 8436.0, 'binary_severity': 0.0, 'prediction': 0.0}, {'bug_id': 9364.0, 'binary_severity': 1.0, 'prediction': 0.0}, {'bug_id': 4759.0, 'binary_severity': 0.0, 'prediction': 0.0}, {'bug_id': 3504.0, 'binary_severity': 1.0, 'prediction': 0.0}, {'bug_id': 3750.0, 'binary_severity': 0.0, 'prediction': 0.0}, {'bug_id': 15033.0, 'binary_severity': 0.0, 'prediction': 0.0}, {'bug_id': 9836.0, 'binary_severity': 0.0, 'prediction': 0.0}, {'bug_id': 5314.0, 'binary_severity': 1.0, 'prediction': 0.0}, {'bug_id': 9719.0, 'binary_severity': 1.0, 'prediction': 0.0}, {'bug_id': 14257.0, 'binary_severity': 1.0, 'prediction': 0.0}, {'bug_id': 3853.0, 'binary_severity': 1.0, 'prediction': 0.0}, {'bug_id': 9747.0, 'binary_severity': 1.0, 'prediction': 0.0}, {'bug_id': 3675.0, 'binary_severity': 1.0, 'prediction': 0.0}, {'bug_id': 14652.0, 'binary_severity': 0.0, 'prediction': 0.0}, {'bug_id': 14727.0, 'binary_severity': 1.0, 'prediction': 0.0}, {'bug_id': 10507.0, 'binary_severity': 0.0, 'prediction': 0.0}, {'bug_id': 8535.0, 'binary_severity': 0.0, 'prediction': 0.0}, {'bug_id': 8526.0, 'binary_severity': 1.0, 'prediction': 0.0}, {'bug_id': 15803.0, 'binary_severity': 1.0, 'prediction': 0.0}, {'bug_id': 1692.0, 'binary_severity': 0.0, 'prediction': 0.0}, {'bug_id': 6982.0, 'binary_severity': 1.0, 'prediction': 0.0}, {'bug_id': 17086.0, 'binary_severity': 1.0, 'prediction': 0.0}, {'bug_id': 11584.0, 'binary_severity': 1.0, 'prediction': 0.0}, {'bug_id': 7357.0, 'binary_severity': 0.0, 'prediction': 0.0}, {'bug_id': 17024.0, 'binary_severity': 1.0, 'prediction': 0.0}, {'bug_id': 1682.0, 'binary_severity': 0.0, 'prediction': 0.0}, {'bug_id': 2318.0, 'binary_severity': 1.0, 'prediction': 0.0}, {'bug_id': 14658.0, 'binary_severity': 0.0, 'prediction': 0.0}, {'bug_id': 16272.0, 'binary_severity': 0.0, 'prediction': 0.0}, {'bug_id': 5450.0, 'binary_severity': 0.0, 'prediction': 0.0}, {'bug_id': 16286.0, 'binary_severity': 1.0, 'prediction': 0.0}, {'bug_id': 9238.0, 'binary_severity': 1.0, 'prediction': 0.0}, {'bug_id': 10286.0, 'binary_severity': 0.0, 'prediction': 0.0}, {'bug_id': 5667.0, 'binary_severity': 0.0, 'prediction': 0.0}, {'bug_id': 2443.0, 'binary_severity': 1.0, 'prediction': 0.0}, {'bug_id': 15273.0, 'binary_severity': 1.0, 'prediction': 0.0}, {'bug_id': 11798.0, 'binary_severity': 1.0, 'prediction': 0.0}, {'bug_id': 10222.0, 'binary_severity': 1.0, 'prediction': 0.0}, {'bug_id': 14078.0, 'binary_severity': 1.0, 'prediction': 0.0}, {'bug_id': 8662.0, 'binary_severity': 1.0, 'prediction': 0.0}, {'bug_id': 14231.0, 'binary_severity': 0.0, 'prediction': 0.0}, {'bug_id': 10800.0, 'binary_severity': 1.0, 'prediction': 0.0}, {'bug_id': 10963.0, 'binary_severity': 0.0, 'prediction': 0.0}, {'bug_id': 9737.0, 'binary_severity': 1.0, 'prediction': 0.0}, {'bug_id': 11433.0, 'binary_severity': 1.0, 'prediction': 0.0}, {'bug_id': 8090.0, 'binary_severity': 0.0, 'prediction': 0.0}, {'bug_id': 11521.0, 'binary_severity': 1.0, 'prediction': 0.0}, {'bug_id': 11478.0, 'binary_severity': 1.0, 'prediction': 0.0}, {'bug_id': 3968.0, 'binary_severity': 1.0, 'prediction': 0.0}, {'bug_id': 8885.0, 'binary_severity': 1.0, 'prediction': 0.0}, {'bug_id': 5006.0, 'binary_severity': 1.0, 'prediction': 0.0}, {'bug_id': 15572.0, 'binary_severity': 0.0, 'prediction': 0.0}, {'bug_id': 16487.0, 'binary_severity': 1.0, 'prediction': 0.0}, {'bug_id': 3546.0, 'binary_severity': 0.0, 'prediction': 0.0}, {'bug_id': 16830.0, 'binary_severity': 1.0, 'prediction': 0.0}, {'bug_id': 15306.0, 'binary_severity': 1.0, 'prediction': 0.0}, {'bug_id': 16609.0, 'binary_severity': 1.0, 'prediction': 0.0}, {'bug_id': 11876.0, 'binary_severity': 1.0, 'prediction': 0.0}, {'bug_id': 15070.0, 'binary_severity': 1.0, 'prediction': 0.0}, {'bug_id': 345.0, 'binary_severity': 1.0, 'prediction': 0.0}, {'bug_id': 17184.0, 'binary_severity': 1.0, 'prediction': 0.0}, {'bug_id': 10389.0, 'binary_severity': 0.0, 'prediction': 0.0}, {'bug_id': 3733.0, 'binary_severity': 1.0, 'prediction': 0.0}, {'bug_id': 3880.0, 'binary_severity': 1.0, 'prediction': 0.0}, {'bug_id': 7500.0, 'binary_severity': 1.0, 'prediction': 0.0}, {'bug_id': 14713.0, 'binary_severity': 1.0, 'prediction': 0.0}, {'bug_id': 9615.0, 'binary_severity': 0.0, 'prediction': 0.0}, {'bug_id': 16073.0, 'binary_severity': 1.0, 'prediction': 0.0}, {'bug_id': 8001.0, 'binary_severity': 1.0, 'prediction': 0.0}, {'bug_id': 10298.0, 'binary_severity': 0.0, 'prediction': 0.0}, {'bug_id': 3707.0, 'binary_severity': 0.0, 'prediction': 0.0}, {'bug_id': 5509.0, 'binary_severity': 1.0, 'prediction': 0.0}, {'bug_id': 10632.0, 'binary_severity': 1.0, 'prediction': 0.0}, {'bug_id': 10231.0, 'binary_severity': 1.0, 'prediction': 0.0}, {'bug_id': 14202.0, 'binary_severity': 1.0, 'prediction': 0.0}, {'bug_id': 6428.0, 'binary_severity': 0.0, 'prediction': 0.0}, {'bug_id': 6790.0, 'binary_severity': 1.0, 'prediction': 0.0}, {'bug_id': 11781.0, 'binary_severity': 1.0, 'prediction': 0.0}, {'bug_id': 14419.0, 'binary_severity': 1.0, 'prediction': 0.0}, {'bug_id': 4113.0, 'binary_severity': 1.0, 'prediction': 0.0}, {'bug_id': 5420.0, 'binary_severity': 1.0, 'prediction': 0.0}, {'bug_id': 12122.0, 'binary_severity': 0.0, 'prediction': 0.0}, {'bug_id': 2606.0, 'binary_severity': 1.0, 'prediction': 0.0}, {'bug_id': 9076.0, 'binary_severity': 1.0, 'prediction': 0.0}, {'bug_id': 9463.0, 'binary_severity': 1.0, 'prediction': 0.0}, {'bug_id': 16561.0, 'binary_severity': 1.0, 'prediction': 0.0}, {'bug_id': 16981.0, 'binary_severity': 1.0, 'prediction': 0.0}, {'bug_id': 15381.0, 'binary_severity': 1.0, 'prediction': 0.0}, {'bug_id': 7185.0, 'binary_severity': 1.0, 'prediction': 0.0}, {'bug_id': 2724.0, 'binary_severity': 1.0, 'prediction': 0.0}, {'bug_id': 11066.0, 'binary_severity': 0.0, 'prediction': 0.0}, {'bug_id': 3820.0, 'binary_severity': 1.0, 'prediction': 0.0}, {'bug_id': 9956.0, 'binary_severity': 1.0, 'prediction': 0.0}, {'bug_id': 3935.0, 'binary_severity': 1.0, 'prediction': 0.0}, {'bug_id': 4518.0, 'binary_severity': 0.0, 'prediction': 0.0}, {'bug_id': 8626.0, 'binary_severity': 0.0, 'prediction': 0.0}, {'bug_id': 15575.0, 'binary_severity': 1.0, 'prediction': 0.0}, {'bug_id': 3561.0, 'binary_severity': 1.0, 'prediction': 0.0}, {'bug_id': 12148.0, 'binary_severity': 1.0, 'prediction': 0.0}, {'bug_id': 13029.0, 'binary_severity': 1.0, 'prediction': 0.0}, {'bug_id': 9916.0, 'binary_severity': 0.0, 'prediction': 0.0}, {'bug_id': 14166.0, 'binary_severity': 1.0, 'prediction': 0.0}, {'bug_id': 5777.0, 'binary_severity': 1.0, 'prediction': 0.0}, {'bug_id': 11835.0, 'binary_severity': 0.0, 'prediction': 0.0}, {'bug_id': 16421.0, 'binary_severity': 1.0, 'prediction': 0.0}, {'bug_id': 15968.0, 'binary_severity': 1.0, 'prediction': 0.0}, {'bug_id': 15845.0, 'binary_severity': 1.0, 'prediction': 0.0}, {'bug_id': 15167.0, 'binary_severity': 1.0, 'prediction': 0.0}, {'bug_id': 10687.0, 'binary_severity': 1.0, 'prediction': 0.0}, {'bug_id': 16595.0, 'binary_severity': 1.0, 'prediction': 0.0}, {'bug_id': 16430.0, 'binary_severity': 1.0, 'prediction': 0.0}, {'bug_id': 16392.0, 'binary_severity': 1.0, 'prediction': 0.0}, {'bug_id': 10174.0, 'binary_severity': 1.0, 'prediction': 0.0}, {'bug_id': 9795.0, 'binary_severity': 0.0, 'prediction': 0.0}, {'bug_id': 6940.0, 'binary_severity': 1.0, 'prediction': 0.0}, {'bug_id': 9499.0, 'binary_severity': 1.0, 'prediction': 0.0}, {'bug_id': 15542.0, 'binary_severity': 0.0, 'prediction': 0.0}, {'bug_id': 9851.0, 'binary_severity': 1.0, 'prediction': 0.0}, {'bug_id': 16527.0, 'binary_severity': 1.0, 'prediction': 0.0}, {'bug_id': 8119.0, 'binary_severity': 0.0, 'prediction': 0.0}, {'bug_id': 8059.0, 'binary_severity': 1.0, 'prediction': 0.0}, {'bug_id': 10473.0, 'binary_severity': 1.0, 'prediction': 0.0}, {'bug_id': 16393.0, 'binary_severity': 1.0, 'prediction': 0.0}, {'bug_id': 9138.0, 'binary_severity': 1.0, 'prediction': 0.0}, {'bug_id': 3742.0, 'binary_severity': 0.0, 'prediction': 0.0}, {'bug_id': 17058.0, 'binary_severity': 1.0, 'prediction': 0.0}, {'bug_id': 4471.0, 'binary_severity': 1.0, 'prediction': 0.0}, {'bug_id': 6873.0, 'binary_severity': 1.0, 'prediction': 0.0}, {'bug_id': 15456.0, 'binary_severity': 1.0, 'prediction': 0.0}, {'bug_id': 6321.0, 'binary_severity': 1.0, 'prediction': 0.0}, {'bug_id': 8749.0, 'binary_severity': 0.0, 'prediction': 0.0}, {'bug_id': 13228.0, 'binary_severity': 1.0, 'prediction': 0.0}, {'bug_id': 8364.0, 'binary_severity': 1.0, 'prediction': 0.0}, {'bug_id': 15252.0, 'binary_severity': 1.0, 'prediction': 0.0}, {'bug_id': 17112.0, 'binary_severity': 1.0, 'prediction': 0.0}, {'bug_id': 12672.0, 'binary_severity': 1.0, 'prediction': 0.0}, {'bug_id': 10064.0, 'binary_severity': 1.0, 'prediction': 0.0}, {'bug_id': 3906.0, 'binary_severity': 1.0, 'prediction': 0.0}, {'bug_id': 8567.0, 'binary_severity': 1.0, 'prediction': 0.0}, {'bug_id': 10392.0, 'binary_severity': 0.0, 'prediction': 0.0}, {'bug_id': 9708.0, 'binary_severity': 1.0, 'prediction': 0.0}, {'bug_id': 7726.0, 'binary_severity': 0.0, 'prediction': 0.0}, {'bug_id': 10979.0, 'binary_severity': 0.0, 'prediction': 0.0}, {'bug_id': 9441.0, 'binary_severity': 1.0, 'prediction': 0.0}, {'bug_id': 14246.0, 'binary_severity': 0.0, 'prediction': 0.0}, {'bug_id': 7800.0, 'binary_severity': 0.0, 'prediction': 0.0}, {'bug_id': 7877.0, 'binary_severity': 0.0, 'prediction': 0.0}, {'bug_id': 11606.0, 'binary_severity': 1.0, 'prediction': 0.0}, {'bug_id': 10179.0, 'binary_severity': 1.0, 'prediction': 0.0}, {'bug_id': 3572.0, 'binary_severity': 0.0, 'prediction': 0.0}, {'bug_id': 3996.0, 'binary_severity': 0.0, 'prediction': 0.0}, {'bug_id': 14542.0, 'binary_severity': 1.0, 'prediction': 0.0}, {'bug_id': 9090.0, 'binary_severity': 0.0, 'prediction': 0.0}, {'bug_id': 16322.0, 'binary_severity': 1.0, 'prediction': 0.0}, {'bug_id': 16100.0, 'binary_severity': 1.0, 'prediction': 0.0}, {'bug_id': 3608.0, 'binary_severity': 1.0, 'prediction': 0.0}, {'bug_id': 6577.0, 'binary_severity': 1.0, 'prediction': 0.0}, {'bug_id': 16810.0, 'binary_severity': 0.0, 'prediction': 0.0}, {'bug_id': 5410.0, 'binary_severity': 1.0, 'prediction': 0.0}, {'bug_id': 9920.0, 'binary_severity': 1.0, 'prediction': 0.0}]\n",
      "dataaa       bug_id  binary_severity  prediction\n",
      "0    14884.0              0.0         0.0\n",
      "1    13815.0              0.0         0.0\n",
      "2    10002.0              0.0         0.0\n",
      "3     6493.0              1.0         0.0\n",
      "4    10377.0              1.0         0.0\n",
      "..       ...              ...         ...\n",
      "436   3608.0              1.0         0.0\n",
      "437   6577.0              1.0         0.0\n",
      "438  16810.0              0.0         0.0\n",
      "439   5410.0              1.0         0.0\n",
      "440   9920.0              1.0         0.0\n",
      "\n",
      "[441 rows x 3 columns]\n",
      "data[pred_field]]]]]] 0      0.0\n",
      "1      0.0\n",
      "2      0.0\n",
      "3      0.0\n",
      "4      0.0\n",
      "      ... \n",
      "436    0.0\n",
      "437    0.0\n",
      "438    0.0\n",
      "439    0.0\n",
      "440    0.0\n",
      "Name: prediction, Length: 441, dtype: float64\n",
      "Validation F1 Score: 0.1287806202293124\n",
      "dataaa       bug_id  binary_severity  prediction\n",
      "0    13027.0              1.0         0.0\n",
      "1     1748.0              0.0         0.0\n",
      "2    17063.0              1.0         0.0\n",
      "3    10038.0              1.0         0.0\n",
      "4    14087.0              1.0         0.0\n",
      "..       ...              ...         ...\n",
      "230  10495.0              0.0         0.0\n",
      "231   9515.0              1.0         0.0\n",
      "232   7083.0              1.0         0.0\n",
      "233  16254.0              1.0         0.0\n",
      "234   7782.0              0.0         0.0\n",
      "\n",
      "[235 rows x 3 columns]\n",
      "data[pred_field]]]]]] 0      0.0\n",
      "1      0.0\n",
      "2      0.0\n",
      "3      0.0\n",
      "4      0.0\n",
      "      ... \n",
      "230    0.0\n",
      "231    0.0\n",
      "232    0.0\n",
      "233    0.0\n",
      "234    0.0\n",
      "Name: prediction, Length: 235, dtype: float64\n"
     ]
    },
    {
     "data": {
      "text/plain": [
       "0.14371058285397462"
      ]
     },
     "execution_count": 4,
     "metadata": {},
     "output_type": "execute_result"
    }
   ],
   "source": [
    "folder_path= Path('../../data/')\n",
    "hdf5_file_paths= '../../data/embeddings_chunk_v4_eclipse_layer_-1_0.hdf5'\n",
    "# print('hdf5_file_paths', hdf5_file_paths)\n",
    "split_dataset_name= 'split_eclipse_72k.json'\n",
    "dataset_name= 'eclipse_72k.json'\n",
    "\n",
    "train_test_classifier(folder_path,hdf5_file_paths,dataset_name,split_dataset_name)"
   ]
  },
  {
   "cell_type": "code",
   "execution_count": null,
   "metadata": {},
   "outputs": [],
   "source": []
  }
 ],
 "metadata": {
  "kernelspec": {
   "display_name": "Master",
   "language": "python",
   "name": "python3"
  },
  "language_info": {
   "codemirror_mode": {
    "name": "ipython",
    "version": 3
   },
   "file_extension": ".py",
   "mimetype": "text/x-python",
   "name": "python",
   "nbconvert_exporter": "python",
   "pygments_lexer": "ipython3",
   "version": "3.9.17"
  }
 },
 "nbformat": 4,
 "nbformat_minor": 2
}
