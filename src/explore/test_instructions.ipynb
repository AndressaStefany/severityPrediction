{
 "cells": [
  {
   "cell_type": "code",
   "execution_count": 1,
   "metadata": {},
   "outputs": [],
   "source": [
    "import pandas as pd\n",
    "import pyperclip"
   ]
  },
  {
   "cell_type": "code",
   "execution_count": 2,
   "metadata": {},
   "outputs": [],
   "source": [
    "df = pd.read_csv(\"../../data/eclipse_with_instructions.csv\")"
   ]
  },
  {
   "cell_type": "code",
   "execution_count": 6,
   "metadata": {},
   "outputs": [
    {
     "data": {
      "text/plain": [
       "_id                             {'$oid': '52e9b44954dc1c25ebdb1f11'}\n",
       "bug_id                                                            43\n",
       "description        I have a project (Junk) that has been released...\n",
       "bug_severity                                                   major\n",
       "binary_severity                                                    1\n",
       "text               Below is an instruction that describes a task....\n",
       "Name: 0, dtype: object"
      ]
     },
     "execution_count": 6,
     "metadata": {},
     "output_type": "execute_result"
    }
   ],
   "source": [
    "(df.iloc[0])"
   ]
  },
  {
   "cell_type": "markdown",
   "metadata": {},
   "source": [
    "Below is an instruction that describes a task. Write a response that appropriately completes the request.\n",
    "\n",
    "### Instruction:\n",
    "Categorize the bug report into one of 2 categories:\n",
    "\n",
    "0 = NOT SEVERE\n",
    "1 = SEVERE\n",
    "\n",
    "\n",
    "\n",
    "Input:\n",
    "I have a project (Junk) that has been released to a teamstream.\n",
    "I rename the project and attempt to release it to the same teamstream.\n",
    "Compare Failed: Junk does not exist.\n",
    "Project must be renamed back to its old name and the artifacts left by the first rename that are left must be deleted before the\n",
    "project can be released.  When the project IS released, it shows conflicts on all elements after the compare phase.\n",
    "\n",
    "\n",
    "NOTES:\n",
    "\n",
    "KM (5/22/01 9:42:15 PM)\n",
    "\tWe need to flush sync info on rename.\n",
    "\n",
    "Jean-Michel (31/05/2001 6:35:07 PM)\n",
    "\tTime-permitting.\n",
    "\n",
    "### Response:"
   ]
  },
  {
   "cell_type": "code",
   "execution_count": null,
   "metadata": {},
   "outputs": [],
   "source": []
  }
 ],
 "metadata": {
  "kernelspec": {
   "display_name": "severityPrediction",
   "language": "python",
   "name": "python3"
  },
  "language_info": {
   "codemirror_mode": {
    "name": "ipython",
    "version": 3
   },
   "file_extension": ".py",
   "mimetype": "text/x-python",
   "name": "python",
   "nbconvert_exporter": "python",
   "pygments_lexer": "ipython3",
   "version": "3.9.18"
  }
 },
 "nbformat": 4,
 "nbformat_minor": 2
}
