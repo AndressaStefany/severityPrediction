{
 "cells": [
  {
   "cell_type": "code",
   "execution_count": 1,
   "metadata": {},
   "outputs": [],
   "source": [
    "import json"
   ]
  },
  {
   "cell_type": "code",
   "execution_count": 7,
   "metadata": {},
   "outputs": [
    {
     "name": "stdout",
     "output_type": "stream",
     "text": [
      "Minimum of min_not_work values: 7366\n",
      "Maximum of max_work values: 7364\n"
     ]
    }
   ],
   "source": [
    "# Initialize empty lists to store min_not_work and max_work values\n",
    "min_not_work_values = []\n",
    "max_work_values = []\n",
    "\n",
    "# List of JSON file paths\n",
    "json_file_paths = [\"max_tokens_v100l_chunk_0.json\", \n",
    "                   \"max_tokens_v100l_chunk_24225.json\", \n",
    "                   \"max_tokens_v100l_chunk_48450.json\"]\n",
    "\n",
    "# Iterate over each JSON file\n",
    "for file_path in json_file_paths:\n",
    "    with open(file_path, 'r') as json_file:\n",
    "        data = json.load(json_file)\n",
    "        min_not_work_values.append(data[\"min_not_work\"])\n",
    "        max_work_values.append(data[\"max_work\"])\n",
    "\n",
    "# Find the minimum of all \"min_not_work\" values\n",
    "min_min_not_work = max(min_not_work_values)\n",
    "\n",
    "# Find the maximum of all \"max_work\" values\n",
    "max_max_work = max(max_work_values)\n",
    "\n",
    "# Print the results\n",
    "print(f\"Minimum of min_not_work values: {min_min_not_work}\")\n",
    "print(f\"Maximum of max_work values: {max_max_work}\")"
   ]
  },
  {
   "cell_type": "code",
   "execution_count": 8,
   "metadata": {},
   "outputs": [
    {
     "data": {
      "text/plain": [
       "nan"
      ]
     },
     "execution_count": 8,
     "metadata": {},
     "output_type": "execute_result"
    }
   ],
   "source": [
    "my_variable = float('nan')\n",
    "my_variable"
   ]
  },
  {
   "cell_type": "code",
   "execution_count": null,
   "metadata": {},
   "outputs": [],
   "source": []
  }
 ],
 "metadata": {
  "kernelspec": {
   "display_name": "Python 3",
   "language": "python",
   "name": "python3"
  },
  "language_info": {
   "codemirror_mode": {
    "name": "ipython",
    "version": 3
   },
   "file_extension": ".py",
   "mimetype": "text/x-python",
   "name": "python",
   "nbconvert_exporter": "python",
   "pygments_lexer": "ipython3",
   "version": "3.10.11"
  },
  "orig_nbformat": 4
 },
 "nbformat": 4,
 "nbformat_minor": 2
}
