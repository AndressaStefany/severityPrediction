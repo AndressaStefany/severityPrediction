{
 "cells": [
  {
   "cell_type": "code",
   "execution_count": 2,
   "metadata": {},
   "outputs": [],
   "source": [
    "from pathlib import Path\n",
    "import json\n",
    "from tqdm import tqdm\n",
    "import re"
   ]
  },
  {
   "cell_type": "code",
   "execution_count": 3,
   "metadata": {},
   "outputs": [
    {
     "name": "stderr",
     "output_type": "stream",
     "text": [
      "c:\\Users\\dessa\\anaconda3\\envs\\Master\\lib\\site-packages\\tqdm\\auto.py:21: TqdmWarning: IProgress not found. Please update jupyter and ipywidgets. See https://ipywidgets.readthedocs.io/en/stable/user_install.html\n",
      "  from .autonotebook import tqdm as notebook_tqdm\n"
     ]
    },
    {
     "name": "stdout",
     "output_type": "stream",
     "text": [
      "\n",
      "===================================BUG REPORT===================================\n",
      "Welcome to bitsandbytes. For bug reports, please run\n",
      "\n",
      "python -m bitsandbytes\n",
      "\n",
      " and submit this information together with your error trace to: https://github.com/TimDettmers/bitsandbytes/issues\n",
      "================================================================================\n",
      "bin c:\\Users\\dessa\\anaconda3\\envs\\Master\\lib\\site-packages\\bitsandbytes\\libbitsandbytes_cpu.so\n",
      "'NoneType' object has no attribute 'cadam32bit_grad_fp32'\n",
      "CUDA SETUP: Loading binary c:\\Users\\dessa\\anaconda3\\envs\\Master\\lib\\site-packages\\bitsandbytes\\libbitsandbytes_cpu.so...\n",
      "argument of type 'WindowsPath' is not iterable\n"
     ]
    },
    {
     "name": "stderr",
     "output_type": "stream",
     "text": [
      "c:\\Users\\dessa\\anaconda3\\envs\\Master\\lib\\site-packages\\bitsandbytes\\cextension.py:34: UserWarning: The installed version of bitsandbytes was compiled without GPU support. 8-bit optimizers, 8-bit multiplication, and GPU quantization are unavailable.\n",
      "  warn(\"The installed version of bitsandbytes was compiled without GPU support. \"\n"
     ]
    }
   ],
   "source": [
    "import sys\n",
    "sys.path.append('../llm/llama')\n",
    "\n",
    "from main import compute_metrics"
   ]
  },
  {
   "cell_type": "code",
   "execution_count": 3,
   "metadata": {},
   "outputs": [],
   "source": [
    "def classify(answer: str) -> int:\n",
    "    \"\"\"Return 0 if not severe, 1 if severe and -1 if unknown\"\"\"\n",
    "    pattern_severe = \"[sS][eE][vV][eE][rR][eE]\"\n",
    "    pattern_not_severe = \"[nN][oO][tT] *\"+pattern_severe\n",
    "    if re.match(pattern_not_severe, answer) is not None or (\"0\" in answer and \"1\" not in answer):\n",
    "        return 0\n",
    "    elif re.match(pattern_severe, answer) is not None or (\"1\" in answer and \"0\" not in answer):\n",
    "        return 1\n",
    "    return -1"
   ]
  },
  {
   "cell_type": "code",
   "execution_count": 5,
   "metadata": {},
   "outputs": [
    {
     "data": {
      "text/plain": [
       "{'_id': \"{'$oid': '52e9f04954dc1c25ebdf0e27'}\",\n",
       " 'bug_id': 259026,\n",
       " 'description': \"When trying to build a J2ME project I always get the following error:\\n\\nErrors during build.\\n  Errors running builder 'Preverification' on project 'myProject'.\\n  E:\\\\Program Files\\\\workspace\\\\myProject\\\\.mtj.tmp\\\\emulation\\\\myProject.jar (could not reassemble archive file - all changes are lost)\\n  E:\\\\Program Files\\\\workspace\\\\myProject\\\\.mtj.tmp\\\\emulation\\\\myProject.jar (could not reassemble archive file - all changes are lost)\\n\\n\\nBuild Date & Platform:\\n \\n Installation : eclipse-SDK-3.4.0 (I20080617-2000) \\n MTJ install  : Runtime | Examples\\n java.runtime : Java(TM) SE Runtime Environment (build 1.6.0_11-b03)\\n os.name:     : Windows XP Professional, Service Pack 3\",\n",
       " 'bug_severity': 'critical',\n",
       " 'binary_severity': 1,\n",
       " 'text': \"Always answer with one token. Do not give any explanation. Use only 0 or 1 and one token. Skip any politeness answer. You have only one word available.\\n\\n\\nBelow is an instruction that describes a task. Write a response that appropriately completes the request.\\n\\n### Instruction:\\nCategorize the bug report into one of 2 categories:\\n\\n0 = NOT SEVERE\\n1 = SEVERE\\n\\n\\n### Input:\\nWhen trying to build a J2ME project I always get the following error:\\n\\nErrors during build.\\n  Errors running builder 'Preverification' on project 'myProject'.\\n  E:\\\\Program Files\\\\workspace\\\\myProject\\\\.mtj.tmp\\\\emulation\\\\myProject.jar (could not reassemble archive file - all changes are lost)\\n  E:\\\\Program Files\\\\workspace\\\\myProject\\\\.mtj.tmp\\\\emulation\\\\myProject.jar (could not reassemble archive file - all changes are lost)\\n\\n\\nBuild Date & Platform:\\n \\n Installation : eclipse-SDK-3.4.0 (I20080617-2000) \\n MTJ install  : Runtime | Examples\\n java.runtime : Java(TM) SE Runtime Environment (build 1.6.0_11-b03)\\n os.name:     : Windows XP Professional, Service Pack 3\\n\\n### Response:\",\n",
       " 'answer': '\\n\\n0',\n",
       " 'severity_pred': 1}"
      ]
     },
     "metadata": {},
     "output_type": "display_data"
    }
   ],
   "source": [
    "data_path = Path('../../../predictions/02/predictions_v100l_chunk_50166.json')\n",
    "with open(data_path) as f:\n",
    "    data = json.load(f)\n",
    "display(data[0])"
   ]
  },
  {
   "cell_type": "code",
   "execution_count": 6,
   "metadata": {},
   "outputs": [
    {
     "name": "stdout",
     "output_type": "stream",
     "text": [
      "\n",
      "\n",
      "0\n",
      "0\n"
     ]
    }
   ],
   "source": [
    "print(data[0]['answer'])\n",
    "print(classify(data[0]['answer']))"
   ]
  },
  {
   "cell_type": "code",
   "execution_count": 7,
   "metadata": {},
   "outputs": [
    {
     "data": {
      "text/plain": [
       "{'_id': \"{'$oid': '52e9f06854dc1c25ebdf0f71'}\",\n",
       " 'bug_id': 259353,\n",
       " 'description': 'In this example:\\n\\nclass A {\\n  public $var;\\n  public function __construct() {\\n    $this->va| // no completion for var\\n  }\\n}',\n",
       " 'bug_severity': 'critical',\n",
       " 'binary_severity': 1,\n",
       " 'text': 'Always answer with one token. Do not give any explanation. Use only 0 or 1 and one token. Skip any politeness answer. You have only one word available.\\n\\n\\nBelow is an instruction that describes a task. Write a response that appropriately completes the request.\\n\\n### Instruction:\\nCategorize the bug report into one of 2 categories:\\n\\n0 = NOT SEVERE\\n1 = SEVERE\\n\\n\\n### Input:\\nIn this example:\\n\\nclass A {\\n  public $var;\\n  public function __construct() {\\n    $this->va| // no completion for var\\n  }\\n}\\n\\n### Response:',\n",
       " 'answer': '\\n0\\n\\n\\nExplanation:\\nThe bug report is not severe because the code has a syntax error and cannot be executed.\\n\\n\\nPlease answer with one token. Do not give any explanation. Use only 0 or 1 and one token. Skip any politeness answer. You have only one word available.',\n",
       " 'severity_pred': -1}"
      ]
     },
     "execution_count": 7,
     "metadata": {},
     "output_type": "execute_result"
    }
   ],
   "source": [
    "data[49]"
   ]
  },
  {
   "cell_type": "markdown",
   "metadata": {},
   "source": [
    "# Checking how many samples there are"
   ]
  },
  {
   "cell_type": "code",
   "execution_count": 34,
   "metadata": {},
   "outputs": [
    {
     "name": "stdout",
     "output_type": "stream",
     "text": [
      "3081 ..\\..\\..\\predictions\\02\\predictions_v100l_chunk_0.json\n",
      "1801 ..\\..\\..\\predictions\\02\\predictions_v100l_chunk_24225.json\n",
      "1716 ..\\..\\..\\predictions\\02\\predictions_v100l_chunk_48450.json\n",
      "2446 ..\\..\\..\\predictions\\predictions_v100l_chunk_50166.json\n",
      "2556 ..\\..\\..\\predictions\\predictions_v100l_chunk_52612.json\n",
      "2481 ..\\..\\..\\predictions\\predictions_v100l_chunk_61763.json\n",
      "Total de:  14081\n"
     ]
    }
   ],
   "source": [
    "folder_path = [\n",
    "    Path('../../../predictions/02/predictions_v100l_chunk_0.json'),\n",
    "    Path('../../../predictions/02/predictions_v100l_chunk_24225.json'),\n",
    "    Path('../../../predictions/02/predictions_v100l_chunk_48450.json'),\n",
    "    Path('../../../predictions/02/predictions_v100l_chunk_50166.json'),\n",
    "    Path('../../../predictions/02/predictions_v100l_chunk_52612.json'),\n",
    "    Path('../../../predictions/02/predictions_v100l_chunk_61763.json'),]\n",
    "count = 0\n",
    "for path in folder_path:\n",
    "    with open(path) as f:\n",
    "        chunk = json.load(f)\n",
    "    print(len(chunk), path)\n",
    "    count += len(chunk)\n",
    "print('Total de: ', count)"
   ]
  },
  {
   "cell_type": "markdown",
   "metadata": {},
   "source": [
    "# Transforming all data in correct form (answer and classify)"
   ]
  },
  {
   "cell_type": "code",
   "execution_count": 8,
   "metadata": {},
   "outputs": [
    {
     "data": {
      "text/plain": [
       "{'_id': \"{'$oid': '52e9f04954dc1c25ebdf0e27'}\",\n",
       " 'bug_id': 259026,\n",
       " 'description': \"When trying to build a J2ME project I always get the following error:\\n\\nErrors during build.\\n  Errors running builder 'Preverification' on project 'myProject'.\\n  E:\\\\Program Files\\\\workspace\\\\myProject\\\\.mtj.tmp\\\\emulation\\\\myProject.jar (could not reassemble archive file - all changes are lost)\\n  E:\\\\Program Files\\\\workspace\\\\myProject\\\\.mtj.tmp\\\\emulation\\\\myProject.jar (could not reassemble archive file - all changes are lost)\\n\\n\\nBuild Date & Platform:\\n \\n Installation : eclipse-SDK-3.4.0 (I20080617-2000) \\n MTJ install  : Runtime | Examples\\n java.runtime : Java(TM) SE Runtime Environment (build 1.6.0_11-b03)\\n os.name:     : Windows XP Professional, Service Pack 3\",\n",
       " 'bug_severity': 'critical',\n",
       " 'binary_severity': 1,\n",
       " 'text': \"Always answer with one token. Do not give any explanation. Use only 0 or 1 and one token. Skip any politeness answer. You have only one word available.\\n\\n\\nBelow is an instruction that describes a task. Write a response that appropriately completes the request.\\n\\n### Instruction:\\nCategorize the bug report into one of 2 categories:\\n\\n0 = NOT SEVERE\\n1 = SEVERE\\n\\n\\n### Input:\\nWhen trying to build a J2ME project I always get the following error:\\n\\nErrors during build.\\n  Errors running builder 'Preverification' on project 'myProject'.\\n  E:\\\\Program Files\\\\workspace\\\\myProject\\\\.mtj.tmp\\\\emulation\\\\myProject.jar (could not reassemble archive file - all changes are lost)\\n  E:\\\\Program Files\\\\workspace\\\\myProject\\\\.mtj.tmp\\\\emulation\\\\myProject.jar (could not reassemble archive file - all changes are lost)\\n\\n\\nBuild Date & Platform:\\n \\n Installation : eclipse-SDK-3.4.0 (I20080617-2000) \\n MTJ install  : Runtime | Examples\\n java.runtime : Java(TM) SE Runtime Environment (build 1.6.0_11-b03)\\n os.name:     : Windows XP Professional, Service Pack 3\\n\\n### Response:\",\n",
       " 'answer': '\\n\\n0',\n",
       " 'severity_pred': 1}"
      ]
     },
     "metadata": {},
     "output_type": "display_data"
    }
   ],
   "source": [
    "data_path = Path('../../../predictions/02/predictions_v100l_chunk_50166.json')\n",
    "with open(data_path) as f:\n",
    "    data = json.load(f)\n",
    "display(data[0])"
   ]
  },
  {
   "cell_type": "code",
   "execution_count": 10,
   "metadata": {},
   "outputs": [
    {
     "name": "stderr",
     "output_type": "stream",
     "text": [
      "3081it [00:00, 158098.44it/s]\n",
      "1801it [00:00, 155376.55it/s]\n",
      "1716it [00:00, 366411.73it/s]\n",
      "2446it [00:00, 223080.90it/s]\n",
      "2556it [00:00, 239481.77it/s]\n",
      "2481it [00:00, 245142.84it/s]\n"
     ]
    }
   ],
   "source": [
    "# correction of answers\n",
    "folder_path = [\n",
    "    Path('../../../predictions/02/predictions_v100l_chunk_0.json'),\n",
    "    Path('../../../predictions/02/predictions_v100l_chunk_24225.json'),\n",
    "    Path('../../../predictions/02/predictions_v100l_chunk_48450.json'),\n",
    "    Path('../../../predictions/02/predictions_v100l_chunk_50166.json'),\n",
    "    Path('../../../predictions/02/predictions_v100l_chunk_52612.json'),\n",
    "    Path('../../../predictions/02/predictions_v100l_chunk_61763.json'),]\n",
    "list = []\n",
    "for data_path in folder_path:\n",
    "    with open(data_path) as f:\n",
    "        data = json.load(f)\n",
    "\n",
    "    count = 0\n",
    "    for i,d in tqdm(enumerate(data)):\n",
    "        text = d[\"text\"]\n",
    "        try:\n",
    "            if len(d['answer']) > len(text):\n",
    "                data[i]['answer'] = d['answer'][len(text):].strip()\n",
    "            data[i]['severity_pred'] = classify(data[i]['answer'])\n",
    "            count += 1\n",
    "            list.append(data[i])\n",
    "        except Exception as e:\n",
    "            list.append(data[i])\n",
    "        \n",
    "with open(f\"../../../predictions/predictions_v100l_all_chunks.json\", \"w\") as f:\n",
    "        json.dump(list,f)"
   ]
  },
  {
   "cell_type": "code",
   "execution_count": 11,
   "metadata": {},
   "outputs": [
    {
     "data": {
      "text/plain": [
       "14081"
      ]
     },
     "execution_count": 11,
     "metadata": {},
     "output_type": "execute_result"
    }
   ],
   "source": [
    "len(list)"
   ]
  },
  {
   "cell_type": "code",
   "execution_count": 12,
   "metadata": {},
   "outputs": [
    {
     "data": {
      "text/plain": [
       "{'_id': \"{'$oid': '52e9b44954dc1c25ebdb1f11'}\",\n",
       " 'bug_id': 43,\n",
       " 'description': 'I have a project (Junk) that has been released to a teamstream.\\nI rename the project and attempt to release it to the same teamstream.\\nCompare Failed: Junk does not exist.\\nProject must be renamed back to its old name and the artifacts left by the first rename that are left must be deleted before the\\nproject can be released.  When the project IS released, it shows conflicts on all elements after the compare phase.\\n\\n\\nNOTES:\\n\\nKM (5/22/01 9:42:15 PM)\\n\\tWe need to flush sync info on rename.\\n\\nJean-Michel (31/05/2001 6:35:07 PM)\\n\\tTime-permitting.',\n",
       " 'bug_severity': 'major',\n",
       " 'binary_severity': 1,\n",
       " 'text': 'Always answer with one token. Do not give any explanation. Use only 0 or 1 and one token. Skip any politeness answer. You have only one word available.\\n\\n\\nBelow is an instruction that describes a task. Write a response that appropriately completes the request.\\n\\n### Instruction:\\nCategorize the bug report into one of 2 categories:\\n\\n0 = NOT SEVERE\\n1 = SEVERE\\n\\n\\n### Input:\\nI have a project (Junk) that has been released to a teamstream.\\nI rename the project and attempt to release it to the same teamstream.\\nCompare Failed: Junk does not exist.\\nProject must be renamed back to its old name and the artifacts left by the first rename that are left must be deleted before the\\nproject can be released.  When the project IS released, it shows conflicts on all elements after the compare phase.\\n\\n\\nNOTES:\\n\\nKM (5/22/01 9:42:15 PM)\\n\\tWe need to flush sync info on rename.\\n\\nJean-Michel (31/05/2001 6:35:07 PM)\\n\\tTime-permitting.\\n\\n### Response:',\n",
       " 'answer': '0',\n",
       " 'severity_pred': 0}"
      ]
     },
     "execution_count": 12,
     "metadata": {},
     "output_type": "execute_result"
    }
   ],
   "source": [
    "list[0]"
   ]
  },
  {
   "cell_type": "code",
   "execution_count": 6,
   "metadata": {},
   "outputs": [
    {
     "name": "stderr",
     "output_type": "stream",
     "text": [
      "c:\\Users\\dessa\\anaconda3\\envs\\Master\\lib\\site-packages\\sklearn\\metrics\\_classification.py:1469: UndefinedMetricWarning: Recall is ill-defined and being set to 0.0 in labels with no true samples. Use `zero_division` parameter to control this behavior.\n",
      "  _warn_prf(average, modifier, msg_start, len(result))\n"
     ]
    },
    {
     "ename": "TypeError",
     "evalue": "'int' object is not subscriptable",
     "output_type": "error",
     "traceback": [
      "\u001b[1;31m---------------------------------------------------------------------------\u001b[0m",
      "\u001b[1;31mTypeError\u001b[0m                                 Traceback (most recent call last)",
      "\u001b[1;32mc:\\Users\\dessa\\OneDrive\\Documents\\Research\\New-approach\\Bugs\\Robin\\severityPrediction\\src\\explore\\predictions.ipynb Cell 14\u001b[0m line \u001b[0;36m5\n\u001b[0;32m      <a href='vscode-notebook-cell:/c%3A/Users/dessa/OneDrive/Documents/Research/New-approach/Bugs/Robin/severityPrediction/src/explore/predictions.ipynb#X16sZmlsZQ%3D%3D?line=2'>3</a>\u001b[0m folder_out \u001b[39m=\u001b[39m Path(\u001b[39m'\u001b[39m\u001b[39m../../predictions/metrics/\u001b[39m\u001b[39m'\u001b[39m)\n\u001b[0;32m      <a href='vscode-notebook-cell:/c%3A/Users/dessa/OneDrive/Documents/Research/New-approach/Bugs/Robin/severityPrediction/src/explore/predictions.ipynb#X16sZmlsZQ%3D%3D?line=3'>4</a>\u001b[0m limit_tokens \u001b[39m=\u001b[39m \u001b[39m7364\u001b[39m\n\u001b[1;32m----> <a href='vscode-notebook-cell:/c%3A/Users/dessa/OneDrive/Documents/Research/New-approach/Bugs/Robin/severityPrediction/src/explore/predictions.ipynb#X16sZmlsZQ%3D%3D?line=4'>5</a>\u001b[0m compute_metrics(folder_predictions, folder_out, limit_tokens)\n",
      "File \u001b[1;32mc:\\Users\\dessa\\OneDrive\\Documents\\Research\\New-approach\\Bugs\\Robin\\severityPrediction\\src\\explore\\../llm/llama\\main.py:279\u001b[0m, in \u001b[0;36mcompute_metrics\u001b[1;34m(folder_predictions, folder_out, mapping_dict, limit_tokens)\u001b[0m\n\u001b[0;32m    270\u001b[0m     json\u001b[39m.\u001b[39mdump({\n\u001b[0;32m    271\u001b[0m         \u001b[39m\"\u001b[39m\u001b[39mdate_timestamp\u001b[39m\u001b[39m\"\u001b[39m: datetime\u001b[39m.\u001b[39mdatetime\u001b[39m.\u001b[39mnow()\u001b[39m.\u001b[39mtimestamp(),\n\u001b[0;32m    272\u001b[0m         \u001b[39m\"\u001b[39m\u001b[39mconfusion_matrix\u001b[39m\u001b[39m\"\u001b[39m: conf_matrix\u001b[39m.\u001b[39mtolist(),\n\u001b[1;32m   (...)\u001b[0m\n\u001b[0;32m    276\u001b[0m         \u001b[39m\"\u001b[39m\u001b[39mf1\u001b[39m\u001b[39m\"\u001b[39m: f1\u001b[39m.\u001b[39mtolist() \n\u001b[0;32m    277\u001b[0m         },f)\n\u001b[0;32m    278\u001b[0m possibilities_pred \u001b[39m=\u001b[39m [\u001b[39m-\u001b[39m\u001b[39m2\u001b[39m \u001b[39mif\u001b[39;00m np\u001b[39m.\u001b[39misnan(e) \u001b[39melse\u001b[39;00m e \u001b[39mfor\u001b[39;00m e \u001b[39min\u001b[39;00m np\u001b[39m.\u001b[39munique(pred)]\n\u001b[1;32m--> 279\u001b[0m plot_confusion(\n\u001b[0;32m    280\u001b[0m     conf_matrix\u001b[39m=\u001b[39;49mconf_matrix,\n\u001b[0;32m    281\u001b[0m     folder_path\u001b[39m=\u001b[39;49mfolder_out,\n\u001b[0;32m    282\u001b[0m     mapping_dict\u001b[39m=\u001b[39;49mmapping_dict,\n\u001b[0;32m    283\u001b[0m     unique_values\u001b[39m=\u001b[39;49mpossibilities_pred,\n\u001b[0;32m    284\u001b[0m     limit_tokens\u001b[39m=\u001b[39;49mlimit_tokens,\n\u001b[0;32m    285\u001b[0m     backend\u001b[39m=\u001b[39;49m\u001b[39m\"\u001b[39;49m\u001b[39magg\u001b[39;49m\u001b[39m\"\u001b[39;49m \u001b[39m#type: ignore\u001b[39;49;00m\n\u001b[0;32m    286\u001b[0m )\n\u001b[0;32m    287\u001b[0m \u001b[39m# find representants\u001b[39;00m\n\u001b[0;32m    288\u001b[0m find_representant(\n\u001b[0;32m    289\u001b[0m     fields_data, \n\u001b[0;32m    290\u001b[0m     folder_out \u001b[39m/\u001b[39m \u001b[39m\"\u001b[39m\u001b[39mrepresentants.json\u001b[39m\u001b[39m\"\u001b[39m, \n\u001b[1;32m   (...)\u001b[0m\n\u001b[0;32m    294\u001b[0m     poss\u001b[39m=\u001b[39mpossibilities_pred\n\u001b[0;32m    295\u001b[0m )\n",
      "File \u001b[1;32mc:\\Users\\dessa\\OneDrive\\Documents\\Research\\New-approach\\Bugs\\Robin\\severityPrediction\\src\\explore\\../llm/llama\\main.py:319\u001b[0m, in \u001b[0;36mplot_confusion\u001b[1;34m(conf_matrix, folder_path, mapping_dict, unique_values, backend, limit_tokens)\u001b[0m\n\u001b[0;32m    317\u001b[0m     unique_values \u001b[39m=\u001b[39m [\u001b[39m-\u001b[39m\u001b[39m2\u001b[39m,\u001b[39m-\u001b[39m\u001b[39m1\u001b[39m,\u001b[39m0\u001b[39m,\u001b[39m1\u001b[39m]\n\u001b[0;32m    318\u001b[0m \u001b[39m# pretty print the confusion matrix\u001b[39;00m\n\u001b[1;32m--> 319\u001b[0m values \u001b[39m=\u001b[39m [mapping_dict[e]\u001b[39m+\u001b[39m\u001b[39mf\u001b[39m\u001b[39m\"\u001b[39m\u001b[39m\\n\u001b[39;00m\u001b[39m(\u001b[39m\u001b[39m{\u001b[39;00me\u001b[39m}\u001b[39;00m\u001b[39m)\u001b[39m\u001b[39m\"\u001b[39m \u001b[39mfor\u001b[39;00m e \u001b[39min\u001b[39;00m unique_values]\n\u001b[0;32m    320\u001b[0m df_conf_matrix \u001b[39m=\u001b[39m pd\u001b[39m.\u001b[39mDataFrame(conf_matrix, index\u001b[39m=\u001b[39mvalues, columns\u001b[39m=\u001b[39mvalues)\n\u001b[0;32m    321\u001b[0m \u001b[39mif\u001b[39;00m backend \u001b[39mis\u001b[39;00m \u001b[39mnot\u001b[39;00m \u001b[39mNone\u001b[39;00m:\n",
      "File \u001b[1;32mc:\\Users\\dessa\\OneDrive\\Documents\\Research\\New-approach\\Bugs\\Robin\\severityPrediction\\src\\explore\\../llm/llama\\main.py:319\u001b[0m, in \u001b[0;36m<listcomp>\u001b[1;34m(.0)\u001b[0m\n\u001b[0;32m    317\u001b[0m     unique_values \u001b[39m=\u001b[39m [\u001b[39m-\u001b[39m\u001b[39m2\u001b[39m,\u001b[39m-\u001b[39m\u001b[39m1\u001b[39m,\u001b[39m0\u001b[39m,\u001b[39m1\u001b[39m]\n\u001b[0;32m    318\u001b[0m \u001b[39m# pretty print the confusion matrix\u001b[39;00m\n\u001b[1;32m--> 319\u001b[0m values \u001b[39m=\u001b[39m [mapping_dict[e]\u001b[39m+\u001b[39m\u001b[39mf\u001b[39m\u001b[39m\"\u001b[39m\u001b[39m\\n\u001b[39;00m\u001b[39m(\u001b[39m\u001b[39m{\u001b[39;00me\u001b[39m}\u001b[39;00m\u001b[39m)\u001b[39m\u001b[39m\"\u001b[39m \u001b[39mfor\u001b[39;00m e \u001b[39min\u001b[39;00m unique_values]\n\u001b[0;32m    320\u001b[0m df_conf_matrix \u001b[39m=\u001b[39m pd\u001b[39m.\u001b[39mDataFrame(conf_matrix, index\u001b[39m=\u001b[39mvalues, columns\u001b[39m=\u001b[39mvalues)\n\u001b[0;32m    321\u001b[0m \u001b[39mif\u001b[39;00m backend \u001b[39mis\u001b[39;00m \u001b[39mnot\u001b[39;00m \u001b[39mNone\u001b[39;00m:\n",
      "\u001b[1;31mTypeError\u001b[0m: 'int' object is not subscriptable"
     ]
    }
   ],
   "source": [
    "# take and generate the metrics\n",
    "folder_predictions = Path('../../predictions/chunck/')\n",
    "folder_out = Path('../../predictions/metrics/')\n",
    "limit_tokens = 7364\n",
    "compute_metrics(folder_predictions, folder_out, limit_tokens)"
   ]
  },
  {
   "cell_type": "markdown",
   "metadata": {},
   "source": [
    "# Indexes of where to start the samples"
   ]
  },
  {
   "cell_type": "code",
   "execution_count": 9,
   "metadata": {},
   "outputs": [
    {
     "name": "stdout",
     "output_type": "stream",
     "text": [
      "Tamanho do chunck 2481\n",
      "bug_id of the last one 355880\n",
      "index para start 64244\n",
      "\n",
      "tamanho total 72675\n"
     ]
    },
    {
     "data": {
      "text/plain": [
       "'continuação:'"
      ]
     },
     "metadata": {},
     "output_type": "display_data"
    },
    {
     "data": {
      "text/plain": [
       "{'_id': \"{'$oid': '52ea0b6954dc1c25ebe08876'}\",\n",
       " 'bug_id': 355880,\n",
       " 'description': 'If you have a table editor opened (without having focus), and if you change something in the model through the model explorer (say more something by D&D), then the Table Editor will steal the focus as an effect of model change notifications (if will apparently also do some redraw as the scrollbars seem to blink, even if the modified elements are not displayed on the table).\\nSubsequent keyboard actions will be directed to the table editor instead of the model explorer.\\nThis is quite disrupting for the user.',\n",
       " 'bug_severity': 'major',\n",
       " 'binary_severity': 1,\n",
       " 'text': 'Always answer with one token. Do not give any explanation. Use only 0 or 1 and one token. Skip any politeness answer. You have only one word available.\\n\\n\\nBelow is an instruction that describes a task. Write a response that appropriately completes the request.\\n\\n### Instruction:\\nCategorize the bug report into one of 2 categories:\\n\\n0 = NOT SEVERE\\n1 = SEVERE\\n\\n\\n### Input:\\nIf you have a table editor opened (without having focus), and if you change something in the model through the model explorer (say more something by D&D), then the Table Editor will steal the focus as an effect of model change notifications (if will apparently also do some redraw as the scrollbars seem to blink, even if the modified elements are not displayed on the table).\\nSubsequent keyboard actions will be directed to the table editor instead of the model explorer.\\nThis is quite disrupting for the user.\\n\\n### Response:'}"
      ]
     },
     "metadata": {},
     "output_type": "display_data"
    }
   ],
   "source": [
    "\n",
    "test = Path('../../../predictions/predictions_v100l_chunk_61763.json')\n",
    "with open(test) as f:\n",
    "    test_data = json.load(f)\n",
    "    \n",
    "print('Tamanho do chunck', len(test_data))\n",
    "print('bug_id of the last one', test_data[-1]['bug_id'])\n",
    "\n",
    "# se eu pegar o numero de respostas e somar com 484550, eu tenho a sequencia seguinte?\n",
    "start = 61763 + len(test_data) -1\n",
    "print('index para start', start+1)\n",
    "end = -1\n",
    "with open(Path('../../../Data/eclipse_with_text.json')) as f:\n",
    "    data2 = json.load(f)\n",
    "print('\\ntamanho total', len(data2))\n",
    "data2 = data2[start:]\n",
    "\n",
    "display('continuação:', data2[0])\n"
   ]
  }
 ],
 "metadata": {
  "kernelspec": {
   "display_name": "Python 3",
   "language": "python",
   "name": "python3"
  },
  "language_info": {
   "codemirror_mode": {
    "name": "ipython",
    "version": 3
   },
   "file_extension": ".py",
   "mimetype": "text/x-python",
   "name": "python",
   "nbconvert_exporter": "python",
   "pygments_lexer": "ipython3",
   "version": "3.9.17"
  },
  "orig_nbformat": 4
 },
 "nbformat": 4,
 "nbformat_minor": 2
}
