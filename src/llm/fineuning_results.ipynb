{
 "cells": [
  {
   "cell_type": "code",
   "execution_count": 8,
   "metadata": {},
   "outputs": [],
   "source": [
    "import plotly.express as px\n",
    "import pandas as pd\n",
    "import json\n",
    "import os\n",
    "os.environ['USER'] = \"rmoine\"\n",
    "from pathlib import Path\n",
    "import numpy as np\n",
    "from typing import *\n",
    "from llama.main import compute_metrics_from_files, DatasetName, compute_metrics_from_list\n",
    "from sklearn.metrics import f1_score\n",
    "from PIL import Image\n",
    "from pandasql import sqldf\n",
    "from io import BytesIO\n",
    "import base64\n",
    "from plotly.graph_objects import Figure\n",
    "import win32clipboard\n",
    "import textwrap\n",
    "import colorsys\n",
    "import optuna\n",
    "import tqdm\n",
    "def img_to_clipboard(fig: Figure):\n",
    "    img_bytes = fig.to_image(format=\"png\")\n",
    "    image = Image.open(BytesIO(img_bytes))\n",
    "    \n",
    "    output = BytesIO()\n",
    "    image.convert('RGB').save(output, 'BMP')\n",
    "    data = output.getvalue()[14:]\n",
    "    output.close()\n",
    "    win32clipboard.OpenClipboard()\n",
    "    win32clipboard.EmptyClipboard()\n",
    "    win32clipboard.SetClipboardData(win32clipboard.CF_DIB, data)\n",
    "    win32clipboard.CloseClipboard()"
   ]
  },
  {
   "cell_type": "code",
   "execution_count": 9,
   "metadata": {},
   "outputs": [
    {
     "name": "stderr",
     "output_type": "stream",
     "text": [
      "100%|██████████| 56/56 [02:42<00:00,  2.90s/it]\n"
     ]
    },
    {
     "data": {
      "text/html": [
       "<div>\n",
       "<style scoped>\n",
       "    .dataframe tbody tr th:only-of-type {\n",
       "        vertical-align: middle;\n",
       "    }\n",
       "\n",
       "    .dataframe tbody tr th {\n",
       "        vertical-align: top;\n",
       "    }\n",
       "\n",
       "    .dataframe thead th {\n",
       "        text-align: right;\n",
       "    }\n",
       "</style>\n",
       "<table border=\"1\" class=\"dataframe\">\n",
       "  <thead>\n",
       "    <tr style=\"text-align: right;\">\n",
       "      <th></th>\n",
       "      <th>epoch</th>\n",
       "      <th>dataset_type</th>\n",
       "      <th>confusion_matrix</th>\n",
       "      <th>f1</th>\n",
       "      <th>accuracy</th>\n",
       "      <th>path_data_folder</th>\n",
       "      <th>loss</th>\n",
       "      <th>i</th>\n",
       "      <th>dataset_choice</th>\n",
       "      <th>folder_out</th>\n",
       "      <th>...</th>\n",
       "      <th>learning_rate</th>\n",
       "      <th>limit_tokens</th>\n",
       "      <th>mapping_dict</th>\n",
       "      <th>lim_size</th>\n",
       "      <th>id</th>\n",
       "      <th>use_cpu</th>\n",
       "      <th>tr_weighted_sampling</th>\n",
       "      <th>early_stopping_patience</th>\n",
       "      <th>early_stopping_threshold</th>\n",
       "      <th>hyperparameters</th>\n",
       "    </tr>\n",
       "  </thead>\n",
       "  <tbody>\n",
       "    <tr>\n",
       "      <th>0</th>\n",
       "      <td>0</td>\n",
       "      <td>train</td>\n",
       "      <td>[[6134, 6530], [3050, 34820]]</td>\n",
       "      <td>[0.561515928231417, 0.8790709416813934]</td>\n",
       "      <td>81.042466</td>\n",
       "      <td>qlora_finetune_19459371</td>\n",
       "      <td>0.511686</td>\n",
       "      <td>0</td>\n",
       "      <td>eclipse_72k</td>\n",
       "      <td>/project/6023391/rmoine/data</td>\n",
       "      <td>...</td>\n",
       "      <td>0.0001</td>\n",
       "      <td>500</td>\n",
       "      <td>None</td>\n",
       "      <td>-1</td>\n",
       "      <td>_19459371</td>\n",
       "      <td>False</td>\n",
       "      <td>False</td>\n",
       "      <td>3</td>\n",
       "      <td>0.001</td>\n",
       "      <td>{'dataset_choice': 'eclipse_72k', 'folder_out'...</td>\n",
       "    </tr>\n",
       "    <tr>\n",
       "      <th>1</th>\n",
       "      <td>1</td>\n",
       "      <td>train</td>\n",
       "      <td>[[7892, 4772], [2313, 35557]]</td>\n",
       "      <td>[0.6901919629192357, 0.9093978183864244]</td>\n",
       "      <td>85.979736</td>\n",
       "      <td>qlora_finetune_19459371</td>\n",
       "      <td>0.410209</td>\n",
       "      <td>0</td>\n",
       "      <td>eclipse_72k</td>\n",
       "      <td>/project/6023391/rmoine/data</td>\n",
       "      <td>...</td>\n",
       "      <td>0.0001</td>\n",
       "      <td>500</td>\n",
       "      <td>None</td>\n",
       "      <td>-1</td>\n",
       "      <td>_19459371</td>\n",
       "      <td>False</td>\n",
       "      <td>False</td>\n",
       "      <td>3</td>\n",
       "      <td>0.001</td>\n",
       "      <td>{'dataset_choice': 'eclipse_72k', 'folder_out'...</td>\n",
       "    </tr>\n",
       "    <tr>\n",
       "      <th>2</th>\n",
       "      <td>2</td>\n",
       "      <td>train</td>\n",
       "      <td>[[9425, 3239], [1482, 36388]]</td>\n",
       "      <td>[0.7997115099062407, 0.9390815128327549]</td>\n",
       "      <td>90.657775</td>\n",
       "      <td>qlora_finetune_19459371</td>\n",
       "      <td>0.322560</td>\n",
       "      <td>0</td>\n",
       "      <td>eclipse_72k</td>\n",
       "      <td>/project/6023391/rmoine/data</td>\n",
       "      <td>...</td>\n",
       "      <td>0.0001</td>\n",
       "      <td>500</td>\n",
       "      <td>None</td>\n",
       "      <td>-1</td>\n",
       "      <td>_19459371</td>\n",
       "      <td>False</td>\n",
       "      <td>False</td>\n",
       "      <td>3</td>\n",
       "      <td>0.001</td>\n",
       "      <td>{'dataset_choice': 'eclipse_72k', 'folder_out'...</td>\n",
       "    </tr>\n",
       "    <tr>\n",
       "      <th>3</th>\n",
       "      <td>3</td>\n",
       "      <td>train</td>\n",
       "      <td>[[10771, 1893], [679, 37191]]</td>\n",
       "      <td>[0.893339968483039, 0.9665774358707799]</td>\n",
       "      <td>94.910357</td>\n",
       "      <td>qlora_finetune_19459371</td>\n",
       "      <td>0.208422</td>\n",
       "      <td>0</td>\n",
       "      <td>eclipse_72k</td>\n",
       "      <td>/project/6023391/rmoine/data</td>\n",
       "      <td>...</td>\n",
       "      <td>0.0001</td>\n",
       "      <td>500</td>\n",
       "      <td>None</td>\n",
       "      <td>-1</td>\n",
       "      <td>_19459371</td>\n",
       "      <td>False</td>\n",
       "      <td>False</td>\n",
       "      <td>3</td>\n",
       "      <td>0.001</td>\n",
       "      <td>{'dataset_choice': 'eclipse_72k', 'folder_out'...</td>\n",
       "    </tr>\n",
       "    <tr>\n",
       "      <th>4</th>\n",
       "      <td>1</td>\n",
       "      <td>val</td>\n",
       "      <td>[[1883, 1735], [524, 10296]]</td>\n",
       "      <td>[0.6250622406639004, 0.9011421819614021]</td>\n",
       "      <td>84.353789</td>\n",
       "      <td>qlora_finetune_19459371</td>\n",
       "      <td>0.440984</td>\n",
       "      <td>1</td>\n",
       "      <td>eclipse_72k</td>\n",
       "      <td>/project/6023391/rmoine/data</td>\n",
       "      <td>...</td>\n",
       "      <td>0.0001</td>\n",
       "      <td>500</td>\n",
       "      <td>None</td>\n",
       "      <td>-1</td>\n",
       "      <td>_19459371</td>\n",
       "      <td>False</td>\n",
       "      <td>False</td>\n",
       "      <td>3</td>\n",
       "      <td>0.001</td>\n",
       "      <td>{'dataset_choice': 'eclipse_72k', 'folder_out'...</td>\n",
       "    </tr>\n",
       "  </tbody>\n",
       "</table>\n",
       "<p>5 rows × 30 columns</p>\n",
       "</div>"
      ],
      "text/plain": [
       "   epoch dataset_type               confusion_matrix  \\\n",
       "0      0        train  [[6134, 6530], [3050, 34820]]   \n",
       "1      1        train  [[7892, 4772], [2313, 35557]]   \n",
       "2      2        train  [[9425, 3239], [1482, 36388]]   \n",
       "3      3        train  [[10771, 1893], [679, 37191]]   \n",
       "4      1          val   [[1883, 1735], [524, 10296]]   \n",
       "\n",
       "                                         f1   accuracy  \\\n",
       "0   [0.561515928231417, 0.8790709416813934]  81.042466   \n",
       "1  [0.6901919629192357, 0.9093978183864244]  85.979736   \n",
       "2  [0.7997115099062407, 0.9390815128327549]  90.657775   \n",
       "3   [0.893339968483039, 0.9665774358707799]  94.910357   \n",
       "4  [0.6250622406639004, 0.9011421819614021]  84.353789   \n",
       "\n",
       "          path_data_folder      loss  i dataset_choice  \\\n",
       "0  qlora_finetune_19459371  0.511686  0    eclipse_72k   \n",
       "1  qlora_finetune_19459371  0.410209  0    eclipse_72k   \n",
       "2  qlora_finetune_19459371  0.322560  0    eclipse_72k   \n",
       "3  qlora_finetune_19459371  0.208422  0    eclipse_72k   \n",
       "4  qlora_finetune_19459371  0.440984  1    eclipse_72k   \n",
       "\n",
       "                     folder_out  ... learning_rate  limit_tokens  \\\n",
       "0  /project/6023391/rmoine/data  ...        0.0001           500   \n",
       "1  /project/6023391/rmoine/data  ...        0.0001           500   \n",
       "2  /project/6023391/rmoine/data  ...        0.0001           500   \n",
       "3  /project/6023391/rmoine/data  ...        0.0001           500   \n",
       "4  /project/6023391/rmoine/data  ...        0.0001           500   \n",
       "\n",
       "   mapping_dict  lim_size         id use_cpu tr_weighted_sampling  \\\n",
       "0          None        -1  _19459371   False                False   \n",
       "1          None        -1  _19459371   False                False   \n",
       "2          None        -1  _19459371   False                False   \n",
       "3          None        -1  _19459371   False                False   \n",
       "4          None        -1  _19459371   False                False   \n",
       "\n",
       "   early_stopping_patience  early_stopping_threshold  \\\n",
       "0                        3                     0.001   \n",
       "1                        3                     0.001   \n",
       "2                        3                     0.001   \n",
       "3                        3                     0.001   \n",
       "4                        3                     0.001   \n",
       "\n",
       "                                     hyperparameters  \n",
       "0  {'dataset_choice': 'eclipse_72k', 'folder_out'...  \n",
       "1  {'dataset_choice': 'eclipse_72k', 'folder_out'...  \n",
       "2  {'dataset_choice': 'eclipse_72k', 'folder_out'...  \n",
       "3  {'dataset_choice': 'eclipse_72k', 'folder_out'...  \n",
       "4  {'dataset_choice': 'eclipse_72k', 'folder_out'...  \n",
       "\n",
       "[5 rows x 30 columns]"
      ]
     },
     "metadata": {},
     "output_type": "display_data"
    }
   ],
   "source": [
    "l = []\n",
    "l1 = []\n",
    "root = Path(f\"../../data/finetuning/\")\n",
    "i_tot = 0\n",
    "pathes = list(root.rglob(\"qlora_finetune_*\"))[:-1]\n",
    "for path_data in tqdm.tqdm(pathes):\n",
    "    with open(path_data / \"parameters.json\") as fp:\n",
    "        parameters = json.load(fp)\n",
    "    for dataset_type in [\"train\",\"val\"]:\n",
    "        files_data = list(path_data.rglob(f\"data_epoch_*_{dataset_type}*.json\"))\n",
    "        if len(files_data) == 0:\n",
    "            continue\n",
    "        i_tot += 1\n",
    "        i = i_tot//2\n",
    "        for f in files_data:\n",
    "            with open(f) as fp:\n",
    "                d = json.load(fp)\n",
    "            confusion_matrix, f1, _ = compute_metrics_from_list(d, pred_field=\"prediction\")\n",
    "            accuracy = np.sum(np.diag(confusion_matrix)) / np.sum(confusion_matrix)\n",
    "            epoch = int(f.stem.split(\"_\")[-2].split(\"-\")[0])\n",
    "            loss = sum(e['loss'] for e in d)/len(d)\n",
    "            l.append({\"epoch\":epoch,\"dataset_type\":dataset_type,\"confusion_matrix\":confusion_matrix,\"f1\":f1,\"accuracy\":accuracy*100, \"path_data_folder\": path_data.stem, \"loss\": loss, \"i\":i, **parameters, \"hyperparameters\": parameters})\n",
    "df = pd.DataFrame(l)\n",
    "display(df.head())\n",
    "    \n"
   ]
  },
  {
   "cell_type": "code",
   "execution_count": 14,
   "metadata": {},
   "outputs": [
    {
     "name": "stderr",
     "output_type": "stream",
     "text": [
      "[I 2023-12-01 11:20:45,728] A new study created in RDB with name: finetuning_llama2\n"
     ]
    },
    {
     "name": "stdout",
     "output_type": "stream",
     "text": [
      "dataset_choice ['eclipse_72k']\n",
      "skipping dataset_choice as there are no choices\n",
      "lora_alpha [4, 10]\n",
      "lora_dropout [0.0, 0.1, 0.2]\n",
      "lora_r [5, 10, 64]\n",
      "model_name ['meta-llama/Llama-2-7b-chat-hf']\n",
      "skipping model_name as there are no choices\n",
      "tr_bs [4]\n",
      "skipping tr_bs as there are no choices\n",
      "learning_rate [1e-05, 0.0001]\n",
      "limit_tokens [500]\n",
      "skipping limit_tokens as there are no choices\n",
      "tr_weighted_sampling [False]\n",
      "skipping tr_weighted_sampling as there are no choices\n",
      "early_stopping_patience [3]\n",
      "skipping early_stopping_patience as there are no choices\n",
      "early_stopping_threshold [0.001]\n",
      "skipping early_stopping_threshold as there are no choices\n",
      "{'lora_alpha': CategoricalDistribution(choices=(4, 10)), 'lora_dropout': CategoricalDistribution(choices=(0.0, 0.1, 0.2)), 'lora_r': CategoricalDistribution(choices=(5, 10, 64)), 'learning_rate': CategoricalDistribution(choices=(1e-05, 0.0001))}\n"
     ]
    }
   ],
   "source": [
    "def dump_to_optuna(df: pd.DataFrame, metric: Literal[\"accuracy\",\"f1_avg\"], interesting_parameters: Optional[List[str]] = None):\n",
    "    df1 = df[[\"epoch\",\"name\",metric,\"dataset_type\"]]\n",
    "    query = f\"\"\"SELECT * FROM df1 WHERE name IN (SELECT name FROM df1 WHERE dataset_type == 'train' GROUP BY name HAVING {metric} == MAX({metric})) AND dataset_type == 'val'\"\"\"\n",
    "    df_best = sqldf(query, locals())\n",
    "    df_best = df.loc[df_best.index,:]\n",
    "    df_best = df_best.query(\"dataset_type == 'val'\")\n",
    "    study_name = \"finetuning_llama2\"\n",
    "    storage = f\"sqlite:///study-finetuning_llama2.db\"\n",
    "    path_db = Path(storage.split(\"/\")[-1])\n",
    "    if path_db.exists():\n",
    "        path_db.unlink()\n",
    "    study = optuna.create_study(direction=\"maximize\",study_name=study_name, storage=storage)\n",
    "    distributions = {}\n",
    "    if interesting_parameters is None:\n",
    "        interesting_parameters = df_best.columns\n",
    "    Lremoved = []\n",
    "    for i,k in enumerate(interesting_parameters):\n",
    "        poss = sorted(df_best[k].unique().tolist())\n",
    "        print(k,poss)\n",
    "        if len(poss) <= 1:\n",
    "            print(f\"skipping {k} as there are no choices\")\n",
    "            Lremoved.append(i)\n",
    "            continue\n",
    "        distributions[k] = optuna.distributions.CategoricalDistribution(poss)\n",
    "    interesting_parameters = [e for i,e in enumerate(interesting_parameters) if i not in Lremoved]\n",
    "    print(distributions)\n",
    "    for data_best in df_best.to_dict(orient=\"records\"):\n",
    "        params = {k:v for k,v in data_best[\"hyperparameters\"].items() if k in interesting_parameters}\n",
    "        trial = optuna.trial.create_trial(\n",
    "            params=params,\n",
    "            distributions=distributions,\n",
    "            value=data_best[metric]\n",
    "        )\n",
    "        study.add_trial(trial)\n",
    "    def mock_function(trial):\n",
    "        for k,v in distributions.items():\n",
    "            x = trial.suggest_categorical(k,v)\n",
    "        return 0\n",
    "    study.optimize(mock_function, n_trials=0)\n",
    "    del study\n",
    "# print(df.columns)\n",
    "if not Path(\"tmp.json\").exists():\n",
    "    df.sort_values([\"dataset_choice\",\"dataset_type\",\"epoch\"],inplace=True)\n",
    "    df[\"weighted\"] = df[\"tr_weighted_sampling\"].apply(lambda x:\"weighted\" if x else \"not_weighted\")\n",
    "    df[\"name\"] = df['i'].astype(str) + \" \" + df[\"dataset_choice\"] + \", \" + df[\"weighted\"] + \", r=\" + df[\"lora_r\"].astype(str)\n",
    "    df[\"id\"] = df[\"name\"] + \", \" + df[\"dataset_type\"]\n",
    "    df[\"f1_avg\"] = df[\"f1\"].apply(lambda x:np.array(x).mean())\n",
    "    df.sort_values(by=[\"i\",\"dataset_type\",\"epoch\"],inplace=True)\n",
    "    df.to_json(\"./tmp.json\")\n",
    "else:\n",
    "    df = pd.read_json(\"./tmp.json\")\n",
    "interesting_parameters = [\n",
    "    \"dataset_choice\",\n",
    "    \"lora_alpha\",\n",
    "    \"lora_dropout\",\n",
    "    \"lora_r\",\n",
    "    \"model_name\",\n",
    "    \"tr_bs\",\n",
    "    \"learning_rate\",\n",
    "    \"limit_tokens\",\n",
    "    \"tr_weighted_sampling\",\n",
    "    \"early_stopping_patience\",\n",
    "    \"early_stopping_threshold\"\n",
    "]\n",
    "dump_to_optuna(df, metric=\"accuracy\",interesting_parameters=interesting_parameters)\n",
    "# display(df)\n"
   ]
  },
  {
   "cell_type": "code",
   "execution_count": 11,
   "metadata": {},
   "outputs": [
    {
     "name": "stdout",
     "output_type": "stream",
     "text": [
      "['0 eclipse_72k, not_weighted, r=64', '1 eclipse_72k, not_weighted, r=64', '2 eclipse_72k, not_weighted, r=5', '4 eclipse_72k, not_weighted, r=64', '6 eclipse_72k, not_weighted, r=5', '7 eclipse_72k, not_weighted, r=10', '8 eclipse_72k, not_weighted, r=5', '9 eclipse_72k, not_weighted, r=5', '11 eclipse_72k, not_weighted, r=10', '12 eclipse_72k, not_weighted, r=64', '13 eclipse_72k, not_weighted, r=10', '14 eclipse_72k, not_weighted, r=10', '15 eclipse_72k, not_weighted, r=10', '16 eclipse_72k, not_weighted, r=64', '18 eclipse_72k, not_weighted, r=64', '19 eclipse_72k, not_weighted, r=10', '20 eclipse_72k, not_weighted, r=10', '22 eclipse_72k, not_weighted, r=10', '23 eclipse_72k, not_weighted, r=10', '24 eclipse_72k, not_weighted, r=5', '25 eclipse_72k, not_weighted, r=10', '26 mozilla_200k, not_weighted, r=64', '27 mozilla_200k, not_weighted, r=5', '29 mozilla_200k, not_weighted, r=64', '31 mozilla_200k, not_weighted, r=5', '32 mozilla_200k, not_weighted, r=10', '33 mozilla_200k, not_weighted, r=5', '34 mozilla_200k, not_weighted, r=5', '36 mozilla_200k, not_weighted, r=10', '37 mozilla_200k, not_weighted, r=64', '38 mozilla_200k, not_weighted, r=10', '39 mozilla_200k, not_weighted, r=10', '40 mozilla_200k, not_weighted, r=10', '41 mozilla_200k, not_weighted, r=64', '43 mozilla_200k, not_weighted, r=64', '44 mozilla_200k, not_weighted, r=10', '45 mozilla_200k, not_weighted, r=10', '47 mozilla_200k, not_weighted, r=10', '48 mozilla_200k, not_weighted, r=10']\n",
      "-----------------\n",
      "0 eclipse_72k, not_weighted, r=64, train hsv(0, 1, 1)\n",
      "1 eclipse_72k, not_weighted, r=64, val hsv(0, 0.5, 0.9)\n",
      "1 eclipse_72k, not_weighted, r=64, train hsv(9, 1, 1)\n",
      "2 eclipse_72k, not_weighted, r=64, val hsv(9, 0.5, 0.9)\n",
      "2 eclipse_72k, not_weighted, r=5, train hsv(92, 1, 1)\n",
      "3 eclipse_72k, not_weighted, r=5, val hsv(92, 0.5, 0.9)\n",
      "4 eclipse_72k, not_weighted, r=64, train hsv(249, 1, 1)\n",
      "5 eclipse_72k, not_weighted, r=64, val hsv(249, 0.5, 0.9)\n",
      "6 eclipse_72k, not_weighted, r=5, train hsv(323, 1, 1)\n",
      "7 eclipse_72k, not_weighted, r=5, val hsv(323, 0.5, 0.9)\n",
      "7 eclipse_72k, not_weighted, r=10, train hsv(332, 1, 1)\n",
      "8 eclipse_72k, not_weighted, r=10, val hsv(332, 0.5, 0.9)\n",
      "8 eclipse_72k, not_weighted, r=5, train hsv(341, 1, 1)\n",
      "9 eclipse_72k, not_weighted, r=5, val hsv(341, 0.5, 0.9)\n",
      "9 eclipse_72k, not_weighted, r=5, train hsv(350, 1, 1)\n",
      "10 eclipse_72k, not_weighted, r=5, val hsv(350, 0.5, 0.9)\n",
      "11 eclipse_72k, not_weighted, r=10, train hsv(18, 1, 1)\n",
      "12 eclipse_72k, not_weighted, r=10, val hsv(18, 0.5, 0.9)\n",
      "12 eclipse_72k, not_weighted, r=64, train hsv(27, 1, 1)\n",
      "13 eclipse_72k, not_weighted, r=64, val hsv(27, 0.5, 0.9)\n",
      "13 eclipse_72k, not_weighted, r=10, train hsv(36, 1, 1)\n",
      "14 eclipse_72k, not_weighted, r=10, val hsv(36, 0.5, 0.9)\n",
      "14 eclipse_72k, not_weighted, r=10, train hsv(46, 1, 1)\n",
      "15 eclipse_72k, not_weighted, r=10, val hsv(46, 0.5, 0.9)\n",
      "15 eclipse_72k, not_weighted, r=10, train hsv(55, 1, 1)\n",
      "16 eclipse_72k, not_weighted, r=10, val hsv(55, 0.5, 0.9)\n",
      "16 eclipse_72k, not_weighted, r=64, train hsv(64, 1, 1)\n",
      "17 eclipse_72k, not_weighted, r=64, val hsv(64, 0.5, 0.9)\n",
      "18 eclipse_72k, not_weighted, r=64, train hsv(73, 1, 1)\n",
      "19 eclipse_72k, not_weighted, r=64, val hsv(73, 0.5, 0.9)\n",
      "19 eclipse_72k, not_weighted, r=10, train hsv(83, 1, 1)\n",
      "20 eclipse_72k, not_weighted, r=10, val hsv(83, 0.5, 0.9)\n",
      "20 eclipse_72k, not_weighted, r=10, train hsv(101, 1, 1)\n",
      "21 eclipse_72k, not_weighted, r=10, val hsv(101, 0.5, 0.9)\n",
      "22 eclipse_72k, not_weighted, r=10, train hsv(110, 1, 1)\n",
      "23 eclipse_72k, not_weighted, r=10, val hsv(110, 0.5, 0.9)\n",
      "23 eclipse_72k, not_weighted, r=10, train hsv(120, 1, 1)\n",
      "24 eclipse_72k, not_weighted, r=10, val hsv(120, 0.5, 0.9)\n",
      "24 eclipse_72k, not_weighted, r=5, train hsv(129, 1, 1)\n",
      "25 eclipse_72k, not_weighted, r=5, val hsv(129, 0.5, 0.9)\n",
      "25 eclipse_72k, not_weighted, r=10, train hsv(138, 1, 1)\n",
      "26 eclipse_72k, not_weighted, r=10, val hsv(138, 0.5, 0.9)\n",
      "26 mozilla_200k, not_weighted, r=64, train hsv(147, 1, 1)\n",
      "27 mozilla_200k, not_weighted, r=64, val hsv(147, 0.5, 0.9)\n",
      "27 mozilla_200k, not_weighted, r=5, train hsv(156, 1, 1)\n",
      "28 mozilla_200k, not_weighted, r=5, val hsv(156, 0.5, 0.9)\n",
      "29 mozilla_200k, not_weighted, r=64, train hsv(166, 1, 1)\n",
      "30 mozilla_200k, not_weighted, r=64, val hsv(166, 0.5, 0.9)\n",
      "31 mozilla_200k, not_weighted, r=5, train hsv(175, 1, 1)\n",
      "32 mozilla_200k, not_weighted, r=5, val hsv(175, 0.5, 0.9)\n",
      "32 mozilla_200k, not_weighted, r=10, train hsv(184, 1, 1)\n",
      "33 mozilla_200k, not_weighted, r=10, val hsv(184, 0.5, 0.9)\n",
      "33 mozilla_200k, not_weighted, r=5, train hsv(193, 1, 1)\n",
      "34 mozilla_200k, not_weighted, r=5, val hsv(193, 0.5, 0.9)\n",
      "34 mozilla_200k, not_weighted, r=5, train hsv(203, 1, 1)\n",
      "35 mozilla_200k, not_weighted, r=5, val hsv(203, 0.5, 0.9)\n",
      "36 mozilla_200k, not_weighted, r=10, train hsv(212, 1, 1)\n",
      "37 mozilla_200k, not_weighted, r=10, val hsv(212, 0.5, 0.9)\n",
      "37 mozilla_200k, not_weighted, r=64, train hsv(221, 1, 1)\n",
      "38 mozilla_200k, not_weighted, r=64, val hsv(221, 0.5, 0.9)\n",
      "38 mozilla_200k, not_weighted, r=10, train hsv(230, 1, 1)\n",
      "39 mozilla_200k, not_weighted, r=10, val hsv(230, 0.5, 0.9)\n",
      "39 mozilla_200k, not_weighted, r=10, train hsv(240, 1, 1)\n",
      "40 mozilla_200k, not_weighted, r=10, val hsv(240, 0.5, 0.9)\n",
      "40 mozilla_200k, not_weighted, r=10, train hsv(258, 1, 1)\n",
      "41 mozilla_200k, not_weighted, r=10, val hsv(258, 0.5, 0.9)\n",
      "41 mozilla_200k, not_weighted, r=64, train hsv(267, 1, 1)\n",
      "42 mozilla_200k, not_weighted, r=64, val hsv(267, 0.5, 0.9)\n",
      "43 mozilla_200k, not_weighted, r=64, train hsv(276, 1, 1)\n",
      "44 mozilla_200k, not_weighted, r=64, val hsv(276, 0.5, 0.9)\n",
      "44 mozilla_200k, not_weighted, r=10, train hsv(286, 1, 1)\n",
      "45 mozilla_200k, not_weighted, r=10, val hsv(286, 0.5, 0.9)\n",
      "45 mozilla_200k, not_weighted, r=10, train hsv(295, 1, 1)\n",
      "46 mozilla_200k, not_weighted, r=10, val hsv(295, 0.5, 0.9)\n",
      "47 mozilla_200k, not_weighted, r=10, train hsv(304, 1, 1)\n",
      "48 mozilla_200k, not_weighted, r=10, val hsv(304, 0.5, 0.9)\n",
      "48 mozilla_200k, not_weighted, r=10, train hsv(313, 1, 1)\n",
      "49 mozilla_200k, not_weighted, r=10, val hsv(313, 0.5, 0.9)\n"
     ]
    }
   ],
   "source": [
    "l = df.iloc[0]\n",
    "width, height = 800, 600\n",
    "title_attrs = {\n",
    "    \"bs\":l.tr_bs,\n",
    "    \"lora_alpha\":l.lora_alpha,\n",
    "    \"lora_dropout\":l.lora_dropout,\n",
    "    \"model_name\":l.model_name.split('/')[1],\n",
    "    \"learning_rate\": l.learning_rate,\n",
    "    \n",
    "}\n",
    "unique_datasets = list(df[\"name\"].unique())[::2]\n",
    "print(unique_datasets)\n",
    "title = \"<br>\".join(textwrap.wrap(\" ; \".join(f\"{k}={v}\" for k,v in title_attrs.items()), width=75))\n",
    "color_map = {}\n",
    "for i, dataset in enumerate(sorted(unique_datasets)):\n",
    "    base_color = [int(i*360/len(unique_datasets)),1,1]\n",
    "    i = int(dataset.split(\" \")[0])\n",
    "    dataset = \" \".join(dataset.split(\" \")[1:])\n",
    "    color_map[f\"{i} {dataset}, train\"] = f'hsv({base_color[0]}, 1, 1)'\n",
    "    color_map[f\"{i+1} {dataset}, val\"] = f'hsv({base_color[0]}, 0.5, 0.9)'\n",
    "print(\"-----------------\")\n",
    "for k,v in sorted(color_map.items(),key=lambda x:int(x[0].split(\" \")[0])):\n",
    "    print(k,v)"
   ]
  },
  {
   "cell_type": "code",
   "execution_count": 12,
   "metadata": {},
   "outputs": [
    {
     "name": "stdout",
     "output_type": "stream",
     "text": [
      "{'0 eclipse_72k, not_weighted, r=64, train': 'hsv(0, 1, 1)', '1 eclipse_72k, not_weighted, r=64, val': 'hsv(0, 0.5, 0.9)', '1 eclipse_72k, not_weighted, r=64, train': 'hsv(9, 1, 1)', '2 eclipse_72k, not_weighted, r=64, val': 'hsv(9, 0.5, 0.9)', '11 eclipse_72k, not_weighted, r=10, train': 'hsv(18, 1, 1)', '12 eclipse_72k, not_weighted, r=10, val': 'hsv(18, 0.5, 0.9)', '12 eclipse_72k, not_weighted, r=64, train': 'hsv(27, 1, 1)', '13 eclipse_72k, not_weighted, r=64, val': 'hsv(27, 0.5, 0.9)', '13 eclipse_72k, not_weighted, r=10, train': 'hsv(36, 1, 1)', '14 eclipse_72k, not_weighted, r=10, val': 'hsv(36, 0.5, 0.9)', '14 eclipse_72k, not_weighted, r=10, train': 'hsv(46, 1, 1)', '15 eclipse_72k, not_weighted, r=10, val': 'hsv(46, 0.5, 0.9)', '15 eclipse_72k, not_weighted, r=10, train': 'hsv(55, 1, 1)', '16 eclipse_72k, not_weighted, r=10, val': 'hsv(55, 0.5, 0.9)', '16 eclipse_72k, not_weighted, r=64, train': 'hsv(64, 1, 1)', '17 eclipse_72k, not_weighted, r=64, val': 'hsv(64, 0.5, 0.9)', '18 eclipse_72k, not_weighted, r=64, train': 'hsv(73, 1, 1)', '19 eclipse_72k, not_weighted, r=64, val': 'hsv(73, 0.5, 0.9)', '19 eclipse_72k, not_weighted, r=10, train': 'hsv(83, 1, 1)', '20 eclipse_72k, not_weighted, r=10, val': 'hsv(83, 0.5, 0.9)', '2 eclipse_72k, not_weighted, r=5, train': 'hsv(92, 1, 1)', '3 eclipse_72k, not_weighted, r=5, val': 'hsv(92, 0.5, 0.9)', '20 eclipse_72k, not_weighted, r=10, train': 'hsv(101, 1, 1)', '21 eclipse_72k, not_weighted, r=10, val': 'hsv(101, 0.5, 0.9)', '22 eclipse_72k, not_weighted, r=10, train': 'hsv(110, 1, 1)', '23 eclipse_72k, not_weighted, r=10, val': 'hsv(110, 0.5, 0.9)', '23 eclipse_72k, not_weighted, r=10, train': 'hsv(120, 1, 1)', '24 eclipse_72k, not_weighted, r=10, val': 'hsv(120, 0.5, 0.9)', '24 eclipse_72k, not_weighted, r=5, train': 'hsv(129, 1, 1)', '25 eclipse_72k, not_weighted, r=5, val': 'hsv(129, 0.5, 0.9)', '25 eclipse_72k, not_weighted, r=10, train': 'hsv(138, 1, 1)', '26 eclipse_72k, not_weighted, r=10, val': 'hsv(138, 0.5, 0.9)', '26 mozilla_200k, not_weighted, r=64, train': 'hsv(147, 1, 1)', '27 mozilla_200k, not_weighted, r=64, val': 'hsv(147, 0.5, 0.9)', '27 mozilla_200k, not_weighted, r=5, train': 'hsv(156, 1, 1)', '28 mozilla_200k, not_weighted, r=5, val': 'hsv(156, 0.5, 0.9)', '29 mozilla_200k, not_weighted, r=64, train': 'hsv(166, 1, 1)', '30 mozilla_200k, not_weighted, r=64, val': 'hsv(166, 0.5, 0.9)', '31 mozilla_200k, not_weighted, r=5, train': 'hsv(175, 1, 1)', '32 mozilla_200k, not_weighted, r=5, val': 'hsv(175, 0.5, 0.9)', '32 mozilla_200k, not_weighted, r=10, train': 'hsv(184, 1, 1)', '33 mozilla_200k, not_weighted, r=10, val': 'hsv(184, 0.5, 0.9)', '33 mozilla_200k, not_weighted, r=5, train': 'hsv(193, 1, 1)', '34 mozilla_200k, not_weighted, r=5, val': 'hsv(193, 0.5, 0.9)', '34 mozilla_200k, not_weighted, r=5, train': 'hsv(203, 1, 1)', '35 mozilla_200k, not_weighted, r=5, val': 'hsv(203, 0.5, 0.9)', '36 mozilla_200k, not_weighted, r=10, train': 'hsv(212, 1, 1)', '37 mozilla_200k, not_weighted, r=10, val': 'hsv(212, 0.5, 0.9)', '37 mozilla_200k, not_weighted, r=64, train': 'hsv(221, 1, 1)', '38 mozilla_200k, not_weighted, r=64, val': 'hsv(221, 0.5, 0.9)', '38 mozilla_200k, not_weighted, r=10, train': 'hsv(230, 1, 1)', '39 mozilla_200k, not_weighted, r=10, val': 'hsv(230, 0.5, 0.9)', '39 mozilla_200k, not_weighted, r=10, train': 'hsv(240, 1, 1)', '40 mozilla_200k, not_weighted, r=10, val': 'hsv(240, 0.5, 0.9)', '4 eclipse_72k, not_weighted, r=64, train': 'hsv(249, 1, 1)', '5 eclipse_72k, not_weighted, r=64, val': 'hsv(249, 0.5, 0.9)', '40 mozilla_200k, not_weighted, r=10, train': 'hsv(258, 1, 1)', '41 mozilla_200k, not_weighted, r=10, val': 'hsv(258, 0.5, 0.9)', '41 mozilla_200k, not_weighted, r=64, train': 'hsv(267, 1, 1)', '42 mozilla_200k, not_weighted, r=64, val': 'hsv(267, 0.5, 0.9)', '43 mozilla_200k, not_weighted, r=64, train': 'hsv(276, 1, 1)', '44 mozilla_200k, not_weighted, r=64, val': 'hsv(276, 0.5, 0.9)', '44 mozilla_200k, not_weighted, r=10, train': 'hsv(286, 1, 1)', '45 mozilla_200k, not_weighted, r=10, val': 'hsv(286, 0.5, 0.9)', '45 mozilla_200k, not_weighted, r=10, train': 'hsv(295, 1, 1)', '46 mozilla_200k, not_weighted, r=10, val': 'hsv(295, 0.5, 0.9)', '47 mozilla_200k, not_weighted, r=10, train': 'hsv(304, 1, 1)', '48 mozilla_200k, not_weighted, r=10, val': 'hsv(304, 0.5, 0.9)', '48 mozilla_200k, not_weighted, r=10, train': 'hsv(313, 1, 1)', '49 mozilla_200k, not_weighted, r=10, val': 'hsv(313, 0.5, 0.9)', '6 eclipse_72k, not_weighted, r=5, train': 'hsv(323, 1, 1)', '7 eclipse_72k, not_weighted, r=5, val': 'hsv(323, 0.5, 0.9)', '7 eclipse_72k, not_weighted, r=10, train': 'hsv(332, 1, 1)', '8 eclipse_72k, not_weighted, r=10, val': 'hsv(332, 0.5, 0.9)', '8 eclipse_72k, not_weighted, r=5, train': 'hsv(341, 1, 1)', '9 eclipse_72k, not_weighted, r=5, val': 'hsv(341, 0.5, 0.9)', '9 eclipse_72k, not_weighted, r=5, train': 'hsv(350, 1, 1)', '10 eclipse_72k, not_weighted, r=5, val': 'hsv(350, 0.5, 0.9)'}\n"
     ]
    },
    {
     "data": {
      "application/vnd.plotly.v1+json": {
       "config": {
        "plotlyServerURL": "https://plot.ly"
       },
       "data": [
        {
         "hovertemplate": "id=0 eclipse_72k, not_weighted, r=64, train<br>epoch=%{x}<br>accuracy=%{y}<extra></extra>",
         "legendgroup": "0 eclipse_72k, not_weighted, r=64, train",
         "line": {
          "color": "hsv(0, 1, 1)",
          "dash": "solid"
         },
         "marker": {
          "symbol": "circle"
         },
         "mode": "lines",
         "name": "0 eclipse_72k, not_weighted, r=64, train",
         "orientation": "v",
         "showlegend": true,
         "type": "scatter",
         "x": [
          0,
          1,
          2,
          3
         ],
         "xaxis": "x",
         "y": [
          81.04246645822614,
          85.97973641508688,
          90.65777496339098,
          94.91035738314798
         ],
         "yaxis": "y"
        },
        {
         "hovertemplate": "id=1 eclipse_72k, not_weighted, r=5, train<br>epoch=%{x}<br>accuracy=%{y}<extra></extra>",
         "legendgroup": "1 eclipse_72k, not_weighted, r=5, train",
         "line": {
          "color": "#FF97FF",
          "dash": "solid"
         },
         "marker": {
          "symbol": "circle"
         },
         "mode": "lines",
         "name": "1 eclipse_72k, not_weighted, r=5, train",
         "orientation": "v",
         "showlegend": true,
         "type": "scatter",
         "x": [
          0,
          1,
          2,
          3,
          4
         ],
         "xaxis": "x",
         "y": [
          80.75553092967111,
          84.99624015514307,
          88.04962995211145,
          91.30288518621127,
          94.46709146317332
         ],
         "yaxis": "y"
        },
        {
         "hovertemplate": "id=1 eclipse_72k, not_weighted, r=64, val<br>epoch=%{x}<br>accuracy=%{y}<extra></extra>",
         "legendgroup": "1 eclipse_72k, not_weighted, r=64, val",
         "line": {
          "color": "hsv(0, 0.5, 0.9)",
          "dash": "solid"
         },
         "marker": {
          "symbol": "circle"
         },
         "mode": "lines",
         "name": "1 eclipse_72k, not_weighted, r=64, val",
         "orientation": "v",
         "showlegend": true,
         "type": "scatter",
         "x": [
          1,
          2,
          3,
          4
         ],
         "xaxis": "x",
         "y": [
          84.35378861338135,
          85.2126333287159,
          85.22648566283418,
          84.27067460867156
         ],
         "yaxis": "y"
        },
        {
         "hovertemplate": "id=2 eclipse_72k, not_weighted, r=64, train<br>epoch=%{x}<br>accuracy=%{y}<extra></extra>",
         "legendgroup": "2 eclipse_72k, not_weighted, r=64, train",
         "line": {
          "color": "#FECB52",
          "dash": "solid"
         },
         "marker": {
          "symbol": "circle"
         },
         "mode": "lines",
         "name": "2 eclipse_72k, not_weighted, r=64, train",
         "orientation": "v",
         "showlegend": true,
         "type": "scatter",
         "x": [
          0,
          1,
          2,
          3,
          4
         ],
         "xaxis": "x",
         "y": [
          80.43297581826097,
          84.70336802944553,
          88.03379902639807,
          91.97372066331579,
          95.36153876597933
         ],
         "yaxis": "y"
        },
        {
         "hovertemplate": "id=2 eclipse_72k, not_weighted, r=5, val<br>epoch=%{x}<br>accuracy=%{y}<extra></extra>",
         "legendgroup": "2 eclipse_72k, not_weighted, r=5, val",
         "line": {
          "color": "#636efa",
          "dash": "solid"
         },
         "marker": {
          "symbol": "circle"
         },
         "mode": "lines",
         "name": "2 eclipse_72k, not_weighted, r=5, val",
         "orientation": "v",
         "showlegend": true,
         "type": "scatter",
         "x": [
          1,
          2,
          3,
          4,
          5
         ],
         "xaxis": "x",
         "y": [
          83.95899709100983,
          84.83169414046266,
          85.26111649812992,
          84.69317079927968,
          84.23604377337581
         ],
         "yaxis": "y"
        },
        {
         "hovertemplate": "id=3 eclipse_72k, not_weighted, r=64, train<br>epoch=%{x}<br>accuracy=%{y}<extra></extra>",
         "legendgroup": "3 eclipse_72k, not_weighted, r=64, train",
         "line": {
          "color": "#EF553B",
          "dash": "solid"
         },
         "marker": {
          "symbol": "circle"
         },
         "mode": "lines",
         "name": "3 eclipse_72k, not_weighted, r=64, train",
         "orientation": "v",
         "showlegend": true,
         "type": "scatter",
         "x": [
          0,
          1,
          2,
          3,
          4
         ],
         "xaxis": "x",
         "y": [
          81.31159219535363,
          85.46721019511617,
          89.87216527486444,
          94.03767760319785,
          96.99410298017177
         ],
         "yaxis": "y"
        },
        {
         "hovertemplate": "id=3 eclipse_72k, not_weighted, r=64, val<br>epoch=%{x}<br>accuracy=%{y}<extra></extra>",
         "legendgroup": "3 eclipse_72k, not_weighted, r=64, val",
         "line": {
          "color": "#00cc96",
          "dash": "solid"
         },
         "marker": {
          "symbol": "circle"
         },
         "mode": "lines",
         "name": "3 eclipse_72k, not_weighted, r=64, val",
         "orientation": "v",
         "showlegend": true,
         "type": "scatter",
         "x": [
          1,
          2,
          3,
          4,
          5
         ],
         "xaxis": "x",
         "y": [
          83.92436625571409,
          84.65853996398394,
          84.55464745809668,
          84.568499792215,
          83.7442859121762
         ],
         "yaxis": "y"
        },
        {
         "hovertemplate": "id=4 eclipse_72k, not_weighted, r=64, train<br>epoch=%{x}<br>accuracy=%{y}<extra></extra>",
         "legendgroup": "4 eclipse_72k, not_weighted, r=64, train",
         "line": {
          "color": "hsv(249, 1, 1)",
          "dash": "solid"
         },
         "marker": {
          "symbol": "circle"
         },
         "mode": "lines",
         "name": "4 eclipse_72k, not_weighted, r=64, train",
         "orientation": "v",
         "showlegend": true,
         "type": "scatter",
         "x": [
          0,
          1,
          2,
          3
         ],
         "xaxis": "x",
         "y": [
          81.2344164325009,
          85.59979419796574,
          89.98891835200064,
          94.31273993746785
         ],
         "yaxis": "y"
        },
        {
         "hovertemplate": "id=4 eclipse_72k, not_weighted, r=64, val<br>epoch=%{x}<br>accuracy=%{y}<extra></extra>",
         "legendgroup": "4 eclipse_72k, not_weighted, r=64, val",
         "line": {
          "color": "#ab63fa",
          "dash": "solid"
         },
         "marker": {
          "symbol": "circle"
         },
         "mode": "lines",
         "name": "4 eclipse_72k, not_weighted, r=64, val",
         "orientation": "v",
         "showlegend": true,
         "type": "scatter",
         "x": [
          1,
          2,
          3,
          4,
          5
         ],
         "xaxis": "x",
         "y": [
          84.07674193101538,
          84.85247264164012,
          84.40919794985456,
          84.85247264164012,
          84.03518492866048
         ],
         "yaxis": "y"
        },
        {
         "hovertemplate": "id=5 eclipse_72k, not_weighted, r=64, train<br>epoch=%{x}<br>accuracy=%{y}<extra></extra>",
         "legendgroup": "5 eclipse_72k, not_weighted, r=64, train",
         "line": {
          "color": "#FFA15A",
          "dash": "solid"
         },
         "marker": {
          "symbol": "circle"
         },
         "mode": "lines",
         "name": "5 eclipse_72k, not_weighted, r=64, train",
         "orientation": "v",
         "showlegend": true,
         "type": "scatter",
         "x": [
          0,
          1,
          2,
          3,
          4
         ],
         "xaxis": "x",
         "y": [
          78.2542446669569,
          81.7469426524716,
          83.19943008667433,
          84.07013100091028,
          84.9507262437171
         ],
         "yaxis": "y"
        },
        {
         "hovertemplate": "id=5 eclipse_72k, not_weighted, r=64, val<br>epoch=%{x}<br>accuracy=%{y}<extra></extra>",
         "legendgroup": "5 eclipse_72k, not_weighted, r=64, val",
         "line": {
          "color": "hsv(249, 0.5, 0.9)",
          "dash": "solid"
         },
         "marker": {
          "symbol": "circle"
         },
         "mode": "lines",
         "name": "5 eclipse_72k, not_weighted, r=64, val",
         "orientation": "v",
         "showlegend": true,
         "type": "scatter",
         "x": [
          1,
          2,
          3,
          4
         ],
         "xaxis": "x",
         "y": [
          84.3607147804405,
          84.79706330516692,
          84.96329131458651,
          84.77628480398948
         ],
         "yaxis": "y"
        },
        {
         "hovertemplate": "id=6 eclipse_72k, not_weighted, r=5, train<br>epoch=%{x}<br>accuracy=%{y}<extra></extra>",
         "legendgroup": "6 eclipse_72k, not_weighted, r=5, train",
         "line": {
          "color": "hsv(323, 1, 1)",
          "dash": "solid"
         },
         "marker": {
          "symbol": "circle"
         },
         "mode": "lines",
         "name": "6 eclipse_72k, not_weighted, r=5, train",
         "orientation": "v",
         "showlegend": true,
         "type": "scatter",
         "x": [
          0,
          1,
          2,
          3
         ],
         "xaxis": "x",
         "y": [
          77.86045038983654,
          81.20671231250248,
          82.31289824672497,
          83.08267700953813
         ],
         "yaxis": "y"
        },
        {
         "hovertemplate": "id=6 eclipse_72k, not_weighted, r=64, val<br>epoch=%{x}<br>accuracy=%{y}<extra></extra>",
         "legendgroup": "6 eclipse_72k, not_weighted, r=64, val",
         "line": {
          "color": "#19d3f3",
          "dash": "solid"
         },
         "marker": {
          "symbol": "circle"
         },
         "mode": "lines",
         "name": "6 eclipse_72k, not_weighted, r=64, val",
         "orientation": "v",
         "showlegend": true,
         "type": "scatter",
         "x": [
          1,
          2,
          3,
          4,
          5
         ],
         "xaxis": "x",
         "y": [
          81.29934894029644,
          83.0308907050838,
          83.7442859121762,
          83.688876575703,
          83.58498406981576
         ],
         "yaxis": "y"
        },
        {
         "hovertemplate": "id=7 eclipse_72k, not_weighted, r=10, train<br>epoch=%{x}<br>accuracy=%{y}<extra></extra>",
         "legendgroup": "7 eclipse_72k, not_weighted, r=10, train",
         "line": {
          "color": "hsv(332, 1, 1)",
          "dash": "solid"
         },
         "marker": {
          "symbol": "circle"
         },
         "mode": "lines",
         "name": "7 eclipse_72k, not_weighted, r=10, train",
         "orientation": "v",
         "showlegend": true,
         "type": "scatter",
         "x": [
          0,
          1,
          2,
          3
         ],
         "xaxis": "x",
         "y": [
          79.43166976688963,
          82.67503067241857,
          84.30957375232516,
          85.36826690940754
         ],
         "yaxis": "y"
        },
        {
         "hovertemplate": "id=7 eclipse_72k, not_weighted, r=5, val<br>epoch=%{x}<br>accuracy=%{y}<extra></extra>",
         "legendgroup": "7 eclipse_72k, not_weighted, r=5, val",
         "line": {
          "color": "hsv(323, 0.5, 0.9)",
          "dash": "solid"
         },
         "marker": {
          "symbol": "circle"
         },
         "mode": "lines",
         "name": "7 eclipse_72k, not_weighted, r=5, val",
         "orientation": "v",
         "showlegend": true,
         "type": "scatter",
         "x": [
          1,
          2,
          3,
          4
         ],
         "xaxis": "x",
         "y": [
          80.72447707438704,
          81.9227039756199,
          82.3867571685829,
          82.89929353095997
         ],
         "yaxis": "y"
        },
        {
         "hovertemplate": "id=8 eclipse_72k, not_weighted, r=5, train<br>epoch=%{x}<br>accuracy=%{y}<extra></extra>",
         "legendgroup": "8 eclipse_72k, not_weighted, r=5, train",
         "line": {
          "color": "hsv(341, 1, 1)",
          "dash": "solid"
         },
         "marker": {
          "symbol": "circle"
         },
         "mode": "lines",
         "name": "8 eclipse_72k, not_weighted, r=5, train",
         "orientation": "v",
         "showlegend": true,
         "type": "scatter",
         "x": [
          0,
          1,
          2,
          3
         ],
         "xaxis": "x",
         "y": [
          81.15328293821982,
          85.35045711797997,
          89.1083231091938,
          92.43281750900384
         ],
         "yaxis": "y"
        },
        {
         "hovertemplate": "id=8 eclipse_72k, not_weighted, r=10, val<br>epoch=%{x}<br>accuracy=%{y}<extra></extra>",
         "legendgroup": "8 eclipse_72k, not_weighted, r=10, val",
         "line": {
          "color": "hsv(332, 0.5, 0.9)",
          "dash": "solid"
         },
         "marker": {
          "symbol": "circle"
         },
         "mode": "lines",
         "name": "8 eclipse_72k, not_weighted, r=10, val",
         "orientation": "v",
         "showlegend": true,
         "type": "scatter",
         "x": [
          1,
          2,
          3,
          4
         ],
         "xaxis": "x",
         "y": [
          82.55298517800249,
          83.7581382462945,
          84.09752043219282,
          84.2776007757307
         ],
         "yaxis": "y"
        },
        {
         "hovertemplate": "id=9 eclipse_72k, not_weighted, r=5, train<br>epoch=%{x}<br>accuracy=%{y}<extra></extra>",
         "legendgroup": "9 eclipse_72k, not_weighted, r=5, train",
         "line": {
          "color": "hsv(350, 1, 1)",
          "dash": "solid"
         },
         "marker": {
          "symbol": "circle"
         },
         "mode": "lines",
         "name": "9 eclipse_72k, not_weighted, r=5, train",
         "orientation": "v",
         "showlegend": true,
         "type": "scatter",
         "x": [
          0,
          1,
          2,
          3
         ],
         "xaxis": "x",
         "y": [
          80.46859540111609,
          84.80429018086832,
          88.14461550639173,
          91.89852376617723
         ],
         "yaxis": "y"
        },
        {
         "hovertemplate": "id=9 eclipse_72k, not_weighted, r=5, val<br>epoch=%{x}<br>accuracy=%{y}<extra></extra>",
         "legendgroup": "9 eclipse_72k, not_weighted, r=5, val",
         "line": {
          "color": "hsv(341, 0.5, 0.9)",
          "dash": "solid"
         },
         "marker": {
          "symbol": "circle"
         },
         "mode": "lines",
         "name": "9 eclipse_72k, not_weighted, r=5, val",
         "orientation": "v",
         "showlegend": true,
         "type": "scatter",
         "x": [
          1,
          2,
          3,
          4
         ],
         "xaxis": "x",
         "y": [
          83.91744008865494,
          84.76935863693032,
          84.83169414046266,
          85.0187006510597
         ],
         "yaxis": "y"
        },
        {
         "hovertemplate": "id=10 eclipse_72k, not_weighted, r=5, train<br>epoch=%{x}<br>accuracy=%{y}<extra></extra>",
         "legendgroup": "10 eclipse_72k, not_weighted, r=5, train",
         "line": {
          "color": "#FF6692",
          "dash": "solid"
         },
         "marker": {
          "symbol": "circle"
         },
         "mode": "lines",
         "name": "10 eclipse_72k, not_weighted, r=5, train",
         "orientation": "v",
         "showlegend": true,
         "type": "scatter",
         "x": [
          0,
          1,
          2,
          3
         ],
         "xaxis": "x",
         "y": [
          81.25222622392845,
          85.87287766652155,
          89.78311631772668,
          93.70522816321684
         ],
         "yaxis": "y"
        },
        {
         "hovertemplate": "id=10 eclipse_72k, not_weighted, r=5, val<br>epoch=%{x}<br>accuracy=%{y}<extra></extra>",
         "legendgroup": "10 eclipse_72k, not_weighted, r=5, val",
         "line": {
          "color": "hsv(350, 0.5, 0.9)",
          "dash": "solid"
         },
         "marker": {
          "symbol": "circle"
         },
         "mode": "lines",
         "name": "10 eclipse_72k, not_weighted, r=5, val",
         "orientation": "v",
         "showlegend": true,
         "type": "scatter",
         "x": [
          1,
          2,
          3,
          4
         ],
         "xaxis": "x",
         "y": [
          83.91744008865494,
          84.80398947222608,
          84.58927829339244,
          84.61005679456989
         ],
         "yaxis": "y"
        },
        {
         "hovertemplate": "id=11 eclipse_72k, not_weighted, r=10, train<br>epoch=%{x}<br>accuracy=%{y}<extra></extra>",
         "legendgroup": "11 eclipse_72k, not_weighted, r=10, train",
         "line": {
          "color": "hsv(18, 1, 1)",
          "dash": "solid"
         },
         "marker": {
          "symbol": "circle"
         },
         "mode": "lines",
         "name": "11 eclipse_72k, not_weighted, r=10, train",
         "orientation": "v",
         "showlegend": true,
         "type": "scatter",
         "x": [
          0,
          1,
          2,
          3
         ],
         "xaxis": "x",
         "y": [
          78.66782760121897,
          82.5642141924249,
          84.03451141805517,
          85.15652827799104
         ],
         "yaxis": "y"
        },
        {
         "hovertemplate": "id=11 eclipse_72k, not_weighted, r=5, val<br>epoch=%{x}<br>accuracy=%{y}<extra></extra>",
         "legendgroup": "11 eclipse_72k, not_weighted, r=5, val",
         "line": {
          "color": "#B6E880",
          "dash": "solid"
         },
         "marker": {
          "symbol": "circle"
         },
         "mode": "lines",
         "name": "11 eclipse_72k, not_weighted, r=5, val",
         "orientation": "v",
         "showlegend": true,
         "type": "scatter",
         "x": [
          1,
          2,
          3,
          4
         ],
         "xaxis": "x",
         "y": [
          84.4576811192686,
          85.0464053192963,
          84.568499792215,
          84.73472780163458
         ],
         "yaxis": "y"
        },
        {
         "hovertemplate": "id=12 eclipse_72k, not_weighted, r=64, train<br>epoch=%{x}<br>accuracy=%{y}<extra></extra>",
         "legendgroup": "12 eclipse_72k, not_weighted, r=64, train",
         "line": {
          "color": "hsv(27, 1, 1)",
          "dash": "solid"
         },
         "marker": {
          "symbol": "circle"
         },
         "mode": "lines",
         "name": "12 eclipse_72k, not_weighted, r=64, train",
         "orientation": "v",
         "showlegend": true,
         "type": "scatter",
         "x": [
          0,
          1,
          2,
          3
         ],
         "xaxis": "x",
         "y": [
          78.45015237265999,
          81.50354216962837,
          83.06486721811058,
          83.95733565520244
         ],
         "yaxis": "y"
        },
        {
         "hovertemplate": "id=12 eclipse_72k, not_weighted, r=10, val<br>epoch=%{x}<br>accuracy=%{y}<extra></extra>",
         "legendgroup": "12 eclipse_72k, not_weighted, r=10, val",
         "line": {
          "color": "hsv(18, 0.5, 0.9)",
          "dash": "solid"
         },
         "marker": {
          "symbol": "circle"
         },
         "mode": "lines",
         "name": "12 eclipse_72k, not_weighted, r=10, val",
         "orientation": "v",
         "showlegend": true,
         "type": "scatter",
         "x": [
          1,
          2,
          3,
          4
         ],
         "xaxis": "x",
         "y": [
          82.44909267211526,
          83.64039340628896,
          84.02133259454217,
          84.20833910513922
         ],
         "yaxis": "y"
        },
        {
         "hovertemplate": "id=13 eclipse_72k, not_weighted, r=10, train<br>epoch=%{x}<br>accuracy=%{y}<extra></extra>",
         "legendgroup": "13 eclipse_72k, not_weighted, r=10, train",
         "line": {
          "color": "hsv(36, 1, 1)",
          "dash": "solid"
         },
         "marker": {
          "symbol": "circle"
         },
         "mode": "lines",
         "name": "13 eclipse_72k, not_weighted, r=10, train",
         "orientation": "v",
         "showlegend": true,
         "type": "scatter",
         "x": [
          0,
          1,
          2,
          3
         ],
         "xaxis": "x",
         "y": [
          81.54905608105435,
          85.86694106937904,
          89.80884157201092,
          93.57066529465311
         ],
         "yaxis": "y"
        },
        {
         "hovertemplate": "id=13 eclipse_72k, not_weighted, r=64, val<br>epoch=%{x}<br>accuracy=%{y}<extra></extra>",
         "legendgroup": "13 eclipse_72k, not_weighted, r=64, val",
         "line": {
          "color": "hsv(27, 0.5, 0.9)",
          "dash": "solid"
         },
         "marker": {
          "symbol": "circle"
         },
         "mode": "lines",
         "name": "13 eclipse_72k, not_weighted, r=64, val",
         "orientation": "v",
         "showlegend": true,
         "type": "scatter",
         "x": [
          1,
          2,
          3,
          4
         ],
         "xaxis": "x",
         "y": [
          81.14697326499515,
          82.04737498268459,
          82.83695802742763,
          83.06552154037955
         ],
         "yaxis": "y"
        },
        {
         "hovertemplate": "id=14 eclipse_72k, not_weighted, r=10, train<br>epoch=%{x}<br>accuracy=%{y}<extra></extra>",
         "legendgroup": "14 eclipse_72k, not_weighted, r=10, train",
         "line": {
          "color": "hsv(46, 1, 1)",
          "dash": "solid"
         },
         "marker": {
          "symbol": "circle"
         },
         "mode": "lines",
         "name": "14 eclipse_72k, not_weighted, r=10, train",
         "orientation": "v",
         "showlegend": true,
         "type": "scatter",
         "x": [
          0,
          1,
          2,
          3
         ],
         "xaxis": "x",
         "y": [
          78.93497447263229,
          82.3762219495785,
          83.50615427237108,
          84.24031345232913
         ],
         "yaxis": "y"
        },
        {
         "hovertemplate": "id=14 eclipse_72k, not_weighted, r=10, val<br>epoch=%{x}<br>accuracy=%{y}<extra></extra>",
         "legendgroup": "14 eclipse_72k, not_weighted, r=10, val",
         "line": {
          "color": "hsv(36, 0.5, 0.9)",
          "dash": "solid"
         },
         "marker": {
          "symbol": "circle"
         },
         "mode": "lines",
         "name": "14 eclipse_72k, not_weighted, r=10, val",
         "orientation": "v",
         "showlegend": true,
         "type": "scatter",
         "x": [
          1,
          2,
          3,
          4
         ],
         "xaxis": "x",
         "y": [
          84.3884194486771,
          84.63776146280648,
          84.35378861338135,
          85.13644549106525
         ],
         "yaxis": "y"
        },
        {
         "hovertemplate": "id=15 eclipse_72k, not_weighted, r=64, train<br>epoch=%{x}<br>accuracy=%{y}<extra></extra>",
         "legendgroup": "15 eclipse_72k, not_weighted, r=64, train",
         "line": {
          "color": "#FF97FF",
          "dash": "solid"
         },
         "marker": {
          "symbol": "circle"
         },
         "mode": "lines",
         "name": "15 eclipse_72k, not_weighted, r=64, train",
         "orientation": "v",
         "showlegend": true,
         "type": "scatter",
         "x": [
          0,
          1,
          2,
          3
         ],
         "xaxis": "x",
         "y": [
          77.62892310127835,
          81.06621284679622,
          82.44152451814621,
          83.31222543238216
         ],
         "yaxis": "y"
        },
        {
         "hovertemplate": "id=15 eclipse_72k, not_weighted, r=10, val<br>epoch=%{x}<br>accuracy=%{y}<extra></extra>",
         "legendgroup": "15 eclipse_72k, not_weighted, r=10, val",
         "line": {
          "color": "hsv(46, 0.5, 0.9)",
          "dash": "solid"
         },
         "marker": {
          "symbol": "circle"
         },
         "mode": "lines",
         "name": "15 eclipse_72k, not_weighted, r=10, val",
         "orientation": "v",
         "showlegend": true,
         "type": "scatter",
         "x": [
          1,
          2,
          3,
          4
         ],
         "xaxis": "x",
         "y": [
          82.28286466269566,
          83.1555617121485,
          83.7581382462945,
          84.00055409336473
         ],
         "yaxis": "y"
        },
        {
         "hovertemplate": "id=16 eclipse_72k, not_weighted, r=10, train<br>epoch=%{x}<br>accuracy=%{y}<extra></extra>",
         "legendgroup": "16 eclipse_72k, not_weighted, r=10, train",
         "line": {
          "color": "#FECB52",
          "dash": "solid"
         },
         "marker": {
          "symbol": "circle"
         },
         "mode": "lines",
         "name": "16 eclipse_72k, not_weighted, r=10, train",
         "orientation": "v",
         "showlegend": true,
         "type": "scatter",
         "x": [
          0,
          1,
          2,
          3
         ],
         "xaxis": "x",
         "y": [
          81.04246645822614,
          85.61562512367911,
          89.8464400205802,
          93.83583330035223
         ],
         "yaxis": "y"
        },
        {
         "hovertemplate": "id=16 eclipse_72k, not_weighted, r=64, val<br>epoch=%{x}<br>accuracy=%{y}<extra></extra>",
         "legendgroup": "16 eclipse_72k, not_weighted, r=64, val",
         "line": {
          "color": "#636efa",
          "dash": "solid"
         },
         "marker": {
          "symbol": "circle"
         },
         "mode": "lines",
         "name": "16 eclipse_72k, not_weighted, r=64, val",
         "orientation": "v",
         "showlegend": true,
         "type": "scatter",
         "x": [
          1,
          2,
          3,
          4
         ],
         "xaxis": "x",
         "y": [
          80.62751073555894,
          82.16511982269013,
          82.69150851918549,
          82.85081036154592
         ],
         "yaxis": "y"
        },
        {
         "hovertemplate": "id=17 eclipse_72k, not_weighted, r=10, train<br>epoch=%{x}<br>accuracy=%{y}<extra></extra>",
         "legendgroup": "17 eclipse_72k, not_weighted, r=10, train",
         "line": {
          "color": "#EF553B",
          "dash": "solid"
         },
         "marker": {
          "symbol": "circle"
         },
         "mode": "lines",
         "name": "17 eclipse_72k, not_weighted, r=10, train",
         "orientation": "v",
         "showlegend": true,
         "type": "scatter",
         "x": [
          0,
          1,
          2,
          3
         ],
         "xaxis": "x",
         "y": [
          78.57284204693869,
          81.99232200102901,
          83.30628883523964,
          84.26999643804172
         ],
         "yaxis": "y"
        },
        {
         "hovertemplate": "id=17 eclipse_72k, not_weighted, r=10, val<br>epoch=%{x}<br>accuracy=%{y}<extra></extra>",
         "legendgroup": "17 eclipse_72k, not_weighted, r=10, val",
         "line": {
          "color": "#00cc96",
          "dash": "solid"
         },
         "marker": {
          "symbol": "circle"
         },
         "mode": "lines",
         "name": "17 eclipse_72k, not_weighted, r=10, val",
         "orientation": "v",
         "showlegend": true,
         "type": "scatter",
         "x": [
          1,
          2,
          3,
          4
         ],
         "xaxis": "x",
         "y": [
          83.92436625571409,
          84.91480814517246,
          84.91480814517246,
          84.86632497575842
         ],
         "yaxis": "y"
        },
        {
         "hovertemplate": "id=18 eclipse_72k, not_weighted, r=64, train<br>epoch=%{x}<br>accuracy=%{y}<extra></extra>",
         "legendgroup": "18 eclipse_72k, not_weighted, r=64, train",
         "line": {
          "color": "hsv(73, 1, 1)",
          "dash": "solid"
         },
         "marker": {
          "symbol": "circle"
         },
         "mode": "lines",
         "name": "18 eclipse_72k, not_weighted, r=64, train",
         "orientation": "v",
         "showlegend": true,
         "type": "scatter",
         "x": [
          0,
          1,
          2,
          3
         ],
         "xaxis": "x",
         "y": [
          80.95539636680255,
          85.05758499228241,
          88.28709383781217,
          92.31012783472514
         ],
         "yaxis": "y"
        },
        {
         "hovertemplate": "id=18 eclipse_72k, not_weighted, r=10, val<br>epoch=%{x}<br>accuracy=%{y}<extra></extra>",
         "legendgroup": "18 eclipse_72k, not_weighted, r=10, val",
         "line": {
          "color": "#ab63fa",
          "dash": "solid"
         },
         "marker": {
          "symbol": "circle"
         },
         "mode": "lines",
         "name": "18 eclipse_72k, not_weighted, r=10, val",
         "orientation": "v",
         "showlegend": true,
         "type": "scatter",
         "x": [
          1,
          2,
          3,
          4
         ],
         "xaxis": "x",
         "y": [
          81.77032830031861,
          83.2386757168583,
          83.61961490511152,
          84.14600360160686
         ],
         "yaxis": "y"
        },
        {
         "hovertemplate": "id=19 eclipse_72k, not_weighted, r=10, train<br>epoch=%{x}<br>accuracy=%{y}<extra></extra>",
         "legendgroup": "19 eclipse_72k, not_weighted, r=10, train",
         "line": {
          "color": "hsv(83, 1, 1)",
          "dash": "solid"
         },
         "marker": {
          "symbol": "circle"
         },
         "mode": "lines",
         "name": "19 eclipse_72k, not_weighted, r=10, train",
         "orientation": "v",
         "showlegend": true,
         "type": "scatter",
         "x": [
          0,
          1,
          2,
          3
         ],
         "xaxis": "x",
         "y": [
          80.66450310681917,
          85.0437329322832,
          88.43946649780345,
          92.33387422329521
         ],
         "yaxis": "y"
        },
        {
         "hovertemplate": "id=19 eclipse_72k, not_weighted, r=64, val<br>epoch=%{x}<br>accuracy=%{y}<extra></extra>",
         "legendgroup": "19 eclipse_72k, not_weighted, r=64, val",
         "line": {
          "color": "hsv(73, 0.5, 0.9)",
          "dash": "solid"
         },
         "marker": {
          "symbol": "circle"
         },
         "mode": "lines",
         "name": "19 eclipse_72k, not_weighted, r=64, val",
         "orientation": "v",
         "showlegend": true,
         "type": "scatter",
         "x": [
          1,
          2,
          3,
          4
         ],
         "xaxis": "x",
         "y": [
          83.8135475827677,
          84.24989610749411,
          85.28882116636653,
          84.83862030752182
         ],
         "yaxis": "y"
        },
        {
         "hovertemplate": "id=20 eclipse_72k, not_weighted, r=10, train<br>epoch=%{x}<br>accuracy=%{y}<extra></extra>",
         "legendgroup": "20 eclipse_72k, not_weighted, r=10, train",
         "line": {
          "color": "hsv(101, 1, 1)",
          "dash": "solid"
         },
         "marker": {
          "symbol": "circle"
         },
         "mode": "lines",
         "name": "20 eclipse_72k, not_weighted, r=10, train",
         "orientation": "v",
         "showlegend": true,
         "type": "scatter",
         "x": [
          0,
          1,
          2,
          3,
          4
         ],
         "xaxis": "x",
         "y": [
          81.24035302964342,
          85.5364704951122,
          89.44077254917482,
          93.36486326037915,
          95.97498713737286
         ],
         "yaxis": "y"
        },
        {
         "hovertemplate": "id=20 eclipse_72k, not_weighted, r=10, val<br>epoch=%{x}<br>accuracy=%{y}<extra></extra>",
         "legendgroup": "20 eclipse_72k, not_weighted, r=10, val",
         "line": {
          "color": "hsv(83, 0.5, 0.9)",
          "dash": "solid"
         },
         "marker": {
          "symbol": "circle"
         },
         "mode": "lines",
         "name": "20 eclipse_72k, not_weighted, r=10, val",
         "orientation": "v",
         "showlegend": true,
         "type": "scatter",
         "x": [
          1,
          2,
          3,
          4
         ],
         "xaxis": "x",
         "y": [
          83.95899709100983,
          84.74165396869373,
          84.88017730987671,
          84.4438287851503
         ],
         "yaxis": "y"
        },
        {
         "hovertemplate": "id=21 eclipse_72k, not_weighted, r=10, train<br>epoch=%{x}<br>accuracy=%{y}<extra></extra>",
         "legendgroup": "21 eclipse_72k, not_weighted, r=10, train",
         "line": {
          "color": "#FFA15A",
          "dash": "solid"
         },
         "marker": {
          "symbol": "circle"
         },
         "mode": "lines",
         "name": "21 eclipse_72k, not_weighted, r=10, train",
         "orientation": "v",
         "showlegend": true,
         "type": "scatter",
         "x": [
          0,
          1,
          2,
          3
         ],
         "xaxis": "x",
         "y": [
          78.16123797839079,
          81.46990145248743,
          82.7165868524162,
          83.72976609807259
         ],
         "yaxis": "y"
        },
        {
         "hovertemplate": "id=21 eclipse_72k, not_weighted, r=10, val<br>epoch=%{x}<br>accuracy=%{y}<extra></extra>",
         "legendgroup": "21 eclipse_72k, not_weighted, r=10, val",
         "line": {
          "color": "hsv(101, 0.5, 0.9)",
          "dash": "solid"
         },
         "marker": {
          "symbol": "circle"
         },
         "mode": "lines",
         "name": "21 eclipse_72k, not_weighted, r=10, val",
         "orientation": "v",
         "showlegend": true,
         "type": "scatter",
         "x": [
          1,
          2,
          3,
          4,
          5
         ],
         "xaxis": "x",
         "y": [
          83.82047374982685,
          84.68624463222054,
          84.63776146280648,
          84.58927829339244,
          84.04211109571963
         ],
         "yaxis": "y"
        },
        {
         "hovertemplate": "id=22 eclipse_72k, not_weighted, r=10, train<br>epoch=%{x}<br>accuracy=%{y}<extra></extra>",
         "legendgroup": "22 eclipse_72k, not_weighted, r=10, train",
         "line": {
          "color": "hsv(110, 1, 1)",
          "dash": "solid"
         },
         "marker": {
          "symbol": "circle"
         },
         "mode": "lines",
         "name": "22 eclipse_72k, not_weighted, r=10, train",
         "orientation": "v",
         "showlegend": true,
         "type": "scatter",
         "x": [
          0,
          1,
          2,
          3
         ],
         "xaxis": "x",
         "y": [
          77.66058495270511,
          80.70408042110262,
          81.93889262674635,
          82.76012189812799
         ],
         "yaxis": "y"
        },
        {
         "hovertemplate": "id=22 eclipse_72k, not_weighted, r=10, val<br>epoch=%{x}<br>accuracy=%{y}<extra></extra>",
         "legendgroup": "22 eclipse_72k, not_weighted, r=10, val",
         "line": {
          "color": "#19d3f3",
          "dash": "solid"
         },
         "marker": {
          "symbol": "circle"
         },
         "mode": "lines",
         "name": "22 eclipse_72k, not_weighted, r=10, val",
         "orientation": "v",
         "showlegend": true,
         "type": "scatter",
         "x": [
          1,
          2,
          3,
          4
         ],
         "xaxis": "x",
         "y": [
          80.89070508380662,
          82.50450200858845,
          83.18326638038509,
          82.97548136861062
         ],
         "yaxis": "y"
        },
        {
         "hovertemplate": "id=23 eclipse_72k, not_weighted, r=5, train<br>epoch=%{x}<br>accuracy=%{y}<extra></extra>",
         "legendgroup": "23 eclipse_72k, not_weighted, r=5, train",
         "line": {
          "color": "#FF6692",
          "dash": "solid"
         },
         "marker": {
          "symbol": "circle"
         },
         "mode": "lines",
         "name": "23 eclipse_72k, not_weighted, r=5, train",
         "orientation": "v",
         "showlegend": true,
         "type": "scatter",
         "x": [
          0,
          1,
          2,
          3
         ],
         "xaxis": "x",
         "y": [
          81.17109272964737,
          85.90256065223414,
          89.77124312344165,
          93.82000237463886
         ],
         "yaxis": "y"
        },
        {
         "hovertemplate": "id=23 eclipse_72k, not_weighted, r=10, val<br>epoch=%{x}<br>accuracy=%{y}<extra></extra>",
         "legendgroup": "23 eclipse_72k, not_weighted, r=10, val",
         "line": {
          "color": "hsv(110, 0.5, 0.9)",
          "dash": "solid"
         },
         "marker": {
          "symbol": "circle"
         },
         "mode": "lines",
         "name": "23 eclipse_72k, not_weighted, r=10, val",
         "orientation": "v",
         "showlegend": true,
         "type": "scatter",
         "x": [
          1,
          2,
          3,
          4
         ],
         "xaxis": "x",
         "y": [
          80.44050422496191,
          81.80495913561435,
          82.25515999445906,
          82.3867571685829
         ],
         "yaxis": "y"
        },
        {
         "hovertemplate": "id=24 eclipse_72k, not_weighted, r=10, train<br>epoch=%{x}<br>accuracy=%{y}<extra></extra>",
         "legendgroup": "24 eclipse_72k, not_weighted, r=10, train",
         "line": {
          "color": "#B6E880",
          "dash": "solid"
         },
         "marker": {
          "symbol": "circle"
         },
         "mode": "lines",
         "name": "24 eclipse_72k, not_weighted, r=10, train",
         "orientation": "v",
         "showlegend": true,
         "type": "scatter",
         "x": [
          0,
          1,
          2,
          3
         ],
         "xaxis": "x",
         "y": [
          81.26014168678513,
          85.9263070408042,
          89.87810187200697,
          94.04163533462619
         ],
         "yaxis": "y"
        },
        {
         "hovertemplate": "id=24 eclipse_72k, not_weighted, r=5, val<br>epoch=%{x}<br>accuracy=%{y}<extra></extra>",
         "legendgroup": "24 eclipse_72k, not_weighted, r=5, val",
         "line": {
          "color": "#FF97FF",
          "dash": "solid"
         },
         "marker": {
          "symbol": "circle"
         },
         "mode": "lines",
         "name": "24 eclipse_72k, not_weighted, r=5, val",
         "orientation": "v",
         "showlegend": true,
         "type": "scatter",
         "x": [
          1,
          2,
          3,
          4
         ],
         "xaxis": "x",
         "y": [
          84.79706330516692,
          84.97021748164566,
          84.38149328161795,
          84.46460728632775
         ],
         "yaxis": "y"
        },
        {
         "hovertemplate": "id=25 mozilla_200k, not_weighted, r=64, train<br>epoch=%{x}<br>accuracy=%{y}<extra></extra>",
         "legendgroup": "25 mozilla_200k, not_weighted, r=64, train",
         "line": {
          "color": "#FECB52",
          "dash": "solid"
         },
         "marker": {
          "symbol": "circle"
         },
         "mode": "lines",
         "name": "25 mozilla_200k, not_weighted, r=64, train",
         "orientation": "v",
         "showlegend": true,
         "type": "scatter",
         "x": [
          0,
          1,
          2
         ],
         "xaxis": "x",
         "y": [
          81.46056225813794,
          84.62113020714773,
          87.74186205326656
         ],
         "yaxis": "y"
        },
        {
         "hovertemplate": "id=25 eclipse_72k, not_weighted, r=10, val<br>epoch=%{x}<br>accuracy=%{y}<extra></extra>",
         "legendgroup": "25 eclipse_72k, not_weighted, r=10, val",
         "line": {
          "color": "#636efa",
          "dash": "solid"
         },
         "marker": {
          "symbol": "circle"
         },
         "mode": "lines",
         "name": "25 eclipse_72k, not_weighted, r=10, val",
         "orientation": "v",
         "showlegend": true,
         "type": "scatter",
         "x": [
          1,
          2,
          3,
          4
         ],
         "xaxis": "x",
         "y": [
          84.31223161102646,
          84.82476797340351,
          85.08103615459206,
          84.65161379692478
         ],
         "yaxis": "y"
        },
        {
         "hovertemplate": "id=26 mozilla_200k, not_weighted, r=5, train<br>epoch=%{x}<br>accuracy=%{y}<extra></extra>",
         "legendgroup": "26 mozilla_200k, not_weighted, r=5, train",
         "line": {
          "color": "#EF553B",
          "dash": "solid"
         },
         "marker": {
          "symbol": "circle"
         },
         "mode": "lines",
         "name": "26 mozilla_200k, not_weighted, r=5, train",
         "orientation": "v",
         "showlegend": true,
         "type": "scatter",
         "x": [
          0,
          1,
          2
         ],
         "xaxis": "x",
         "y": [
          81.53810038697928,
          84.31382312770317,
          86.85977691782381
         ],
         "yaxis": "y"
        },
        {
         "hovertemplate": "id=26 mozilla_200k, not_weighted, r=64, val<br>epoch=%{x}<br>accuracy=%{y}<extra></extra>",
         "legendgroup": "26 mozilla_200k, not_weighted, r=64, val",
         "line": {
          "color": "#00cc96",
          "dash": "solid"
         },
         "marker": {
          "symbol": "circle"
         },
         "mode": "lines",
         "name": "26 mozilla_200k, not_weighted, r=64, val",
         "orientation": "v",
         "showlegend": true,
         "type": "scatter",
         "x": [
          1,
          2,
          3
         ],
         "xaxis": "x",
         "y": [
          82.5594423005104,
          82.9229428606996,
          82.67645960413296
         ],
         "yaxis": "y"
        },
        {
         "hovertemplate": "id=27 mozilla_200k, not_weighted, r=64, train<br>epoch=%{x}<br>accuracy=%{y}<extra></extra>",
         "legendgroup": "27 mozilla_200k, not_weighted, r=64, train",
         "line": {
          "color": "#ab63fa",
          "dash": "solid"
         },
         "marker": {
          "symbol": "circle"
         },
         "mode": "lines",
         "name": "27 mozilla_200k, not_weighted, r=64, train",
         "orientation": "v",
         "showlegend": true,
         "type": "scatter",
         "x": [
          0,
          1,
          2
         ],
         "xaxis": "x",
         "y": [
          81.23008194855453,
          84.15163328021853,
          86.60013089005236
         ],
         "yaxis": "y"
        },
        {
         "hovertemplate": "id=27 mozilla_200k, not_weighted, r=5, val<br>epoch=%{x}<br>accuracy=%{y}<extra></extra>",
         "legendgroup": "27 mozilla_200k, not_weighted, r=5, val",
         "line": {
          "color": "#FFA15A",
          "dash": "solid"
         },
         "marker": {
          "symbol": "circle"
         },
         "mode": "lines",
         "name": "27 mozilla_200k, not_weighted, r=5, val",
         "orientation": "v",
         "showlegend": true,
         "type": "scatter",
         "x": [
          1,
          2
         ],
         "xaxis": "x",
         "y": [
          82.37022283082285,
          83.05738827337234
         ],
         "yaxis": "y"
        },
        {
         "hovertemplate": "id=28 mozilla_200k, not_weighted, r=64, train<br>epoch=%{x}<br>accuracy=%{y}<extra></extra>",
         "legendgroup": "28 mozilla_200k, not_weighted, r=64, train",
         "line": {
          "color": "#19d3f3",
          "dash": "solid"
         },
         "marker": {
          "symbol": "circle"
         },
         "mode": "lines",
         "name": "28 mozilla_200k, not_weighted, r=64, train",
         "orientation": "v",
         "showlegend": true,
         "type": "scatter",
         "x": [
          0,
          1,
          2
         ],
         "xaxis": "x",
         "y": [
          81.10559412702027,
          83.8030673799226,
          86.28144206692465
         ],
         "yaxis": "y"
        },
        {
         "hovertemplate": "id=28 mozilla_200k, not_weighted, r=64, val<br>epoch=%{x}<br>accuracy=%{y}<extra></extra>",
         "legendgroup": "28 mozilla_200k, not_weighted, r=64, val",
         "line": {
          "color": "#FF6692",
          "dash": "solid"
         },
         "marker": {
          "symbol": "circle"
         },
         "mode": "lines",
         "name": "28 mozilla_200k, not_weighted, r=64, val",
         "orientation": "v",
         "showlegend": true,
         "type": "scatter",
         "x": [
          1,
          2
         ],
         "xaxis": "x",
         "y": [
          82.53205527200299,
          83.11465206025146
         ],
         "yaxis": "y"
        },
        {
         "hovertemplate": "id=29 mozilla_200k, not_weighted, r=64, train<br>epoch=%{x}<br>accuracy=%{y}<extra></extra>",
         "legendgroup": "29 mozilla_200k, not_weighted, r=64, train",
         "line": {
          "color": "hsv(166, 1, 1)",
          "dash": "solid"
         },
         "marker": {
          "symbol": "circle"
         },
         "mode": "lines",
         "name": "29 mozilla_200k, not_weighted, r=64, train",
         "orientation": "v",
         "showlegend": true,
         "type": "scatter",
         "x": [
          0,
          1,
          2
         ],
         "xaxis": "x",
         "y": [
          81.41361256544502,
          84.66807989984065,
          87.67926246300934
         ],
         "yaxis": "y"
        },
        {
         "hovertemplate": "id=29 mozilla_200k, not_weighted, r=64, val<br>epoch=%{x}<br>accuracy=%{y}<extra></extra>",
         "legendgroup": "29 mozilla_200k, not_weighted, r=64, val",
         "line": {
          "color": "#B6E880",
          "dash": "solid"
         },
         "marker": {
          "symbol": "circle"
         },
         "mode": "lines",
         "name": "29 mozilla_200k, not_weighted, r=64, val",
         "orientation": "v",
         "showlegend": true,
         "type": "scatter",
         "x": [
          1,
          2,
          3
         ],
         "xaxis": "x",
         "y": [
          82.14614714303498,
          82.40507904892318,
          81.6407319805801
         ],
         "yaxis": "y"
        },
        {
         "hovertemplate": "id=30 mozilla_200k, not_weighted, r=64, train<br>epoch=%{x}<br>accuracy=%{y}<extra></extra>",
         "legendgroup": "30 mozilla_200k, not_weighted, r=64, train",
         "line": {
          "color": "#FF97FF",
          "dash": "solid"
         },
         "marker": {
          "symbol": "circle"
         },
         "mode": "lines",
         "name": "30 mozilla_200k, not_weighted, r=64, train",
         "orientation": "v",
         "showlegend": true,
         "type": "scatter",
         "x": [
          0,
          1,
          2
         ],
         "xaxis": "x",
         "y": [
          80.57349760983382,
          82.48705326656044,
          83.27168222171638
         ],
         "yaxis": "y"
        },
        {
         "hovertemplate": "id=30 mozilla_200k, not_weighted, r=64, val<br>epoch=%{x}<br>accuracy=%{y}<extra></extra>",
         "legendgroup": "30 mozilla_200k, not_weighted, r=64, val",
         "line": {
          "color": "hsv(166, 0.5, 0.9)",
          "dash": "solid"
         },
         "marker": {
          "symbol": "circle"
         },
         "mode": "lines",
         "name": "30 mozilla_200k, not_weighted, r=64, val",
         "orientation": "v",
         "showlegend": true,
         "type": "scatter",
         "x": [
          1,
          2
         ],
         "xaxis": "x",
         "y": [
          82.29553093489356,
          82.57936013942488
         ],
         "yaxis": "y"
        },
        {
         "hovertemplate": "id=31 mozilla_200k, not_weighted, r=5, train<br>epoch=%{x}<br>accuracy=%{y}<extra></extra>",
         "legendgroup": "31 mozilla_200k, not_weighted, r=5, train",
         "line": {
          "color": "hsv(175, 1, 1)",
          "dash": "solid"
         },
         "marker": {
          "symbol": "circle"
         },
         "mode": "lines",
         "name": "31 mozilla_200k, not_weighted, r=5, train",
         "orientation": "v",
         "showlegend": true,
         "type": "scatter",
         "x": [
          0,
          1,
          2
         ],
         "xaxis": "x",
         "y": [
          79.19132711131346,
          81.65689733667197,
          82.60513885727293
         ],
         "yaxis": "y"
        },
        {
         "hovertemplate": "id=31 mozilla_200k, not_weighted, r=64, val<br>epoch=%{x}<br>accuracy=%{y}<extra></extra>",
         "legendgroup": "31 mozilla_200k, not_weighted, r=64, val",
         "line": {
          "color": "#FECB52",
          "dash": "solid"
         },
         "marker": {
          "symbol": "circle"
         },
         "mode": "lines",
         "name": "31 mozilla_200k, not_weighted, r=64, val",
         "orientation": "v",
         "showlegend": true,
         "type": "scatter",
         "x": [
          1,
          2,
          3
         ],
         "xaxis": "x",
         "y": [
          81.69550603759492,
          82.08141416656292,
          81.45151251089257
         ],
         "yaxis": "y"
        },
        {
         "hovertemplate": "id=32 mozilla_200k, not_weighted, r=10, train<br>epoch=%{x}<br>accuracy=%{y}<extra></extra>",
         "legendgroup": "32 mozilla_200k, not_weighted, r=10, train",
         "line": {
          "color": "hsv(184, 1, 1)",
          "dash": "solid"
         },
         "marker": {
          "symbol": "circle"
         },
         "mode": "lines",
         "name": "32 mozilla_200k, not_weighted, r=10, train",
         "orientation": "v",
         "showlegend": true,
         "type": "scatter",
         "x": [
          0,
          1,
          2
         ],
         "xaxis": "x",
         "y": [
          79.95034714318233,
          82.20677782836331,
          83.00065445026178
         ],
         "yaxis": "y"
        },
        {
         "hovertemplate": "id=32 mozilla_200k, not_weighted, r=5, val<br>epoch=%{x}<br>accuracy=%{y}<extra></extra>",
         "legendgroup": "32 mozilla_200k, not_weighted, r=5, val",
         "line": {
          "color": "hsv(175, 0.5, 0.9)",
          "dash": "solid"
         },
         "marker": {
          "symbol": "circle"
         },
         "mode": "lines",
         "name": "32 mozilla_200k, not_weighted, r=5, val",
         "orientation": "v",
         "showlegend": true,
         "type": "scatter",
         "x": [
          1,
          2,
          3
         ],
         "xaxis": "x",
         "y": [
          80.85397734345824,
          81.62828333125856,
          81.3046184488983
         ],
         "yaxis": "y"
        },
        {
         "hovertemplate": "id=33 mozilla_200k, not_weighted, r=5, train<br>epoch=%{x}<br>accuracy=%{y}<extra></extra>",
         "legendgroup": "33 mozilla_200k, not_weighted, r=5, train",
         "line": {
          "color": "hsv(193, 1, 1)",
          "dash": "solid"
         },
         "marker": {
          "symbol": "circle"
         },
         "mode": "lines",
         "name": "33 mozilla_200k, not_weighted, r=5, train",
         "orientation": "v",
         "showlegend": true,
         "type": "scatter",
         "x": [
          0,
          1,
          2
         ],
         "xaxis": "x",
         "y": [
          81.0657580241293,
          83.93680286819941,
          85.94994878215343
         ],
         "yaxis": "y"
        },
        {
         "hovertemplate": "id=33 mozilla_200k, not_weighted, r=10, val<br>epoch=%{x}<br>accuracy=%{y}<extra></extra>",
         "legendgroup": "33 mozilla_200k, not_weighted, r=10, val",
         "line": {
          "color": "hsv(184, 0.5, 0.9)",
          "dash": "solid"
         },
         "marker": {
          "symbol": "circle"
         },
         "mode": "lines",
         "name": "33 mozilla_200k, not_weighted, r=10, val",
         "orientation": "v",
         "showlegend": true,
         "type": "scatter",
         "x": [
          1,
          2,
          3
         ],
         "xaxis": "x",
         "y": [
          81.2523341217478,
          81.88721523714678,
          81.17515249595418
         ],
         "yaxis": "y"
        },
        {
         "hovertemplate": "id=34 mozilla_200k, not_weighted, r=5, train<br>epoch=%{x}<br>accuracy=%{y}<extra></extra>",
         "legendgroup": "34 mozilla_200k, not_weighted, r=5, train",
         "line": {
          "color": "hsv(203, 1, 1)",
          "dash": "solid"
         },
         "marker": {
          "symbol": "circle"
         },
         "mode": "lines",
         "name": "34 mozilla_200k, not_weighted, r=5, train",
         "orientation": "v",
         "showlegend": true,
         "type": "scatter",
         "x": [
          0,
          1,
          2
         ],
         "xaxis": "x",
         "y": [
          81.54023446391987,
          84.37784543592079,
          86.77654791714092
         ],
         "yaxis": "y"
        },
        {
         "hovertemplate": "id=34 mozilla_200k, not_weighted, r=5, val<br>epoch=%{x}<br>accuracy=%{y}<extra></extra>",
         "legendgroup": "34 mozilla_200k, not_weighted, r=5, val",
         "line": {
          "color": "hsv(193, 0.5, 0.9)",
          "dash": "solid"
         },
         "marker": {
          "symbol": "circle"
         },
         "mode": "lines",
         "name": "34 mozilla_200k, not_weighted, r=5, val",
         "orientation": "v",
         "showlegend": true,
         "type": "scatter",
         "x": [
          1,
          2
         ],
         "xaxis": "x",
         "y": [
          82.01170173036225,
          82.78102825843396
         ],
         "yaxis": "y"
        },
        {
         "hovertemplate": "id=35 mozilla_200k, not_weighted, r=5, train<br>epoch=%{x}<br>accuracy=%{y}<extra></extra>",
         "legendgroup": "35 mozilla_200k, not_weighted, r=5, train",
         "line": {
          "color": "#636efa",
          "dash": "solid"
         },
         "marker": {
          "symbol": "circle"
         },
         "mode": "lines",
         "name": "35 mozilla_200k, not_weighted, r=5, train",
         "orientation": "v",
         "showlegend": true,
         "type": "scatter",
         "x": [
          0,
          1,
          2
         ],
         "xaxis": "x",
         "y": [
          81.36168335989073,
          84.28323469155474,
          86.70327794218075
         ],
         "yaxis": "y"
        },
        {
         "hovertemplate": "id=35 mozilla_200k, not_weighted, r=5, val<br>epoch=%{x}<br>accuracy=%{y}<extra></extra>",
         "legendgroup": "35 mozilla_200k, not_weighted, r=5, val",
         "line": {
          "color": "hsv(203, 0.5, 0.9)",
          "dash": "solid"
         },
         "marker": {
          "symbol": "circle"
         },
         "mode": "lines",
         "name": "35 mozilla_200k, not_weighted, r=5, val",
         "orientation": "v",
         "showlegend": true,
         "type": "scatter",
         "x": [
          1,
          2
         ],
         "xaxis": "x",
         "y": [
          82.22083903896427,
          82.83331258558447
         ],
         "yaxis": "y"
        },
        {
         "hovertemplate": "id=36 mozilla_200k, not_weighted, r=10, train<br>epoch=%{x}<br>accuracy=%{y}<extra></extra>",
         "legendgroup": "36 mozilla_200k, not_weighted, r=10, train",
         "line": {
          "color": "hsv(212, 1, 1)",
          "dash": "solid"
         },
         "marker": {
          "symbol": "circle"
         },
         "mode": "lines",
         "name": "36 mozilla_200k, not_weighted, r=10, train",
         "orientation": "v",
         "showlegend": true,
         "type": "scatter",
         "x": [
          0,
          1,
          2
         ],
         "xaxis": "x",
         "y": [
          80.94127020259504,
          82.86549624402458,
          83.76038584111086
         ],
         "yaxis": "y"
        },
        {
         "hovertemplate": "id=36 mozilla_200k, not_weighted, r=5, val<br>epoch=%{x}<br>accuracy=%{y}<extra></extra>",
         "legendgroup": "36 mozilla_200k, not_weighted, r=5, val",
         "line": {
          "color": "#EF553B",
          "dash": "solid"
         },
         "marker": {
          "symbol": "circle"
         },
         "mode": "lines",
         "name": "36 mozilla_200k, not_weighted, r=5, val",
         "orientation": "v",
         "showlegend": true,
         "type": "scatter",
         "x": [
          1,
          2
         ],
         "xaxis": "x",
         "y": [
          82.39760985933027,
          82.88310718287066
         ],
         "yaxis": "y"
        },
        {
         "hovertemplate": "id=37 mozilla_200k, not_weighted, r=64, train<br>epoch=%{x}<br>accuracy=%{y}<extra></extra>",
         "legendgroup": "37 mozilla_200k, not_weighted, r=64, train",
         "line": {
          "color": "hsv(221, 1, 1)",
          "dash": "solid"
         },
         "marker": {
          "symbol": "circle"
         },
         "mode": "lines",
         "name": "37 mozilla_200k, not_weighted, r=64, train",
         "orientation": "v",
         "showlegend": true,
         "type": "scatter",
         "x": [
          0,
          1,
          2
         ],
         "xaxis": "x",
         "y": [
          80.1402799908946,
          82.38532893239244,
          83.32147735033007
         ],
         "yaxis": "y"
        },
        {
         "hovertemplate": "id=37 mozilla_200k, not_weighted, r=10, val<br>epoch=%{x}<br>accuracy=%{y}<extra></extra>",
         "legendgroup": "37 mozilla_200k, not_weighted, r=10, val",
         "line": {
          "color": "hsv(212, 0.5, 0.9)",
          "dash": "solid"
         },
         "marker": {
          "symbol": "circle"
         },
         "mode": "lines",
         "name": "37 mozilla_200k, not_weighted, r=10, val",
         "orientation": "v",
         "showlegend": true,
         "type": "scatter",
         "x": [
          1,
          2
         ],
         "xaxis": "x",
         "y": [
          81.7378314452882,
          82.35030499190837
         ],
         "yaxis": "y"
        },
        {
         "hovertemplate": "id=38 mozilla_200k, not_weighted, r=10, train<br>epoch=%{x}<br>accuracy=%{y}<extra></extra>",
         "legendgroup": "38 mozilla_200k, not_weighted, r=10, train",
         "line": {
          "color": "hsv(230, 1, 1)",
          "dash": "solid"
         },
         "marker": {
          "symbol": "circle"
         },
         "mode": "lines",
         "name": "38 mozilla_200k, not_weighted, r=10, train",
         "orientation": "v",
         "showlegend": true,
         "type": "scatter",
         "x": [
          0,
          1,
          2
         ],
         "xaxis": "x",
         "y": [
          81.7365695424539,
          84.75415433644434,
          87.51920669246529
         ],
         "yaxis": "y"
        },
        {
         "hovertemplate": "id=38 mozilla_200k, not_weighted, r=64, val<br>epoch=%{x}<br>accuracy=%{y}<extra></extra>",
         "legendgroup": "38 mozilla_200k, not_weighted, r=64, val",
         "line": {
          "color": "hsv(221, 0.5, 0.9)",
          "dash": "solid"
         },
         "marker": {
          "symbol": "circle"
         },
         "mode": "lines",
         "name": "38 mozilla_200k, not_weighted, r=64, val",
         "orientation": "v",
         "showlegend": true,
         "type": "scatter",
         "x": [
          1,
          2
         ],
         "xaxis": "x",
         "y": [
          81.55110170546496,
          82.20092120004979
         ],
         "yaxis": "y"
        },
        {
         "hovertemplate": "id=39 mozilla_200k, not_weighted, r=10, train<br>epoch=%{x}<br>accuracy=%{y}<extra></extra>",
         "legendgroup": "39 mozilla_200k, not_weighted, r=10, train",
         "line": {
          "color": "hsv(240, 1, 1)",
          "dash": "solid"
         },
         "marker": {
          "symbol": "circle"
         },
         "mode": "lines",
         "name": "39 mozilla_200k, not_weighted, r=10, train",
         "orientation": "v",
         "showlegend": true,
         "type": "scatter",
         "x": [
          0,
          1,
          2
         ],
         "xaxis": "x",
         "y": [
          79.90979968131117,
          82.32130662417482,
          83.1493284771227
         ],
         "yaxis": "y"
        },
        {
         "hovertemplate": "id=39 mozilla_200k, not_weighted, r=10, val<br>epoch=%{x}<br>accuracy=%{y}<extra></extra>",
         "legendgroup": "39 mozilla_200k, not_weighted, r=10, val",
         "line": {
          "color": "hsv(230, 0.5, 0.9)",
          "dash": "solid"
         },
         "marker": {
          "symbol": "circle"
         },
         "mode": "lines",
         "name": "39 mozilla_200k, not_weighted, r=10, val",
         "orientation": "v",
         "showlegend": true,
         "type": "scatter",
         "x": [
          1,
          2
         ],
         "xaxis": "x",
         "y": [
          82.62417527698244,
          82.95779907879995
         ],
         "yaxis": "y"
        },
        {
         "hovertemplate": "id=40 mozilla_200k, not_weighted, r=64, train<br>epoch=%{x}<br>accuracy=%{y}<extra></extra>",
         "legendgroup": "40 mozilla_200k, not_weighted, r=64, train",
         "line": {
          "color": "#00cc96",
          "dash": "solid"
         },
         "marker": {
          "symbol": "circle"
         },
         "mode": "lines",
         "name": "40 mozilla_200k, not_weighted, r=64, train",
         "orientation": "v",
         "showlegend": true,
         "type": "scatter",
         "x": [
          0,
          1,
          2,
          3
         ],
         "xaxis": "x",
         "y": [
          80.5436205326656,
          82.5439619849761,
          83.32432278625085,
          83.9695253812884
         ],
         "yaxis": "y"
        },
        {
         "hovertemplate": "id=40 mozilla_200k, not_weighted, r=10, val<br>epoch=%{x}<br>accuracy=%{y}<extra></extra>",
         "legendgroup": "40 mozilla_200k, not_weighted, r=10, val",
         "line": {
          "color": "hsv(240, 0.5, 0.9)",
          "dash": "solid"
         },
         "marker": {
          "symbol": "circle"
         },
         "mode": "lines",
         "name": "40 mozilla_200k, not_weighted, r=10, val",
         "orientation": "v",
         "showlegend": true,
         "type": "scatter",
         "x": [
          1,
          2
         ],
         "xaxis": "x",
         "y": [
          81.49134818872153,
          82.15610606249221
         ],
         "yaxis": "y"
        },
        {
         "hovertemplate": "id=41 mozilla_200k, not_weighted, r=10, train<br>epoch=%{x}<br>accuracy=%{y}<extra></extra>",
         "legendgroup": "41 mozilla_200k, not_weighted, r=10, train",
         "line": {
          "color": "#ab63fa",
          "dash": "solid"
         },
         "marker": {
          "symbol": "circle"
         },
         "mode": "lines",
         "name": "41 mozilla_200k, not_weighted, r=10, train",
         "orientation": "v",
         "showlegend": true,
         "type": "scatter",
         "x": [
          0,
          1,
          2,
          3
         ],
         "xaxis": "x",
         "y": [
          81.34389938538584,
          84.38638174368313,
          87.19055884361484,
          90.0374174823583
         ],
         "yaxis": "y"
        },
        {
         "hovertemplate": "id=41 mozilla_200k, not_weighted, r=64, val<br>epoch=%{x}<br>accuracy=%{y}<extra></extra>",
         "legendgroup": "41 mozilla_200k, not_weighted, r=64, val",
         "line": {
          "color": "#FFA15A",
          "dash": "solid"
         },
         "marker": {
          "symbol": "circle"
         },
         "mode": "lines",
         "name": "41 mozilla_200k, not_weighted, r=64, val",
         "orientation": "v",
         "showlegend": true,
         "type": "scatter",
         "x": [
          1,
          2,
          3,
          4
         ],
         "xaxis": "x",
         "y": [
          81.82248226067472,
          82.21336984937135,
          81.55359143532927,
          82.42250715797336
         ],
         "yaxis": "y"
        },
        {
         "hovertemplate": "id=42 mozilla_200k, not_weighted, r=10, train<br>epoch=%{x}<br>accuracy=%{y}<extra></extra>",
         "legendgroup": "42 mozilla_200k, not_weighted, r=10, train",
         "line": {
          "color": "#19d3f3",
          "dash": "solid"
         },
         "marker": {
          "symbol": "circle"
         },
         "mode": "lines",
         "name": "42 mozilla_200k, not_weighted, r=10, train",
         "orientation": "v",
         "showlegend": true,
         "type": "scatter",
         "x": [
          0,
          1,
          2,
          3
         ],
         "xaxis": "x",
         "y": [
          80.34159458229001,
          82.43654677896653,
          83.24536193944913,
          83.8713578420214
         ],
         "yaxis": "y"
        },
        {
         "hovertemplate": "id=42 mozilla_200k, not_weighted, r=10, val<br>epoch=%{x}<br>accuracy=%{y}<extra></extra>",
         "legendgroup": "42 mozilla_200k, not_weighted, r=10, val",
         "line": {
          "color": "#FF6692",
          "dash": "solid"
         },
         "marker": {
          "symbol": "circle"
         },
         "mode": "lines",
         "name": "42 mozilla_200k, not_weighted, r=10, val",
         "orientation": "v",
         "showlegend": true,
         "type": "scatter",
         "x": [
          1,
          2,
          3,
          4
         ],
         "xaxis": "x",
         "y": [
          82.18598282086393,
          82.70633636250467,
          82.63413419643969,
          82.50217851363128
         ],
         "yaxis": "y"
        },
        {
         "hovertemplate": "id=43 mozilla_200k, not_weighted, r=64, train<br>epoch=%{x}<br>accuracy=%{y}<extra></extra>",
         "legendgroup": "43 mozilla_200k, not_weighted, r=64, train",
         "line": {
          "color": "hsv(276, 1, 1)",
          "dash": "solid"
         },
         "marker": {
          "symbol": "circle"
         },
         "mode": "lines",
         "name": "43 mozilla_200k, not_weighted, r=64, train",
         "orientation": "v",
         "showlegend": true,
         "type": "scatter",
         "x": [
          0,
          1,
          2,
          3
         ],
         "xaxis": "x",
         "y": [
          81.51818233553381,
          84.4923742317323,
          87.49075233325746,
          90.8263145913954
         ],
         "yaxis": "y"
        },
        {
         "hovertemplate": "id=43 mozilla_200k, not_weighted, r=10, val<br>epoch=%{x}<br>accuracy=%{y}<extra></extra>",
         "legendgroup": "43 mozilla_200k, not_weighted, r=10, val",
         "line": {
          "color": "#B6E880",
          "dash": "solid"
         },
         "marker": {
          "symbol": "circle"
         },
         "mode": "lines",
         "name": "43 mozilla_200k, not_weighted, r=10, val",
         "orientation": "v",
         "showlegend": true,
         "type": "scatter",
         "x": [
          1,
          2,
          3,
          4
         ],
         "xaxis": "x",
         "y": [
          81.55608116519358,
          82.14365741317067,
          81.1502551973111,
          82.49470932403834
         ],
         "yaxis": "y"
        },
        {
         "hovertemplate": "id=44 mozilla_200k, not_weighted, r=10, train<br>epoch=%{x}<br>accuracy=%{y}<extra></extra>",
         "legendgroup": "44 mozilla_200k, not_weighted, r=10, train",
         "line": {
          "color": "hsv(286, 1, 1)",
          "dash": "solid"
         },
         "marker": {
          "symbol": "circle"
         },
         "mode": "lines",
         "name": "44 mozilla_200k, not_weighted, r=10, train",
         "orientation": "v",
         "showlegend": true,
         "type": "scatter",
         "x": [
          0,
          1,
          2,
          3
         ],
         "xaxis": "x",
         "y": [
          81.384446847257,
          84.10539494650581,
          86.5581607102208,
          89.51101183701343
         ],
         "yaxis": "y"
        },
        {
         "hovertemplate": "id=44 mozilla_200k, not_weighted, r=64, val<br>epoch=%{x}<br>accuracy=%{y}<extra></extra>",
         "legendgroup": "44 mozilla_200k, not_weighted, r=64, val",
         "line": {
          "color": "hsv(276, 0.5, 0.9)",
          "dash": "solid"
         },
         "marker": {
          "symbol": "circle"
         },
         "mode": "lines",
         "name": "44 mozilla_200k, not_weighted, r=64, val",
         "orientation": "v",
         "showlegend": true,
         "type": "scatter",
         "x": [
          1,
          2,
          3,
          4
         ],
         "xaxis": "x",
         "y": [
          82.49719905390265,
          82.97771691771443,
          82.56442176023901,
          82.56442176023901
         ],
         "yaxis": "y"
        },
        {
         "hovertemplate": "id=45 mozilla_200k, not_weighted, r=10, train<br>epoch=%{x}<br>accuracy=%{y}<extra></extra>",
         "legendgroup": "45 mozilla_200k, not_weighted, r=10, train",
         "line": {
          "color": "hsv(295, 1, 1)",
          "dash": "solid"
         },
         "marker": {
          "symbol": "circle"
         },
         "mode": "lines",
         "name": "45 mozilla_200k, not_weighted, r=10, train",
         "orientation": "v",
         "showlegend": true,
         "type": "scatter",
         "x": [
          0,
          1,
          2,
          3
         ],
         "xaxis": "x",
         "y": [
          81.6519178238106,
          84.60405759162303,
          87.35346005007966,
          90.23090712497155
         ],
         "yaxis": "y"
        },
        {
         "hovertemplate": "id=45 mozilla_200k, not_weighted, r=10, val<br>epoch=%{x}<br>accuracy=%{y}<extra></extra>",
         "legendgroup": "45 mozilla_200k, not_weighted, r=10, val",
         "line": {
          "color": "hsv(286, 0.5, 0.9)",
          "dash": "solid"
         },
         "marker": {
          "symbol": "circle"
         },
         "mode": "lines",
         "name": "45 mozilla_200k, not_weighted, r=10, val",
         "orientation": "v",
         "showlegend": true,
         "type": "scatter",
         "x": [
          1,
          2,
          3,
          4
         ],
         "xaxis": "x",
         "y": [
          82.29553093489356,
          83.1470185484875,
          82.57189094983194,
          82.26814390638616
         ],
         "yaxis": "y"
        },
        {
         "hovertemplate": "id=46 mozilla_200k, not_weighted, r=10, train<br>epoch=%{x}<br>accuracy=%{y}<extra></extra>",
         "legendgroup": "46 mozilla_200k, not_weighted, r=10, train",
         "line": {
          "color": "#FF97FF",
          "dash": "solid"
         },
         "marker": {
          "symbol": "circle"
         },
         "mode": "lines",
         "name": "46 mozilla_200k, not_weighted, r=10, train",
         "orientation": "v",
         "showlegend": true,
         "type": "scatter",
         "x": [
          0,
          1,
          2,
          3
         ],
         "xaxis": "x",
         "y": [
          79.78531185977693,
          82.16907580241293,
          82.96935465513316,
          83.62451627589347
         ],
         "yaxis": "y"
        },
        {
         "hovertemplate": "id=46 mozilla_200k, not_weighted, r=10, val<br>epoch=%{x}<br>accuracy=%{y}<extra></extra>",
         "legendgroup": "46 mozilla_200k, not_weighted, r=10, val",
         "line": {
          "color": "hsv(295, 0.5, 0.9)",
          "dash": "solid"
         },
         "marker": {
          "symbol": "circle"
         },
         "mode": "lines",
         "name": "46 mozilla_200k, not_weighted, r=10, val",
         "orientation": "v",
         "showlegend": true,
         "type": "scatter",
         "x": [
          1,
          2,
          3,
          4
         ],
         "xaxis": "x",
         "y": [
          82.05900659778415,
          83.0449396240508,
          82.44989418648076,
          82.48972986430972
         ],
         "yaxis": "y"
        },
        {
         "hovertemplate": "id=47 mozilla_200k, not_weighted, r=10, train<br>epoch=%{x}<br>accuracy=%{y}<extra></extra>",
         "legendgroup": "47 mozilla_200k, not_weighted, r=10, train",
         "line": {
          "color": "hsv(304, 1, 1)",
          "dash": "solid"
         },
         "marker": {
          "symbol": "circle"
         },
         "mode": "lines",
         "name": "47 mozilla_200k, not_weighted, r=10, train",
         "orientation": "v",
         "showlegend": true,
         "type": "scatter",
         "x": [
          0,
          1,
          2,
          3
         ],
         "xaxis": "x",
         "y": [
          80.18296152970635,
          82.39671067607559,
          83.2161962212611,
          83.85784202139767
         ],
         "yaxis": "y"
        },
        {
         "hovertemplate": "id=47 mozilla_200k, not_weighted, r=10, val<br>epoch=%{x}<br>accuracy=%{y}<extra></extra>",
         "legendgroup": "47 mozilla_200k, not_weighted, r=10, val",
         "line": {
          "color": "#FECB52",
          "dash": "solid"
         },
         "marker": {
          "symbol": "circle"
         },
         "mode": "lines",
         "name": "47 mozilla_200k, not_weighted, r=10, val",
         "orientation": "v",
         "showlegend": true,
         "type": "scatter",
         "x": [
          1,
          2,
          3,
          4
         ],
         "xaxis": "x",
         "y": [
          81.3593925059131,
          81.80754388148885,
          80.75687787875016,
          82.14365741317067
         ],
         "yaxis": "y"
        },
        {
         "hovertemplate": "id=48 mozilla_200k, not_weighted, r=5, train<br>epoch=%{x}<br>accuracy=%{y}<extra></extra>",
         "legendgroup": "48 mozilla_200k, not_weighted, r=5, train",
         "line": {
          "color": "#636efa",
          "dash": "solid"
         },
         "marker": {
          "symbol": "circle"
         },
         "mode": "lines",
         "name": "48 mozilla_200k, not_weighted, r=5, train",
         "orientation": "v",
         "showlegend": true,
         "type": "scatter",
         "x": [
          0,
          1,
          2,
          3
         ],
         "xaxis": "x",
         "y": [
          81.52671864329615,
          84.50802412929662,
          86.78721830184384,
          89.17311632142044
         ],
         "yaxis": "y"
        },
        {
         "hovertemplate": "id=48 mozilla_200k, not_weighted, r=10, val<br>epoch=%{x}<br>accuracy=%{y}<extra></extra>",
         "legendgroup": "48 mozilla_200k, not_weighted, r=10, val",
         "line": {
          "color": "hsv(304, 0.5, 0.9)",
          "dash": "solid"
         },
         "marker": {
          "symbol": "circle"
         },
         "mode": "lines",
         "name": "48 mozilla_200k, not_weighted, r=10, val",
         "orientation": "v",
         "showlegend": true,
         "type": "scatter",
         "x": [
          1,
          2,
          3,
          4
         ],
         "xaxis": "x",
         "y": [
          81.57101954437942,
          81.9195817253828,
          81.36437196564172,
          82.07892443669861
         ],
         "yaxis": "y"
        },
        {
         "hovertemplate": "id=49 mozilla_200k, not_weighted, r=5, val<br>epoch=%{x}<br>accuracy=%{y}<extra></extra>",
         "legendgroup": "49 mozilla_200k, not_weighted, r=5, val",
         "line": {
          "color": "#EF553B",
          "dash": "solid"
         },
         "marker": {
          "symbol": "circle"
         },
         "mode": "lines",
         "name": "49 mozilla_200k, not_weighted, r=5, val",
         "orientation": "v",
         "showlegend": true,
         "type": "scatter",
         "x": [
          1,
          2,
          3,
          4
         ],
         "xaxis": "x",
         "y": [
          82.45487364620938,
          82.79596663761983,
          82.59678824847504,
          82.355284451637
         ],
         "yaxis": "y"
        }
       ],
       "layout": {
        "height": 600,
        "legend": {
         "title": {
          "text": "id"
         },
         "tracegroupgap": 0,
         "traceorder": "normal"
        },
        "template": {
         "data": {
          "bar": [
           {
            "error_x": {
             "color": "#2a3f5f"
            },
            "error_y": {
             "color": "#2a3f5f"
            },
            "marker": {
             "line": {
              "color": "#E5ECF6",
              "width": 0.5
             },
             "pattern": {
              "fillmode": "overlay",
              "size": 10,
              "solidity": 0.2
             }
            },
            "type": "bar"
           }
          ],
          "barpolar": [
           {
            "marker": {
             "line": {
              "color": "#E5ECF6",
              "width": 0.5
             },
             "pattern": {
              "fillmode": "overlay",
              "size": 10,
              "solidity": 0.2
             }
            },
            "type": "barpolar"
           }
          ],
          "carpet": [
           {
            "aaxis": {
             "endlinecolor": "#2a3f5f",
             "gridcolor": "white",
             "linecolor": "white",
             "minorgridcolor": "white",
             "startlinecolor": "#2a3f5f"
            },
            "baxis": {
             "endlinecolor": "#2a3f5f",
             "gridcolor": "white",
             "linecolor": "white",
             "minorgridcolor": "white",
             "startlinecolor": "#2a3f5f"
            },
            "type": "carpet"
           }
          ],
          "choropleth": [
           {
            "colorbar": {
             "outlinewidth": 0,
             "ticks": ""
            },
            "type": "choropleth"
           }
          ],
          "contour": [
           {
            "colorbar": {
             "outlinewidth": 0,
             "ticks": ""
            },
            "colorscale": [
             [
              0,
              "#0d0887"
             ],
             [
              0.1111111111111111,
              "#46039f"
             ],
             [
              0.2222222222222222,
              "#7201a8"
             ],
             [
              0.3333333333333333,
              "#9c179e"
             ],
             [
              0.4444444444444444,
              "#bd3786"
             ],
             [
              0.5555555555555556,
              "#d8576b"
             ],
             [
              0.6666666666666666,
              "#ed7953"
             ],
             [
              0.7777777777777778,
              "#fb9f3a"
             ],
             [
              0.8888888888888888,
              "#fdca26"
             ],
             [
              1,
              "#f0f921"
             ]
            ],
            "type": "contour"
           }
          ],
          "contourcarpet": [
           {
            "colorbar": {
             "outlinewidth": 0,
             "ticks": ""
            },
            "type": "contourcarpet"
           }
          ],
          "heatmap": [
           {
            "colorbar": {
             "outlinewidth": 0,
             "ticks": ""
            },
            "colorscale": [
             [
              0,
              "#0d0887"
             ],
             [
              0.1111111111111111,
              "#46039f"
             ],
             [
              0.2222222222222222,
              "#7201a8"
             ],
             [
              0.3333333333333333,
              "#9c179e"
             ],
             [
              0.4444444444444444,
              "#bd3786"
             ],
             [
              0.5555555555555556,
              "#d8576b"
             ],
             [
              0.6666666666666666,
              "#ed7953"
             ],
             [
              0.7777777777777778,
              "#fb9f3a"
             ],
             [
              0.8888888888888888,
              "#fdca26"
             ],
             [
              1,
              "#f0f921"
             ]
            ],
            "type": "heatmap"
           }
          ],
          "heatmapgl": [
           {
            "colorbar": {
             "outlinewidth": 0,
             "ticks": ""
            },
            "colorscale": [
             [
              0,
              "#0d0887"
             ],
             [
              0.1111111111111111,
              "#46039f"
             ],
             [
              0.2222222222222222,
              "#7201a8"
             ],
             [
              0.3333333333333333,
              "#9c179e"
             ],
             [
              0.4444444444444444,
              "#bd3786"
             ],
             [
              0.5555555555555556,
              "#d8576b"
             ],
             [
              0.6666666666666666,
              "#ed7953"
             ],
             [
              0.7777777777777778,
              "#fb9f3a"
             ],
             [
              0.8888888888888888,
              "#fdca26"
             ],
             [
              1,
              "#f0f921"
             ]
            ],
            "type": "heatmapgl"
           }
          ],
          "histogram": [
           {
            "marker": {
             "pattern": {
              "fillmode": "overlay",
              "size": 10,
              "solidity": 0.2
             }
            },
            "type": "histogram"
           }
          ],
          "histogram2d": [
           {
            "colorbar": {
             "outlinewidth": 0,
             "ticks": ""
            },
            "colorscale": [
             [
              0,
              "#0d0887"
             ],
             [
              0.1111111111111111,
              "#46039f"
             ],
             [
              0.2222222222222222,
              "#7201a8"
             ],
             [
              0.3333333333333333,
              "#9c179e"
             ],
             [
              0.4444444444444444,
              "#bd3786"
             ],
             [
              0.5555555555555556,
              "#d8576b"
             ],
             [
              0.6666666666666666,
              "#ed7953"
             ],
             [
              0.7777777777777778,
              "#fb9f3a"
             ],
             [
              0.8888888888888888,
              "#fdca26"
             ],
             [
              1,
              "#f0f921"
             ]
            ],
            "type": "histogram2d"
           }
          ],
          "histogram2dcontour": [
           {
            "colorbar": {
             "outlinewidth": 0,
             "ticks": ""
            },
            "colorscale": [
             [
              0,
              "#0d0887"
             ],
             [
              0.1111111111111111,
              "#46039f"
             ],
             [
              0.2222222222222222,
              "#7201a8"
             ],
             [
              0.3333333333333333,
              "#9c179e"
             ],
             [
              0.4444444444444444,
              "#bd3786"
             ],
             [
              0.5555555555555556,
              "#d8576b"
             ],
             [
              0.6666666666666666,
              "#ed7953"
             ],
             [
              0.7777777777777778,
              "#fb9f3a"
             ],
             [
              0.8888888888888888,
              "#fdca26"
             ],
             [
              1,
              "#f0f921"
             ]
            ],
            "type": "histogram2dcontour"
           }
          ],
          "mesh3d": [
           {
            "colorbar": {
             "outlinewidth": 0,
             "ticks": ""
            },
            "type": "mesh3d"
           }
          ],
          "parcoords": [
           {
            "line": {
             "colorbar": {
              "outlinewidth": 0,
              "ticks": ""
             }
            },
            "type": "parcoords"
           }
          ],
          "pie": [
           {
            "automargin": true,
            "type": "pie"
           }
          ],
          "scatter": [
           {
            "fillpattern": {
             "fillmode": "overlay",
             "size": 10,
             "solidity": 0.2
            },
            "type": "scatter"
           }
          ],
          "scatter3d": [
           {
            "line": {
             "colorbar": {
              "outlinewidth": 0,
              "ticks": ""
             }
            },
            "marker": {
             "colorbar": {
              "outlinewidth": 0,
              "ticks": ""
             }
            },
            "type": "scatter3d"
           }
          ],
          "scattercarpet": [
           {
            "marker": {
             "colorbar": {
              "outlinewidth": 0,
              "ticks": ""
             }
            },
            "type": "scattercarpet"
           }
          ],
          "scattergeo": [
           {
            "marker": {
             "colorbar": {
              "outlinewidth": 0,
              "ticks": ""
             }
            },
            "type": "scattergeo"
           }
          ],
          "scattergl": [
           {
            "marker": {
             "colorbar": {
              "outlinewidth": 0,
              "ticks": ""
             }
            },
            "type": "scattergl"
           }
          ],
          "scattermapbox": [
           {
            "marker": {
             "colorbar": {
              "outlinewidth": 0,
              "ticks": ""
             }
            },
            "type": "scattermapbox"
           }
          ],
          "scatterpolar": [
           {
            "marker": {
             "colorbar": {
              "outlinewidth": 0,
              "ticks": ""
             }
            },
            "type": "scatterpolar"
           }
          ],
          "scatterpolargl": [
           {
            "marker": {
             "colorbar": {
              "outlinewidth": 0,
              "ticks": ""
             }
            },
            "type": "scatterpolargl"
           }
          ],
          "scatterternary": [
           {
            "marker": {
             "colorbar": {
              "outlinewidth": 0,
              "ticks": ""
             }
            },
            "type": "scatterternary"
           }
          ],
          "surface": [
           {
            "colorbar": {
             "outlinewidth": 0,
             "ticks": ""
            },
            "colorscale": [
             [
              0,
              "#0d0887"
             ],
             [
              0.1111111111111111,
              "#46039f"
             ],
             [
              0.2222222222222222,
              "#7201a8"
             ],
             [
              0.3333333333333333,
              "#9c179e"
             ],
             [
              0.4444444444444444,
              "#bd3786"
             ],
             [
              0.5555555555555556,
              "#d8576b"
             ],
             [
              0.6666666666666666,
              "#ed7953"
             ],
             [
              0.7777777777777778,
              "#fb9f3a"
             ],
             [
              0.8888888888888888,
              "#fdca26"
             ],
             [
              1,
              "#f0f921"
             ]
            ],
            "type": "surface"
           }
          ],
          "table": [
           {
            "cells": {
             "fill": {
              "color": "#EBF0F8"
             },
             "line": {
              "color": "white"
             }
            },
            "header": {
             "fill": {
              "color": "#C8D4E3"
             },
             "line": {
              "color": "white"
             }
            },
            "type": "table"
           }
          ]
         },
         "layout": {
          "annotationdefaults": {
           "arrowcolor": "#2a3f5f",
           "arrowhead": 0,
           "arrowwidth": 1
          },
          "autotypenumbers": "strict",
          "coloraxis": {
           "colorbar": {
            "outlinewidth": 0,
            "ticks": ""
           }
          },
          "colorscale": {
           "diverging": [
            [
             0,
             "#8e0152"
            ],
            [
             0.1,
             "#c51b7d"
            ],
            [
             0.2,
             "#de77ae"
            ],
            [
             0.3,
             "#f1b6da"
            ],
            [
             0.4,
             "#fde0ef"
            ],
            [
             0.5,
             "#f7f7f7"
            ],
            [
             0.6,
             "#e6f5d0"
            ],
            [
             0.7,
             "#b8e186"
            ],
            [
             0.8,
             "#7fbc41"
            ],
            [
             0.9,
             "#4d9221"
            ],
            [
             1,
             "#276419"
            ]
           ],
           "sequential": [
            [
             0,
             "#0d0887"
            ],
            [
             0.1111111111111111,
             "#46039f"
            ],
            [
             0.2222222222222222,
             "#7201a8"
            ],
            [
             0.3333333333333333,
             "#9c179e"
            ],
            [
             0.4444444444444444,
             "#bd3786"
            ],
            [
             0.5555555555555556,
             "#d8576b"
            ],
            [
             0.6666666666666666,
             "#ed7953"
            ],
            [
             0.7777777777777778,
             "#fb9f3a"
            ],
            [
             0.8888888888888888,
             "#fdca26"
            ],
            [
             1,
             "#f0f921"
            ]
           ],
           "sequentialminus": [
            [
             0,
             "#0d0887"
            ],
            [
             0.1111111111111111,
             "#46039f"
            ],
            [
             0.2222222222222222,
             "#7201a8"
            ],
            [
             0.3333333333333333,
             "#9c179e"
            ],
            [
             0.4444444444444444,
             "#bd3786"
            ],
            [
             0.5555555555555556,
             "#d8576b"
            ],
            [
             0.6666666666666666,
             "#ed7953"
            ],
            [
             0.7777777777777778,
             "#fb9f3a"
            ],
            [
             0.8888888888888888,
             "#fdca26"
            ],
            [
             1,
             "#f0f921"
            ]
           ]
          },
          "colorway": [
           "#636efa",
           "#EF553B",
           "#00cc96",
           "#ab63fa",
           "#FFA15A",
           "#19d3f3",
           "#FF6692",
           "#B6E880",
           "#FF97FF",
           "#FECB52"
          ],
          "font": {
           "color": "#2a3f5f"
          },
          "geo": {
           "bgcolor": "white",
           "lakecolor": "white",
           "landcolor": "#E5ECF6",
           "showlakes": true,
           "showland": true,
           "subunitcolor": "white"
          },
          "hoverlabel": {
           "align": "left"
          },
          "hovermode": "closest",
          "mapbox": {
           "style": "light"
          },
          "paper_bgcolor": "white",
          "plot_bgcolor": "#E5ECF6",
          "polar": {
           "angularaxis": {
            "gridcolor": "white",
            "linecolor": "white",
            "ticks": ""
           },
           "bgcolor": "#E5ECF6",
           "radialaxis": {
            "gridcolor": "white",
            "linecolor": "white",
            "ticks": ""
           }
          },
          "scene": {
           "xaxis": {
            "backgroundcolor": "#E5ECF6",
            "gridcolor": "white",
            "gridwidth": 2,
            "linecolor": "white",
            "showbackground": true,
            "ticks": "",
            "zerolinecolor": "white"
           },
           "yaxis": {
            "backgroundcolor": "#E5ECF6",
            "gridcolor": "white",
            "gridwidth": 2,
            "linecolor": "white",
            "showbackground": true,
            "ticks": "",
            "zerolinecolor": "white"
           },
           "zaxis": {
            "backgroundcolor": "#E5ECF6",
            "gridcolor": "white",
            "gridwidth": 2,
            "linecolor": "white",
            "showbackground": true,
            "ticks": "",
            "zerolinecolor": "white"
           }
          },
          "shapedefaults": {
           "line": {
            "color": "#2a3f5f"
           }
          },
          "ternary": {
           "aaxis": {
            "gridcolor": "white",
            "linecolor": "white",
            "ticks": ""
           },
           "baxis": {
            "gridcolor": "white",
            "linecolor": "white",
            "ticks": ""
           },
           "bgcolor": "#E5ECF6",
           "caxis": {
            "gridcolor": "white",
            "linecolor": "white",
            "ticks": ""
           }
          },
          "title": {
           "x": 0.05
          },
          "xaxis": {
           "automargin": true,
           "gridcolor": "white",
           "linecolor": "white",
           "ticks": "",
           "title": {
            "standoff": 15
           },
           "zerolinecolor": "white",
           "zerolinewidth": 2
          },
          "yaxis": {
           "automargin": true,
           "gridcolor": "white",
           "linecolor": "white",
           "ticks": "",
           "title": {
            "standoff": 15
           },
           "zerolinecolor": "white",
           "zerolinewidth": 2
          }
         }
        },
        "title": {
         "text": "bs=4 ; lora_alpha=10 ; lora_dropout=0.2 ; model_name=Llama-2-7b-chat-hf ;<br>learning_rate=0.0001"
        },
        "width": 800,
        "xaxis": {
         "anchor": "y",
         "domain": [
          0,
          1
         ],
         "title": {
          "text": "epoch"
         }
        },
        "yaxis": {
         "anchor": "x",
         "domain": [
          0,
          1
         ],
         "title": {
          "text": "accuracy"
         }
        }
       }
      }
     },
     "metadata": {},
     "output_type": "display_data"
    }
   ],
   "source": [
    "print(color_map)\n",
    "img = px.line(df,x=\"epoch\",y=\"accuracy\",color=\"id\",color_discrete_map=color_map, width=width, height=height, title=title)\n",
    "img.update_layout(\n",
    "    legend=dict(traceorder=\"normal\")\n",
    ")\n",
    "img.show()\n",
    "img_to_clipboard(img)"
   ]
  },
  {
   "cell_type": "code",
   "execution_count": 13,
   "metadata": {},
   "outputs": [
    {
     "data": {
      "application/vnd.plotly.v1+json": {
       "config": {
        "plotlyServerURL": "https://plot.ly"
       },
       "data": [
        {
         "hovertemplate": "id=0 eclipse_72k, not_weighted, r=64, train<br>epoch=%{x}<br>loss=%{y}<extra></extra>",
         "legendgroup": "0 eclipse_72k, not_weighted, r=64, train",
         "line": {
          "color": "hsv(0, 1, 1)",
          "dash": "solid"
         },
         "marker": {
          "symbol": "circle"
         },
         "mode": "lines",
         "name": "0 eclipse_72k, not_weighted, r=64, train",
         "orientation": "v",
         "showlegend": true,
         "type": "scatter",
         "x": [
          0,
          1,
          2,
          3
         ],
         "xaxis": "x",
         "y": [
          0.5116857807998587,
          0.41020854112163385,
          0.3225601801353174,
          0.20842199793387509
         ],
         "yaxis": "y"
        },
        {
         "hovertemplate": "id=1 eclipse_72k, not_weighted, r=5, train<br>epoch=%{x}<br>loss=%{y}<extra></extra>",
         "legendgroup": "1 eclipse_72k, not_weighted, r=5, train",
         "line": {
          "color": "#FF97FF",
          "dash": "solid"
         },
         "marker": {
          "symbol": "circle"
         },
         "mode": "lines",
         "name": "1 eclipse_72k, not_weighted, r=5, train",
         "orientation": "v",
         "showlegend": true,
         "type": "scatter",
         "x": [
          0,
          1,
          2,
          3,
          4
         ],
         "xaxis": "x",
         "y": [
          0.5374488334247877,
          0.48475869550441897,
          0.44365602733493525,
          0.35245201628085054,
          0.24685864434898946
         ],
         "yaxis": "y"
        },
        {
         "hovertemplate": "id=1 eclipse_72k, not_weighted, r=64, val<br>epoch=%{x}<br>loss=%{y}<extra></extra>",
         "legendgroup": "1 eclipse_72k, not_weighted, r=64, val",
         "line": {
          "color": "hsv(0, 0.5, 0.9)",
          "dash": "solid"
         },
         "marker": {
          "symbol": "circle"
         },
         "mode": "lines",
         "name": "1 eclipse_72k, not_weighted, r=64, val",
         "orientation": "v",
         "showlegend": true,
         "type": "scatter",
         "x": [
          1,
          2,
          3,
          4
         ],
         "xaxis": "x",
         "y": [
          0.4409844765374436,
          0.4412860591202899,
          0.5736808229181539,
          0.8437093532937324
         ],
         "yaxis": "y"
        },
        {
         "hovertemplate": "id=2 eclipse_72k, not_weighted, r=64, train<br>epoch=%{x}<br>loss=%{y}<extra></extra>",
         "legendgroup": "2 eclipse_72k, not_weighted, r=64, train",
         "line": {
          "color": "#FECB52",
          "dash": "solid"
         },
         "marker": {
          "symbol": "circle"
         },
         "mode": "lines",
         "name": "2 eclipse_72k, not_weighted, r=64, train",
         "orientation": "v",
         "showlegend": true,
         "type": "scatter",
         "x": [
          0,
          1,
          2,
          3,
          4
         ],
         "xaxis": "x",
         "y": [
          0.5327412155283935,
          0.4474808785434286,
          0.3777826145733199,
          0.29221618326826504,
          0.18560860529351333
         ],
         "yaxis": "y"
        },
        {
         "hovertemplate": "id=2 eclipse_72k, not_weighted, r=5, val<br>epoch=%{x}<br>loss=%{y}<extra></extra>",
         "legendgroup": "2 eclipse_72k, not_weighted, r=5, val",
         "line": {
          "color": "#636efa",
          "dash": "solid"
         },
         "marker": {
          "symbol": "circle"
         },
         "mode": "lines",
         "name": "2 eclipse_72k, not_weighted, r=5, val",
         "orientation": "v",
         "showlegend": true,
         "type": "scatter",
         "x": [
          1,
          2,
          3,
          4,
          5
         ],
         "xaxis": "x",
         "y": [
          0.519166368483644,
          0.49252012715156535,
          0.5902476795720597,
          0.6689183424008717,
          0.9021380130429869
         ],
         "yaxis": "y"
        },
        {
         "hovertemplate": "id=3 eclipse_72k, not_weighted, r=64, train<br>epoch=%{x}<br>loss=%{y}<extra></extra>",
         "legendgroup": "3 eclipse_72k, not_weighted, r=64, train",
         "line": {
          "color": "#EF553B",
          "dash": "solid"
         },
         "marker": {
          "symbol": "circle"
         },
         "mode": "lines",
         "name": "3 eclipse_72k, not_weighted, r=64, train",
         "orientation": "v",
         "showlegend": true,
         "type": "scatter",
         "x": [
          0,
          1,
          2,
          3,
          4
         ],
         "xaxis": "x",
         "y": [
          0.5311291811995542,
          0.43945976177643636,
          0.3517799583110358,
          0.23454978255875825,
          0.12930045984682867
         ],
         "yaxis": "y"
        },
        {
         "hovertemplate": "id=3 eclipse_72k, not_weighted, r=64, val<br>epoch=%{x}<br>loss=%{y}<extra></extra>",
         "legendgroup": "3 eclipse_72k, not_weighted, r=64, val",
         "line": {
          "color": "#00cc96",
          "dash": "solid"
         },
         "marker": {
          "symbol": "circle"
         },
         "mode": "lines",
         "name": "3 eclipse_72k, not_weighted, r=64, val",
         "orientation": "v",
         "showlegend": true,
         "type": "scatter",
         "x": [
          1,
          2,
          3,
          4,
          5
         ],
         "xaxis": "x",
         "y": [
          0.4772467430989045,
          0.4503435114354366,
          0.5146826785590036,
          0.6537821179227264,
          1.0905831643292492
         ],
         "yaxis": "y"
        },
        {
         "hovertemplate": "id=4 eclipse_72k, not_weighted, r=64, train<br>epoch=%{x}<br>loss=%{y}<extra></extra>",
         "legendgroup": "4 eclipse_72k, not_weighted, r=64, train",
         "line": {
          "color": "hsv(249, 1, 1)",
          "dash": "solid"
         },
         "marker": {
          "symbol": "circle"
         },
         "mode": "lines",
         "name": "4 eclipse_72k, not_weighted, r=64, train",
         "orientation": "v",
         "showlegend": true,
         "type": "scatter",
         "x": [
          0,
          1,
          2,
          3
         ],
         "xaxis": "x",
         "y": [
          0.5310907861171286,
          0.4591279473500102,
          0.36010911298831366,
          0.23072438254465172
         ],
         "yaxis": "y"
        },
        {
         "hovertemplate": "id=4 eclipse_72k, not_weighted, r=64, val<br>epoch=%{x}<br>loss=%{y}<extra></extra>",
         "legendgroup": "4 eclipse_72k, not_weighted, r=64, val",
         "line": {
          "color": "#ab63fa",
          "dash": "solid"
         },
         "marker": {
          "symbol": "circle"
         },
         "mode": "lines",
         "name": "4 eclipse_72k, not_weighted, r=64, val",
         "orientation": "v",
         "showlegend": true,
         "type": "scatter",
         "x": [
          1,
          2,
          3,
          4,
          5
         ],
         "xaxis": "x",
         "y": [
          0.4945061920620054,
          0.47261327800418484,
          0.5543455640992222,
          0.7296311631851633,
          1.2995495660517646
         ],
         "yaxis": "y"
        },
        {
         "hovertemplate": "id=5 eclipse_72k, not_weighted, r=64, train<br>epoch=%{x}<br>loss=%{y}<extra></extra>",
         "legendgroup": "5 eclipse_72k, not_weighted, r=64, train",
         "line": {
          "color": "#FFA15A",
          "dash": "solid"
         },
         "marker": {
          "symbol": "circle"
         },
         "mode": "lines",
         "name": "5 eclipse_72k, not_weighted, r=64, train",
         "orientation": "v",
         "showlegend": true,
         "type": "scatter",
         "x": [
          0,
          1,
          2,
          3,
          4
         ],
         "xaxis": "x",
         "y": [
          0.5129387887103906,
          0.5014341685896546,
          0.4941094755305659,
          0.47835380296952934,
          0.46928677233934757
         ],
         "yaxis": "y"
        },
        {
         "hovertemplate": "id=5 eclipse_72k, not_weighted, r=64, val<br>epoch=%{x}<br>loss=%{y}<extra></extra>",
         "legendgroup": "5 eclipse_72k, not_weighted, r=64, val",
         "line": {
          "color": "hsv(249, 0.5, 0.9)",
          "dash": "solid"
         },
         "marker": {
          "symbol": "circle"
         },
         "mode": "lines",
         "name": "5 eclipse_72k, not_weighted, r=64, val",
         "orientation": "v",
         "showlegend": true,
         "type": "scatter",
         "x": [
          1,
          2,
          3,
          4
         ],
         "xaxis": "x",
         "y": [
          0.49228942351285365,
          0.4916534736308899,
          0.5735384399647618,
          0.8227652476671142
         ],
         "yaxis": "y"
        },
        {
         "hovertemplate": "id=6 eclipse_72k, not_weighted, r=5, train<br>epoch=%{x}<br>loss=%{y}<extra></extra>",
         "legendgroup": "6 eclipse_72k, not_weighted, r=5, train",
         "line": {
          "color": "hsv(323, 1, 1)",
          "dash": "solid"
         },
         "marker": {
          "symbol": "circle"
         },
         "mode": "lines",
         "name": "6 eclipse_72k, not_weighted, r=5, train",
         "orientation": "v",
         "showlegend": true,
         "type": "scatter",
         "x": [
          0,
          1,
          2,
          3
         ],
         "xaxis": "x",
         "y": [
          0.5217540643318427,
          0.525663519131933,
          0.5422895791730736,
          0.5428686766765063
         ],
         "yaxis": "y"
        },
        {
         "hovertemplate": "id=6 eclipse_72k, not_weighted, r=64, val<br>epoch=%{x}<br>loss=%{y}<extra></extra>",
         "legendgroup": "6 eclipse_72k, not_weighted, r=64, val",
         "line": {
          "color": "#19d3f3",
          "dash": "solid"
         },
         "marker": {
          "symbol": "circle"
         },
         "mode": "lines",
         "name": "6 eclipse_72k, not_weighted, r=64, val",
         "orientation": "v",
         "showlegend": true,
         "type": "scatter",
         "x": [
          1,
          2,
          3,
          4,
          5
         ],
         "xaxis": "x",
         "y": [
          0.5063674561786516,
          0.4968308805456405,
          0.4928775567689432,
          0.5079752071967163,
          0.48773773359789474
         ],
         "yaxis": "y"
        },
        {
         "hovertemplate": "id=7 eclipse_72k, not_weighted, r=10, train<br>epoch=%{x}<br>loss=%{y}<extra></extra>",
         "legendgroup": "7 eclipse_72k, not_weighted, r=10, train",
         "line": {
          "color": "hsv(332, 1, 1)",
          "dash": "solid"
         },
         "marker": {
          "symbol": "circle"
         },
         "mode": "lines",
         "name": "7 eclipse_72k, not_weighted, r=10, train",
         "orientation": "v",
         "showlegend": true,
         "type": "scatter",
         "x": [
          0,
          1,
          2,
          3
         ],
         "xaxis": "x",
         "y": [
          0.5186587134915818,
          0.5074944521863594,
          0.5023967021684644,
          0.4873945906394146
         ],
         "yaxis": "y"
        },
        {
         "hovertemplate": "id=7 eclipse_72k, not_weighted, r=5, val<br>epoch=%{x}<br>loss=%{y}<extra></extra>",
         "legendgroup": "7 eclipse_72k, not_weighted, r=5, val",
         "line": {
          "color": "hsv(323, 0.5, 0.9)",
          "dash": "solid"
         },
         "marker": {
          "symbol": "circle"
         },
         "mode": "lines",
         "name": "7 eclipse_72k, not_weighted, r=5, val",
         "orientation": "v",
         "showlegend": true,
         "type": "scatter",
         "x": [
          1,
          2,
          3,
          4
         ],
         "xaxis": "x",
         "y": [
          0.46708913390667534,
          0.556545815076716,
          0.5495703045936562,
          0.5730449458482486
         ],
         "yaxis": "y"
        },
        {
         "hovertemplate": "id=8 eclipse_72k, not_weighted, r=5, train<br>epoch=%{x}<br>loss=%{y}<extra></extra>",
         "legendgroup": "8 eclipse_72k, not_weighted, r=5, train",
         "line": {
          "color": "hsv(341, 1, 1)",
          "dash": "solid"
         },
         "marker": {
          "symbol": "circle"
         },
         "mode": "lines",
         "name": "8 eclipse_72k, not_weighted, r=5, train",
         "orientation": "v",
         "showlegend": true,
         "type": "scatter",
         "x": [
          0,
          1,
          2,
          3
         ],
         "xaxis": "x",
         "y": [
          0.5402627280710277,
          0.4937273801004652,
          0.4401614025118989,
          0.34441568386104726
         ],
         "yaxis": "y"
        },
        {
         "hovertemplate": "id=8 eclipse_72k, not_weighted, r=10, val<br>epoch=%{x}<br>loss=%{y}<extra></extra>",
         "legendgroup": "8 eclipse_72k, not_weighted, r=10, val",
         "line": {
          "color": "hsv(332, 0.5, 0.9)",
          "dash": "solid"
         },
         "marker": {
          "symbol": "circle"
         },
         "mode": "lines",
         "name": "8 eclipse_72k, not_weighted, r=10, val",
         "orientation": "v",
         "showlegend": true,
         "type": "scatter",
         "x": [
          1,
          2,
          3,
          4
         ],
         "xaxis": "x",
         "y": [
          0.4791240179258711,
          0.490261003266728,
          0.5281244449558695,
          0.5745220938083827
         ],
         "yaxis": "y"
        },
        {
         "hovertemplate": "id=9 eclipse_72k, not_weighted, r=5, train<br>epoch=%{x}<br>loss=%{y}<extra></extra>",
         "legendgroup": "9 eclipse_72k, not_weighted, r=5, train",
         "line": {
          "color": "hsv(350, 1, 1)",
          "dash": "solid"
         },
         "marker": {
          "symbol": "circle"
         },
         "mode": "lines",
         "name": "9 eclipse_72k, not_weighted, r=5, train",
         "orientation": "v",
         "showlegend": true,
         "type": "scatter",
         "x": [
          0,
          1,
          2,
          3
         ],
         "xaxis": "x",
         "y": [
          0.5251557072989449,
          0.4557641440302356,
          0.39446016636740466,
          0.3133181875804373
         ],
         "yaxis": "y"
        },
        {
         "hovertemplate": "id=9 eclipse_72k, not_weighted, r=5, val<br>epoch=%{x}<br>loss=%{y}<extra></extra>",
         "legendgroup": "9 eclipse_72k, not_weighted, r=5, val",
         "line": {
          "color": "hsv(341, 0.5, 0.9)",
          "dash": "solid"
         },
         "marker": {
          "symbol": "circle"
         },
         "mode": "lines",
         "name": "9 eclipse_72k, not_weighted, r=5, val",
         "orientation": "v",
         "showlegend": true,
         "type": "scatter",
         "x": [
          1,
          2,
          3,
          4
         ],
         "xaxis": "x",
         "y": [
          0.5055503271678046,
          0.5370832643981878,
          0.6093307076717134,
          0.7770515936140716
         ],
         "yaxis": "y"
        },
        {
         "hovertemplate": "id=10 eclipse_72k, not_weighted, r=5, train<br>epoch=%{x}<br>loss=%{y}<extra></extra>",
         "legendgroup": "10 eclipse_72k, not_weighted, r=5, train",
         "line": {
          "color": "#FF6692",
          "dash": "solid"
         },
         "marker": {
          "symbol": "circle"
         },
         "mode": "lines",
         "name": "10 eclipse_72k, not_weighted, r=5, train",
         "orientation": "v",
         "showlegend": true,
         "type": "scatter",
         "x": [
          0,
          1,
          2,
          3
         ],
         "xaxis": "x",
         "y": [
          0.5187656519650179,
          0.44487195938587976,
          0.37301208143113584,
          0.26521644656089105
         ],
         "yaxis": "y"
        },
        {
         "hovertemplate": "id=10 eclipse_72k, not_weighted, r=5, val<br>epoch=%{x}<br>loss=%{y}<extra></extra>",
         "legendgroup": "10 eclipse_72k, not_weighted, r=5, val",
         "line": {
          "color": "hsv(350, 0.5, 0.9)",
          "dash": "solid"
         },
         "marker": {
          "symbol": "circle"
         },
         "mode": "lines",
         "name": "10 eclipse_72k, not_weighted, r=5, val",
         "orientation": "v",
         "showlegend": true,
         "type": "scatter",
         "x": [
          1,
          2,
          3,
          4
         ],
         "xaxis": "x",
         "y": [
          0.4735444014358359,
          0.4820100886910654,
          0.5603516628244914,
          0.6767238047850578
         ],
         "yaxis": "y"
        },
        {
         "hovertemplate": "id=11 eclipse_72k, not_weighted, r=10, train<br>epoch=%{x}<br>loss=%{y}<extra></extra>",
         "legendgroup": "11 eclipse_72k, not_weighted, r=10, train",
         "line": {
          "color": "hsv(18, 1, 1)",
          "dash": "solid"
         },
         "marker": {
          "symbol": "circle"
         },
         "mode": "lines",
         "name": "11 eclipse_72k, not_weighted, r=10, train",
         "orientation": "v",
         "showlegend": true,
         "type": "scatter",
         "x": [
          0,
          1,
          2,
          3
         ],
         "xaxis": "x",
         "y": [
          0.5185450646841767,
          0.5031925828025243,
          0.4965657259023139,
          0.48249093922802205
         ],
         "yaxis": "y"
        },
        {
         "hovertemplate": "id=11 eclipse_72k, not_weighted, r=5, val<br>epoch=%{x}<br>loss=%{y}<extra></extra>",
         "legendgroup": "11 eclipse_72k, not_weighted, r=5, val",
         "line": {
          "color": "#B6E880",
          "dash": "solid"
         },
         "marker": {
          "symbol": "circle"
         },
         "mode": "lines",
         "name": "11 eclipse_72k, not_weighted, r=5, val",
         "orientation": "v",
         "showlegend": true,
         "type": "scatter",
         "x": [
          1,
          2,
          3,
          4
         ],
         "xaxis": "x",
         "y": [
          0.4853879007153242,
          0.4988643964144583,
          0.6523773735581277,
          0.855387541592093
         ],
         "yaxis": "y"
        },
        {
         "hovertemplate": "id=12 eclipse_72k, not_weighted, r=64, train<br>epoch=%{x}<br>loss=%{y}<extra></extra>",
         "legendgroup": "12 eclipse_72k, not_weighted, r=64, train",
         "line": {
          "color": "hsv(27, 1, 1)",
          "dash": "solid"
         },
         "marker": {
          "symbol": "circle"
         },
         "mode": "lines",
         "name": "12 eclipse_72k, not_weighted, r=64, train",
         "orientation": "v",
         "showlegend": true,
         "type": "scatter",
         "x": [
          0,
          1,
          2,
          3
         ],
         "xaxis": "x",
         "y": [
          0.5244043106355077,
          0.5162069095887929,
          0.5158372417429816,
          0.5015734057591226
         ],
         "yaxis": "y"
        },
        {
         "hovertemplate": "id=12 eclipse_72k, not_weighted, r=10, val<br>epoch=%{x}<br>loss=%{y}<extra></extra>",
         "legendgroup": "12 eclipse_72k, not_weighted, r=10, val",
         "line": {
          "color": "hsv(18, 0.5, 0.9)",
          "dash": "solid"
         },
         "marker": {
          "symbol": "circle"
         },
         "mode": "lines",
         "name": "12 eclipse_72k, not_weighted, r=10, val",
         "orientation": "v",
         "showlegend": true,
         "type": "scatter",
         "x": [
          1,
          2,
          3,
          4
         ],
         "xaxis": "x",
         "y": [
          0.46540696544848276,
          0.48686078354259743,
          0.49814589952352056,
          0.5242458736576256
         ],
         "yaxis": "y"
        },
        {
         "hovertemplate": "id=13 eclipse_72k, not_weighted, r=10, train<br>epoch=%{x}<br>loss=%{y}<extra></extra>",
         "legendgroup": "13 eclipse_72k, not_weighted, r=10, train",
         "line": {
          "color": "hsv(36, 1, 1)",
          "dash": "solid"
         },
         "marker": {
          "symbol": "circle"
         },
         "mode": "lines",
         "name": "13 eclipse_72k, not_weighted, r=10, train",
         "orientation": "v",
         "showlegend": true,
         "type": "scatter",
         "x": [
          0,
          1,
          2,
          3
         ],
         "xaxis": "x",
         "y": [
          0.5233003921945223,
          0.43175168437950223,
          0.3618553020567921,
          0.25799250546555935
         ],
         "yaxis": "y"
        },
        {
         "hovertemplate": "id=13 eclipse_72k, not_weighted, r=64, val<br>epoch=%{x}<br>loss=%{y}<extra></extra>",
         "legendgroup": "13 eclipse_72k, not_weighted, r=64, val",
         "line": {
          "color": "hsv(27, 0.5, 0.9)",
          "dash": "solid"
         },
         "marker": {
          "symbol": "circle"
         },
         "mode": "lines",
         "name": "13 eclipse_72k, not_weighted, r=64, val",
         "orientation": "v",
         "showlegend": true,
         "type": "scatter",
         "x": [
          1,
          2,
          3,
          4
         ],
         "xaxis": "x",
         "y": [
          0.49597799946372056,
          0.5261729645427328,
          0.5286298999936971,
          0.5509295993052218
         ],
         "yaxis": "y"
        },
        {
         "hovertemplate": "id=14 eclipse_72k, not_weighted, r=10, train<br>epoch=%{x}<br>loss=%{y}<extra></extra>",
         "legendgroup": "14 eclipse_72k, not_weighted, r=10, train",
         "line": {
          "color": "hsv(46, 1, 1)",
          "dash": "solid"
         },
         "marker": {
          "symbol": "circle"
         },
         "mode": "lines",
         "name": "14 eclipse_72k, not_weighted, r=10, train",
         "orientation": "v",
         "showlegend": true,
         "type": "scatter",
         "x": [
          0,
          1,
          2,
          3
         ],
         "xaxis": "x",
         "y": [
          0.5125812865112127,
          0.5062096001265287,
          0.5013015523713944,
          0.4900493478854269
         ],
         "yaxis": "y"
        },
        {
         "hovertemplate": "id=14 eclipse_72k, not_weighted, r=10, val<br>epoch=%{x}<br>loss=%{y}<extra></extra>",
         "legendgroup": "14 eclipse_72k, not_weighted, r=10, val",
         "line": {
          "color": "hsv(36, 0.5, 0.9)",
          "dash": "solid"
         },
         "marker": {
          "symbol": "circle"
         },
         "mode": "lines",
         "name": "14 eclipse_72k, not_weighted, r=10, val",
         "orientation": "v",
         "showlegend": true,
         "type": "scatter",
         "x": [
          1,
          2,
          3,
          4
         ],
         "xaxis": "x",
         "y": [
          0.47453664113571287,
          0.4733269231550309,
          0.5865856656749155,
          0.7308839166565542
         ],
         "yaxis": "y"
        },
        {
         "hovertemplate": "id=15 eclipse_72k, not_weighted, r=64, train<br>epoch=%{x}<br>loss=%{y}<extra></extra>",
         "legendgroup": "15 eclipse_72k, not_weighted, r=64, train",
         "line": {
          "color": "#FF97FF",
          "dash": "solid"
         },
         "marker": {
          "symbol": "circle"
         },
         "mode": "lines",
         "name": "15 eclipse_72k, not_weighted, r=64, train",
         "orientation": "v",
         "showlegend": true,
         "type": "scatter",
         "x": [
          0,
          1,
          2,
          3
         ],
         "xaxis": "x",
         "y": [
          0.5162090046758298,
          0.5067454992974195,
          0.5134100054746827,
          0.5025920844601419
         ],
         "yaxis": "y"
        },
        {
         "hovertemplate": "id=15 eclipse_72k, not_weighted, r=10, val<br>epoch=%{x}<br>loss=%{y}<extra></extra>",
         "legendgroup": "15 eclipse_72k, not_weighted, r=10, val",
         "line": {
          "color": "hsv(46, 0.5, 0.9)",
          "dash": "solid"
         },
         "marker": {
          "symbol": "circle"
         },
         "mode": "lines",
         "name": "15 eclipse_72k, not_weighted, r=10, val",
         "orientation": "v",
         "showlegend": true,
         "type": "scatter",
         "x": [
          1,
          2,
          3,
          4
         ],
         "xaxis": "x",
         "y": [
          0.47547782521405485,
          0.4847561917815796,
          0.511673920145451,
          0.5105964778411717
         ],
         "yaxis": "y"
        },
        {
         "hovertemplate": "id=16 eclipse_72k, not_weighted, r=10, train<br>epoch=%{x}<br>loss=%{y}<extra></extra>",
         "legendgroup": "16 eclipse_72k, not_weighted, r=10, train",
         "line": {
          "color": "#FECB52",
          "dash": "solid"
         },
         "marker": {
          "symbol": "circle"
         },
         "mode": "lines",
         "name": "16 eclipse_72k, not_weighted, r=10, train",
         "orientation": "v",
         "showlegend": true,
         "type": "scatter",
         "x": [
          0,
          1,
          2,
          3
         ],
         "xaxis": "x",
         "y": [
          0.5284998142787151,
          0.45173878662318756,
          0.3690090905401829,
          0.2544693228892097
         ],
         "yaxis": "y"
        },
        {
         "hovertemplate": "id=16 eclipse_72k, not_weighted, r=64, val<br>epoch=%{x}<br>loss=%{y}<extra></extra>",
         "legendgroup": "16 eclipse_72k, not_weighted, r=64, val",
         "line": {
          "color": "#636efa",
          "dash": "solid"
         },
         "marker": {
          "symbol": "circle"
         },
         "mode": "lines",
         "name": "16 eclipse_72k, not_weighted, r=64, val",
         "orientation": "v",
         "showlegend": true,
         "type": "scatter",
         "x": [
          1,
          2,
          3,
          4
         ],
         "xaxis": "x",
         "y": [
          0.4697282498442415,
          0.5124711618952792,
          0.5027735406018159,
          0.5421201939472545
         ],
         "yaxis": "y"
        },
        {
         "hovertemplate": "id=17 eclipse_72k, not_weighted, r=10, train<br>epoch=%{x}<br>loss=%{y}<extra></extra>",
         "legendgroup": "17 eclipse_72k, not_weighted, r=10, train",
         "line": {
          "color": "#EF553B",
          "dash": "solid"
         },
         "marker": {
          "symbol": "circle"
         },
         "mode": "lines",
         "name": "17 eclipse_72k, not_weighted, r=10, train",
         "orientation": "v",
         "showlegend": true,
         "type": "scatter",
         "x": [
          0,
          1,
          2,
          3
         ],
         "xaxis": "x",
         "y": [
          0.5117182700232057,
          0.5043943193031836,
          0.5034756087797934,
          0.49411153600972046
         ],
         "yaxis": "y"
        },
        {
         "hovertemplate": "id=17 eclipse_72k, not_weighted, r=10, val<br>epoch=%{x}<br>loss=%{y}<extra></extra>",
         "legendgroup": "17 eclipse_72k, not_weighted, r=10, val",
         "line": {
          "color": "#00cc96",
          "dash": "solid"
         },
         "marker": {
          "symbol": "circle"
         },
         "mode": "lines",
         "name": "17 eclipse_72k, not_weighted, r=10, val",
         "orientation": "v",
         "showlegend": true,
         "type": "scatter",
         "x": [
          1,
          2,
          3,
          4
         ],
         "xaxis": "x",
         "y": [
          0.4834330859336725,
          0.4877913149516919,
          0.6025890995796577,
          0.7645552345486575
         ],
         "yaxis": "y"
        },
        {
         "hovertemplate": "id=18 eclipse_72k, not_weighted, r=64, train<br>epoch=%{x}<br>loss=%{y}<extra></extra>",
         "legendgroup": "18 eclipse_72k, not_weighted, r=64, train",
         "line": {
          "color": "hsv(73, 1, 1)",
          "dash": "solid"
         },
         "marker": {
          "symbol": "circle"
         },
         "mode": "lines",
         "name": "18 eclipse_72k, not_weighted, r=64, train",
         "orientation": "v",
         "showlegend": true,
         "type": "scatter",
         "x": [
          0,
          1,
          2,
          3
         ],
         "xaxis": "x",
         "y": [
          0.5319055759945391,
          0.47525873807054203,
          0.40272407094446205,
          0.30137290967947405
         ],
         "yaxis": "y"
        },
        {
         "hovertemplate": "id=18 eclipse_72k, not_weighted, r=10, val<br>epoch=%{x}<br>loss=%{y}<extra></extra>",
         "legendgroup": "18 eclipse_72k, not_weighted, r=10, val",
         "line": {
          "color": "#ab63fa",
          "dash": "solid"
         },
         "marker": {
          "symbol": "circle"
         },
         "mode": "lines",
         "name": "18 eclipse_72k, not_weighted, r=10, val",
         "orientation": "v",
         "showlegend": true,
         "type": "scatter",
         "x": [
          1,
          2,
          3,
          4
         ],
         "xaxis": "x",
         "y": [
          0.48747919421132774,
          0.49397041549622533,
          0.5160730088788487,
          0.528613654236117
         ],
         "yaxis": "y"
        },
        {
         "hovertemplate": "id=19 eclipse_72k, not_weighted, r=10, train<br>epoch=%{x}<br>loss=%{y}<extra></extra>",
         "legendgroup": "19 eclipse_72k, not_weighted, r=10, train",
         "line": {
          "color": "hsv(83, 1, 1)",
          "dash": "solid"
         },
         "marker": {
          "symbol": "circle"
         },
         "mode": "lines",
         "name": "19 eclipse_72k, not_weighted, r=10, train",
         "orientation": "v",
         "showlegend": true,
         "type": "scatter",
         "x": [
          0,
          1,
          2,
          3
         ],
         "xaxis": "x",
         "y": [
          0.5360611509872439,
          0.4519436718490283,
          0.3858431767162164,
          0.29126303504078155
         ],
         "yaxis": "y"
        },
        {
         "hovertemplate": "id=19 eclipse_72k, not_weighted, r=64, val<br>epoch=%{x}<br>loss=%{y}<extra></extra>",
         "legendgroup": "19 eclipse_72k, not_weighted, r=64, val",
         "line": {
          "color": "hsv(73, 0.5, 0.9)",
          "dash": "solid"
         },
         "marker": {
          "symbol": "circle"
         },
         "mode": "lines",
         "name": "19 eclipse_72k, not_weighted, r=64, val",
         "orientation": "v",
         "showlegend": true,
         "type": "scatter",
         "x": [
          1,
          2,
          3,
          4
         ],
         "xaxis": "x",
         "y": [
          0.5069357515692473,
          0.4990741811431999,
          0.5276492832616027,
          0.6576469226214362
         ],
         "yaxis": "y"
        },
        {
         "hovertemplate": "id=20 eclipse_72k, not_weighted, r=10, train<br>epoch=%{x}<br>loss=%{y}<extra></extra>",
         "legendgroup": "20 eclipse_72k, not_weighted, r=10, train",
         "line": {
          "color": "hsv(101, 1, 1)",
          "dash": "solid"
         },
         "marker": {
          "symbol": "circle"
         },
         "mode": "lines",
         "name": "20 eclipse_72k, not_weighted, r=10, train",
         "orientation": "v",
         "showlegend": true,
         "type": "scatter",
         "x": [
          0,
          1,
          2,
          3,
          4
         ],
         "xaxis": "x",
         "y": [
          0.5378677161749817,
          0.48708430306590955,
          0.4183969267912135,
          0.30218273984638466,
          0.18894706971086933
         ],
         "yaxis": "y"
        },
        {
         "hovertemplate": "id=20 eclipse_72k, not_weighted, r=10, val<br>epoch=%{x}<br>loss=%{y}<extra></extra>",
         "legendgroup": "20 eclipse_72k, not_weighted, r=10, val",
         "line": {
          "color": "hsv(83, 0.5, 0.9)",
          "dash": "solid"
         },
         "marker": {
          "symbol": "circle"
         },
         "mode": "lines",
         "name": "20 eclipse_72k, not_weighted, r=10, val",
         "orientation": "v",
         "showlegend": true,
         "type": "scatter",
         "x": [
          1,
          2,
          3,
          4
         ],
         "xaxis": "x",
         "y": [
          0.4800868893394413,
          0.48166700030002635,
          0.5388570192339576,
          0.7327347909823484
         ],
         "yaxis": "y"
        },
        {
         "hovertemplate": "id=21 eclipse_72k, not_weighted, r=10, train<br>epoch=%{x}<br>loss=%{y}<extra></extra>",
         "legendgroup": "21 eclipse_72k, not_weighted, r=10, train",
         "line": {
          "color": "#FFA15A",
          "dash": "solid"
         },
         "marker": {
          "symbol": "circle"
         },
         "mode": "lines",
         "name": "21 eclipse_72k, not_weighted, r=10, train",
         "orientation": "v",
         "showlegend": true,
         "type": "scatter",
         "x": [
          0,
          1,
          2,
          3
         ],
         "xaxis": "x",
         "y": [
          0.5168744804038576,
          0.5166550879143629,
          0.5185024083980543,
          0.5106573880133577
         ],
         "yaxis": "y"
        },
        {
         "hovertemplate": "id=21 eclipse_72k, not_weighted, r=10, val<br>epoch=%{x}<br>loss=%{y}<extra></extra>",
         "legendgroup": "21 eclipse_72k, not_weighted, r=10, val",
         "line": {
          "color": "hsv(101, 0.5, 0.9)",
          "dash": "solid"
         },
         "marker": {
          "symbol": "circle"
         },
         "mode": "lines",
         "name": "21 eclipse_72k, not_weighted, r=10, val",
         "orientation": "v",
         "showlegend": true,
         "type": "scatter",
         "x": [
          1,
          2,
          3,
          4,
          5
         ],
         "xaxis": "x",
         "y": [
          0.5482260315167891,
          0.5377863143115196,
          0.6333595292084715,
          0.7372323403598056,
          1.0586561354732387
         ],
         "yaxis": "y"
        },
        {
         "hovertemplate": "id=22 eclipse_72k, not_weighted, r=10, train<br>epoch=%{x}<br>loss=%{y}<extra></extra>",
         "legendgroup": "22 eclipse_72k, not_weighted, r=10, train",
         "line": {
          "color": "hsv(110, 1, 1)",
          "dash": "solid"
         },
         "marker": {
          "symbol": "circle"
         },
         "mode": "lines",
         "name": "22 eclipse_72k, not_weighted, r=10, train",
         "orientation": "v",
         "showlegend": true,
         "type": "scatter",
         "x": [
          0,
          1,
          2,
          3
         ],
         "xaxis": "x",
         "y": [
          0.51614299016467,
          0.5145380801220143,
          0.5211320649370329,
          0.5170750204608772
         ],
         "yaxis": "y"
        },
        {
         "hovertemplate": "id=22 eclipse_72k, not_weighted, r=10, val<br>epoch=%{x}<br>loss=%{y}<extra></extra>",
         "legendgroup": "22 eclipse_72k, not_weighted, r=10, val",
         "line": {
          "color": "#19d3f3",
          "dash": "solid"
         },
         "marker": {
          "symbol": "circle"
         },
         "mode": "lines",
         "name": "22 eclipse_72k, not_weighted, r=10, val",
         "orientation": "v",
         "showlegend": true,
         "type": "scatter",
         "x": [
          1,
          2,
          3,
          4
         ],
         "xaxis": "x",
         "y": [
          0.4732984756904431,
          0.5265579917367076,
          0.5092336085451898,
          0.5796433258234962
         ],
         "yaxis": "y"
        },
        {
         "hovertemplate": "id=23 eclipse_72k, not_weighted, r=5, train<br>epoch=%{x}<br>loss=%{y}<extra></extra>",
         "legendgroup": "23 eclipse_72k, not_weighted, r=5, train",
         "line": {
          "color": "#FF6692",
          "dash": "solid"
         },
         "marker": {
          "symbol": "circle"
         },
         "mode": "lines",
         "name": "23 eclipse_72k, not_weighted, r=5, train",
         "orientation": "v",
         "showlegend": true,
         "type": "scatter",
         "x": [
          0,
          1,
          2,
          3
         ],
         "xaxis": "x",
         "y": [
          0.5159107443751333,
          0.4294984695283904,
          0.3656573294158469,
          0.26179152676722184
         ],
         "yaxis": "y"
        },
        {
         "hovertemplate": "id=23 eclipse_72k, not_weighted, r=10, val<br>epoch=%{x}<br>loss=%{y}<extra></extra>",
         "legendgroup": "23 eclipse_72k, not_weighted, r=10, val",
         "line": {
          "color": "hsv(110, 0.5, 0.9)",
          "dash": "solid"
         },
         "marker": {
          "symbol": "circle"
         },
         "mode": "lines",
         "name": "23 eclipse_72k, not_weighted, r=10, val",
         "orientation": "v",
         "showlegend": true,
         "type": "scatter",
         "x": [
          1,
          2,
          3,
          4
         ],
         "xaxis": "x",
         "y": [
          0.477427428832345,
          0.5317261314442222,
          0.5031844089028811,
          0.5635085958757466
         ],
         "yaxis": "y"
        },
        {
         "hovertemplate": "id=24 eclipse_72k, not_weighted, r=10, train<br>epoch=%{x}<br>loss=%{y}<extra></extra>",
         "legendgroup": "24 eclipse_72k, not_weighted, r=10, train",
         "line": {
          "color": "#B6E880",
          "dash": "solid"
         },
         "marker": {
          "symbol": "circle"
         },
         "mode": "lines",
         "name": "24 eclipse_72k, not_weighted, r=10, train",
         "orientation": "v",
         "showlegend": true,
         "type": "scatter",
         "x": [
          0,
          1,
          2,
          3
         ],
         "xaxis": "x",
         "y": [
          0.5244797113891012,
          0.42841606623449435,
          0.35515615433987957,
          0.25212714837055666
         ],
         "yaxis": "y"
        },
        {
         "hovertemplate": "id=24 eclipse_72k, not_weighted, r=5, val<br>epoch=%{x}<br>loss=%{y}<extra></extra>",
         "legendgroup": "24 eclipse_72k, not_weighted, r=5, val",
         "line": {
          "color": "#FF97FF",
          "dash": "solid"
         },
         "marker": {
          "symbol": "circle"
         },
         "mode": "lines",
         "name": "24 eclipse_72k, not_weighted, r=5, val",
         "orientation": "v",
         "showlegend": true,
         "type": "scatter",
         "x": [
          1,
          2,
          3,
          4
         ],
         "xaxis": "x",
         "y": [
          0.44993356138300394,
          0.48689743995458284,
          0.5836352131301066,
          0.8028181419562027
         ],
         "yaxis": "y"
        },
        {
         "hovertemplate": "id=25 mozilla_200k, not_weighted, r=64, train<br>epoch=%{x}<br>loss=%{y}<extra></extra>",
         "legendgroup": "25 mozilla_200k, not_weighted, r=64, train",
         "line": {
          "color": "#FECB52",
          "dash": "solid"
         },
         "marker": {
          "symbol": "circle"
         },
         "mode": "lines",
         "name": "25 mozilla_200k, not_weighted, r=64, train",
         "orientation": "v",
         "showlegend": true,
         "type": "scatter",
         "x": [
          0,
          1,
          2
         ],
         "xaxis": "x",
         "y": [
          0.45775870649184247,
          0.3994747464548307,
          0.35772314342779427
         ],
         "yaxis": "y"
        },
        {
         "hovertemplate": "id=25 eclipse_72k, not_weighted, r=10, val<br>epoch=%{x}<br>loss=%{y}<extra></extra>",
         "legendgroup": "25 eclipse_72k, not_weighted, r=10, val",
         "line": {
          "color": "#636efa",
          "dash": "solid"
         },
         "marker": {
          "symbol": "circle"
         },
         "mode": "lines",
         "name": "25 eclipse_72k, not_weighted, r=10, val",
         "orientation": "v",
         "showlegend": true,
         "type": "scatter",
         "x": [
          1,
          2,
          3,
          4
         ],
         "xaxis": "x",
         "y": [
          0.4499170175961773,
          0.4654792490776174,
          0.5781299282570564,
          0.8145455063051106
         ],
         "yaxis": "y"
        },
        {
         "hovertemplate": "id=26 mozilla_200k, not_weighted, r=5, train<br>epoch=%{x}<br>loss=%{y}<extra></extra>",
         "legendgroup": "26 mozilla_200k, not_weighted, r=5, train",
         "line": {
          "color": "#EF553B",
          "dash": "solid"
         },
         "marker": {
          "symbol": "circle"
         },
         "mode": "lines",
         "name": "26 mozilla_200k, not_weighted, r=5, train",
         "orientation": "v",
         "showlegend": true,
         "type": "scatter",
         "x": [
          0,
          1,
          2
         ],
         "xaxis": "x",
         "y": [
          0.4703580084634133,
          0.42041585791245145,
          0.3964414587276213
         ],
         "yaxis": "y"
        },
        {
         "hovertemplate": "id=26 mozilla_200k, not_weighted, r=64, val<br>epoch=%{x}<br>loss=%{y}<extra></extra>",
         "legendgroup": "26 mozilla_200k, not_weighted, r=64, val",
         "line": {
          "color": "#00cc96",
          "dash": "solid"
         },
         "marker": {
          "symbol": "circle"
         },
         "mode": "lines",
         "name": "26 mozilla_200k, not_weighted, r=64, val",
         "orientation": "v",
         "showlegend": true,
         "type": "scatter",
         "x": [
          1,
          2,
          3
         ],
         "xaxis": "x",
         "y": [
          0.38317011996530903,
          0.44446980563068716,
          0.4914308107520108
         ],
         "yaxis": "y"
        },
        {
         "hovertemplate": "id=27 mozilla_200k, not_weighted, r=64, train<br>epoch=%{x}<br>loss=%{y}<extra></extra>",
         "legendgroup": "27 mozilla_200k, not_weighted, r=64, train",
         "line": {
          "color": "#ab63fa",
          "dash": "solid"
         },
         "marker": {
          "symbol": "circle"
         },
         "mode": "lines",
         "name": "27 mozilla_200k, not_weighted, r=64, train",
         "orientation": "v",
         "showlegend": true,
         "type": "scatter",
         "x": [
          0,
          1,
          2
         ],
         "xaxis": "x",
         "y": [
          0.4796701627354924,
          0.40728802052138924,
          0.3764468289987815
         ],
         "yaxis": "y"
        },
        {
         "hovertemplate": "id=27 mozilla_200k, not_weighted, r=5, val<br>epoch=%{x}<br>loss=%{y}<extra></extra>",
         "legendgroup": "27 mozilla_200k, not_weighted, r=5, val",
         "line": {
          "color": "#FFA15A",
          "dash": "solid"
         },
         "marker": {
          "symbol": "circle"
         },
         "mode": "lines",
         "name": "27 mozilla_200k, not_weighted, r=5, val",
         "orientation": "v",
         "showlegend": true,
         "type": "scatter",
         "x": [
          1,
          2
         ],
         "xaxis": "x",
         "y": [
          0.42066024296131604,
          0.4709062507893474
         ],
         "yaxis": "y"
        },
        {
         "hovertemplate": "id=28 mozilla_200k, not_weighted, r=64, train<br>epoch=%{x}<br>loss=%{y}<extra></extra>",
         "legendgroup": "28 mozilla_200k, not_weighted, r=64, train",
         "line": {
          "color": "#19d3f3",
          "dash": "solid"
         },
         "marker": {
          "symbol": "circle"
         },
         "mode": "lines",
         "name": "28 mozilla_200k, not_weighted, r=64, train",
         "orientation": "v",
         "showlegend": true,
         "type": "scatter",
         "x": [
          0,
          1,
          2
         ],
         "xaxis": "x",
         "y": [
          0.4979555784329865,
          0.4757131961560377,
          0.4749611675466974
         ],
         "yaxis": "y"
        },
        {
         "hovertemplate": "id=28 mozilla_200k, not_weighted, r=64, val<br>epoch=%{x}<br>loss=%{y}<extra></extra>",
         "legendgroup": "28 mozilla_200k, not_weighted, r=64, val",
         "line": {
          "color": "#FF6692",
          "dash": "solid"
         },
         "marker": {
          "symbol": "circle"
         },
         "mode": "lines",
         "name": "28 mozilla_200k, not_weighted, r=64, val",
         "orientation": "v",
         "showlegend": true,
         "type": "scatter",
         "x": [
          1,
          2
         ],
         "xaxis": "x",
         "y": [
          0.4047949112121806,
          0.4466979115199085
         ],
         "yaxis": "y"
        },
        {
         "hovertemplate": "id=29 mozilla_200k, not_weighted, r=64, train<br>epoch=%{x}<br>loss=%{y}<extra></extra>",
         "legendgroup": "29 mozilla_200k, not_weighted, r=64, train",
         "line": {
          "color": "hsv(166, 1, 1)",
          "dash": "solid"
         },
         "marker": {
          "symbol": "circle"
         },
         "mode": "lines",
         "name": "29 mozilla_200k, not_weighted, r=64, train",
         "orientation": "v",
         "showlegend": true,
         "type": "scatter",
         "x": [
          0,
          1,
          2
         ],
         "xaxis": "x",
         "y": [
          0.46650668913172316,
          0.4051228058689579,
          0.3713144632751598
         ],
         "yaxis": "y"
        },
        {
         "hovertemplate": "id=29 mozilla_200k, not_weighted, r=64, val<br>epoch=%{x}<br>loss=%{y}<extra></extra>",
         "legendgroup": "29 mozilla_200k, not_weighted, r=64, val",
         "line": {
          "color": "#B6E880",
          "dash": "solid"
         },
         "marker": {
          "symbol": "circle"
         },
         "mode": "lines",
         "name": "29 mozilla_200k, not_weighted, r=64, val",
         "orientation": "v",
         "showlegend": true,
         "type": "scatter",
         "x": [
          1,
          2,
          3
         ],
         "xaxis": "x",
         "y": [
          0.4534731647594207,
          0.5706993974080505,
          0.5815680530311624
         ],
         "yaxis": "y"
        },
        {
         "hovertemplate": "id=30 mozilla_200k, not_weighted, r=64, train<br>epoch=%{x}<br>loss=%{y}<extra></extra>",
         "legendgroup": "30 mozilla_200k, not_weighted, r=64, train",
         "line": {
          "color": "#FF97FF",
          "dash": "solid"
         },
         "marker": {
          "symbol": "circle"
         },
         "mode": "lines",
         "name": "30 mozilla_200k, not_weighted, r=64, train",
         "orientation": "v",
         "showlegend": true,
         "type": "scatter",
         "x": [
          0,
          1,
          2
         ],
         "xaxis": "x",
         "y": [
          0.48714625419425245,
          0.4849244336052837,
          0.48975214228849606
         ],
         "yaxis": "y"
        },
        {
         "hovertemplate": "id=30 mozilla_200k, not_weighted, r=64, val<br>epoch=%{x}<br>loss=%{y}<extra></extra>",
         "legendgroup": "30 mozilla_200k, not_weighted, r=64, val",
         "line": {
          "color": "hsv(166, 0.5, 0.9)",
          "dash": "solid"
         },
         "marker": {
          "symbol": "circle"
         },
         "mode": "lines",
         "name": "30 mozilla_200k, not_weighted, r=64, val",
         "orientation": "v",
         "showlegend": true,
         "type": "scatter",
         "x": [
          1,
          2
         ],
         "xaxis": "x",
         "y": [
          0.4041527172060828,
          0.4543746379497507
         ],
         "yaxis": "y"
        },
        {
         "hovertemplate": "id=31 mozilla_200k, not_weighted, r=5, train<br>epoch=%{x}<br>loss=%{y}<extra></extra>",
         "legendgroup": "31 mozilla_200k, not_weighted, r=5, train",
         "line": {
          "color": "hsv(175, 1, 1)",
          "dash": "solid"
         },
         "marker": {
          "symbol": "circle"
         },
         "mode": "lines",
         "name": "31 mozilla_200k, not_weighted, r=5, train",
         "orientation": "v",
         "showlegend": true,
         "type": "scatter",
         "x": [
          0,
          1,
          2
         ],
         "xaxis": "x",
         "y": [
          0.5050571257367431,
          0.503337112274762,
          0.5115252358371962
         ],
         "yaxis": "y"
        },
        {
         "hovertemplate": "id=31 mozilla_200k, not_weighted, r=64, val<br>epoch=%{x}<br>loss=%{y}<extra></extra>",
         "legendgroup": "31 mozilla_200k, not_weighted, r=64, val",
         "line": {
          "color": "#FECB52",
          "dash": "solid"
         },
         "marker": {
          "symbol": "circle"
         },
         "mode": "lines",
         "name": "31 mozilla_200k, not_weighted, r=64, val",
         "orientation": "v",
         "showlegend": true,
         "type": "scatter",
         "x": [
          1,
          2,
          3
         ],
         "xaxis": "x",
         "y": [
          0.5132222796717377,
          0.5148469944814349,
          0.5090759853779435
         ],
         "yaxis": "y"
        },
        {
         "hovertemplate": "id=32 mozilla_200k, not_weighted, r=10, train<br>epoch=%{x}<br>loss=%{y}<extra></extra>",
         "legendgroup": "32 mozilla_200k, not_weighted, r=10, train",
         "line": {
          "color": "hsv(184, 1, 1)",
          "dash": "solid"
         },
         "marker": {
          "symbol": "circle"
         },
         "mode": "lines",
         "name": "32 mozilla_200k, not_weighted, r=10, train",
         "orientation": "v",
         "showlegend": true,
         "type": "scatter",
         "x": [
          0,
          1,
          2
         ],
         "xaxis": "x",
         "y": [
          0.49591681672383653,
          0.49757680045646935,
          0.5046219784474375
         ],
         "yaxis": "y"
        },
        {
         "hovertemplate": "id=32 mozilla_200k, not_weighted, r=5, val<br>epoch=%{x}<br>loss=%{y}<extra></extra>",
         "legendgroup": "32 mozilla_200k, not_weighted, r=5, val",
         "line": {
          "color": "hsv(175, 0.5, 0.9)",
          "dash": "solid"
         },
         "marker": {
          "symbol": "circle"
         },
         "mode": "lines",
         "name": "32 mozilla_200k, not_weighted, r=5, val",
         "orientation": "v",
         "showlegend": true,
         "type": "scatter",
         "x": [
          1,
          2,
          3
         ],
         "xaxis": "x",
         "y": [
          0.5079803869926696,
          0.529061293110809,
          0.5063156720593379
         ],
         "yaxis": "y"
        },
        {
         "hovertemplate": "id=33 mozilla_200k, not_weighted, r=5, train<br>epoch=%{x}<br>loss=%{y}<extra></extra>",
         "legendgroup": "33 mozilla_200k, not_weighted, r=5, train",
         "line": {
          "color": "hsv(193, 1, 1)",
          "dash": "solid"
         },
         "marker": {
          "symbol": "circle"
         },
         "mode": "lines",
         "name": "33 mozilla_200k, not_weighted, r=5, train",
         "orientation": "v",
         "showlegend": true,
         "type": "scatter",
         "x": [
          0,
          1,
          2
         ],
         "xaxis": "x",
         "y": [
          0.4972291530103791,
          0.4839917354617437,
          0.48358904491081367
         ],
         "yaxis": "y"
        },
        {
         "hovertemplate": "id=33 mozilla_200k, not_weighted, r=10, val<br>epoch=%{x}<br>loss=%{y}<extra></extra>",
         "legendgroup": "33 mozilla_200k, not_weighted, r=10, val",
         "line": {
          "color": "hsv(184, 0.5, 0.9)",
          "dash": "solid"
         },
         "marker": {
          "symbol": "circle"
         },
         "mode": "lines",
         "name": "33 mozilla_200k, not_weighted, r=10, val",
         "orientation": "v",
         "showlegend": true,
         "type": "scatter",
         "x": [
          1,
          2,
          3
         ],
         "xaxis": "x",
         "y": [
          0.509428911569756,
          0.525015263917125,
          0.5203256061667466
         ],
         "yaxis": "y"
        },
        {
         "hovertemplate": "id=34 mozilla_200k, not_weighted, r=5, train<br>epoch=%{x}<br>loss=%{y}<extra></extra>",
         "legendgroup": "34 mozilla_200k, not_weighted, r=5, train",
         "line": {
          "color": "hsv(203, 1, 1)",
          "dash": "solid"
         },
         "marker": {
          "symbol": "circle"
         },
         "mode": "lines",
         "name": "34 mozilla_200k, not_weighted, r=5, train",
         "orientation": "v",
         "showlegend": true,
         "type": "scatter",
         "x": [
          0,
          1,
          2
         ],
         "xaxis": "x",
         "y": [
          0.469982449556236,
          0.41920509879318224,
          0.39932450877609504
         ],
         "yaxis": "y"
        },
        {
         "hovertemplate": "id=34 mozilla_200k, not_weighted, r=5, val<br>epoch=%{x}<br>loss=%{y}<extra></extra>",
         "legendgroup": "34 mozilla_200k, not_weighted, r=5, val",
         "line": {
          "color": "hsv(193, 0.5, 0.9)",
          "dash": "solid"
         },
         "marker": {
          "symbol": "circle"
         },
         "mode": "lines",
         "name": "34 mozilla_200k, not_weighted, r=5, val",
         "orientation": "v",
         "showlegend": true,
         "type": "scatter",
         "x": [
          1,
          2
         ],
         "xaxis": "x",
         "y": [
          0.46660297951414237,
          0.5787425374265835
         ],
         "yaxis": "y"
        },
        {
         "hovertemplate": "id=35 mozilla_200k, not_weighted, r=5, train<br>epoch=%{x}<br>loss=%{y}<extra></extra>",
         "legendgroup": "35 mozilla_200k, not_weighted, r=5, train",
         "line": {
          "color": "#636efa",
          "dash": "solid"
         },
         "marker": {
          "symbol": "circle"
         },
         "mode": "lines",
         "name": "35 mozilla_200k, not_weighted, r=5, train",
         "orientation": "v",
         "showlegend": true,
         "type": "scatter",
         "x": [
          0,
          1,
          2
         ],
         "xaxis": "x",
         "y": [
          0.4827698713521076,
          0.4419635657265568,
          0.41984529317392494
         ],
         "yaxis": "y"
        },
        {
         "hovertemplate": "id=35 mozilla_200k, not_weighted, r=5, val<br>epoch=%{x}<br>loss=%{y}<extra></extra>",
         "legendgroup": "35 mozilla_200k, not_weighted, r=5, val",
         "line": {
          "color": "hsv(203, 0.5, 0.9)",
          "dash": "solid"
         },
         "marker": {
          "symbol": "circle"
         },
         "mode": "lines",
         "name": "35 mozilla_200k, not_weighted, r=5, val",
         "orientation": "v",
         "showlegend": true,
         "type": "scatter",
         "x": [
          1,
          2
         ],
         "xaxis": "x",
         "y": [
          0.41973244853459113,
          0.4659418984307506
         ],
         "yaxis": "y"
        },
        {
         "hovertemplate": "id=36 mozilla_200k, not_weighted, r=10, train<br>epoch=%{x}<br>loss=%{y}<extra></extra>",
         "legendgroup": "36 mozilla_200k, not_weighted, r=10, train",
         "line": {
          "color": "hsv(212, 1, 1)",
          "dash": "solid"
         },
         "marker": {
          "symbol": "circle"
         },
         "mode": "lines",
         "name": "36 mozilla_200k, not_weighted, r=10, train",
         "orientation": "v",
         "showlegend": true,
         "type": "scatter",
         "x": [
          0,
          1,
          2
         ],
         "xaxis": "x",
         "y": [
          0.4927603994389615,
          0.49234472638673604,
          0.5002100176244054
         ],
         "yaxis": "y"
        },
        {
         "hovertemplate": "id=36 mozilla_200k, not_weighted, r=5, val<br>epoch=%{x}<br>loss=%{y}<extra></extra>",
         "legendgroup": "36 mozilla_200k, not_weighted, r=5, val",
         "line": {
          "color": "#EF553B",
          "dash": "solid"
         },
         "marker": {
          "symbol": "circle"
         },
         "mode": "lines",
         "name": "36 mozilla_200k, not_weighted, r=5, val",
         "orientation": "v",
         "showlegend": true,
         "type": "scatter",
         "x": [
          1,
          2
         ],
         "xaxis": "x",
         "y": [
          0.4059189188499752,
          0.4910431407650058
         ],
         "yaxis": "y"
        },
        {
         "hovertemplate": "id=37 mozilla_200k, not_weighted, r=64, train<br>epoch=%{x}<br>loss=%{y}<extra></extra>",
         "legendgroup": "37 mozilla_200k, not_weighted, r=64, train",
         "line": {
          "color": "hsv(221, 1, 1)",
          "dash": "solid"
         },
         "marker": {
          "symbol": "circle"
         },
         "mode": "lines",
         "name": "37 mozilla_200k, not_weighted, r=64, train",
         "orientation": "v",
         "showlegend": true,
         "type": "scatter",
         "x": [
          0,
          1,
          2
         ],
         "xaxis": "x",
         "y": [
          0.492598102200521,
          0.4835399055608606,
          0.48807523546440734
         ],
         "yaxis": "y"
        },
        {
         "hovertemplate": "id=37 mozilla_200k, not_weighted, r=10, val<br>epoch=%{x}<br>loss=%{y}<extra></extra>",
         "legendgroup": "37 mozilla_200k, not_weighted, r=10, val",
         "line": {
          "color": "hsv(212, 0.5, 0.9)",
          "dash": "solid"
         },
         "marker": {
          "symbol": "circle"
         },
         "mode": "lines",
         "name": "37 mozilla_200k, not_weighted, r=10, val",
         "orientation": "v",
         "showlegend": true,
         "type": "scatter",
         "x": [
          1,
          2
         ],
         "xaxis": "x",
         "y": [
          0.5163999502550067,
          0.5311760798968511
         ],
         "yaxis": "y"
        },
        {
         "hovertemplate": "id=38 mozilla_200k, not_weighted, r=10, train<br>epoch=%{x}<br>loss=%{y}<extra></extra>",
         "legendgroup": "38 mozilla_200k, not_weighted, r=10, train",
         "line": {
          "color": "hsv(230, 1, 1)",
          "dash": "solid"
         },
         "marker": {
          "symbol": "circle"
         },
         "mode": "lines",
         "name": "38 mozilla_200k, not_weighted, r=10, train",
         "orientation": "v",
         "showlegend": true,
         "type": "scatter",
         "x": [
          0,
          1,
          2
         ],
         "xaxis": "x",
         "y": [
          0.46945157230134327,
          0.4215679625991758,
          0.39323400718820306
         ],
         "yaxis": "y"
        },
        {
         "hovertemplate": "id=38 mozilla_200k, not_weighted, r=64, val<br>epoch=%{x}<br>loss=%{y}<extra></extra>",
         "legendgroup": "38 mozilla_200k, not_weighted, r=64, val",
         "line": {
          "color": "hsv(221, 0.5, 0.9)",
          "dash": "solid"
         },
         "marker": {
          "symbol": "circle"
         },
         "mode": "lines",
         "name": "38 mozilla_200k, not_weighted, r=64, val",
         "orientation": "v",
         "showlegend": true,
         "type": "scatter",
         "x": [
          1,
          2
         ],
         "xaxis": "x",
         "y": [
          0.5027562710507228,
          0.5090524287554558
         ],
         "yaxis": "y"
        },
        {
         "hovertemplate": "id=39 mozilla_200k, not_weighted, r=10, train<br>epoch=%{x}<br>loss=%{y}<extra></extra>",
         "legendgroup": "39 mozilla_200k, not_weighted, r=10, train",
         "line": {
          "color": "hsv(240, 1, 1)",
          "dash": "solid"
         },
         "marker": {
          "symbol": "circle"
         },
         "mode": "lines",
         "name": "39 mozilla_200k, not_weighted, r=10, train",
         "orientation": "v",
         "showlegend": true,
         "type": "scatter",
         "x": [
          0,
          1,
          2
         ],
         "xaxis": "x",
         "y": [
          0.48746307625997104,
          0.4877110872659557,
          0.4878961259069809
         ],
         "yaxis": "y"
        },
        {
         "hovertemplate": "id=39 mozilla_200k, not_weighted, r=10, val<br>epoch=%{x}<br>loss=%{y}<extra></extra>",
         "legendgroup": "39 mozilla_200k, not_weighted, r=10, val",
         "line": {
          "color": "hsv(230, 0.5, 0.9)",
          "dash": "solid"
         },
         "marker": {
          "symbol": "circle"
         },
         "mode": "lines",
         "name": "39 mozilla_200k, not_weighted, r=10, val",
         "orientation": "v",
         "showlegend": true,
         "type": "scatter",
         "x": [
          1,
          2
         ],
         "xaxis": "x",
         "y": [
          0.4051935180823482,
          0.4813631720753803
         ],
         "yaxis": "y"
        },
        {
         "hovertemplate": "id=40 mozilla_200k, not_weighted, r=64, train<br>epoch=%{x}<br>loss=%{y}<extra></extra>",
         "legendgroup": "40 mozilla_200k, not_weighted, r=64, train",
         "line": {
          "color": "#00cc96",
          "dash": "solid"
         },
         "marker": {
          "symbol": "circle"
         },
         "mode": "lines",
         "name": "40 mozilla_200k, not_weighted, r=64, train",
         "orientation": "v",
         "showlegend": true,
         "type": "scatter",
         "x": [
          0,
          1,
          2,
          3
         ],
         "xaxis": "x",
         "y": [
          0.4890480232732313,
          0.4808869834298552,
          0.48202384796352415,
          0.47693815809608686
         ],
         "yaxis": "y"
        },
        {
         "hovertemplate": "id=40 mozilla_200k, not_weighted, r=10, val<br>epoch=%{x}<br>loss=%{y}<extra></extra>",
         "legendgroup": "40 mozilla_200k, not_weighted, r=10, val",
         "line": {
          "color": "hsv(240, 0.5, 0.9)",
          "dash": "solid"
         },
         "marker": {
          "symbol": "circle"
         },
         "mode": "lines",
         "name": "40 mozilla_200k, not_weighted, r=10, val",
         "orientation": "v",
         "showlegend": true,
         "type": "scatter",
         "x": [
          1,
          2
         ],
         "xaxis": "x",
         "y": [
          0.5079177067793678,
          0.522332101748812
         ],
         "yaxis": "y"
        },
        {
         "hovertemplate": "id=41 mozilla_200k, not_weighted, r=10, train<br>epoch=%{x}<br>loss=%{y}<extra></extra>",
         "legendgroup": "41 mozilla_200k, not_weighted, r=10, train",
         "line": {
          "color": "#ab63fa",
          "dash": "solid"
         },
         "marker": {
          "symbol": "circle"
         },
         "mode": "lines",
         "name": "41 mozilla_200k, not_weighted, r=10, train",
         "orientation": "v",
         "showlegend": true,
         "type": "scatter",
         "x": [
          0,
          1,
          2,
          3
         ],
         "xaxis": "x",
         "y": [
          0.4658000292187081,
          0.4230847822559277,
          0.3979407659074244,
          0.3526810684258573
         ],
         "yaxis": "y"
        },
        {
         "hovertemplate": "id=41 mozilla_200k, not_weighted, r=64, val<br>epoch=%{x}<br>loss=%{y}<extra></extra>",
         "legendgroup": "41 mozilla_200k, not_weighted, r=64, val",
         "line": {
          "color": "#FFA15A",
          "dash": "solid"
         },
         "marker": {
          "symbol": "circle"
         },
         "mode": "lines",
         "name": "41 mozilla_200k, not_weighted, r=64, val",
         "orientation": "v",
         "showlegend": true,
         "type": "scatter",
         "x": [
          1,
          2,
          3,
          4
         ],
         "xaxis": "x",
         "y": [
          0.4977652004378999,
          0.5101700477161514,
          0.5077465557924226,
          0.5068604717963633
         ],
         "yaxis": "y"
        },
        {
         "hovertemplate": "id=42 mozilla_200k, not_weighted, r=10, train<br>epoch=%{x}<br>loss=%{y}<extra></extra>",
         "legendgroup": "42 mozilla_200k, not_weighted, r=10, train",
         "line": {
          "color": "#19d3f3",
          "dash": "solid"
         },
         "marker": {
          "symbol": "circle"
         },
         "mode": "lines",
         "name": "42 mozilla_200k, not_weighted, r=10, train",
         "orientation": "v",
         "showlegend": true,
         "type": "scatter",
         "x": [
          0,
          1,
          2,
          3
         ],
         "xaxis": "x",
         "y": [
          0.4873463563350707,
          0.48552743270453375,
          0.4847960055633387,
          0.48212657574672335
         ],
         "yaxis": "y"
        },
        {
         "hovertemplate": "id=42 mozilla_200k, not_weighted, r=10, val<br>epoch=%{x}<br>loss=%{y}<extra></extra>",
         "legendgroup": "42 mozilla_200k, not_weighted, r=10, val",
         "line": {
          "color": "#FF6692",
          "dash": "solid"
         },
         "marker": {
          "symbol": "circle"
         },
         "mode": "lines",
         "name": "42 mozilla_200k, not_weighted, r=10, val",
         "orientation": "v",
         "showlegend": true,
         "type": "scatter",
         "x": [
          1,
          2,
          3,
          4
         ],
         "xaxis": "x",
         "y": [
          0.39296685076128035,
          0.49649119464961583,
          0.5736220249198327,
          0.6485383576957796
         ],
         "yaxis": "y"
        },
        {
         "hovertemplate": "id=43 mozilla_200k, not_weighted, r=64, train<br>epoch=%{x}<br>loss=%{y}<extra></extra>",
         "legendgroup": "43 mozilla_200k, not_weighted, r=64, train",
         "line": {
          "color": "hsv(276, 1, 1)",
          "dash": "solid"
         },
         "marker": {
          "symbol": "circle"
         },
         "mode": "lines",
         "name": "43 mozilla_200k, not_weighted, r=64, train",
         "orientation": "v",
         "showlegend": true,
         "type": "scatter",
         "x": [
          0,
          1,
          2,
          3
         ],
         "xaxis": "x",
         "y": [
          0.4631787118890565,
          0.4039777087914942,
          0.36573777842564825,
          0.3096086185730858
         ],
         "yaxis": "y"
        },
        {
         "hovertemplate": "id=43 mozilla_200k, not_weighted, r=10, val<br>epoch=%{x}<br>loss=%{y}<extra></extra>",
         "legendgroup": "43 mozilla_200k, not_weighted, r=10, val",
         "line": {
          "color": "#B6E880",
          "dash": "solid"
         },
         "marker": {
          "symbol": "circle"
         },
         "mode": "lines",
         "name": "43 mozilla_200k, not_weighted, r=10, val",
         "orientation": "v",
         "showlegend": true,
         "type": "scatter",
         "x": [
          1,
          2,
          3,
          4
         ],
         "xaxis": "x",
         "y": [
          0.498596827185276,
          0.5248255941429848,
          0.5170908949035895,
          0.5060653415643656
         ],
         "yaxis": "y"
        },
        {
         "hovertemplate": "id=44 mozilla_200k, not_weighted, r=10, train<br>epoch=%{x}<br>loss=%{y}<extra></extra>",
         "legendgroup": "44 mozilla_200k, not_weighted, r=10, train",
         "line": {
          "color": "hsv(286, 1, 1)",
          "dash": "solid"
         },
         "marker": {
          "symbol": "circle"
         },
         "mode": "lines",
         "name": "44 mozilla_200k, not_weighted, r=10, train",
         "orientation": "v",
         "showlegend": true,
         "type": "scatter",
         "x": [
          0,
          1,
          2,
          3
         ],
         "xaxis": "x",
         "y": [
          0.5042760891680896,
          0.4839456743398973,
          0.4770557408851823,
          0.43121009831051255
         ],
         "yaxis": "y"
        },
        {
         "hovertemplate": "id=44 mozilla_200k, not_weighted, r=64, val<br>epoch=%{x}<br>loss=%{y}<extra></extra>",
         "legendgroup": "44 mozilla_200k, not_weighted, r=64, val",
         "line": {
          "color": "hsv(276, 0.5, 0.9)",
          "dash": "solid"
         },
         "marker": {
          "symbol": "circle"
         },
         "mode": "lines",
         "name": "44 mozilla_200k, not_weighted, r=64, val",
         "orientation": "v",
         "showlegend": true,
         "type": "scatter",
         "x": [
          1,
          2,
          3,
          4
         ],
         "xaxis": "x",
         "y": [
          0.415331691910994,
          0.45266806866341636,
          0.529020019676167,
          0.6101920740241793
         ],
         "yaxis": "y"
        },
        {
         "hovertemplate": "id=45 mozilla_200k, not_weighted, r=10, train<br>epoch=%{x}<br>loss=%{y}<extra></extra>",
         "legendgroup": "45 mozilla_200k, not_weighted, r=10, train",
         "line": {
          "color": "hsv(295, 1, 1)",
          "dash": "solid"
         },
         "marker": {
          "symbol": "circle"
         },
         "mode": "lines",
         "name": "45 mozilla_200k, not_weighted, r=10, train",
         "orientation": "v",
         "showlegend": true,
         "type": "scatter",
         "x": [
          0,
          1,
          2,
          3
         ],
         "xaxis": "x",
         "y": [
          0.46340294383886105,
          0.41794964949016966,
          0.39331819264468004,
          0.34915893372835083
         ],
         "yaxis": "y"
        },
        {
         "hovertemplate": "id=45 mozilla_200k, not_weighted, r=10, val<br>epoch=%{x}<br>loss=%{y}<extra></extra>",
         "legendgroup": "45 mozilla_200k, not_weighted, r=10, val",
         "line": {
          "color": "hsv(286, 0.5, 0.9)",
          "dash": "solid"
         },
         "marker": {
          "symbol": "circle"
         },
         "mode": "lines",
         "name": "45 mozilla_200k, not_weighted, r=10, val",
         "orientation": "v",
         "showlegend": true,
         "type": "scatter",
         "x": [
          1,
          2,
          3,
          4
         ],
         "xaxis": "x",
         "y": [
          0.5114108227497839,
          0.544022185410191,
          0.6072251388076674,
          0.7786175189633738
         ],
         "yaxis": "y"
        },
        {
         "hovertemplate": "id=46 mozilla_200k, not_weighted, r=10, train<br>epoch=%{x}<br>loss=%{y}<extra></extra>",
         "legendgroup": "46 mozilla_200k, not_weighted, r=10, train",
         "line": {
          "color": "#FF97FF",
          "dash": "solid"
         },
         "marker": {
          "symbol": "circle"
         },
         "mode": "lines",
         "name": "46 mozilla_200k, not_weighted, r=10, train",
         "orientation": "v",
         "showlegend": true,
         "type": "scatter",
         "x": [
          0,
          1,
          2,
          3
         ],
         "xaxis": "x",
         "y": [
          0.49478718280474365,
          0.49417844748554385,
          0.5015875822008374,
          0.5027909118207038
         ],
         "yaxis": "y"
        },
        {
         "hovertemplate": "id=46 mozilla_200k, not_weighted, r=10, val<br>epoch=%{x}<br>loss=%{y}<extra></extra>",
         "legendgroup": "46 mozilla_200k, not_weighted, r=10, val",
         "line": {
          "color": "hsv(295, 0.5, 0.9)",
          "dash": "solid"
         },
         "marker": {
          "symbol": "circle"
         },
         "mode": "lines",
         "name": "46 mozilla_200k, not_weighted, r=10, val",
         "orientation": "v",
         "showlegend": true,
         "type": "scatter",
         "x": [
          1,
          2,
          3,
          4
         ],
         "xaxis": "x",
         "y": [
          0.4014920726707415,
          0.4604935935949753,
          0.7270948821157805,
          0.6872136651035582
         ],
         "yaxis": "y"
        },
        {
         "hovertemplate": "id=47 mozilla_200k, not_weighted, r=10, train<br>epoch=%{x}<br>loss=%{y}<extra></extra>",
         "legendgroup": "47 mozilla_200k, not_weighted, r=10, train",
         "line": {
          "color": "hsv(304, 1, 1)",
          "dash": "solid"
         },
         "marker": {
          "symbol": "circle"
         },
         "mode": "lines",
         "name": "47 mozilla_200k, not_weighted, r=10, train",
         "orientation": "v",
         "showlegend": true,
         "type": "scatter",
         "x": [
          0,
          1,
          2,
          3
         ],
         "xaxis": "x",
         "y": [
          0.49188764405356833,
          0.49343438656190036,
          0.498251925146793,
          0.5004669137036399
         ],
         "yaxis": "y"
        },
        {
         "hovertemplate": "id=47 mozilla_200k, not_weighted, r=10, val<br>epoch=%{x}<br>loss=%{y}<extra></extra>",
         "legendgroup": "47 mozilla_200k, not_weighted, r=10, val",
         "line": {
          "color": "#FECB52",
          "dash": "solid"
         },
         "marker": {
          "symbol": "circle"
         },
         "mode": "lines",
         "name": "47 mozilla_200k, not_weighted, r=10, val",
         "orientation": "v",
         "showlegend": true,
         "type": "scatter",
         "x": [
          1,
          2,
          3,
          4
         ],
         "xaxis": "x",
         "y": [
          0.5142702855715114,
          0.5153051206846093,
          0.5355510470017977,
          0.5391956759319263
         ],
         "yaxis": "y"
        },
        {
         "hovertemplate": "id=48 mozilla_200k, not_weighted, r=5, train<br>epoch=%{x}<br>loss=%{y}<extra></extra>",
         "legendgroup": "48 mozilla_200k, not_weighted, r=5, train",
         "line": {
          "color": "#636efa",
          "dash": "solid"
         },
         "marker": {
          "symbol": "circle"
         },
         "mode": "lines",
         "name": "48 mozilla_200k, not_weighted, r=5, train",
         "orientation": "v",
         "showlegend": true,
         "type": "scatter",
         "x": [
          0,
          1,
          2,
          3
         ],
         "xaxis": "x",
         "y": [
          0.46865528289376374,
          0.4300195342306609,
          0.4133560353625191,
          0.380425713001123
         ],
         "yaxis": "y"
        },
        {
         "hovertemplate": "id=48 mozilla_200k, not_weighted, r=10, val<br>epoch=%{x}<br>loss=%{y}<extra></extra>",
         "legendgroup": "48 mozilla_200k, not_weighted, r=10, val",
         "line": {
          "color": "hsv(304, 0.5, 0.9)",
          "dash": "solid"
         },
         "marker": {
          "symbol": "circle"
         },
         "mode": "lines",
         "name": "48 mozilla_200k, not_weighted, r=10, val",
         "orientation": "v",
         "showlegend": true,
         "type": "scatter",
         "x": [
          1,
          2,
          3,
          4
         ],
         "xaxis": "x",
         "y": [
          0.5000221685951414,
          0.5346698255166834,
          0.5139902834512935,
          0.5354832077121912
         ],
         "yaxis": "y"
        },
        {
         "hovertemplate": "id=49 mozilla_200k, not_weighted, r=5, val<br>epoch=%{x}<br>loss=%{y}<extra></extra>",
         "legendgroup": "49 mozilla_200k, not_weighted, r=5, val",
         "line": {
          "color": "#EF553B",
          "dash": "solid"
         },
         "marker": {
          "symbol": "circle"
         },
         "mode": "lines",
         "name": "49 mozilla_200k, not_weighted, r=5, val",
         "orientation": "v",
         "showlegend": true,
         "type": "scatter",
         "x": [
          1,
          2,
          3,
          4
         ],
         "xaxis": "x",
         "y": [
          0.4039946787595047,
          0.4823078919397103,
          0.5593055520113751,
          0.6701072717186668
         ],
         "yaxis": "y"
        }
       ],
       "layout": {
        "height": 600,
        "legend": {
         "title": {
          "text": "id"
         },
         "tracegroupgap": 0
        },
        "template": {
         "data": {
          "bar": [
           {
            "error_x": {
             "color": "#2a3f5f"
            },
            "error_y": {
             "color": "#2a3f5f"
            },
            "marker": {
             "line": {
              "color": "#E5ECF6",
              "width": 0.5
             },
             "pattern": {
              "fillmode": "overlay",
              "size": 10,
              "solidity": 0.2
             }
            },
            "type": "bar"
           }
          ],
          "barpolar": [
           {
            "marker": {
             "line": {
              "color": "#E5ECF6",
              "width": 0.5
             },
             "pattern": {
              "fillmode": "overlay",
              "size": 10,
              "solidity": 0.2
             }
            },
            "type": "barpolar"
           }
          ],
          "carpet": [
           {
            "aaxis": {
             "endlinecolor": "#2a3f5f",
             "gridcolor": "white",
             "linecolor": "white",
             "minorgridcolor": "white",
             "startlinecolor": "#2a3f5f"
            },
            "baxis": {
             "endlinecolor": "#2a3f5f",
             "gridcolor": "white",
             "linecolor": "white",
             "minorgridcolor": "white",
             "startlinecolor": "#2a3f5f"
            },
            "type": "carpet"
           }
          ],
          "choropleth": [
           {
            "colorbar": {
             "outlinewidth": 0,
             "ticks": ""
            },
            "type": "choropleth"
           }
          ],
          "contour": [
           {
            "colorbar": {
             "outlinewidth": 0,
             "ticks": ""
            },
            "colorscale": [
             [
              0,
              "#0d0887"
             ],
             [
              0.1111111111111111,
              "#46039f"
             ],
             [
              0.2222222222222222,
              "#7201a8"
             ],
             [
              0.3333333333333333,
              "#9c179e"
             ],
             [
              0.4444444444444444,
              "#bd3786"
             ],
             [
              0.5555555555555556,
              "#d8576b"
             ],
             [
              0.6666666666666666,
              "#ed7953"
             ],
             [
              0.7777777777777778,
              "#fb9f3a"
             ],
             [
              0.8888888888888888,
              "#fdca26"
             ],
             [
              1,
              "#f0f921"
             ]
            ],
            "type": "contour"
           }
          ],
          "contourcarpet": [
           {
            "colorbar": {
             "outlinewidth": 0,
             "ticks": ""
            },
            "type": "contourcarpet"
           }
          ],
          "heatmap": [
           {
            "colorbar": {
             "outlinewidth": 0,
             "ticks": ""
            },
            "colorscale": [
             [
              0,
              "#0d0887"
             ],
             [
              0.1111111111111111,
              "#46039f"
             ],
             [
              0.2222222222222222,
              "#7201a8"
             ],
             [
              0.3333333333333333,
              "#9c179e"
             ],
             [
              0.4444444444444444,
              "#bd3786"
             ],
             [
              0.5555555555555556,
              "#d8576b"
             ],
             [
              0.6666666666666666,
              "#ed7953"
             ],
             [
              0.7777777777777778,
              "#fb9f3a"
             ],
             [
              0.8888888888888888,
              "#fdca26"
             ],
             [
              1,
              "#f0f921"
             ]
            ],
            "type": "heatmap"
           }
          ],
          "heatmapgl": [
           {
            "colorbar": {
             "outlinewidth": 0,
             "ticks": ""
            },
            "colorscale": [
             [
              0,
              "#0d0887"
             ],
             [
              0.1111111111111111,
              "#46039f"
             ],
             [
              0.2222222222222222,
              "#7201a8"
             ],
             [
              0.3333333333333333,
              "#9c179e"
             ],
             [
              0.4444444444444444,
              "#bd3786"
             ],
             [
              0.5555555555555556,
              "#d8576b"
             ],
             [
              0.6666666666666666,
              "#ed7953"
             ],
             [
              0.7777777777777778,
              "#fb9f3a"
             ],
             [
              0.8888888888888888,
              "#fdca26"
             ],
             [
              1,
              "#f0f921"
             ]
            ],
            "type": "heatmapgl"
           }
          ],
          "histogram": [
           {
            "marker": {
             "pattern": {
              "fillmode": "overlay",
              "size": 10,
              "solidity": 0.2
             }
            },
            "type": "histogram"
           }
          ],
          "histogram2d": [
           {
            "colorbar": {
             "outlinewidth": 0,
             "ticks": ""
            },
            "colorscale": [
             [
              0,
              "#0d0887"
             ],
             [
              0.1111111111111111,
              "#46039f"
             ],
             [
              0.2222222222222222,
              "#7201a8"
             ],
             [
              0.3333333333333333,
              "#9c179e"
             ],
             [
              0.4444444444444444,
              "#bd3786"
             ],
             [
              0.5555555555555556,
              "#d8576b"
             ],
             [
              0.6666666666666666,
              "#ed7953"
             ],
             [
              0.7777777777777778,
              "#fb9f3a"
             ],
             [
              0.8888888888888888,
              "#fdca26"
             ],
             [
              1,
              "#f0f921"
             ]
            ],
            "type": "histogram2d"
           }
          ],
          "histogram2dcontour": [
           {
            "colorbar": {
             "outlinewidth": 0,
             "ticks": ""
            },
            "colorscale": [
             [
              0,
              "#0d0887"
             ],
             [
              0.1111111111111111,
              "#46039f"
             ],
             [
              0.2222222222222222,
              "#7201a8"
             ],
             [
              0.3333333333333333,
              "#9c179e"
             ],
             [
              0.4444444444444444,
              "#bd3786"
             ],
             [
              0.5555555555555556,
              "#d8576b"
             ],
             [
              0.6666666666666666,
              "#ed7953"
             ],
             [
              0.7777777777777778,
              "#fb9f3a"
             ],
             [
              0.8888888888888888,
              "#fdca26"
             ],
             [
              1,
              "#f0f921"
             ]
            ],
            "type": "histogram2dcontour"
           }
          ],
          "mesh3d": [
           {
            "colorbar": {
             "outlinewidth": 0,
             "ticks": ""
            },
            "type": "mesh3d"
           }
          ],
          "parcoords": [
           {
            "line": {
             "colorbar": {
              "outlinewidth": 0,
              "ticks": ""
             }
            },
            "type": "parcoords"
           }
          ],
          "pie": [
           {
            "automargin": true,
            "type": "pie"
           }
          ],
          "scatter": [
           {
            "fillpattern": {
             "fillmode": "overlay",
             "size": 10,
             "solidity": 0.2
            },
            "type": "scatter"
           }
          ],
          "scatter3d": [
           {
            "line": {
             "colorbar": {
              "outlinewidth": 0,
              "ticks": ""
             }
            },
            "marker": {
             "colorbar": {
              "outlinewidth": 0,
              "ticks": ""
             }
            },
            "type": "scatter3d"
           }
          ],
          "scattercarpet": [
           {
            "marker": {
             "colorbar": {
              "outlinewidth": 0,
              "ticks": ""
             }
            },
            "type": "scattercarpet"
           }
          ],
          "scattergeo": [
           {
            "marker": {
             "colorbar": {
              "outlinewidth": 0,
              "ticks": ""
             }
            },
            "type": "scattergeo"
           }
          ],
          "scattergl": [
           {
            "marker": {
             "colorbar": {
              "outlinewidth": 0,
              "ticks": ""
             }
            },
            "type": "scattergl"
           }
          ],
          "scattermapbox": [
           {
            "marker": {
             "colorbar": {
              "outlinewidth": 0,
              "ticks": ""
             }
            },
            "type": "scattermapbox"
           }
          ],
          "scatterpolar": [
           {
            "marker": {
             "colorbar": {
              "outlinewidth": 0,
              "ticks": ""
             }
            },
            "type": "scatterpolar"
           }
          ],
          "scatterpolargl": [
           {
            "marker": {
             "colorbar": {
              "outlinewidth": 0,
              "ticks": ""
             }
            },
            "type": "scatterpolargl"
           }
          ],
          "scatterternary": [
           {
            "marker": {
             "colorbar": {
              "outlinewidth": 0,
              "ticks": ""
             }
            },
            "type": "scatterternary"
           }
          ],
          "surface": [
           {
            "colorbar": {
             "outlinewidth": 0,
             "ticks": ""
            },
            "colorscale": [
             [
              0,
              "#0d0887"
             ],
             [
              0.1111111111111111,
              "#46039f"
             ],
             [
              0.2222222222222222,
              "#7201a8"
             ],
             [
              0.3333333333333333,
              "#9c179e"
             ],
             [
              0.4444444444444444,
              "#bd3786"
             ],
             [
              0.5555555555555556,
              "#d8576b"
             ],
             [
              0.6666666666666666,
              "#ed7953"
             ],
             [
              0.7777777777777778,
              "#fb9f3a"
             ],
             [
              0.8888888888888888,
              "#fdca26"
             ],
             [
              1,
              "#f0f921"
             ]
            ],
            "type": "surface"
           }
          ],
          "table": [
           {
            "cells": {
             "fill": {
              "color": "#EBF0F8"
             },
             "line": {
              "color": "white"
             }
            },
            "header": {
             "fill": {
              "color": "#C8D4E3"
             },
             "line": {
              "color": "white"
             }
            },
            "type": "table"
           }
          ]
         },
         "layout": {
          "annotationdefaults": {
           "arrowcolor": "#2a3f5f",
           "arrowhead": 0,
           "arrowwidth": 1
          },
          "autotypenumbers": "strict",
          "coloraxis": {
           "colorbar": {
            "outlinewidth": 0,
            "ticks": ""
           }
          },
          "colorscale": {
           "diverging": [
            [
             0,
             "#8e0152"
            ],
            [
             0.1,
             "#c51b7d"
            ],
            [
             0.2,
             "#de77ae"
            ],
            [
             0.3,
             "#f1b6da"
            ],
            [
             0.4,
             "#fde0ef"
            ],
            [
             0.5,
             "#f7f7f7"
            ],
            [
             0.6,
             "#e6f5d0"
            ],
            [
             0.7,
             "#b8e186"
            ],
            [
             0.8,
             "#7fbc41"
            ],
            [
             0.9,
             "#4d9221"
            ],
            [
             1,
             "#276419"
            ]
           ],
           "sequential": [
            [
             0,
             "#0d0887"
            ],
            [
             0.1111111111111111,
             "#46039f"
            ],
            [
             0.2222222222222222,
             "#7201a8"
            ],
            [
             0.3333333333333333,
             "#9c179e"
            ],
            [
             0.4444444444444444,
             "#bd3786"
            ],
            [
             0.5555555555555556,
             "#d8576b"
            ],
            [
             0.6666666666666666,
             "#ed7953"
            ],
            [
             0.7777777777777778,
             "#fb9f3a"
            ],
            [
             0.8888888888888888,
             "#fdca26"
            ],
            [
             1,
             "#f0f921"
            ]
           ],
           "sequentialminus": [
            [
             0,
             "#0d0887"
            ],
            [
             0.1111111111111111,
             "#46039f"
            ],
            [
             0.2222222222222222,
             "#7201a8"
            ],
            [
             0.3333333333333333,
             "#9c179e"
            ],
            [
             0.4444444444444444,
             "#bd3786"
            ],
            [
             0.5555555555555556,
             "#d8576b"
            ],
            [
             0.6666666666666666,
             "#ed7953"
            ],
            [
             0.7777777777777778,
             "#fb9f3a"
            ],
            [
             0.8888888888888888,
             "#fdca26"
            ],
            [
             1,
             "#f0f921"
            ]
           ]
          },
          "colorway": [
           "#636efa",
           "#EF553B",
           "#00cc96",
           "#ab63fa",
           "#FFA15A",
           "#19d3f3",
           "#FF6692",
           "#B6E880",
           "#FF97FF",
           "#FECB52"
          ],
          "font": {
           "color": "#2a3f5f"
          },
          "geo": {
           "bgcolor": "white",
           "lakecolor": "white",
           "landcolor": "#E5ECF6",
           "showlakes": true,
           "showland": true,
           "subunitcolor": "white"
          },
          "hoverlabel": {
           "align": "left"
          },
          "hovermode": "closest",
          "mapbox": {
           "style": "light"
          },
          "paper_bgcolor": "white",
          "plot_bgcolor": "#E5ECF6",
          "polar": {
           "angularaxis": {
            "gridcolor": "white",
            "linecolor": "white",
            "ticks": ""
           },
           "bgcolor": "#E5ECF6",
           "radialaxis": {
            "gridcolor": "white",
            "linecolor": "white",
            "ticks": ""
           }
          },
          "scene": {
           "xaxis": {
            "backgroundcolor": "#E5ECF6",
            "gridcolor": "white",
            "gridwidth": 2,
            "linecolor": "white",
            "showbackground": true,
            "ticks": "",
            "zerolinecolor": "white"
           },
           "yaxis": {
            "backgroundcolor": "#E5ECF6",
            "gridcolor": "white",
            "gridwidth": 2,
            "linecolor": "white",
            "showbackground": true,
            "ticks": "",
            "zerolinecolor": "white"
           },
           "zaxis": {
            "backgroundcolor": "#E5ECF6",
            "gridcolor": "white",
            "gridwidth": 2,
            "linecolor": "white",
            "showbackground": true,
            "ticks": "",
            "zerolinecolor": "white"
           }
          },
          "shapedefaults": {
           "line": {
            "color": "#2a3f5f"
           }
          },
          "ternary": {
           "aaxis": {
            "gridcolor": "white",
            "linecolor": "white",
            "ticks": ""
           },
           "baxis": {
            "gridcolor": "white",
            "linecolor": "white",
            "ticks": ""
           },
           "bgcolor": "#E5ECF6",
           "caxis": {
            "gridcolor": "white",
            "linecolor": "white",
            "ticks": ""
           }
          },
          "title": {
           "x": 0.05
          },
          "xaxis": {
           "automargin": true,
           "gridcolor": "white",
           "linecolor": "white",
           "ticks": "",
           "title": {
            "standoff": 15
           },
           "zerolinecolor": "white",
           "zerolinewidth": 2
          },
          "yaxis": {
           "automargin": true,
           "gridcolor": "white",
           "linecolor": "white",
           "ticks": "",
           "title": {
            "standoff": 15
           },
           "zerolinecolor": "white",
           "zerolinewidth": 2
          }
         }
        },
        "title": {
         "text": "bs=4 ; lora_alpha=10 ; lora_dropout=0.2 ; model_name=Llama-2-7b-chat-hf ;<br>learning_rate=0.0001"
        },
        "width": 800,
        "xaxis": {
         "anchor": "y",
         "domain": [
          0,
          1
         ],
         "title": {
          "text": "epoch"
         }
        },
        "yaxis": {
         "anchor": "x",
         "domain": [
          0,
          1
         ],
         "title": {
          "text": "loss"
         }
        }
       }
      }
     },
     "metadata": {},
     "output_type": "display_data"
    }
   ],
   "source": [
    "img = px.line(df,x=\"epoch\",y=\"loss\",color=\"id\",color_discrete_map=color_map, width=width, height=height, title=title)\n",
    "img.show()\n",
    "img_to_clipboard(img)"
   ]
  },
  {
   "cell_type": "code",
   "execution_count": null,
   "metadata": {},
   "outputs": [],
   "source": []
  }
 ],
 "metadata": {
  "kernelspec": {
   "display_name": "severityPrediction",
   "language": "python",
   "name": "python3"
  },
  "language_info": {
   "codemirror_mode": {
    "name": "ipython",
    "version": 3
   },
   "file_extension": ".py",
   "mimetype": "text/x-python",
   "name": "python",
   "nbconvert_exporter": "python",
   "pygments_lexer": "ipython3",
   "version": "3.9.18"
  }
 },
 "nbformat": 4,
 "nbformat_minor": 2
}
