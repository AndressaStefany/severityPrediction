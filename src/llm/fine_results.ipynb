{
 "cells": [
  {
   "cell_type": "code",
   "execution_count": 1,
   "metadata": {},
   "outputs": [
    {
     "name": "stderr",
     "output_type": "stream",
     "text": [
      "c:\\Users\\robin\\miniconda3\\envs\\severityPrediction\\lib\\site-packages\\bitsandbytes\\cextension.py:34: UserWarning: The installed version of bitsandbytes was compiled without GPU support. 8-bit optimizers, 8-bit multiplication, and GPU quantization are unavailable.\n",
      "  warn(\"The installed version of bitsandbytes was compiled without GPU support. \"\n"
     ]
    },
    {
     "name": "stdout",
     "output_type": "stream",
     "text": [
      "'NoneType' object has no attribute 'cadam32bit_grad_fp32'\n",
      "Import of import evaluate failed\n",
      "Import of from pytorchtools import EarlyStopping failed\n"
     ]
    }
   ],
   "source": [
    "import plotly.express as px\n",
    "import pandas as pd\n",
    "import json\n",
    "import os\n",
    "os.environ['USER'] = \"rmoine\"\n",
    "from pathlib import Path\n",
    "import numpy as np\n",
    "from typing import *\n",
    "from llama.main import compute_metrics_from_files, DatasetName, compute_metrics_from_list\n",
    "from PIL import Image\n",
    "from io import BytesIO\n",
    "import base64\n",
    "from plotly.graph_objects import Figure\n",
    "import win32clipboard\n",
    "import textwrap\n",
    "import colorsys\n",
    "def img_to_clipboard(fig: Figure):\n",
    "    img_bytes = fig.to_image(format=\"png\")\n",
    "    image = Image.open(BytesIO(img_bytes))\n",
    "    \n",
    "    output = BytesIO()\n",
    "    image.convert('RGB').save(output, 'BMP')\n",
    "    data = output.getvalue()[14:]\n",
    "    output.close()\n",
    "    win32clipboard.OpenClipboard()\n",
    "    win32clipboard.EmptyClipboard()\n",
    "    win32clipboard.SetClipboardData(win32clipboard.CF_DIB, data)\n",
    "    win32clipboard.CloseClipboard()"
   ]
  },
  {
   "cell_type": "code",
   "execution_count": 2,
   "metadata": {},
   "outputs": [
    {
     "name": "stdout",
     "output_type": "stream",
     "text": [
      "..\\..\\data\\finetuning\\qlora_finetune_19346995\n",
      "..\\..\\data\\finetuning\\qlora_finetune_19346996\n",
      "..\\..\\data\\finetuning\\qlora_finetune_19347000\n",
      "..\\..\\data\\finetuning\\qlora_finetune_19347001\n",
      "..\\..\\data\\finetuning\\qlora_finetune_19348539\n",
      "..\\..\\data\\finetuning\\qlora_finetune_19348541\n",
      "..\\..\\data\\finetuning\\qlora_finetune_19348542\n",
      "..\\..\\data\\finetuning\\qlora_finetune_19348543\n",
      "..\\..\\data\\finetuning\\qlora_finetune_19348552\n",
      "..\\..\\data\\finetuning\\qlora_finetune_19348553\n",
      "..\\..\\data\\finetuning\\qlora_finetune_eclipse_72k\n",
      "..\\..\\data\\finetuning\\qlora_finetune_mozilla_200k\n",
      "..\\..\\data\\finetuning\\qlora_finetune_weighted_eclipse_72k\n",
      "..\\..\\data\\finetuning\\qlora_finetune_weighted_mozilla_200k\n"
     ]
    },
    {
     "data": {
      "text/html": [
       "<div>\n",
       "<style scoped>\n",
       "    .dataframe tbody tr th:only-of-type {\n",
       "        vertical-align: middle;\n",
       "    }\n",
       "\n",
       "    .dataframe tbody tr th {\n",
       "        vertical-align: top;\n",
       "    }\n",
       "\n",
       "    .dataframe thead th {\n",
       "        text-align: right;\n",
       "    }\n",
       "</style>\n",
       "<table border=\"1\" class=\"dataframe\">\n",
       "  <thead>\n",
       "    <tr style=\"text-align: right;\">\n",
       "      <th></th>\n",
       "      <th>epoch</th>\n",
       "      <th>dataset_type</th>\n",
       "      <th>confusion_matrix</th>\n",
       "      <th>accuracy</th>\n",
       "      <th>path_data_folder</th>\n",
       "      <th>loss</th>\n",
       "      <th>i</th>\n",
       "      <th>dataset_choice</th>\n",
       "      <th>folder_out</th>\n",
       "      <th>folder_data</th>\n",
       "      <th>...</th>\n",
       "      <th>num_train_epochs</th>\n",
       "      <th>tr_bs</th>\n",
       "      <th>gradient_accumulation_steps</th>\n",
       "      <th>learning_rate</th>\n",
       "      <th>limit_tokens</th>\n",
       "      <th>mapping_dict</th>\n",
       "      <th>lim_size</th>\n",
       "      <th>id</th>\n",
       "      <th>use_cpu</th>\n",
       "      <th>tr_weighted_sampling</th>\n",
       "    </tr>\n",
       "  </thead>\n",
       "  <tbody>\n",
       "    <tr>\n",
       "      <th>0</th>\n",
       "      <td>0</td>\n",
       "      <td>train</td>\n",
       "      <td>[[9268, 3396], [3540, 9124]]</td>\n",
       "      <td>0.726153</td>\n",
       "      <td>qlora_finetune_19348539</td>\n",
       "      <td>0.609922</td>\n",
       "      <td>0</td>\n",
       "      <td>eclipse_72k</td>\n",
       "      <td>/project/6023391/rmoine/data</td>\n",
       "      <td>/project/6023391/rmoine/data</td>\n",
       "      <td>...</td>\n",
       "      <td>500</td>\n",
       "      <td>4</td>\n",
       "      <td>1</td>\n",
       "      <td>0.0001</td>\n",
       "      <td>500</td>\n",
       "      <td>None</td>\n",
       "      <td>-1</td>\n",
       "      <td>_19348539</td>\n",
       "      <td>False</td>\n",
       "      <td>True</td>\n",
       "    </tr>\n",
       "    <tr>\n",
       "      <th>1</th>\n",
       "      <td>1</td>\n",
       "      <td>train</td>\n",
       "      <td>[[9971, 2693], [2713, 9951]]</td>\n",
       "      <td>0.786560</td>\n",
       "      <td>qlora_finetune_19348539</td>\n",
       "      <td>0.544867</td>\n",
       "      <td>0</td>\n",
       "      <td>eclipse_72k</td>\n",
       "      <td>/project/6023391/rmoine/data</td>\n",
       "      <td>/project/6023391/rmoine/data</td>\n",
       "      <td>...</td>\n",
       "      <td>500</td>\n",
       "      <td>4</td>\n",
       "      <td>1</td>\n",
       "      <td>0.0001</td>\n",
       "      <td>500</td>\n",
       "      <td>None</td>\n",
       "      <td>-1</td>\n",
       "      <td>_19348539</td>\n",
       "      <td>False</td>\n",
       "      <td>True</td>\n",
       "    </tr>\n",
       "    <tr>\n",
       "      <th>2</th>\n",
       "      <td>2</td>\n",
       "      <td>train</td>\n",
       "      <td>[[10318, 2346], [2324, 10340]]</td>\n",
       "      <td>0.815619</td>\n",
       "      <td>qlora_finetune_19348539</td>\n",
       "      <td>0.514827</td>\n",
       "      <td>0</td>\n",
       "      <td>eclipse_72k</td>\n",
       "      <td>/project/6023391/rmoine/data</td>\n",
       "      <td>/project/6023391/rmoine/data</td>\n",
       "      <td>...</td>\n",
       "      <td>500</td>\n",
       "      <td>4</td>\n",
       "      <td>1</td>\n",
       "      <td>0.0001</td>\n",
       "      <td>500</td>\n",
       "      <td>None</td>\n",
       "      <td>-1</td>\n",
       "      <td>_19348539</td>\n",
       "      <td>False</td>\n",
       "      <td>True</td>\n",
       "    </tr>\n",
       "    <tr>\n",
       "      <th>3</th>\n",
       "      <td>3</td>\n",
       "      <td>train</td>\n",
       "      <td>[[10775, 1889], [2051, 10613]]</td>\n",
       "      <td>0.844441</td>\n",
       "      <td>qlora_finetune_19348539</td>\n",
       "      <td>0.480139</td>\n",
       "      <td>0</td>\n",
       "      <td>eclipse_72k</td>\n",
       "      <td>/project/6023391/rmoine/data</td>\n",
       "      <td>/project/6023391/rmoine/data</td>\n",
       "      <td>...</td>\n",
       "      <td>500</td>\n",
       "      <td>4</td>\n",
       "      <td>1</td>\n",
       "      <td>0.0001</td>\n",
       "      <td>500</td>\n",
       "      <td>None</td>\n",
       "      <td>-1</td>\n",
       "      <td>_19348539</td>\n",
       "      <td>False</td>\n",
       "      <td>True</td>\n",
       "    </tr>\n",
       "    <tr>\n",
       "      <th>4</th>\n",
       "      <td>4</td>\n",
       "      <td>train</td>\n",
       "      <td>[[11273, 1391], [1727, 10937]]</td>\n",
       "      <td>0.876895</td>\n",
       "      <td>qlora_finetune_19348539</td>\n",
       "      <td>0.429081</td>\n",
       "      <td>0</td>\n",
       "      <td>eclipse_72k</td>\n",
       "      <td>/project/6023391/rmoine/data</td>\n",
       "      <td>/project/6023391/rmoine/data</td>\n",
       "      <td>...</td>\n",
       "      <td>500</td>\n",
       "      <td>4</td>\n",
       "      <td>1</td>\n",
       "      <td>0.0001</td>\n",
       "      <td>500</td>\n",
       "      <td>None</td>\n",
       "      <td>-1</td>\n",
       "      <td>_19348539</td>\n",
       "      <td>False</td>\n",
       "      <td>True</td>\n",
       "    </tr>\n",
       "  </tbody>\n",
       "</table>\n",
       "<p>5 rows × 26 columns</p>\n",
       "</div>"
      ],
      "text/plain": [
       "   epoch dataset_type                confusion_matrix  accuracy  \\\n",
       "0      0        train    [[9268, 3396], [3540, 9124]]  0.726153   \n",
       "1      1        train    [[9971, 2693], [2713, 9951]]  0.786560   \n",
       "2      2        train  [[10318, 2346], [2324, 10340]]  0.815619   \n",
       "3      3        train  [[10775, 1889], [2051, 10613]]  0.844441   \n",
       "4      4        train  [[11273, 1391], [1727, 10937]]  0.876895   \n",
       "\n",
       "          path_data_folder      loss  i dataset_choice  \\\n",
       "0  qlora_finetune_19348539  0.609922  0    eclipse_72k   \n",
       "1  qlora_finetune_19348539  0.544867  0    eclipse_72k   \n",
       "2  qlora_finetune_19348539  0.514827  0    eclipse_72k   \n",
       "3  qlora_finetune_19348539  0.480139  0    eclipse_72k   \n",
       "4  qlora_finetune_19348539  0.429081  0    eclipse_72k   \n",
       "\n",
       "                     folder_out                   folder_data  ...  \\\n",
       "0  /project/6023391/rmoine/data  /project/6023391/rmoine/data  ...   \n",
       "1  /project/6023391/rmoine/data  /project/6023391/rmoine/data  ...   \n",
       "2  /project/6023391/rmoine/data  /project/6023391/rmoine/data  ...   \n",
       "3  /project/6023391/rmoine/data  /project/6023391/rmoine/data  ...   \n",
       "4  /project/6023391/rmoine/data  /project/6023391/rmoine/data  ...   \n",
       "\n",
       "   num_train_epochs  tr_bs  gradient_accumulation_steps learning_rate  \\\n",
       "0               500      4                            1        0.0001   \n",
       "1               500      4                            1        0.0001   \n",
       "2               500      4                            1        0.0001   \n",
       "3               500      4                            1        0.0001   \n",
       "4               500      4                            1        0.0001   \n",
       "\n",
       "  limit_tokens mapping_dict  lim_size         id  use_cpu  \\\n",
       "0          500         None        -1  _19348539    False   \n",
       "1          500         None        -1  _19348539    False   \n",
       "2          500         None        -1  _19348539    False   \n",
       "3          500         None        -1  _19348539    False   \n",
       "4          500         None        -1  _19348539    False   \n",
       "\n",
       "   tr_weighted_sampling  \n",
       "0                  True  \n",
       "1                  True  \n",
       "2                  True  \n",
       "3                  True  \n",
       "4                  True  \n",
       "\n",
       "[5 rows x 26 columns]"
      ]
     },
     "metadata": {},
     "output_type": "display_data"
    }
   ],
   "source": [
    "l = []\n",
    "l1 = []\n",
    "root = Path(f\"../../data/finetuning/\")\n",
    "i_tot = 0\n",
    "for path_data in root.rglob(\"qlora_finetune_*\"):\n",
    "    print(path_data)\n",
    "    with open(path_data / \"parameters.json\") as fp:\n",
    "        parameters = json.load(fp)\n",
    "    for dataset_type in [\"train\",\"val\"]:\n",
    "        files_data = list(path_data.rglob(f\"data_epoch_*_{dataset_type}*.json\"))\n",
    "        if len(files_data) == 0:\n",
    "            continue\n",
    "        i_tot += 1\n",
    "        i = i_tot//2\n",
    "        for f in files_data:\n",
    "            with open(f) as fp:\n",
    "                d = json.load(fp)\n",
    "            confusion_matrix, f1, _ = compute_metrics_from_list(d, pred_field=\"prediction\")\n",
    "            accuracy = np.sum(np.diag(confusion_matrix)) / np.sum(confusion_matrix)\n",
    "            epoch = int(f.stem.split(\"_\")[-2].split(\"-\")[0])\n",
    "            loss = sum(e['loss'] for e in d)/len(d)\n",
    "            for e in d:\n",
    "                l1.append({\"epoch\":epoch,\"loss\":e['loss'],\"dataset_type\":dataset_type, \"i\":i, \"path_data_folder\": path_data.stem, **parameters})\n",
    "            l.append({\"epoch\":epoch,\"dataset_type\":dataset_type,\"confusion_matrix\":confusion_matrix,\"accuracy\":accuracy, \"path_data_folder\": path_data.stem, \"loss\": loss, \"i\":i, **parameters})\n",
    "df = pd.DataFrame(l)\n",
    "display(df.head())\n"
   ]
  },
  {
   "cell_type": "code",
   "execution_count": 3,
   "metadata": {},
   "outputs": [
    {
     "name": "stdout",
     "output_type": "stream",
     "text": [
      "Index(['epoch', 'dataset_type', 'confusion_matrix', 'accuracy',\n",
      "       'path_data_folder', 'loss', 'i', 'dataset_choice', 'folder_out',\n",
      "       'folder_data', 'lora_alpha', 'lora_dropout', 'lora_r', 'model_name',\n",
      "       'token', 'field_input', 'num_train_epochs', 'tr_bs',\n",
      "       'gradient_accumulation_steps', 'learning_rate', 'limit_tokens',\n",
      "       'mapping_dict', 'lim_size', 'id', 'use_cpu', 'tr_weighted_sampling'],\n",
      "      dtype='object')\n"
     ]
    },
    {
     "data": {
      "text/html": [
       "<div>\n",
       "<style scoped>\n",
       "    .dataframe tbody tr th:only-of-type {\n",
       "        vertical-align: middle;\n",
       "    }\n",
       "\n",
       "    .dataframe tbody tr th {\n",
       "        vertical-align: top;\n",
       "    }\n",
       "\n",
       "    .dataframe thead th {\n",
       "        text-align: right;\n",
       "    }\n",
       "</style>\n",
       "<table border=\"1\" class=\"dataframe\">\n",
       "  <thead>\n",
       "    <tr style=\"text-align: right;\">\n",
       "      <th></th>\n",
       "      <th>epoch</th>\n",
       "      <th>dataset_type</th>\n",
       "      <th>confusion_matrix</th>\n",
       "      <th>accuracy</th>\n",
       "      <th>path_data_folder</th>\n",
       "      <th>loss</th>\n",
       "      <th>i</th>\n",
       "      <th>dataset_choice</th>\n",
       "      <th>folder_out</th>\n",
       "      <th>folder_data</th>\n",
       "      <th>...</th>\n",
       "      <th>learning_rate</th>\n",
       "      <th>limit_tokens</th>\n",
       "      <th>mapping_dict</th>\n",
       "      <th>lim_size</th>\n",
       "      <th>id</th>\n",
       "      <th>use_cpu</th>\n",
       "      <th>tr_weighted_sampling</th>\n",
       "      <th>weighted</th>\n",
       "      <th>accuracy_prct</th>\n",
       "      <th>name</th>\n",
       "    </tr>\n",
       "  </thead>\n",
       "  <tbody>\n",
       "    <tr>\n",
       "      <th>0</th>\n",
       "      <td>0</td>\n",
       "      <td>train</td>\n",
       "      <td>[[9268, 3396], [3540, 9124]]</td>\n",
       "      <td>0.726153</td>\n",
       "      <td>qlora_finetune_19348539</td>\n",
       "      <td>0.609922</td>\n",
       "      <td>0</td>\n",
       "      <td>eclipse_72k</td>\n",
       "      <td>/project/6023391/rmoine/data</td>\n",
       "      <td>/project/6023391/rmoine/data</td>\n",
       "      <td>...</td>\n",
       "      <td>0.0001</td>\n",
       "      <td>500</td>\n",
       "      <td>None</td>\n",
       "      <td>-1</td>\n",
       "      <td>0 eclipse_72k, weighted, r=10, train</td>\n",
       "      <td>False</td>\n",
       "      <td>True</td>\n",
       "      <td>weighted</td>\n",
       "      <td>72.615287</td>\n",
       "      <td>0 eclipse_72k, weighted, r=10</td>\n",
       "    </tr>\n",
       "    <tr>\n",
       "      <th>1</th>\n",
       "      <td>1</td>\n",
       "      <td>train</td>\n",
       "      <td>[[9971, 2693], [2713, 9951]]</td>\n",
       "      <td>0.786560</td>\n",
       "      <td>qlora_finetune_19348539</td>\n",
       "      <td>0.544867</td>\n",
       "      <td>0</td>\n",
       "      <td>eclipse_72k</td>\n",
       "      <td>/project/6023391/rmoine/data</td>\n",
       "      <td>/project/6023391/rmoine/data</td>\n",
       "      <td>...</td>\n",
       "      <td>0.0001</td>\n",
       "      <td>500</td>\n",
       "      <td>None</td>\n",
       "      <td>-1</td>\n",
       "      <td>0 eclipse_72k, weighted, r=10, train</td>\n",
       "      <td>False</td>\n",
       "      <td>True</td>\n",
       "      <td>weighted</td>\n",
       "      <td>78.656033</td>\n",
       "      <td>0 eclipse_72k, weighted, r=10</td>\n",
       "    </tr>\n",
       "    <tr>\n",
       "      <th>2</th>\n",
       "      <td>2</td>\n",
       "      <td>train</td>\n",
       "      <td>[[10318, 2346], [2324, 10340]]</td>\n",
       "      <td>0.815619</td>\n",
       "      <td>qlora_finetune_19348539</td>\n",
       "      <td>0.514827</td>\n",
       "      <td>0</td>\n",
       "      <td>eclipse_72k</td>\n",
       "      <td>/project/6023391/rmoine/data</td>\n",
       "      <td>/project/6023391/rmoine/data</td>\n",
       "      <td>...</td>\n",
       "      <td>0.0001</td>\n",
       "      <td>500</td>\n",
       "      <td>None</td>\n",
       "      <td>-1</td>\n",
       "      <td>0 eclipse_72k, weighted, r=10, train</td>\n",
       "      <td>False</td>\n",
       "      <td>True</td>\n",
       "      <td>weighted</td>\n",
       "      <td>81.561908</td>\n",
       "      <td>0 eclipse_72k, weighted, r=10</td>\n",
       "    </tr>\n",
       "    <tr>\n",
       "      <th>3</th>\n",
       "      <td>3</td>\n",
       "      <td>train</td>\n",
       "      <td>[[10775, 1889], [2051, 10613]]</td>\n",
       "      <td>0.844441</td>\n",
       "      <td>qlora_finetune_19348539</td>\n",
       "      <td>0.480139</td>\n",
       "      <td>0</td>\n",
       "      <td>eclipse_72k</td>\n",
       "      <td>/project/6023391/rmoine/data</td>\n",
       "      <td>/project/6023391/rmoine/data</td>\n",
       "      <td>...</td>\n",
       "      <td>0.0001</td>\n",
       "      <td>500</td>\n",
       "      <td>None</td>\n",
       "      <td>-1</td>\n",
       "      <td>0 eclipse_72k, weighted, r=10, train</td>\n",
       "      <td>False</td>\n",
       "      <td>True</td>\n",
       "      <td>weighted</td>\n",
       "      <td>84.444093</td>\n",
       "      <td>0 eclipse_72k, weighted, r=10</td>\n",
       "    </tr>\n",
       "    <tr>\n",
       "      <th>4</th>\n",
       "      <td>4</td>\n",
       "      <td>train</td>\n",
       "      <td>[[11273, 1391], [1727, 10937]]</td>\n",
       "      <td>0.876895</td>\n",
       "      <td>qlora_finetune_19348539</td>\n",
       "      <td>0.429081</td>\n",
       "      <td>0</td>\n",
       "      <td>eclipse_72k</td>\n",
       "      <td>/project/6023391/rmoine/data</td>\n",
       "      <td>/project/6023391/rmoine/data</td>\n",
       "      <td>...</td>\n",
       "      <td>0.0001</td>\n",
       "      <td>500</td>\n",
       "      <td>None</td>\n",
       "      <td>-1</td>\n",
       "      <td>0 eclipse_72k, weighted, r=10, train</td>\n",
       "      <td>False</td>\n",
       "      <td>True</td>\n",
       "      <td>weighted</td>\n",
       "      <td>87.689514</td>\n",
       "      <td>0 eclipse_72k, weighted, r=10</td>\n",
       "    </tr>\n",
       "    <tr>\n",
       "      <th>...</th>\n",
       "      <td>...</td>\n",
       "      <td>...</td>\n",
       "      <td>...</td>\n",
       "      <td>...</td>\n",
       "      <td>...</td>\n",
       "      <td>...</td>\n",
       "      <td>...</td>\n",
       "      <td>...</td>\n",
       "      <td>...</td>\n",
       "      <td>...</td>\n",
       "      <td>...</td>\n",
       "      <td>...</td>\n",
       "      <td>...</td>\n",
       "      <td>...</td>\n",
       "      <td>...</td>\n",
       "      <td>...</td>\n",
       "      <td>...</td>\n",
       "      <td>...</td>\n",
       "      <td>...</td>\n",
       "      <td>...</td>\n",
       "      <td>...</td>\n",
       "    </tr>\n",
       "    <tr>\n",
       "      <th>93</th>\n",
       "      <td>2</td>\n",
       "      <td>val</td>\n",
       "      <td>[[3017, 601], [2668, 8152]]</td>\n",
       "      <td>0.773584</td>\n",
       "      <td>qlora_finetune_weighted_eclipse_72k</td>\n",
       "      <td>0.555981</td>\n",
       "      <td>9</td>\n",
       "      <td>eclipse_72k</td>\n",
       "      <td>/project/6023391/rmoine/data</td>\n",
       "      <td>/project/6023391/rmoine/data</td>\n",
       "      <td>...</td>\n",
       "      <td>0.0001</td>\n",
       "      <td>500</td>\n",
       "      <td>None</td>\n",
       "      <td>-1</td>\n",
       "      <td>9 eclipse_72k, weighted, r=64, val</td>\n",
       "      <td>False</td>\n",
       "      <td>True</td>\n",
       "      <td>weighted</td>\n",
       "      <td>77.358360</td>\n",
       "      <td>9 eclipse_72k, weighted, r=64</td>\n",
       "    </tr>\n",
       "    <tr>\n",
       "      <th>94</th>\n",
       "      <td>3</td>\n",
       "      <td>val</td>\n",
       "      <td>[[3086, 532], [2821, 7999]]</td>\n",
       "      <td>0.767766</td>\n",
       "      <td>qlora_finetune_weighted_eclipse_72k</td>\n",
       "      <td>0.628481</td>\n",
       "      <td>9</td>\n",
       "      <td>eclipse_72k</td>\n",
       "      <td>/project/6023391/rmoine/data</td>\n",
       "      <td>/project/6023391/rmoine/data</td>\n",
       "      <td>...</td>\n",
       "      <td>0.0001</td>\n",
       "      <td>500</td>\n",
       "      <td>None</td>\n",
       "      <td>-1</td>\n",
       "      <td>9 eclipse_72k, weighted, r=64, val</td>\n",
       "      <td>False</td>\n",
       "      <td>True</td>\n",
       "      <td>weighted</td>\n",
       "      <td>76.776562</td>\n",
       "      <td>9 eclipse_72k, weighted, r=64</td>\n",
       "    </tr>\n",
       "    <tr>\n",
       "      <th>95</th>\n",
       "      <td>4</td>\n",
       "      <td>val</td>\n",
       "      <td>[[2765, 853], [1717, 9103]]</td>\n",
       "      <td>0.821998</td>\n",
       "      <td>qlora_finetune_weighted_eclipse_72k</td>\n",
       "      <td>0.618397</td>\n",
       "      <td>9</td>\n",
       "      <td>eclipse_72k</td>\n",
       "      <td>/project/6023391/rmoine/data</td>\n",
       "      <td>/project/6023391/rmoine/data</td>\n",
       "      <td>...</td>\n",
       "      <td>0.0001</td>\n",
       "      <td>500</td>\n",
       "      <td>None</td>\n",
       "      <td>-1</td>\n",
       "      <td>9 eclipse_72k, weighted, r=64, val</td>\n",
       "      <td>False</td>\n",
       "      <td>True</td>\n",
       "      <td>weighted</td>\n",
       "      <td>82.199751</td>\n",
       "      <td>9 eclipse_72k, weighted, r=64</td>\n",
       "    </tr>\n",
       "    <tr>\n",
       "      <th>98</th>\n",
       "      <td>1</td>\n",
       "      <td>val</td>\n",
       "      <td>[[7664, 2857], [4888, 24756]]</td>\n",
       "      <td>0.807170</td>\n",
       "      <td>qlora_finetune_weighted_mozilla_200k</td>\n",
       "      <td>0.426377</td>\n",
       "      <td>10</td>\n",
       "      <td>mozilla_200k</td>\n",
       "      <td>/project/6023391/rmoine/data</td>\n",
       "      <td>/project/6023391/rmoine/data</td>\n",
       "      <td>...</td>\n",
       "      <td>0.0001</td>\n",
       "      <td>500</td>\n",
       "      <td>None</td>\n",
       "      <td>-1</td>\n",
       "      <td>10 mozilla_200k, weighted, r=64, val</td>\n",
       "      <td>False</td>\n",
       "      <td>True</td>\n",
       "      <td>weighted</td>\n",
       "      <td>80.717042</td>\n",
       "      <td>10 mozilla_200k, weighted, r=64</td>\n",
       "    </tr>\n",
       "    <tr>\n",
       "      <th>99</th>\n",
       "      <td>2</td>\n",
       "      <td>val</td>\n",
       "      <td>[[7982, 2539], [5163, 24481]]</td>\n",
       "      <td>0.808241</td>\n",
       "      <td>qlora_finetune_weighted_mozilla_200k</td>\n",
       "      <td>0.473320</td>\n",
       "      <td>10</td>\n",
       "      <td>mozilla_200k</td>\n",
       "      <td>/project/6023391/rmoine/data</td>\n",
       "      <td>/project/6023391/rmoine/data</td>\n",
       "      <td>...</td>\n",
       "      <td>0.0001</td>\n",
       "      <td>500</td>\n",
       "      <td>None</td>\n",
       "      <td>-1</td>\n",
       "      <td>10 mozilla_200k, weighted, r=64, val</td>\n",
       "      <td>False</td>\n",
       "      <td>True</td>\n",
       "      <td>weighted</td>\n",
       "      <td>80.824101</td>\n",
       "      <td>10 mozilla_200k, weighted, r=64</td>\n",
       "    </tr>\n",
       "  </tbody>\n",
       "</table>\n",
       "<p>100 rows × 29 columns</p>\n",
       "</div>"
      ],
      "text/plain": [
       "    epoch dataset_type                confusion_matrix  accuracy  \\\n",
       "0       0        train    [[9268, 3396], [3540, 9124]]  0.726153   \n",
       "1       1        train    [[9971, 2693], [2713, 9951]]  0.786560   \n",
       "2       2        train  [[10318, 2346], [2324, 10340]]  0.815619   \n",
       "3       3        train  [[10775, 1889], [2051, 10613]]  0.844441   \n",
       "4       4        train  [[11273, 1391], [1727, 10937]]  0.876895   \n",
       "..    ...          ...                             ...       ...   \n",
       "93      2          val     [[3017, 601], [2668, 8152]]  0.773584   \n",
       "94      3          val     [[3086, 532], [2821, 7999]]  0.767766   \n",
       "95      4          val     [[2765, 853], [1717, 9103]]  0.821998   \n",
       "98      1          val   [[7664, 2857], [4888, 24756]]  0.807170   \n",
       "99      2          val   [[7982, 2539], [5163, 24481]]  0.808241   \n",
       "\n",
       "                        path_data_folder      loss   i dataset_choice  \\\n",
       "0                qlora_finetune_19348539  0.609922   0    eclipse_72k   \n",
       "1                qlora_finetune_19348539  0.544867   0    eclipse_72k   \n",
       "2                qlora_finetune_19348539  0.514827   0    eclipse_72k   \n",
       "3                qlora_finetune_19348539  0.480139   0    eclipse_72k   \n",
       "4                qlora_finetune_19348539  0.429081   0    eclipse_72k   \n",
       "..                                   ...       ...  ..            ...   \n",
       "93   qlora_finetune_weighted_eclipse_72k  0.555981   9    eclipse_72k   \n",
       "94   qlora_finetune_weighted_eclipse_72k  0.628481   9    eclipse_72k   \n",
       "95   qlora_finetune_weighted_eclipse_72k  0.618397   9    eclipse_72k   \n",
       "98  qlora_finetune_weighted_mozilla_200k  0.426377  10   mozilla_200k   \n",
       "99  qlora_finetune_weighted_mozilla_200k  0.473320  10   mozilla_200k   \n",
       "\n",
       "                      folder_out                   folder_data  ...  \\\n",
       "0   /project/6023391/rmoine/data  /project/6023391/rmoine/data  ...   \n",
       "1   /project/6023391/rmoine/data  /project/6023391/rmoine/data  ...   \n",
       "2   /project/6023391/rmoine/data  /project/6023391/rmoine/data  ...   \n",
       "3   /project/6023391/rmoine/data  /project/6023391/rmoine/data  ...   \n",
       "4   /project/6023391/rmoine/data  /project/6023391/rmoine/data  ...   \n",
       "..                           ...                           ...  ...   \n",
       "93  /project/6023391/rmoine/data  /project/6023391/rmoine/data  ...   \n",
       "94  /project/6023391/rmoine/data  /project/6023391/rmoine/data  ...   \n",
       "95  /project/6023391/rmoine/data  /project/6023391/rmoine/data  ...   \n",
       "98  /project/6023391/rmoine/data  /project/6023391/rmoine/data  ...   \n",
       "99  /project/6023391/rmoine/data  /project/6023391/rmoine/data  ...   \n",
       "\n",
       "    learning_rate  limit_tokens  mapping_dict lim_size  \\\n",
       "0          0.0001           500          None       -1   \n",
       "1          0.0001           500          None       -1   \n",
       "2          0.0001           500          None       -1   \n",
       "3          0.0001           500          None       -1   \n",
       "4          0.0001           500          None       -1   \n",
       "..            ...           ...           ...      ...   \n",
       "93         0.0001           500          None       -1   \n",
       "94         0.0001           500          None       -1   \n",
       "95         0.0001           500          None       -1   \n",
       "98         0.0001           500          None       -1   \n",
       "99         0.0001           500          None       -1   \n",
       "\n",
       "                                      id use_cpu  tr_weighted_sampling  \\\n",
       "0   0 eclipse_72k, weighted, r=10, train   False                  True   \n",
       "1   0 eclipse_72k, weighted, r=10, train   False                  True   \n",
       "2   0 eclipse_72k, weighted, r=10, train   False                  True   \n",
       "3   0 eclipse_72k, weighted, r=10, train   False                  True   \n",
       "4   0 eclipse_72k, weighted, r=10, train   False                  True   \n",
       "..                                   ...     ...                   ...   \n",
       "93    9 eclipse_72k, weighted, r=64, val   False                  True   \n",
       "94    9 eclipse_72k, weighted, r=64, val   False                  True   \n",
       "95    9 eclipse_72k, weighted, r=64, val   False                  True   \n",
       "98  10 mozilla_200k, weighted, r=64, val   False                  True   \n",
       "99  10 mozilla_200k, weighted, r=64, val   False                  True   \n",
       "\n",
       "    weighted  accuracy_prct                             name  \n",
       "0   weighted      72.615287    0 eclipse_72k, weighted, r=10  \n",
       "1   weighted      78.656033    0 eclipse_72k, weighted, r=10  \n",
       "2   weighted      81.561908    0 eclipse_72k, weighted, r=10  \n",
       "3   weighted      84.444093    0 eclipse_72k, weighted, r=10  \n",
       "4   weighted      87.689514    0 eclipse_72k, weighted, r=10  \n",
       "..       ...            ...                              ...  \n",
       "93  weighted      77.358360    9 eclipse_72k, weighted, r=64  \n",
       "94  weighted      76.776562    9 eclipse_72k, weighted, r=64  \n",
       "95  weighted      82.199751    9 eclipse_72k, weighted, r=64  \n",
       "98  weighted      80.717042  10 mozilla_200k, weighted, r=64  \n",
       "99  weighted      80.824101  10 mozilla_200k, weighted, r=64  \n",
       "\n",
       "[100 rows x 29 columns]"
      ]
     },
     "metadata": {},
     "output_type": "display_data"
    }
   ],
   "source": [
    "print(df.columns)\n",
    "df.sort_values([\"dataset_choice\",\"dataset_type\",\"epoch\"],inplace=True)\n",
    "df[\"weighted\"] = df[\"tr_weighted_sampling\"].apply(lambda x:\"weighted\" if x else \"not_weighted\")\n",
    "df[\"accuracy_prct\"] = df[\"accuracy\"]*100\n",
    "df[\"name\"] = df['i'].astype(str) + \" \" + df[\"dataset_choice\"] + \", \" + df[\"weighted\"] + \", r=\" + df[\"lora_r\"].astype(str)\n",
    "df[\"id\"] = df[\"name\"] + \", \" + df[\"dataset_type\"]\n",
    "df.sort_values(by=[\"i\",\"dataset_type\",\"epoch\"],inplace=True)\n",
    "display(df)"
   ]
  },
  {
   "cell_type": "code",
   "execution_count": 4,
   "metadata": {},
   "outputs": [
    {
     "data": {
      "text/html": [
       "<div>\n",
       "<style scoped>\n",
       "    .dataframe tbody tr th:only-of-type {\n",
       "        vertical-align: middle;\n",
       "    }\n",
       "\n",
       "    .dataframe tbody tr th {\n",
       "        vertical-align: top;\n",
       "    }\n",
       "\n",
       "    .dataframe thead th {\n",
       "        text-align: right;\n",
       "    }\n",
       "</style>\n",
       "<table border=\"1\" class=\"dataframe\">\n",
       "  <thead>\n",
       "    <tr style=\"text-align: right;\">\n",
       "      <th></th>\n",
       "      <th>i</th>\n",
       "      <th>path_data_folder</th>\n",
       "    </tr>\n",
       "  </thead>\n",
       "  <tbody>\n",
       "    <tr>\n",
       "      <th>0</th>\n",
       "      <td>0</td>\n",
       "      <td>qlora_finetune_19348539</td>\n",
       "    </tr>\n",
       "    <tr>\n",
       "      <th>14</th>\n",
       "      <td>1</td>\n",
       "      <td>qlora_finetune_19348541</td>\n",
       "    </tr>\n",
       "    <tr>\n",
       "      <th>7</th>\n",
       "      <td>1</td>\n",
       "      <td>qlora_finetune_19348539</td>\n",
       "    </tr>\n",
       "    <tr>\n",
       "      <th>21</th>\n",
       "      <td>2</td>\n",
       "      <td>qlora_finetune_19348542</td>\n",
       "    </tr>\n",
       "    <tr>\n",
       "      <th>18</th>\n",
       "      <td>2</td>\n",
       "      <td>qlora_finetune_19348541</td>\n",
       "    </tr>\n",
       "    <tr>\n",
       "      <th>28</th>\n",
       "      <td>3</td>\n",
       "      <td>qlora_finetune_19348543</td>\n",
       "    </tr>\n",
       "    <tr>\n",
       "      <th>25</th>\n",
       "      <td>3</td>\n",
       "      <td>qlora_finetune_19348542</td>\n",
       "    </tr>\n",
       "    <tr>\n",
       "      <th>35</th>\n",
       "      <td>4</td>\n",
       "      <td>qlora_finetune_19348552</td>\n",
       "    </tr>\n",
       "    <tr>\n",
       "      <th>32</th>\n",
       "      <td>4</td>\n",
       "      <td>qlora_finetune_19348543</td>\n",
       "    </tr>\n",
       "    <tr>\n",
       "      <th>42</th>\n",
       "      <td>5</td>\n",
       "      <td>qlora_finetune_19348553</td>\n",
       "    </tr>\n",
       "    <tr>\n",
       "      <th>39</th>\n",
       "      <td>5</td>\n",
       "      <td>qlora_finetune_19348552</td>\n",
       "    </tr>\n",
       "    <tr>\n",
       "      <th>46</th>\n",
       "      <td>6</td>\n",
       "      <td>qlora_finetune_eclipse_72k</td>\n",
       "    </tr>\n",
       "    <tr>\n",
       "      <th>44</th>\n",
       "      <td>6</td>\n",
       "      <td>qlora_finetune_19348553</td>\n",
       "    </tr>\n",
       "    <tr>\n",
       "      <th>72</th>\n",
       "      <td>7</td>\n",
       "      <td>qlora_finetune_mozilla_200k</td>\n",
       "    </tr>\n",
       "    <tr>\n",
       "      <th>63</th>\n",
       "      <td>7</td>\n",
       "      <td>qlora_finetune_eclipse_72k</td>\n",
       "    </tr>\n",
       "    <tr>\n",
       "      <th>88</th>\n",
       "      <td>8</td>\n",
       "      <td>qlora_finetune_weighted_eclipse_72k</td>\n",
       "    </tr>\n",
       "    <tr>\n",
       "      <th>80</th>\n",
       "      <td>8</td>\n",
       "      <td>qlora_finetune_mozilla_200k</td>\n",
       "    </tr>\n",
       "    <tr>\n",
       "      <th>96</th>\n",
       "      <td>9</td>\n",
       "      <td>qlora_finetune_weighted_mozilla_200k</td>\n",
       "    </tr>\n",
       "    <tr>\n",
       "      <th>92</th>\n",
       "      <td>9</td>\n",
       "      <td>qlora_finetune_weighted_eclipse_72k</td>\n",
       "    </tr>\n",
       "    <tr>\n",
       "      <th>98</th>\n",
       "      <td>10</td>\n",
       "      <td>qlora_finetune_weighted_mozilla_200k</td>\n",
       "    </tr>\n",
       "  </tbody>\n",
       "</table>\n",
       "</div>"
      ],
      "text/plain": [
       "     i                      path_data_folder\n",
       "0    0               qlora_finetune_19348539\n",
       "14   1               qlora_finetune_19348541\n",
       "7    1               qlora_finetune_19348539\n",
       "21   2               qlora_finetune_19348542\n",
       "18   2               qlora_finetune_19348541\n",
       "28   3               qlora_finetune_19348543\n",
       "25   3               qlora_finetune_19348542\n",
       "35   4               qlora_finetune_19348552\n",
       "32   4               qlora_finetune_19348543\n",
       "42   5               qlora_finetune_19348553\n",
       "39   5               qlora_finetune_19348552\n",
       "46   6            qlora_finetune_eclipse_72k\n",
       "44   6               qlora_finetune_19348553\n",
       "72   7           qlora_finetune_mozilla_200k\n",
       "63   7            qlora_finetune_eclipse_72k\n",
       "88   8   qlora_finetune_weighted_eclipse_72k\n",
       "80   8           qlora_finetune_mozilla_200k\n",
       "96   9  qlora_finetune_weighted_mozilla_200k\n",
       "92   9   qlora_finetune_weighted_eclipse_72k\n",
       "98  10  qlora_finetune_weighted_mozilla_200k"
      ]
     },
     "execution_count": 4,
     "metadata": {},
     "output_type": "execute_result"
    }
   ],
   "source": [
    "df[[\"i\",\"path_data_folder\"]].drop_duplicates()"
   ]
  },
  {
   "cell_type": "code",
   "execution_count": 105,
   "metadata": {},
   "outputs": [
    {
     "name": "stdout",
     "output_type": "stream",
     "text": [
      "['1 eclipse_72k, weighted, r=10', '3 mozilla_200k, weighted, r=64', '5 mozilla_200k, weighted, r=64', '7 eclipse_72k, weighted, r=64', '9 eclipse_72k, not_weighted, r=10', '11 mozilla_200k, not_weighted, r=10', '13 eclipse_72k, not_weighted, r=10', '15 mozilla_200k, not_weighted, r=10', '17 eclipse_72k, weighted, r=64', '19 mozilla_200k, weighted, r=64']\n",
      "-----------------\n",
      "1 eclipse_72k, weighted, r=10, train hsv(0, 1, 1)\n",
      "2 eclipse_72k, weighted, r=10, val hsv(0, 0.5, 0.9)\n",
      "3 mozilla_200k, weighted, r=64, train hsv(216, 1, 1)\n",
      "4 mozilla_200k, weighted, r=64, val hsv(216, 0.5, 0.9)\n",
      "5 mozilla_200k, weighted, r=64, train hsv(252, 1, 1)\n",
      "6 mozilla_200k, weighted, r=64, val hsv(252, 0.5, 0.9)\n",
      "7 eclipse_72k, weighted, r=64, train hsv(288, 1, 1)\n",
      "8 eclipse_72k, weighted, r=64, val hsv(288, 0.5, 0.9)\n",
      "9 eclipse_72k, not_weighted, r=10, train hsv(324, 1, 1)\n",
      "10 eclipse_72k, not_weighted, r=10, val hsv(324, 0.5, 0.9)\n",
      "11 mozilla_200k, not_weighted, r=10, train hsv(36, 1, 1)\n",
      "12 mozilla_200k, not_weighted, r=10, val hsv(36, 0.5, 0.9)\n",
      "13 eclipse_72k, not_weighted, r=10, train hsv(72, 1, 1)\n",
      "14 eclipse_72k, not_weighted, r=10, val hsv(72, 0.5, 0.9)\n",
      "15 mozilla_200k, not_weighted, r=10, train hsv(108, 1, 1)\n",
      "16 mozilla_200k, not_weighted, r=10, val hsv(108, 0.5, 0.9)\n",
      "17 eclipse_72k, weighted, r=64, train hsv(144, 1, 1)\n",
      "18 eclipse_72k, weighted, r=64, val hsv(144, 0.5, 0.9)\n",
      "19 mozilla_200k, weighted, r=64, train hsv(180, 1, 1)\n",
      "20 mozilla_200k, weighted, r=64, val hsv(180, 0.5, 0.9)\n"
     ]
    }
   ],
   "source": [
    "l = df.iloc[0]\n",
    "width, height = 800, 600\n",
    "title_attrs = {\n",
    "    \"bs\":l.tr_bs,\n",
    "    \"lora_alpha\":l.lora_alpha,\n",
    "    \"lora_dropout\":l.lora_dropout,\n",
    "    \"model_name\":l.model_name.split('/')[1],\n",
    "    \"learning_rate\": l.learning_rate,\n",
    "    \n",
    "}\n",
    "unique_datasets = list(df[\"name\"].unique())[::2]\n",
    "print(unique_datasets)\n",
    "title = \"<br>\".join(textwrap.wrap(\" ; \".join(f\"{k}={v}\" for k,v in title_attrs.items()), width=75))\n",
    "color_map = {}\n",
    "for i, dataset in enumerate(sorted(unique_datasets)):\n",
    "    base_color = [int(i*360/len(unique_datasets)),1,1]\n",
    "    i = int(dataset.split(\" \")[0])\n",
    "    dataset = \" \".join(dataset.split(\" \")[1:])\n",
    "    color_map[f\"{i} {dataset}, train\"] = f'hsv({base_color[0]}, 1, 1)'\n",
    "    color_map[f\"{i+1} {dataset}, val\"] = f'hsv({base_color[0]}, 0.5, 0.9)'\n",
    "print(\"-----------------\")\n",
    "for k,v in sorted(color_map.items(),key=lambda x:int(x[0].split(\" \")[0])):\n",
    "    print(k,v)"
   ]
  },
  {
   "cell_type": "code",
   "execution_count": 96,
   "metadata": {},
   "outputs": [
    {
     "name": "stdout",
     "output_type": "stream",
     "text": [
      "{'1 eclipse_72k, weighted, r=10, train': 'hsv(0, 1, 1)', '2 eclipse_72k, weighted, r=10, val': 'hsv(0, 0.5, 0.9)', '11 mozilla_200k, not_weighted, r=10, train': 'hsv(36, 1, 1)', '12 mozilla_200k, not_weighted, r=10, val': 'hsv(36, 0.5, 0.9)', '13 eclipse_72k, not_weighted, r=10, train': 'hsv(72, 1, 1)', '14 eclipse_72k, not_weighted, r=10, val': 'hsv(72, 0.5, 0.9)', '15 mozilla_200k, not_weighted, r=10, train': 'hsv(108, 1, 1)', '16 mozilla_200k, not_weighted, r=10, val': 'hsv(108, 0.5, 0.9)', '17 eclipse_72k, weighted, r=64, train': 'hsv(144, 1, 1)', '18 eclipse_72k, weighted, r=64, val': 'hsv(144, 0.5, 0.9)', '19 mozilla_200k, weighted, r=64, train': 'hsv(180, 1, 1)', '20 mozilla_200k, weighted, r=64, val': 'hsv(180, 0.5, 0.9)', '3 mozilla_200k, weighted, r=64, train': 'hsv(216, 1, 1)', '4 mozilla_200k, weighted, r=64, val': 'hsv(216, 0.5, 0.9)', '5 mozilla_200k, weighted, r=64, train': 'hsv(252, 1, 1)', '6 mozilla_200k, weighted, r=64, val': 'hsv(252, 0.5, 0.9)', '7 eclipse_72k, weighted, r=64, train': 'hsv(288, 1, 1)', '8 eclipse_72k, weighted, r=64, val': 'hsv(288, 0.5, 0.9)', '9 eclipse_72k, not_weighted, r=10, train': 'hsv(324, 1, 1)', '10 eclipse_72k, not_weighted, r=10, val': 'hsv(324, 0.5, 0.9)'}\n"
     ]
    },
    {
     "data": {
      "application/vnd.plotly.v1+json": {
       "config": {
        "plotlyServerURL": "https://plot.ly"
       },
       "data": [
        {
         "hovertemplate": "id=1 eclipse_72k, weighted, r=10, train<br>epoch=%{x}<br>accuracy_prct=%{y}<extra></extra>",
         "legendgroup": "1 eclipse_72k, weighted, r=10, train",
         "line": {
          "color": "hsv(0, 1, 1)",
          "dash": "solid"
         },
         "marker": {
          "symbol": "circle"
         },
         "mode": "lines",
         "name": "1 eclipse_72k, weighted, r=10, train",
         "orientation": "v",
         "showlegend": true,
         "type": "scatter",
         "x": [
          0,
          1,
          2,
          3,
          4,
          5,
          6
         ],
         "xaxis": "x",
         "y": [
          72.6152874289324,
          78.65603284902085,
          81.56190777005685,
          84.44409349336702,
          87.6895135818067,
          90.62302590018952,
          93.65524320909665
         ],
         "yaxis": "y"
        },
        {
         "hovertemplate": "id=2 eclipse_72k, weighted, r=10, val<br>epoch=%{x}<br>accuracy_prct=%{y}<extra></extra>",
         "legendgroup": "2 eclipse_72k, weighted, r=10, val",
         "line": {
          "color": "hsv(0, 0.5, 0.9)",
          "dash": "solid"
         },
         "marker": {
          "symbol": "circle"
         },
         "mode": "lines",
         "name": "2 eclipse_72k, weighted, r=10, val",
         "orientation": "v",
         "showlegend": true,
         "type": "scatter",
         "x": [
          1,
          2,
          3,
          4,
          5,
          6,
          7
         ],
         "xaxis": "x",
         "y": [
          82.95470286743316,
          78.62584845546475,
          74.00609502701205,
          81.84651613796925,
          73.11261947638177,
          78.97908297548138,
          81.8395899709101
         ],
         "yaxis": "y"
        },
        {
         "hovertemplate": "id=3 mozilla_200k, weighted, r=64, train<br>epoch=%{x}<br>accuracy_prct=%{y}<extra></extra>",
         "legendgroup": "3 mozilla_200k, weighted, r=64, train",
         "line": {
          "color": "hsv(216, 1, 1)",
          "dash": "solid"
         },
         "marker": {
          "symbol": "circle"
         },
         "mode": "lines",
         "name": "3 mozilla_200k, weighted, r=64, train",
         "orientation": "v",
         "showlegend": true,
         "type": "scatter",
         "x": [
          0,
          1,
          2,
          3
         ],
         "xaxis": "x",
         "y": [
          76.75312330255296,
          79.94024986420423,
          82.13742531233027,
          84.84655078761543
         ],
         "yaxis": "y"
        },
        {
         "hovertemplate": "id=4 mozilla_200k, weighted, r=64, val<br>epoch=%{x}<br>accuracy_prct=%{y}<extra></extra>",
         "legendgroup": "4 mozilla_200k, weighted, r=64, val",
         "line": {
          "color": "hsv(216, 0.5, 0.9)",
          "dash": "solid"
         },
         "marker": {
          "symbol": "circle"
         },
         "mode": "lines",
         "name": "4 mozilla_200k, weighted, r=64, val",
         "orientation": "v",
         "showlegend": true,
         "type": "scatter",
         "x": [
          1,
          2,
          3
         ],
         "xaxis": "x",
         "y": [
          80.44068218598282,
          80.34358272127474,
          78.5634258682933
         ],
         "yaxis": "y"
        },
        {
         "hovertemplate": "id=5 mozilla_200k, weighted, r=64, train<br>epoch=%{x}<br>accuracy_prct=%{y}<extra></extra>",
         "legendgroup": "5 mozilla_200k, weighted, r=64, train",
         "line": {
          "color": "hsv(252, 1, 1)",
          "dash": "solid"
         },
         "marker": {
          "symbol": "circle"
         },
         "mode": "lines",
         "name": "5 mozilla_200k, weighted, r=64, train",
         "orientation": "v",
         "showlegend": true,
         "type": "scatter",
         "x": [
          0,
          1,
          2,
          3
         ],
         "xaxis": "x",
         "y": [
          76.30092341118957,
          79.56952743074416,
          81.69880499728409,
          84.09831613253667
         ],
         "yaxis": "y"
        },
        {
         "hovertemplate": "id=6 mozilla_200k, weighted, r=64, val<br>epoch=%{x}<br>accuracy_prct=%{y}<extra></extra>",
         "legendgroup": "6 mozilla_200k, weighted, r=64, val",
         "line": {
          "color": "hsv(252, 0.5, 0.9)",
          "dash": "solid"
         },
         "marker": {
          "symbol": "circle"
         },
         "mode": "lines",
         "name": "6 mozilla_200k, weighted, r=64, val",
         "orientation": "v",
         "showlegend": true,
         "type": "scatter",
         "x": [
          1,
          2,
          3
         ],
         "xaxis": "x",
         "y": [
          80.30374704344578,
          80.34358272127474,
          78.63811776422259
         ],
         "yaxis": "y"
        },
        {
         "hovertemplate": "id=7 eclipse_72k, weighted, r=64, train<br>epoch=%{x}<br>accuracy_prct=%{y}<extra></extra>",
         "legendgroup": "7 eclipse_72k, weighted, r=64, train",
         "line": {
          "color": "hsv(288, 1, 1)",
          "dash": "solid"
         },
         "marker": {
          "symbol": "circle"
         },
         "mode": "lines",
         "name": "7 eclipse_72k, weighted, r=64, train",
         "orientation": "v",
         "showlegend": true,
         "type": "scatter",
         "x": [
          0,
          1,
          2,
          3
         ],
         "xaxis": "x",
         "y": [
          76.7992938620315,
          79.84111895708854,
          82.11162411732754,
          84.56002172732211
         ],
         "yaxis": "y"
        },
        {
         "hovertemplate": "id=8 eclipse_72k, weighted, r=64, val<br>epoch=%{x}<br>accuracy_prct=%{y}<extra></extra>",
         "legendgroup": "8 eclipse_72k, weighted, r=64, val",
         "line": {
          "color": "hsv(288, 0.5, 0.9)",
          "dash": "solid"
         },
         "marker": {
          "symbol": "circle"
         },
         "mode": "lines",
         "name": "8 eclipse_72k, weighted, r=64, val",
         "orientation": "v",
         "showlegend": true,
         "type": "scatter",
         "x": [
          1,
          2,
          3
         ],
         "xaxis": "x",
         "y": [
          80.34856218100336,
          80.30374704344578,
          78.33686045064111
         ],
         "yaxis": "y"
        },
        {
         "hovertemplate": "id=9 eclipse_72k, not_weighted, r=10, train<br>epoch=%{x}<br>accuracy_prct=%{y}<extra></extra>",
         "legendgroup": "9 eclipse_72k, not_weighted, r=10, train",
         "line": {
          "color": "hsv(324, 1, 1)",
          "dash": "solid"
         },
         "marker": {
          "symbol": "circle"
         },
         "mode": "lines",
         "name": "9 eclipse_72k, not_weighted, r=10, train",
         "orientation": "v",
         "showlegend": true,
         "type": "scatter",
         "x": [
          0,
          1,
          2,
          3
         ],
         "xaxis": "x",
         "y": [
          80.86238967823644,
          85.00217675228558,
          87.93881347211779,
          91.19008984050342
         ],
         "yaxis": "y"
        },
        {
         "hovertemplate": "id=10 eclipse_72k, not_weighted, r=10, val<br>epoch=%{x}<br>accuracy_prct=%{y}<extra></extra>",
         "legendgroup": "10 eclipse_72k, not_weighted, r=10, val",
         "line": {
          "color": "hsv(324, 0.5, 0.9)",
          "dash": "solid"
         },
         "marker": {
          "symbol": "circle"
         },
         "mode": "lines",
         "name": "10 eclipse_72k, not_weighted, r=10, val",
         "orientation": "v",
         "showlegend": true,
         "type": "scatter",
         "x": [
          1,
          2,
          3
         ],
         "xaxis": "x",
         "y": [
          83.92436625571409,
          84.77628480398948,
          84.97021748164566
         ],
         "yaxis": "y"
        },
        {
         "hovertemplate": "id=11 mozilla_200k, not_weighted, r=10, train<br>epoch=%{x}<br>accuracy_prct=%{y}<extra></extra>",
         "legendgroup": "11 mozilla_200k, not_weighted, r=10, train",
         "line": {
          "color": "hsv(36, 1, 1)",
          "dash": "solid"
         },
         "marker": {
          "symbol": "circle"
         },
         "mode": "lines",
         "name": "11 mozilla_200k, not_weighted, r=10, train",
         "orientation": "v",
         "showlegend": true,
         "type": "scatter",
         "x": [
          0,
          1
         ],
         "xaxis": "x",
         "y": [
          81.59998861825632,
          84.18648987024812
         ],
         "yaxis": "y"
        },
        {
         "hovertemplate": "id=12 mozilla_200k, not_weighted, r=10, val<br>epoch=%{x}<br>accuracy_prct=%{y}<extra></extra>",
         "legendgroup": "12 mozilla_200k, not_weighted, r=10, val",
         "line": {
          "color": "hsv(36, 0.5, 0.9)",
          "dash": "solid"
         },
         "marker": {
          "symbol": "circle"
         },
         "mode": "lines",
         "name": "12 mozilla_200k, not_weighted, r=10, val",
         "orientation": "v",
         "showlegend": true,
         "type": "scatter",
         "x": [
          1,
          2
         ],
         "xaxis": "x",
         "y": [
          82.29553093489356,
          82.82833312585585
         ],
         "yaxis": "y"
        },
        {
         "hovertemplate": "id=13 eclipse_72k, not_weighted, r=10, train<br>epoch=%{x}<br>accuracy_prct=%{y}<extra></extra>",
         "legendgroup": "13 eclipse_72k, not_weighted, r=10, train",
         "line": {
          "color": "hsv(72, 1, 1)",
          "dash": "solid"
         },
         "marker": {
          "symbol": "circle"
         },
         "mode": "lines",
         "name": "13 eclipse_72k, not_weighted, r=10, train",
         "orientation": "v",
         "showlegend": true,
         "type": "scatter",
         "x": [
          0,
          1,
          2,
          3,
          4,
          5,
          6,
          7,
          8,
          9,
          10,
          11,
          12
         ],
         "xaxis": "x",
         "y": [
          80.84062215538054,
          84.754818538014,
          87.77456761784144,
          91.44932124906003,
          94.63331618316381,
          96.72893497447264,
          97.90042347726283,
          98.6622867772193,
          98.75727233149958,
          98.8285114972098,
          99.0165037400562,
          99.02244033719872,
          99.09961610005145
         ],
         "yaxis": "y"
        },
        {
         "hovertemplate": "id=14 eclipse_72k, not_weighted, r=10, val<br>epoch=%{x}<br>accuracy_prct=%{y}<extra></extra>",
         "legendgroup": "14 eclipse_72k, not_weighted, r=10, val",
         "line": {
          "color": "hsv(72, 0.5, 0.9)",
          "dash": "solid"
         },
         "marker": {
          "symbol": "circle"
         },
         "mode": "lines",
         "name": "14 eclipse_72k, not_weighted, r=10, val",
         "orientation": "v",
         "showlegend": true,
         "type": "scatter",
         "x": [
          1,
          2,
          3,
          4,
          5,
          6,
          7,
          8,
          9,
          10,
          11,
          12,
          13
         ],
         "xaxis": "x",
         "y": [
          83.68195040864386,
          84.88710347693586,
          84.54772129103753,
          84.86632497575842,
          84.4576811192686,
          84.18756060396177,
          83.64039340628896,
          83.84125225100429,
          84.01440642748304,
          84.53386895691925,
          83.45338689569192,
          83.8966615874775,
          84.57542595927414
         ],
         "yaxis": "y"
        },
        {
         "hovertemplate": "id=15 mozilla_200k, not_weighted, r=10, train<br>epoch=%{x}<br>accuracy_prct=%{y}<extra></extra>",
         "legendgroup": "15 mozilla_200k, not_weighted, r=10, train",
         "line": {
          "color": "hsv(108, 1, 1)",
          "dash": "solid"
         },
         "marker": {
          "symbol": "circle"
         },
         "mode": "lines",
         "name": "15 mozilla_200k, not_weighted, r=10, train",
         "orientation": "v",
         "showlegend": true,
         "type": "scatter",
         "x": [
          0,
          1,
          2,
          3,
          4,
          5,
          6,
          7
         ],
         "xaxis": "x",
         "y": [
          81.49897564306852,
          83.42960391531983,
          85.3495618028682,
          88.33300136580924,
          91.10018779877078,
          93.24920327794219,
          94.86541088094697,
          95.96019235146824
         ],
         "yaxis": "y"
        },
        {
         "hovertemplate": "id=16 mozilla_200k, not_weighted, r=10, val<br>epoch=%{x}<br>accuracy_prct=%{y}<extra></extra>",
         "legendgroup": "16 mozilla_200k, not_weighted, r=10, val",
         "line": {
          "color": "hsv(108, 0.5, 0.9)",
          "dash": "solid"
         },
         "marker": {
          "symbol": "circle"
         },
         "mode": "lines",
         "name": "16 mozilla_200k, not_weighted, r=10, val",
         "orientation": "v",
         "showlegend": true,
         "type": "scatter",
         "x": [
          1,
          2,
          3,
          4,
          5,
          6,
          7,
          8
         ],
         "xaxis": "x",
         "y": [
          82.29553093489356,
          82.72127474169054,
          82.38516121000872,
          82.52707581227436,
          82.355284451637,
          82.26067471679322,
          81.77019793352422,
          81.18760114527574
         ],
         "yaxis": "y"
        },
        {
         "hovertemplate": "id=17 eclipse_72k, weighted, r=64, train<br>epoch=%{x}<br>accuracy_prct=%{y}<extra></extra>",
         "legendgroup": "17 eclipse_72k, weighted, r=64, train",
         "line": {
          "color": "hsv(144, 1, 1)",
          "dash": "solid"
         },
         "marker": {
          "symbol": "circle"
         },
         "mode": "lines",
         "name": "17 eclipse_72k, weighted, r=64, train",
         "orientation": "v",
         "showlegend": true,
         "type": "scatter",
         "x": [
          0,
          1,
          2,
          3
         ],
         "xaxis": "x",
         "y": [
          73.54311433986102,
          79.40224257738471,
          81.64087176247631,
          84.6533480732786
         ],
         "yaxis": "y"
        },
        {
         "hovertemplate": "id=18 eclipse_72k, weighted, r=64, val<br>epoch=%{x}<br>accuracy_prct=%{y}<extra></extra>",
         "legendgroup": "18 eclipse_72k, weighted, r=64, val",
         "line": {
          "color": "hsv(144, 0.5, 0.9)",
          "dash": "solid"
         },
         "marker": {
          "symbol": "circle"
         },
         "mode": "lines",
         "name": "18 eclipse_72k, weighted, r=64, val",
         "orientation": "v",
         "showlegend": true,
         "type": "scatter",
         "x": [
          1,
          2,
          3,
          4
         ],
         "xaxis": "x",
         "y": [
          83.70965507688045,
          77.35835988364039,
          76.77656185067184,
          82.19975065798587
         ],
         "yaxis": "y"
        },
        {
         "hovertemplate": "id=19 mozilla_200k, weighted, r=64, train<br>epoch=%{x}<br>accuracy_prct=%{y}<extra></extra>",
         "legendgroup": "19 mozilla_200k, weighted, r=64, train",
         "line": {
          "color": "hsv(180, 1, 1)",
          "dash": "solid"
         },
         "marker": {
          "symbol": "circle"
         },
         "mode": "lines",
         "name": "19 mozilla_200k, weighted, r=64, train",
         "orientation": "v",
         "showlegend": true,
         "type": "scatter",
         "x": [
          0,
          1
         ],
         "xaxis": "x",
         "y": [
          76.85904399782727,
          79.87506789788159
         ],
         "yaxis": "y"
        },
        {
         "hovertemplate": "id=20 mozilla_200k, weighted, r=64, val<br>epoch=%{x}<br>accuracy_prct=%{y}<extra></extra>",
         "legendgroup": "20 mozilla_200k, weighted, r=64, val",
         "line": {
          "color": "hsv(180, 0.5, 0.9)",
          "dash": "solid"
         },
         "marker": {
          "symbol": "circle"
         },
         "mode": "lines",
         "name": "20 mozilla_200k, weighted, r=64, val",
         "orientation": "v",
         "showlegend": true,
         "type": "scatter",
         "x": [
          1,
          2
         ],
         "xaxis": "x",
         "y": [
          80.7170422009212,
          80.82410058508653
         ],
         "yaxis": "y"
        }
       ],
       "layout": {
        "height": 600,
        "legend": {
         "title": {
          "text": "id"
         },
         "tracegroupgap": 0,
         "traceorder": "normal"
        },
        "template": {
         "data": {
          "bar": [
           {
            "error_x": {
             "color": "#2a3f5f"
            },
            "error_y": {
             "color": "#2a3f5f"
            },
            "marker": {
             "line": {
              "color": "#E5ECF6",
              "width": 0.5
             },
             "pattern": {
              "fillmode": "overlay",
              "size": 10,
              "solidity": 0.2
             }
            },
            "type": "bar"
           }
          ],
          "barpolar": [
           {
            "marker": {
             "line": {
              "color": "#E5ECF6",
              "width": 0.5
             },
             "pattern": {
              "fillmode": "overlay",
              "size": 10,
              "solidity": 0.2
             }
            },
            "type": "barpolar"
           }
          ],
          "carpet": [
           {
            "aaxis": {
             "endlinecolor": "#2a3f5f",
             "gridcolor": "white",
             "linecolor": "white",
             "minorgridcolor": "white",
             "startlinecolor": "#2a3f5f"
            },
            "baxis": {
             "endlinecolor": "#2a3f5f",
             "gridcolor": "white",
             "linecolor": "white",
             "minorgridcolor": "white",
             "startlinecolor": "#2a3f5f"
            },
            "type": "carpet"
           }
          ],
          "choropleth": [
           {
            "colorbar": {
             "outlinewidth": 0,
             "ticks": ""
            },
            "type": "choropleth"
           }
          ],
          "contour": [
           {
            "colorbar": {
             "outlinewidth": 0,
             "ticks": ""
            },
            "colorscale": [
             [
              0,
              "#0d0887"
             ],
             [
              0.1111111111111111,
              "#46039f"
             ],
             [
              0.2222222222222222,
              "#7201a8"
             ],
             [
              0.3333333333333333,
              "#9c179e"
             ],
             [
              0.4444444444444444,
              "#bd3786"
             ],
             [
              0.5555555555555556,
              "#d8576b"
             ],
             [
              0.6666666666666666,
              "#ed7953"
             ],
             [
              0.7777777777777778,
              "#fb9f3a"
             ],
             [
              0.8888888888888888,
              "#fdca26"
             ],
             [
              1,
              "#f0f921"
             ]
            ],
            "type": "contour"
           }
          ],
          "contourcarpet": [
           {
            "colorbar": {
             "outlinewidth": 0,
             "ticks": ""
            },
            "type": "contourcarpet"
           }
          ],
          "heatmap": [
           {
            "colorbar": {
             "outlinewidth": 0,
             "ticks": ""
            },
            "colorscale": [
             [
              0,
              "#0d0887"
             ],
             [
              0.1111111111111111,
              "#46039f"
             ],
             [
              0.2222222222222222,
              "#7201a8"
             ],
             [
              0.3333333333333333,
              "#9c179e"
             ],
             [
              0.4444444444444444,
              "#bd3786"
             ],
             [
              0.5555555555555556,
              "#d8576b"
             ],
             [
              0.6666666666666666,
              "#ed7953"
             ],
             [
              0.7777777777777778,
              "#fb9f3a"
             ],
             [
              0.8888888888888888,
              "#fdca26"
             ],
             [
              1,
              "#f0f921"
             ]
            ],
            "type": "heatmap"
           }
          ],
          "heatmapgl": [
           {
            "colorbar": {
             "outlinewidth": 0,
             "ticks": ""
            },
            "colorscale": [
             [
              0,
              "#0d0887"
             ],
             [
              0.1111111111111111,
              "#46039f"
             ],
             [
              0.2222222222222222,
              "#7201a8"
             ],
             [
              0.3333333333333333,
              "#9c179e"
             ],
             [
              0.4444444444444444,
              "#bd3786"
             ],
             [
              0.5555555555555556,
              "#d8576b"
             ],
             [
              0.6666666666666666,
              "#ed7953"
             ],
             [
              0.7777777777777778,
              "#fb9f3a"
             ],
             [
              0.8888888888888888,
              "#fdca26"
             ],
             [
              1,
              "#f0f921"
             ]
            ],
            "type": "heatmapgl"
           }
          ],
          "histogram": [
           {
            "marker": {
             "pattern": {
              "fillmode": "overlay",
              "size": 10,
              "solidity": 0.2
             }
            },
            "type": "histogram"
           }
          ],
          "histogram2d": [
           {
            "colorbar": {
             "outlinewidth": 0,
             "ticks": ""
            },
            "colorscale": [
             [
              0,
              "#0d0887"
             ],
             [
              0.1111111111111111,
              "#46039f"
             ],
             [
              0.2222222222222222,
              "#7201a8"
             ],
             [
              0.3333333333333333,
              "#9c179e"
             ],
             [
              0.4444444444444444,
              "#bd3786"
             ],
             [
              0.5555555555555556,
              "#d8576b"
             ],
             [
              0.6666666666666666,
              "#ed7953"
             ],
             [
              0.7777777777777778,
              "#fb9f3a"
             ],
             [
              0.8888888888888888,
              "#fdca26"
             ],
             [
              1,
              "#f0f921"
             ]
            ],
            "type": "histogram2d"
           }
          ],
          "histogram2dcontour": [
           {
            "colorbar": {
             "outlinewidth": 0,
             "ticks": ""
            },
            "colorscale": [
             [
              0,
              "#0d0887"
             ],
             [
              0.1111111111111111,
              "#46039f"
             ],
             [
              0.2222222222222222,
              "#7201a8"
             ],
             [
              0.3333333333333333,
              "#9c179e"
             ],
             [
              0.4444444444444444,
              "#bd3786"
             ],
             [
              0.5555555555555556,
              "#d8576b"
             ],
             [
              0.6666666666666666,
              "#ed7953"
             ],
             [
              0.7777777777777778,
              "#fb9f3a"
             ],
             [
              0.8888888888888888,
              "#fdca26"
             ],
             [
              1,
              "#f0f921"
             ]
            ],
            "type": "histogram2dcontour"
           }
          ],
          "mesh3d": [
           {
            "colorbar": {
             "outlinewidth": 0,
             "ticks": ""
            },
            "type": "mesh3d"
           }
          ],
          "parcoords": [
           {
            "line": {
             "colorbar": {
              "outlinewidth": 0,
              "ticks": ""
             }
            },
            "type": "parcoords"
           }
          ],
          "pie": [
           {
            "automargin": true,
            "type": "pie"
           }
          ],
          "scatter": [
           {
            "fillpattern": {
             "fillmode": "overlay",
             "size": 10,
             "solidity": 0.2
            },
            "type": "scatter"
           }
          ],
          "scatter3d": [
           {
            "line": {
             "colorbar": {
              "outlinewidth": 0,
              "ticks": ""
             }
            },
            "marker": {
             "colorbar": {
              "outlinewidth": 0,
              "ticks": ""
             }
            },
            "type": "scatter3d"
           }
          ],
          "scattercarpet": [
           {
            "marker": {
             "colorbar": {
              "outlinewidth": 0,
              "ticks": ""
             }
            },
            "type": "scattercarpet"
           }
          ],
          "scattergeo": [
           {
            "marker": {
             "colorbar": {
              "outlinewidth": 0,
              "ticks": ""
             }
            },
            "type": "scattergeo"
           }
          ],
          "scattergl": [
           {
            "marker": {
             "colorbar": {
              "outlinewidth": 0,
              "ticks": ""
             }
            },
            "type": "scattergl"
           }
          ],
          "scattermapbox": [
           {
            "marker": {
             "colorbar": {
              "outlinewidth": 0,
              "ticks": ""
             }
            },
            "type": "scattermapbox"
           }
          ],
          "scatterpolar": [
           {
            "marker": {
             "colorbar": {
              "outlinewidth": 0,
              "ticks": ""
             }
            },
            "type": "scatterpolar"
           }
          ],
          "scatterpolargl": [
           {
            "marker": {
             "colorbar": {
              "outlinewidth": 0,
              "ticks": ""
             }
            },
            "type": "scatterpolargl"
           }
          ],
          "scatterternary": [
           {
            "marker": {
             "colorbar": {
              "outlinewidth": 0,
              "ticks": ""
             }
            },
            "type": "scatterternary"
           }
          ],
          "surface": [
           {
            "colorbar": {
             "outlinewidth": 0,
             "ticks": ""
            },
            "colorscale": [
             [
              0,
              "#0d0887"
             ],
             [
              0.1111111111111111,
              "#46039f"
             ],
             [
              0.2222222222222222,
              "#7201a8"
             ],
             [
              0.3333333333333333,
              "#9c179e"
             ],
             [
              0.4444444444444444,
              "#bd3786"
             ],
             [
              0.5555555555555556,
              "#d8576b"
             ],
             [
              0.6666666666666666,
              "#ed7953"
             ],
             [
              0.7777777777777778,
              "#fb9f3a"
             ],
             [
              0.8888888888888888,
              "#fdca26"
             ],
             [
              1,
              "#f0f921"
             ]
            ],
            "type": "surface"
           }
          ],
          "table": [
           {
            "cells": {
             "fill": {
              "color": "#EBF0F8"
             },
             "line": {
              "color": "white"
             }
            },
            "header": {
             "fill": {
              "color": "#C8D4E3"
             },
             "line": {
              "color": "white"
             }
            },
            "type": "table"
           }
          ]
         },
         "layout": {
          "annotationdefaults": {
           "arrowcolor": "#2a3f5f",
           "arrowhead": 0,
           "arrowwidth": 1
          },
          "autotypenumbers": "strict",
          "coloraxis": {
           "colorbar": {
            "outlinewidth": 0,
            "ticks": ""
           }
          },
          "colorscale": {
           "diverging": [
            [
             0,
             "#8e0152"
            ],
            [
             0.1,
             "#c51b7d"
            ],
            [
             0.2,
             "#de77ae"
            ],
            [
             0.3,
             "#f1b6da"
            ],
            [
             0.4,
             "#fde0ef"
            ],
            [
             0.5,
             "#f7f7f7"
            ],
            [
             0.6,
             "#e6f5d0"
            ],
            [
             0.7,
             "#b8e186"
            ],
            [
             0.8,
             "#7fbc41"
            ],
            [
             0.9,
             "#4d9221"
            ],
            [
             1,
             "#276419"
            ]
           ],
           "sequential": [
            [
             0,
             "#0d0887"
            ],
            [
             0.1111111111111111,
             "#46039f"
            ],
            [
             0.2222222222222222,
             "#7201a8"
            ],
            [
             0.3333333333333333,
             "#9c179e"
            ],
            [
             0.4444444444444444,
             "#bd3786"
            ],
            [
             0.5555555555555556,
             "#d8576b"
            ],
            [
             0.6666666666666666,
             "#ed7953"
            ],
            [
             0.7777777777777778,
             "#fb9f3a"
            ],
            [
             0.8888888888888888,
             "#fdca26"
            ],
            [
             1,
             "#f0f921"
            ]
           ],
           "sequentialminus": [
            [
             0,
             "#0d0887"
            ],
            [
             0.1111111111111111,
             "#46039f"
            ],
            [
             0.2222222222222222,
             "#7201a8"
            ],
            [
             0.3333333333333333,
             "#9c179e"
            ],
            [
             0.4444444444444444,
             "#bd3786"
            ],
            [
             0.5555555555555556,
             "#d8576b"
            ],
            [
             0.6666666666666666,
             "#ed7953"
            ],
            [
             0.7777777777777778,
             "#fb9f3a"
            ],
            [
             0.8888888888888888,
             "#fdca26"
            ],
            [
             1,
             "#f0f921"
            ]
           ]
          },
          "colorway": [
           "#636efa",
           "#EF553B",
           "#00cc96",
           "#ab63fa",
           "#FFA15A",
           "#19d3f3",
           "#FF6692",
           "#B6E880",
           "#FF97FF",
           "#FECB52"
          ],
          "font": {
           "color": "#2a3f5f"
          },
          "geo": {
           "bgcolor": "white",
           "lakecolor": "white",
           "landcolor": "#E5ECF6",
           "showlakes": true,
           "showland": true,
           "subunitcolor": "white"
          },
          "hoverlabel": {
           "align": "left"
          },
          "hovermode": "closest",
          "mapbox": {
           "style": "light"
          },
          "paper_bgcolor": "white",
          "plot_bgcolor": "#E5ECF6",
          "polar": {
           "angularaxis": {
            "gridcolor": "white",
            "linecolor": "white",
            "ticks": ""
           },
           "bgcolor": "#E5ECF6",
           "radialaxis": {
            "gridcolor": "white",
            "linecolor": "white",
            "ticks": ""
           }
          },
          "scene": {
           "xaxis": {
            "backgroundcolor": "#E5ECF6",
            "gridcolor": "white",
            "gridwidth": 2,
            "linecolor": "white",
            "showbackground": true,
            "ticks": "",
            "zerolinecolor": "white"
           },
           "yaxis": {
            "backgroundcolor": "#E5ECF6",
            "gridcolor": "white",
            "gridwidth": 2,
            "linecolor": "white",
            "showbackground": true,
            "ticks": "",
            "zerolinecolor": "white"
           },
           "zaxis": {
            "backgroundcolor": "#E5ECF6",
            "gridcolor": "white",
            "gridwidth": 2,
            "linecolor": "white",
            "showbackground": true,
            "ticks": "",
            "zerolinecolor": "white"
           }
          },
          "shapedefaults": {
           "line": {
            "color": "#2a3f5f"
           }
          },
          "ternary": {
           "aaxis": {
            "gridcolor": "white",
            "linecolor": "white",
            "ticks": ""
           },
           "baxis": {
            "gridcolor": "white",
            "linecolor": "white",
            "ticks": ""
           },
           "bgcolor": "#E5ECF6",
           "caxis": {
            "gridcolor": "white",
            "linecolor": "white",
            "ticks": ""
           }
          },
          "title": {
           "x": 0.05
          },
          "xaxis": {
           "automargin": true,
           "gridcolor": "white",
           "linecolor": "white",
           "ticks": "",
           "title": {
            "standoff": 15
           },
           "zerolinecolor": "white",
           "zerolinewidth": 2
          },
          "yaxis": {
           "automargin": true,
           "gridcolor": "white",
           "linecolor": "white",
           "ticks": "",
           "title": {
            "standoff": 15
           },
           "zerolinecolor": "white",
           "zerolinewidth": 2
          }
         }
        },
        "title": {
         "text": "bs=4 ; lora_alpha=4 ; lora_dropout=0.1 ; model_name=Llama-2-7b-chat-hf ;<br>learning_rate=0.0001"
        },
        "width": 800,
        "xaxis": {
         "anchor": "y",
         "domain": [
          0,
          1
         ],
         "title": {
          "text": "epoch"
         }
        },
        "yaxis": {
         "anchor": "x",
         "domain": [
          0,
          1
         ],
         "title": {
          "text": "accuracy_prct"
         }
        }
       }
      }
     },
     "metadata": {},
     "output_type": "display_data"
    }
   ],
   "source": [
    "print(color_map)\n",
    "img = px.line(df,x=\"epoch\",y=\"accuracy_prct\",color=\"id\",color_discrete_map=color_map, width=width, height=height, title=title)\n",
    "img.update_layout(\n",
    "    legend=dict(traceorder=\"normal\")\n",
    ")\n",
    "img.show()\n",
    "img_to_clipboard(img)"
   ]
  },
  {
   "cell_type": "code",
   "execution_count": 97,
   "metadata": {},
   "outputs": [
    {
     "data": {
      "application/vnd.plotly.v1+json": {
       "config": {
        "plotlyServerURL": "https://plot.ly"
       },
       "data": [
        {
         "hovertemplate": "id=1 eclipse_72k, weighted, r=10, train<br>epoch=%{x}<br>loss=%{y}<extra></extra>",
         "legendgroup": "1 eclipse_72k, weighted, r=10, train",
         "line": {
          "color": "hsv(0, 1, 1)",
          "dash": "solid"
         },
         "marker": {
          "symbol": "circle"
         },
         "mode": "lines",
         "name": "1 eclipse_72k, weighted, r=10, train",
         "orientation": "v",
         "showlegend": true,
         "type": "scatter",
         "x": [
          0,
          1,
          2,
          3,
          4,
          5,
          6
         ],
         "xaxis": "x",
         "y": [
          0.6099218380987718,
          0.5448665954897515,
          0.5148270379665699,
          0.4801388260846166,
          0.4290806333556799,
          0.35309801531625623,
          0.26838633627148045
         ],
         "yaxis": "y"
        },
        {
         "hovertemplate": "id=2 eclipse_72k, weighted, r=10, val<br>epoch=%{x}<br>loss=%{y}<extra></extra>",
         "legendgroup": "2 eclipse_72k, weighted, r=10, val",
         "line": {
          "color": "hsv(0, 0.5, 0.9)",
          "dash": "solid"
         },
         "marker": {
          "symbol": "circle"
         },
         "mode": "lines",
         "name": "2 eclipse_72k, weighted, r=10, val",
         "orientation": "v",
         "showlegend": true,
         "type": "scatter",
         "x": [
          1,
          2,
          3,
          4,
          5,
          6,
          7
         ],
         "xaxis": "x",
         "y": [
          0.4582631451826283,
          0.5653556334088309,
          0.7092083757545895,
          0.6517783697585507,
          1.1065418804033225,
          1.110124147742047,
          1.5389362408011706
         ],
         "yaxis": "y"
        },
        {
         "hovertemplate": "id=3 mozilla_200k, weighted, r=64, train<br>epoch=%{x}<br>loss=%{y}<extra></extra>",
         "legendgroup": "3 mozilla_200k, weighted, r=64, train",
         "line": {
          "color": "hsv(216, 1, 1)",
          "dash": "solid"
         },
         "marker": {
          "symbol": "circle"
         },
         "mode": "lines",
         "name": "3 mozilla_200k, weighted, r=64, train",
         "orientation": "v",
         "showlegend": true,
         "type": "scatter",
         "x": [
          0,
          1,
          2,
          3
         ],
         "xaxis": "x",
         "y": [
          0.5386001980278429,
          0.48317814918393914,
          0.451806132196406,
          0.4198932631015449
         ],
         "yaxis": "y"
        },
        {
         "hovertemplate": "id=4 mozilla_200k, weighted, r=64, val<br>epoch=%{x}<br>loss=%{y}<extra></extra>",
         "legendgroup": "4 mozilla_200k, weighted, r=64, val",
         "line": {
          "color": "hsv(216, 0.5, 0.9)",
          "dash": "solid"
         },
         "marker": {
          "symbol": "circle"
         },
         "mode": "lines",
         "name": "4 mozilla_200k, weighted, r=64, val",
         "orientation": "v",
         "showlegend": true,
         "type": "scatter",
         "x": [
          1,
          2,
          3
         ],
         "xaxis": "x",
         "y": [
          0.42315539374029437,
          0.4739418664935985,
          0.519127994070941
         ],
         "yaxis": "y"
        },
        {
         "hovertemplate": "id=5 mozilla_200k, weighted, r=64, train<br>epoch=%{x}<br>loss=%{y}<extra></extra>",
         "legendgroup": "5 mozilla_200k, weighted, r=64, train",
         "line": {
          "color": "hsv(252, 1, 1)",
          "dash": "solid"
         },
         "marker": {
          "symbol": "circle"
         },
         "mode": "lines",
         "name": "5 mozilla_200k, weighted, r=64, train",
         "orientation": "v",
         "showlegend": true,
         "type": "scatter",
         "x": [
          0,
          1,
          2,
          3
         ],
         "xaxis": "x",
         "y": [
          0.5456369637628872,
          0.484557264486261,
          0.45394586948429494,
          0.4247810861425394
         ],
         "yaxis": "y"
        },
        {
         "hovertemplate": "id=6 mozilla_200k, weighted, r=64, val<br>epoch=%{x}<br>loss=%{y}<extra></extra>",
         "legendgroup": "6 mozilla_200k, weighted, r=64, val",
         "line": {
          "color": "hsv(252, 0.5, 0.9)",
          "dash": "solid"
         },
         "marker": {
          "symbol": "circle"
         },
         "mode": "lines",
         "name": "6 mozilla_200k, weighted, r=64, val",
         "orientation": "v",
         "showlegend": true,
         "type": "scatter",
         "x": [
          1,
          2,
          3
         ],
         "xaxis": "x",
         "y": [
          0.4241414307460274,
          0.46548749343362805,
          0.5121446112641431
         ],
         "yaxis": "y"
        },
        {
         "hovertemplate": "id=7 eclipse_72k, weighted, r=64, train<br>epoch=%{x}<br>loss=%{y}<extra></extra>",
         "legendgroup": "7 eclipse_72k, weighted, r=64, train",
         "line": {
          "color": "hsv(288, 1, 1)",
          "dash": "solid"
         },
         "marker": {
          "symbol": "circle"
         },
         "mode": "lines",
         "name": "7 eclipse_72k, weighted, r=64, train",
         "orientation": "v",
         "showlegend": true,
         "type": "scatter",
         "x": [
          0,
          1,
          2,
          3
         ],
         "xaxis": "x",
         "y": [
          0.53772270102645,
          0.4831634661914816,
          0.45832358041253213,
          0.42662098761696415
         ],
         "yaxis": "y"
        },
        {
         "hovertemplate": "id=8 eclipse_72k, weighted, r=64, val<br>epoch=%{x}<br>loss=%{y}<extra></extra>",
         "legendgroup": "8 eclipse_72k, weighted, r=64, val",
         "line": {
          "color": "hsv(288, 0.5, 0.9)",
          "dash": "solid"
         },
         "marker": {
          "symbol": "circle"
         },
         "mode": "lines",
         "name": "8 eclipse_72k, weighted, r=64, val",
         "orientation": "v",
         "showlegend": true,
         "type": "scatter",
         "x": [
          1,
          2,
          3
         ],
         "xaxis": "x",
         "y": [
          0.42747701624146783,
          0.4899681950427768,
          0.5347981021879327
         ],
         "yaxis": "y"
        },
        {
         "hovertemplate": "id=9 eclipse_72k, not_weighted, r=10, train<br>epoch=%{x}<br>loss=%{y}<extra></extra>",
         "legendgroup": "9 eclipse_72k, not_weighted, r=10, train",
         "line": {
          "color": "hsv(324, 1, 1)",
          "dash": "solid"
         },
         "marker": {
          "symbol": "circle"
         },
         "mode": "lines",
         "name": "9 eclipse_72k, not_weighted, r=10, train",
         "orientation": "v",
         "showlegend": true,
         "type": "scatter",
         "x": [
          0,
          1,
          2,
          3
         ],
         "xaxis": "x",
         "y": [
          0.53477336212764,
          0.4903981394259374,
          0.4516555326820471,
          0.3661096340825412
         ],
         "yaxis": "y"
        },
        {
         "hovertemplate": "id=10 eclipse_72k, not_weighted, r=10, val<br>epoch=%{x}<br>loss=%{y}<extra></extra>",
         "legendgroup": "10 eclipse_72k, not_weighted, r=10, val",
         "line": {
          "color": "hsv(324, 0.5, 0.9)",
          "dash": "solid"
         },
         "marker": {
          "symbol": "circle"
         },
         "mode": "lines",
         "name": "10 eclipse_72k, not_weighted, r=10, val",
         "orientation": "v",
         "showlegend": true,
         "type": "scatter",
         "x": [
          1,
          2,
          3
         ],
         "xaxis": "x",
         "y": [
          0.5162299631350132,
          0.5284157816927277,
          0.5478934685363231
         ],
         "yaxis": "y"
        },
        {
         "hovertemplate": "id=11 mozilla_200k, not_weighted, r=10, train<br>epoch=%{x}<br>loss=%{y}<extra></extra>",
         "legendgroup": "11 mozilla_200k, not_weighted, r=10, train",
         "line": {
          "color": "hsv(36, 1, 1)",
          "dash": "solid"
         },
         "marker": {
          "symbol": "circle"
         },
         "mode": "lines",
         "name": "11 mozilla_200k, not_weighted, r=10, train",
         "orientation": "v",
         "showlegend": true,
         "type": "scatter",
         "x": [
          0,
          1
         ],
         "xaxis": "x",
         "y": [
          0.4699447639460788,
          0.41420239844350526
         ],
         "yaxis": "y"
        },
        {
         "hovertemplate": "id=12 mozilla_200k, not_weighted, r=10, val<br>epoch=%{x}<br>loss=%{y}<extra></extra>",
         "legendgroup": "12 mozilla_200k, not_weighted, r=10, val",
         "line": {
          "color": "hsv(36, 0.5, 0.9)",
          "dash": "solid"
         },
         "marker": {
          "symbol": "circle"
         },
         "mode": "lines",
         "name": "12 mozilla_200k, not_weighted, r=10, val",
         "orientation": "v",
         "showlegend": true,
         "type": "scatter",
         "x": [
          1,
          2
         ],
         "xaxis": "x",
         "y": [
          0.42123641235220516,
          0.458229362323308
         ],
         "yaxis": "y"
        },
        {
         "hovertemplate": "id=13 eclipse_72k, not_weighted, r=10, train<br>epoch=%{x}<br>loss=%{y}<extra></extra>",
         "legendgroup": "13 eclipse_72k, not_weighted, r=10, train",
         "line": {
          "color": "hsv(72, 1, 1)",
          "dash": "solid"
         },
         "marker": {
          "symbol": "circle"
         },
         "mode": "lines",
         "name": "13 eclipse_72k, not_weighted, r=10, train",
         "orientation": "v",
         "showlegend": true,
         "type": "scatter",
         "x": [
          0,
          1,
          2,
          3,
          4,
          5,
          6,
          7,
          8,
          9,
          10,
          11,
          12
         ],
         "xaxis": "x",
         "y": [
          0.5305134818263889,
          0.4806182496286524,
          0.43109960272228043,
          0.32438232521492355,
          0.2188748847668762,
          0.13774333793837848,
          0.09097623203266417,
          0.0634125902319347,
          0.061299418184682444,
          0.06140575348850152,
          0.06439853925407785,
          0.0680273941606882,
          0.05177937230240567
         ],
         "yaxis": "y"
        },
        {
         "hovertemplate": "id=14 eclipse_72k, not_weighted, r=10, val<br>epoch=%{x}<br>loss=%{y}<extra></extra>",
         "legendgroup": "14 eclipse_72k, not_weighted, r=10, val",
         "line": {
          "color": "hsv(72, 0.5, 0.9)",
          "dash": "solid"
         },
         "marker": {
          "symbol": "circle"
         },
         "mode": "lines",
         "name": "14 eclipse_72k, not_weighted, r=10, val",
         "orientation": "v",
         "showlegend": true,
         "type": "scatter",
         "x": [
          1,
          2,
          3,
          4,
          5,
          6,
          7,
          8,
          9,
          10,
          11,
          12,
          13
         ],
         "xaxis": "x",
         "y": [
          0.5013873963159041,
          0.4585884255906366,
          0.53398248551629,
          0.6544934805628747,
          0.9679795697630702,
          1.1665978751436754,
          1.7271023277090625,
          3.829966666248015,
          4.396338928523767,
          5.156953460017412,
          4.2532396391080995,
          4.779337432935703,
          6.387900927448656
         ],
         "yaxis": "y"
        },
        {
         "hovertemplate": "id=15 mozilla_200k, not_weighted, r=10, train<br>epoch=%{x}<br>loss=%{y}<extra></extra>",
         "legendgroup": "15 mozilla_200k, not_weighted, r=10, train",
         "line": {
          "color": "hsv(108, 1, 1)",
          "dash": "solid"
         },
         "marker": {
          "symbol": "circle"
         },
         "mode": "lines",
         "name": "15 mozilla_200k, not_weighted, r=10, train",
         "orientation": "v",
         "showlegend": true,
         "type": "scatter",
         "x": [
          0,
          1,
          2,
          3,
          4,
          5,
          6,
          7
         ],
         "xaxis": "x",
         "y": [
          0.47511611084327615,
          0.47718849596431967,
          0.42831086501084675,
          0.35774306194383576,
          0.2988264460928485,
          0.24314444623287307,
          0.1943330462645511,
          0.159197797643806
         ],
         "yaxis": "y"
        },
        {
         "hovertemplate": "id=16 mozilla_200k, not_weighted, r=10, val<br>epoch=%{x}<br>loss=%{y}<extra></extra>",
         "legendgroup": "16 mozilla_200k, not_weighted, r=10, val",
         "line": {
          "color": "hsv(108, 0.5, 0.9)",
          "dash": "solid"
         },
         "marker": {
          "symbol": "circle"
         },
         "mode": "lines",
         "name": "16 mozilla_200k, not_weighted, r=10, val",
         "orientation": "v",
         "showlegend": true,
         "type": "scatter",
         "x": [
          1,
          2,
          3,
          4,
          5,
          6,
          7,
          8
         ],
         "xaxis": "x",
         "y": [
          0.42461521437451044,
          0.5256594930018548,
          0.4818591702108922,
          0.5252170601476194,
          0.6488363328326353,
          0.6948707157507322,
          0.838799131999538,
          1.0246874593534534
         ],
         "yaxis": "y"
        },
        {
         "hovertemplate": "id=17 eclipse_72k, weighted, r=64, train<br>epoch=%{x}<br>loss=%{y}<extra></extra>",
         "legendgroup": "17 eclipse_72k, weighted, r=64, train",
         "line": {
          "color": "hsv(144, 1, 1)",
          "dash": "solid"
         },
         "marker": {
          "symbol": "circle"
         },
         "mode": "lines",
         "name": "17 eclipse_72k, weighted, r=64, train",
         "orientation": "v",
         "showlegend": true,
         "type": "scatter",
         "x": [
          0,
          1,
          2,
          3
         ],
         "xaxis": "x",
         "y": [
          0.6014990260636788,
          0.5402656863424065,
          0.5098163978925719,
          0.46362938416268024
         ],
         "yaxis": "y"
        },
        {
         "hovertemplate": "id=18 eclipse_72k, weighted, r=64, val<br>epoch=%{x}<br>loss=%{y}<extra></extra>",
         "legendgroup": "18 eclipse_72k, weighted, r=64, val",
         "line": {
          "color": "hsv(144, 0.5, 0.9)",
          "dash": "solid"
         },
         "marker": {
          "symbol": "circle"
         },
         "mode": "lines",
         "name": "18 eclipse_72k, weighted, r=64, val",
         "orientation": "v",
         "showlegend": true,
         "type": "scatter",
         "x": [
          1,
          2,
          3,
          4
         ],
         "xaxis": "x",
         "y": [
          0.411474367496263,
          0.55598121720367,
          0.628481489648919,
          0.6183968128262373
         ],
         "yaxis": "y"
        },
        {
         "hovertemplate": "id=19 mozilla_200k, weighted, r=64, train<br>epoch=%{x}<br>loss=%{y}<extra></extra>",
         "legendgroup": "19 mozilla_200k, weighted, r=64, train",
         "line": {
          "color": "hsv(180, 1, 1)",
          "dash": "solid"
         },
         "marker": {
          "symbol": "circle"
         },
         "mode": "lines",
         "name": "19 mozilla_200k, weighted, r=64, train",
         "orientation": "v",
         "showlegend": true,
         "type": "scatter",
         "x": [
          0,
          1
         ],
         "xaxis": "x",
         "y": [
          0.5334717243793473,
          0.48222724724797306
         ],
         "yaxis": "y"
        },
        {
         "hovertemplate": "id=20 mozilla_200k, weighted, r=64, val<br>epoch=%{x}<br>loss=%{y}<extra></extra>",
         "legendgroup": "20 mozilla_200k, weighted, r=64, val",
         "line": {
          "color": "hsv(180, 0.5, 0.9)",
          "dash": "solid"
         },
         "marker": {
          "symbol": "circle"
         },
         "mode": "lines",
         "name": "20 mozilla_200k, weighted, r=64, val",
         "orientation": "v",
         "showlegend": true,
         "type": "scatter",
         "x": [
          1,
          2
         ],
         "xaxis": "x",
         "y": [
          0.4263766347524129,
          0.4733199704652252
         ],
         "yaxis": "y"
        }
       ],
       "layout": {
        "height": 600,
        "legend": {
         "title": {
          "text": "id"
         },
         "tracegroupgap": 0
        },
        "template": {
         "data": {
          "bar": [
           {
            "error_x": {
             "color": "#2a3f5f"
            },
            "error_y": {
             "color": "#2a3f5f"
            },
            "marker": {
             "line": {
              "color": "#E5ECF6",
              "width": 0.5
             },
             "pattern": {
              "fillmode": "overlay",
              "size": 10,
              "solidity": 0.2
             }
            },
            "type": "bar"
           }
          ],
          "barpolar": [
           {
            "marker": {
             "line": {
              "color": "#E5ECF6",
              "width": 0.5
             },
             "pattern": {
              "fillmode": "overlay",
              "size": 10,
              "solidity": 0.2
             }
            },
            "type": "barpolar"
           }
          ],
          "carpet": [
           {
            "aaxis": {
             "endlinecolor": "#2a3f5f",
             "gridcolor": "white",
             "linecolor": "white",
             "minorgridcolor": "white",
             "startlinecolor": "#2a3f5f"
            },
            "baxis": {
             "endlinecolor": "#2a3f5f",
             "gridcolor": "white",
             "linecolor": "white",
             "minorgridcolor": "white",
             "startlinecolor": "#2a3f5f"
            },
            "type": "carpet"
           }
          ],
          "choropleth": [
           {
            "colorbar": {
             "outlinewidth": 0,
             "ticks": ""
            },
            "type": "choropleth"
           }
          ],
          "contour": [
           {
            "colorbar": {
             "outlinewidth": 0,
             "ticks": ""
            },
            "colorscale": [
             [
              0,
              "#0d0887"
             ],
             [
              0.1111111111111111,
              "#46039f"
             ],
             [
              0.2222222222222222,
              "#7201a8"
             ],
             [
              0.3333333333333333,
              "#9c179e"
             ],
             [
              0.4444444444444444,
              "#bd3786"
             ],
             [
              0.5555555555555556,
              "#d8576b"
             ],
             [
              0.6666666666666666,
              "#ed7953"
             ],
             [
              0.7777777777777778,
              "#fb9f3a"
             ],
             [
              0.8888888888888888,
              "#fdca26"
             ],
             [
              1,
              "#f0f921"
             ]
            ],
            "type": "contour"
           }
          ],
          "contourcarpet": [
           {
            "colorbar": {
             "outlinewidth": 0,
             "ticks": ""
            },
            "type": "contourcarpet"
           }
          ],
          "heatmap": [
           {
            "colorbar": {
             "outlinewidth": 0,
             "ticks": ""
            },
            "colorscale": [
             [
              0,
              "#0d0887"
             ],
             [
              0.1111111111111111,
              "#46039f"
             ],
             [
              0.2222222222222222,
              "#7201a8"
             ],
             [
              0.3333333333333333,
              "#9c179e"
             ],
             [
              0.4444444444444444,
              "#bd3786"
             ],
             [
              0.5555555555555556,
              "#d8576b"
             ],
             [
              0.6666666666666666,
              "#ed7953"
             ],
             [
              0.7777777777777778,
              "#fb9f3a"
             ],
             [
              0.8888888888888888,
              "#fdca26"
             ],
             [
              1,
              "#f0f921"
             ]
            ],
            "type": "heatmap"
           }
          ],
          "heatmapgl": [
           {
            "colorbar": {
             "outlinewidth": 0,
             "ticks": ""
            },
            "colorscale": [
             [
              0,
              "#0d0887"
             ],
             [
              0.1111111111111111,
              "#46039f"
             ],
             [
              0.2222222222222222,
              "#7201a8"
             ],
             [
              0.3333333333333333,
              "#9c179e"
             ],
             [
              0.4444444444444444,
              "#bd3786"
             ],
             [
              0.5555555555555556,
              "#d8576b"
             ],
             [
              0.6666666666666666,
              "#ed7953"
             ],
             [
              0.7777777777777778,
              "#fb9f3a"
             ],
             [
              0.8888888888888888,
              "#fdca26"
             ],
             [
              1,
              "#f0f921"
             ]
            ],
            "type": "heatmapgl"
           }
          ],
          "histogram": [
           {
            "marker": {
             "pattern": {
              "fillmode": "overlay",
              "size": 10,
              "solidity": 0.2
             }
            },
            "type": "histogram"
           }
          ],
          "histogram2d": [
           {
            "colorbar": {
             "outlinewidth": 0,
             "ticks": ""
            },
            "colorscale": [
             [
              0,
              "#0d0887"
             ],
             [
              0.1111111111111111,
              "#46039f"
             ],
             [
              0.2222222222222222,
              "#7201a8"
             ],
             [
              0.3333333333333333,
              "#9c179e"
             ],
             [
              0.4444444444444444,
              "#bd3786"
             ],
             [
              0.5555555555555556,
              "#d8576b"
             ],
             [
              0.6666666666666666,
              "#ed7953"
             ],
             [
              0.7777777777777778,
              "#fb9f3a"
             ],
             [
              0.8888888888888888,
              "#fdca26"
             ],
             [
              1,
              "#f0f921"
             ]
            ],
            "type": "histogram2d"
           }
          ],
          "histogram2dcontour": [
           {
            "colorbar": {
             "outlinewidth": 0,
             "ticks": ""
            },
            "colorscale": [
             [
              0,
              "#0d0887"
             ],
             [
              0.1111111111111111,
              "#46039f"
             ],
             [
              0.2222222222222222,
              "#7201a8"
             ],
             [
              0.3333333333333333,
              "#9c179e"
             ],
             [
              0.4444444444444444,
              "#bd3786"
             ],
             [
              0.5555555555555556,
              "#d8576b"
             ],
             [
              0.6666666666666666,
              "#ed7953"
             ],
             [
              0.7777777777777778,
              "#fb9f3a"
             ],
             [
              0.8888888888888888,
              "#fdca26"
             ],
             [
              1,
              "#f0f921"
             ]
            ],
            "type": "histogram2dcontour"
           }
          ],
          "mesh3d": [
           {
            "colorbar": {
             "outlinewidth": 0,
             "ticks": ""
            },
            "type": "mesh3d"
           }
          ],
          "parcoords": [
           {
            "line": {
             "colorbar": {
              "outlinewidth": 0,
              "ticks": ""
             }
            },
            "type": "parcoords"
           }
          ],
          "pie": [
           {
            "automargin": true,
            "type": "pie"
           }
          ],
          "scatter": [
           {
            "fillpattern": {
             "fillmode": "overlay",
             "size": 10,
             "solidity": 0.2
            },
            "type": "scatter"
           }
          ],
          "scatter3d": [
           {
            "line": {
             "colorbar": {
              "outlinewidth": 0,
              "ticks": ""
             }
            },
            "marker": {
             "colorbar": {
              "outlinewidth": 0,
              "ticks": ""
             }
            },
            "type": "scatter3d"
           }
          ],
          "scattercarpet": [
           {
            "marker": {
             "colorbar": {
              "outlinewidth": 0,
              "ticks": ""
             }
            },
            "type": "scattercarpet"
           }
          ],
          "scattergeo": [
           {
            "marker": {
             "colorbar": {
              "outlinewidth": 0,
              "ticks": ""
             }
            },
            "type": "scattergeo"
           }
          ],
          "scattergl": [
           {
            "marker": {
             "colorbar": {
              "outlinewidth": 0,
              "ticks": ""
             }
            },
            "type": "scattergl"
           }
          ],
          "scattermapbox": [
           {
            "marker": {
             "colorbar": {
              "outlinewidth": 0,
              "ticks": ""
             }
            },
            "type": "scattermapbox"
           }
          ],
          "scatterpolar": [
           {
            "marker": {
             "colorbar": {
              "outlinewidth": 0,
              "ticks": ""
             }
            },
            "type": "scatterpolar"
           }
          ],
          "scatterpolargl": [
           {
            "marker": {
             "colorbar": {
              "outlinewidth": 0,
              "ticks": ""
             }
            },
            "type": "scatterpolargl"
           }
          ],
          "scatterternary": [
           {
            "marker": {
             "colorbar": {
              "outlinewidth": 0,
              "ticks": ""
             }
            },
            "type": "scatterternary"
           }
          ],
          "surface": [
           {
            "colorbar": {
             "outlinewidth": 0,
             "ticks": ""
            },
            "colorscale": [
             [
              0,
              "#0d0887"
             ],
             [
              0.1111111111111111,
              "#46039f"
             ],
             [
              0.2222222222222222,
              "#7201a8"
             ],
             [
              0.3333333333333333,
              "#9c179e"
             ],
             [
              0.4444444444444444,
              "#bd3786"
             ],
             [
              0.5555555555555556,
              "#d8576b"
             ],
             [
              0.6666666666666666,
              "#ed7953"
             ],
             [
              0.7777777777777778,
              "#fb9f3a"
             ],
             [
              0.8888888888888888,
              "#fdca26"
             ],
             [
              1,
              "#f0f921"
             ]
            ],
            "type": "surface"
           }
          ],
          "table": [
           {
            "cells": {
             "fill": {
              "color": "#EBF0F8"
             },
             "line": {
              "color": "white"
             }
            },
            "header": {
             "fill": {
              "color": "#C8D4E3"
             },
             "line": {
              "color": "white"
             }
            },
            "type": "table"
           }
          ]
         },
         "layout": {
          "annotationdefaults": {
           "arrowcolor": "#2a3f5f",
           "arrowhead": 0,
           "arrowwidth": 1
          },
          "autotypenumbers": "strict",
          "coloraxis": {
           "colorbar": {
            "outlinewidth": 0,
            "ticks": ""
           }
          },
          "colorscale": {
           "diverging": [
            [
             0,
             "#8e0152"
            ],
            [
             0.1,
             "#c51b7d"
            ],
            [
             0.2,
             "#de77ae"
            ],
            [
             0.3,
             "#f1b6da"
            ],
            [
             0.4,
             "#fde0ef"
            ],
            [
             0.5,
             "#f7f7f7"
            ],
            [
             0.6,
             "#e6f5d0"
            ],
            [
             0.7,
             "#b8e186"
            ],
            [
             0.8,
             "#7fbc41"
            ],
            [
             0.9,
             "#4d9221"
            ],
            [
             1,
             "#276419"
            ]
           ],
           "sequential": [
            [
             0,
             "#0d0887"
            ],
            [
             0.1111111111111111,
             "#46039f"
            ],
            [
             0.2222222222222222,
             "#7201a8"
            ],
            [
             0.3333333333333333,
             "#9c179e"
            ],
            [
             0.4444444444444444,
             "#bd3786"
            ],
            [
             0.5555555555555556,
             "#d8576b"
            ],
            [
             0.6666666666666666,
             "#ed7953"
            ],
            [
             0.7777777777777778,
             "#fb9f3a"
            ],
            [
             0.8888888888888888,
             "#fdca26"
            ],
            [
             1,
             "#f0f921"
            ]
           ],
           "sequentialminus": [
            [
             0,
             "#0d0887"
            ],
            [
             0.1111111111111111,
             "#46039f"
            ],
            [
             0.2222222222222222,
             "#7201a8"
            ],
            [
             0.3333333333333333,
             "#9c179e"
            ],
            [
             0.4444444444444444,
             "#bd3786"
            ],
            [
             0.5555555555555556,
             "#d8576b"
            ],
            [
             0.6666666666666666,
             "#ed7953"
            ],
            [
             0.7777777777777778,
             "#fb9f3a"
            ],
            [
             0.8888888888888888,
             "#fdca26"
            ],
            [
             1,
             "#f0f921"
            ]
           ]
          },
          "colorway": [
           "#636efa",
           "#EF553B",
           "#00cc96",
           "#ab63fa",
           "#FFA15A",
           "#19d3f3",
           "#FF6692",
           "#B6E880",
           "#FF97FF",
           "#FECB52"
          ],
          "font": {
           "color": "#2a3f5f"
          },
          "geo": {
           "bgcolor": "white",
           "lakecolor": "white",
           "landcolor": "#E5ECF6",
           "showlakes": true,
           "showland": true,
           "subunitcolor": "white"
          },
          "hoverlabel": {
           "align": "left"
          },
          "hovermode": "closest",
          "mapbox": {
           "style": "light"
          },
          "paper_bgcolor": "white",
          "plot_bgcolor": "#E5ECF6",
          "polar": {
           "angularaxis": {
            "gridcolor": "white",
            "linecolor": "white",
            "ticks": ""
           },
           "bgcolor": "#E5ECF6",
           "radialaxis": {
            "gridcolor": "white",
            "linecolor": "white",
            "ticks": ""
           }
          },
          "scene": {
           "xaxis": {
            "backgroundcolor": "#E5ECF6",
            "gridcolor": "white",
            "gridwidth": 2,
            "linecolor": "white",
            "showbackground": true,
            "ticks": "",
            "zerolinecolor": "white"
           },
           "yaxis": {
            "backgroundcolor": "#E5ECF6",
            "gridcolor": "white",
            "gridwidth": 2,
            "linecolor": "white",
            "showbackground": true,
            "ticks": "",
            "zerolinecolor": "white"
           },
           "zaxis": {
            "backgroundcolor": "#E5ECF6",
            "gridcolor": "white",
            "gridwidth": 2,
            "linecolor": "white",
            "showbackground": true,
            "ticks": "",
            "zerolinecolor": "white"
           }
          },
          "shapedefaults": {
           "line": {
            "color": "#2a3f5f"
           }
          },
          "ternary": {
           "aaxis": {
            "gridcolor": "white",
            "linecolor": "white",
            "ticks": ""
           },
           "baxis": {
            "gridcolor": "white",
            "linecolor": "white",
            "ticks": ""
           },
           "bgcolor": "#E5ECF6",
           "caxis": {
            "gridcolor": "white",
            "linecolor": "white",
            "ticks": ""
           }
          },
          "title": {
           "x": 0.05
          },
          "xaxis": {
           "automargin": true,
           "gridcolor": "white",
           "linecolor": "white",
           "ticks": "",
           "title": {
            "standoff": 15
           },
           "zerolinecolor": "white",
           "zerolinewidth": 2
          },
          "yaxis": {
           "automargin": true,
           "gridcolor": "white",
           "linecolor": "white",
           "ticks": "",
           "title": {
            "standoff": 15
           },
           "zerolinecolor": "white",
           "zerolinewidth": 2
          }
         }
        },
        "title": {
         "text": "bs=4 ; lora_alpha=4 ; lora_dropout=0.1 ; model_name=Llama-2-7b-chat-hf ;<br>learning_rate=0.0001"
        },
        "width": 800,
        "xaxis": {
         "anchor": "y",
         "domain": [
          0,
          1
         ],
         "title": {
          "text": "epoch"
         }
        },
        "yaxis": {
         "anchor": "x",
         "domain": [
          0,
          1
         ],
         "title": {
          "text": "loss"
         }
        }
       }
      }
     },
     "metadata": {},
     "output_type": "display_data"
    }
   ],
   "source": [
    "img = px.line(df,x=\"epoch\",y=\"loss\",color=\"id\",color_discrete_map=color_map, width=width, height=height, title=title)\n",
    "img.show()\n",
    "img_to_clipboard(img)"
   ]
  },
  {
   "cell_type": "code",
   "execution_count": null,
   "metadata": {},
   "outputs": [],
   "source": [
    "lr = [1e-4,1e-5]\n",
    "qlora_r = [10,64,5]\n",
    "weighted = [True,False]\n",
    "qlora_alpha = [4,10]\n",
    "dropout = [0.1,0,0.2]\n",
    "\n",
    "print(2*3*2*2*3)"
   ]
  },
  {
   "cell_type": "code",
   "execution_count": null,
   "metadata": {},
   "outputs": [],
   "source": []
  }
 ],
 "metadata": {
  "kernelspec": {
   "display_name": "severityPrediction",
   "language": "python",
   "name": "python3"
  },
  "language_info": {
   "codemirror_mode": {
    "name": "ipython",
    "version": 3
   },
   "file_extension": ".py",
   "mimetype": "text/x-python",
   "name": "python",
   "nbconvert_exporter": "python",
   "pygments_lexer": "ipython3",
   "version": "3.9.18"
  }
 },
 "nbformat": 4,
 "nbformat_minor": 2
}
