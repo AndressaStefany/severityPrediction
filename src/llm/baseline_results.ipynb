{
 "cells": [
  {
   "cell_type": "code",
   "execution_count": 1,
   "metadata": {},
   "outputs": [
    {
     "name": "stderr",
     "output_type": "stream",
     "text": [
      "c:\\Users\\robin\\miniconda3\\envs\\severityPrediction\\lib\\site-packages\\bitsandbytes\\cextension.py:34: UserWarning: The installed version of bitsandbytes was compiled without GPU support. 8-bit optimizers, 8-bit multiplication, and GPU quantization are unavailable.\n",
      "  warn(\"The installed version of bitsandbytes was compiled without GPU support. \"\n"
     ]
    },
    {
     "name": "stdout",
     "output_type": "stream",
     "text": [
      "'NoneType' object has no attribute 'cadam32bit_grad_fp32'\n",
      "Import of import evaluate failed\n",
      "Import of from pytorchtools import EarlyStopping failed\n"
     ]
    }
   ],
   "source": [
    "import plotly.express as px\n",
    "import pandas as pd\n",
    "import json\n",
    "import os\n",
    "os.environ['USER'] = \"rmoine\"\n",
    "from pathlib import Path\n",
    "import plotly.graph_objects as go\n",
    "import numpy as np\n",
    "from typing import *\n",
    "from llama.main import compute_metrics_from_files, DatasetName, compute_metrics_from_list, get_tokenizer\n",
    "import llama.main as m\n",
    "from sklearn.metrics import f1_score, auc, roc_curve, confusion_matrix\n",
    "from PIL import Image\n",
    "from pandasql import sqldf\n",
    "from io import BytesIO\n",
    "import base64\n",
    "from plotly.graph_objects import Figure\n",
    "import win32clipboard\n",
    "import textwrap\n",
    "import colorsys\n",
    "import optuna\n",
    "import tqdm\n",
    "import re\n",
    "import random\n",
    "def img_to_clipboard(fig: Figure):\n",
    "    img_bytes = fig.to_image(format=\"png\")\n",
    "    image = Image.open(BytesIO(img_bytes))\n",
    "    \n",
    "    output = BytesIO()\n",
    "    image.convert('RGB').save(output, 'BMP')\n",
    "    data = output.getvalue()[14:]\n",
    "    output.close()\n",
    "    win32clipboard.OpenClipboard()\n",
    "    win32clipboard.EmptyClipboard()\n",
    "    win32clipboard.SetClipboardData(win32clipboard.CF_DIB, data)\n",
    "    win32clipboard.CloseClipboard()\n",
    "root = Path(f\"../../data/baseline_studies/analysis/sel/\")"
   ]
  },
  {
   "cell_type": "code",
   "execution_count": 2,
   "metadata": {},
   "outputs": [
    {
     "name": "stderr",
     "output_type": "stream",
     "text": [
      "  0%|          | 0/36 [00:00<?, ?it/s]"
     ]
    },
    {
     "name": "stdout",
     "output_type": "stream",
     "text": [
      "dataset='val' f.stem='BernoulliNB_nb_bino_eclipse_72k_1000_samples_0' auc_test=0.7460453815334909\n",
      "dataset='test' f.stem='BernoulliNB_nb_bino_eclipse_72k_1000_samples_0' auc_test=0.7473364753219431\n"
     ]
    },
    {
     "name": "stderr",
     "output_type": "stream",
     "text": [
      "  3%|▎         | 1/36 [00:26<15:23, 26.38s/it]"
     ]
    },
    {
     "name": "stdout",
     "output_type": "stream",
     "text": [
      "dataset='val' f.stem='BernoulliNB_nb_bino_eclipse_72k_2000_samples_0' auc_test=0.7403913248503835\n",
      "dataset='test' f.stem='BernoulliNB_nb_bino_eclipse_72k_2000_samples_0' auc_test=0.7369830781956884\n"
     ]
    },
    {
     "name": "stderr",
     "output_type": "stream",
     "text": [
      "  6%|▌         | 2/36 [00:39<10:28, 18.49s/it]"
     ]
    },
    {
     "name": "stdout",
     "output_type": "stream",
     "text": [
      "dataset='val' f.stem='BernoulliNB_nb_bino_eclipse_72k_200_samples_0' auc_test=0.7070690524579811\n",
      "dataset='test' f.stem='BernoulliNB_nb_bino_eclipse_72k_200_samples_0' auc_test=0.7075231564220137\n"
     ]
    },
    {
     "name": "stderr",
     "output_type": "stream",
     "text": [
      "  8%|▊         | 3/36 [01:08<12:46, 23.24s/it]"
     ]
    },
    {
     "name": "stdout",
     "output_type": "stream",
     "text": [
      "dataset='val' f.stem='BernoulliNB_nb_bino_eclipse_72k_4000_samples_0' auc_test=0.7510319500260046\n",
      "dataset='test' f.stem='BernoulliNB_nb_bino_eclipse_72k_4000_samples_0' auc_test=0.7515989930658389\n"
     ]
    },
    {
     "name": "stderr",
     "output_type": "stream",
     "text": [
      " 11%|█         | 4/36 [01:20<10:02, 18.82s/it]"
     ]
    },
    {
     "name": "stdout",
     "output_type": "stream",
     "text": [
      "dataset='val' f.stem='BernoulliNB_nb_bino_eclipse_72k_500_samples_0' auc_test=0.7252944049520317\n",
      "dataset='test' f.stem='BernoulliNB_nb_bino_eclipse_72k_500_samples_0' auc_test=0.7306809060364988\n"
     ]
    },
    {
     "name": "stderr",
     "output_type": "stream",
     "text": [
      " 14%|█▍        | 5/36 [01:48<11:28, 22.20s/it]"
     ]
    },
    {
     "name": "stdout",
     "output_type": "stream",
     "text": [
      "dataset='val' f.stem='BernoulliNB_nb_bino_eclipse_72k_8000_samples_0' auc_test=0.7365213621765888\n",
      "dataset='test' f.stem='BernoulliNB_nb_bino_eclipse_72k_8000_samples_0' auc_test=0.7372285822244462\n"
     ]
    },
    {
     "name": "stderr",
     "output_type": "stream",
     "text": [
      " 17%|█▋        | 6/36 [01:58<09:05, 18.18s/it]"
     ]
    },
    {
     "name": "stdout",
     "output_type": "stream",
     "text": [
      "dataset='val' f.stem='BernoulliNB_nb_bino_mozilla_200k_1000_samples_0' auc_test=0.7553334146839553\n",
      "dataset='test' f.stem='BernoulliNB_nb_bino_mozilla_200k_1000_samples_0' auc_test=0.7531933276541517\n"
     ]
    },
    {
     "name": "stderr",
     "output_type": "stream",
     "text": [
      " 19%|█▉        | 7/36 [05:38<40:40, 84.15s/it]"
     ]
    },
    {
     "name": "stdout",
     "output_type": "stream",
     "text": [
      "dataset='val' f.stem='BernoulliNB_nb_bino_mozilla_200k_200_samples_0' auc_test=0.6805506931789921\n",
      "dataset='test' f.stem='BernoulliNB_nb_bino_mozilla_200k_200_samples_0' auc_test=0.6785438196062075\n"
     ]
    },
    {
     "name": "stderr",
     "output_type": "stream",
     "text": [
      " 22%|██▏       | 8/36 [08:24<51:23, 110.12s/it]"
     ]
    },
    {
     "name": "stdout",
     "output_type": "stream",
     "text": [
      "dataset='val' f.stem='BernoulliNB_nb_bino_mozilla_200k_500_samples_0' auc_test=0.7135078574786866\n",
      "dataset='test' f.stem='BernoulliNB_nb_bino_mozilla_200k_500_samples_0' auc_test=0.7091925532436105\n"
     ]
    },
    {
     "name": "stderr",
     "output_type": "stream",
     "text": [
      " 25%|██▌       | 9/36 [12:10<1:05:49, 146.30s/it]"
     ]
    },
    {
     "name": "stdout",
     "output_type": "stream",
     "text": [
      "dataset='val' f.stem='BernoulliNB_nb_bino_mozilla_200k_8000_samples_0' auc_test=0.8055546433589632\n",
      "dataset='test' f.stem='BernoulliNB_nb_bino_mozilla_200k_8000_samples_0' auc_test=0.8047842744640239\n"
     ]
    },
    {
     "name": "stderr",
     "output_type": "stream",
     "text": [
      " 28%|██▊       | 10/36 [15:54<1:13:47, 170.29s/it]"
     ]
    },
    {
     "name": "stdout",
     "output_type": "stream",
     "text": [
      "dataset='val' f.stem='ComplementNB_nb_non_bino_mozilla_200k_2000_samples_0' auc_test=0.7578710622396897\n",
      "dataset='test' f.stem='ComplementNB_nb_non_bino_mozilla_200k_2000_samples_0' auc_test=0.7570344513933618\n"
     ]
    },
    {
     "name": "stderr",
     "output_type": "stream",
     "text": [
      " 31%|███       | 11/36 [20:20<1:23:11, 199.68s/it]"
     ]
    },
    {
     "name": "stdout",
     "output_type": "stream",
     "text": [
      "dataset='val' f.stem='GaussianNB_nb_non_bino_mozilla_200k_4000_samples_0' auc_test=0.7744747251389749\n",
      "dataset='test' f.stem='GaussianNB_nb_non_bino_mozilla_200k_4000_samples_0' auc_test=0.7719324659627456\n"
     ]
    },
    {
     "name": "stderr",
     "output_type": "stream",
     "text": [
      " 33%|███▎      | 12/36 [24:22<1:25:01, 212.58s/it]"
     ]
    },
    {
     "name": "stdout",
     "output_type": "stream",
     "text": [
      "dataset='val' f.stem='KNeighborsClassifier_svm_knn_eclipse_72k_1000_samples_0' auc_test=0.5716412546019134\n",
      "dataset='test' f.stem='KNeighborsClassifier_svm_knn_eclipse_72k_1000_samples_0' auc_test=0.5714702157861951\n"
     ]
    },
    {
     "name": "stderr",
     "output_type": "stream",
     "text": [
      " 36%|███▌      | 13/36 [25:01<1:01:18, 159.94s/it]"
     ]
    },
    {
     "name": "stdout",
     "output_type": "stream",
     "text": [
      "dataset='val' f.stem='KNeighborsClassifier_svm_knn_eclipse_72k_2000_samples_0' auc_test=0.5636741584744178\n",
      "dataset='test' f.stem='KNeighborsClassifier_svm_knn_eclipse_72k_2000_samples_0' auc_test=0.563951654905485\n"
     ]
    },
    {
     "name": "stderr",
     "output_type": "stream",
     "text": [
      " 39%|███▉      | 14/36 [25:39<45:06, 123.03s/it]  "
     ]
    },
    {
     "name": "stdout",
     "output_type": "stream",
     "text": [
      "dataset='val' f.stem='KNeighborsClassifier_svm_knn_eclipse_72k_200_samples_0' auc_test=0.562013663455162\n",
      "dataset='test' f.stem='KNeighborsClassifier_svm_knn_eclipse_72k_200_samples_0' auc_test=0.5669423310627957\n"
     ]
    },
    {
     "name": "stderr",
     "output_type": "stream",
     "text": [
      " 42%|████▏     | 15/36 [25:39<30:08, 86.10s/it] "
     ]
    },
    {
     "name": "stdout",
     "output_type": "stream",
     "text": [
      "dataset='val' f.stem='KNeighborsClassifier_svm_knn_eclipse_72k_4000_samples_0' auc_test=0.5959496264824982\n",
      "dataset='test' f.stem='KNeighborsClassifier_svm_knn_eclipse_72k_4000_samples_0' auc_test=0.6051817281277765\n"
     ]
    },
    {
     "name": "stderr",
     "output_type": "stream",
     "text": [
      " 44%|████▍     | 16/36 [26:20<24:10, 72.55s/it]"
     ]
    },
    {
     "name": "stdout",
     "output_type": "stream",
     "text": [
      "dataset='val' f.stem='KNeighborsClassifier_svm_knn_eclipse_72k_500_samples_0' auc_test=0.6016200702178163\n",
      "dataset='test' f.stem='KNeighborsClassifier_svm_knn_eclipse_72k_500_samples_0' auc_test=0.6032670724359432\n"
     ]
    },
    {
     "name": "stderr",
     "output_type": "stream",
     "text": [
      " 47%|████▋     | 17/36 [26:55<19:21, 61.13s/it]"
     ]
    },
    {
     "name": "stdout",
     "output_type": "stream",
     "text": [
      "dataset='val' f.stem='KNeighborsClassifier_svm_knn_eclipse_72k_8000_samples_0' auc_test=0.5955277013985321\n",
      "dataset='test' f.stem='KNeighborsClassifier_svm_knn_eclipse_72k_8000_samples_0' auc_test=0.6070467009119597\n"
     ]
    },
    {
     "name": "stderr",
     "output_type": "stream",
     "text": [
      " 50%|█████     | 18/36 [27:27<15:44, 52.49s/it]"
     ]
    },
    {
     "name": "stdout",
     "output_type": "stream",
     "text": [
      "dataset='val' f.stem='KNeighborsClassifier_svm_knn_mozilla_200k_1000_samples_0' auc_test=0.6739016761857668\n",
      "dataset='test' f.stem='KNeighborsClassifier_svm_knn_mozilla_200k_1000_samples_0' auc_test=0.6747847797931947\n"
     ]
    },
    {
     "name": "stderr",
     "output_type": "stream",
     "text": [
      " 53%|█████▎    | 19/36 [29:24<20:21, 71.87s/it]"
     ]
    },
    {
     "name": "stdout",
     "output_type": "stream",
     "text": [
      "dataset='val' f.stem='KNeighborsClassifier_svm_knn_mozilla_200k_2000_samples_0' auc_test=0.6776232795699731\n",
      "dataset='test' f.stem='KNeighborsClassifier_svm_knn_mozilla_200k_2000_samples_0' auc_test=0.6805828228097891\n"
     ]
    },
    {
     "name": "stderr",
     "output_type": "stream",
     "text": [
      " 56%|█████▌    | 20/36 [32:01<25:56, 97.27s/it]"
     ]
    },
    {
     "name": "stdout",
     "output_type": "stream",
     "text": [
      "dataset='val' f.stem='KNeighborsClassifier_svm_knn_mozilla_200k_200_samples_0' auc_test=0.6430837171003714\n",
      "dataset='test' f.stem='KNeighborsClassifier_svm_knn_mozilla_200k_200_samples_0' auc_test=0.6444208517284694\n"
     ]
    },
    {
     "name": "stderr",
     "output_type": "stream",
     "text": [
      " 58%|█████▊    | 21/36 [32:34<19:29, 77.96s/it]"
     ]
    },
    {
     "name": "stdout",
     "output_type": "stream",
     "text": [
      "dataset='val' f.stem='KNeighborsClassifier_svm_knn_mozilla_200k_4000_samples_0' auc_test=0.689793214940027\n",
      "dataset='test' f.stem='KNeighborsClassifier_svm_knn_mozilla_200k_4000_samples_0' auc_test=0.6844718502153035\n"
     ]
    },
    {
     "name": "stderr",
     "output_type": "stream",
     "text": [
      " 61%|██████    | 22/36 [34:58<22:49, 97.80s/it]"
     ]
    },
    {
     "name": "stdout",
     "output_type": "stream",
     "text": [
      "dataset='val' f.stem='KNeighborsClassifier_svm_knn_mozilla_200k_500_samples_0' auc_test=0.6425805308634038\n",
      "dataset='test' f.stem='KNeighborsClassifier_svm_knn_mozilla_200k_500_samples_0' auc_test=0.6461963334649241\n"
     ]
    },
    {
     "name": "stderr",
     "output_type": "stream",
     "text": [
      " 64%|██████▍   | 23/36 [36:05<19:12, 88.63s/it]"
     ]
    },
    {
     "name": "stdout",
     "output_type": "stream",
     "text": [
      "dataset='val' f.stem='KNeighborsClassifier_svm_knn_mozilla_200k_8000_samples_0' auc_test=0.6830822968311181\n",
      "dataset='test' f.stem='KNeighborsClassifier_svm_knn_mozilla_200k_8000_samples_0' auc_test=0.6818655252383704\n"
     ]
    },
    {
     "name": "stderr",
     "output_type": "stream",
     "text": [
      " 67%|██████▋   | 24/36 [38:53<22:27, 112.29s/it]"
     ]
    },
    {
     "name": "stdout",
     "output_type": "stream",
     "text": [
      "dataset='val' f.stem='SVC_svm_knn_eclipse_72k_1000_samples_0' auc_test=0.690273920498146\n",
      "dataset='test' f.stem='SVC_svm_knn_eclipse_72k_1000_samples_0' auc_test=0.6893779168921886\n"
     ]
    },
    {
     "name": "stderr",
     "output_type": "stream",
     "text": [
      " 69%|██████▉   | 25/36 [39:24<16:07, 88.00s/it] "
     ]
    },
    {
     "name": "stdout",
     "output_type": "stream",
     "text": [
      "dataset='val' f.stem='SVC_svm_knn_eclipse_72k_2000_samples_0' auc_test=0.7312236951410538\n",
      "dataset='test' f.stem='SVC_svm_knn_eclipse_72k_2000_samples_0' auc_test=0.727996139745305\n"
     ]
    },
    {
     "name": "stderr",
     "output_type": "stream",
     "text": [
      " 72%|███████▏  | 26/36 [39:56<11:52, 71.27s/it]"
     ]
    },
    {
     "name": "stdout",
     "output_type": "stream",
     "text": [
      "dataset='val' f.stem='SVC_svm_knn_eclipse_72k_200_samples_0' auc_test=0.6703304309219971\n",
      "dataset='test' f.stem='SVC_svm_knn_eclipse_72k_200_samples_0' auc_test=0.6680135006791188\n"
     ]
    },
    {
     "name": "stderr",
     "output_type": "stream",
     "text": [
      " 75%|███████▌  | 27/36 [40:32<09:04, 60.50s/it]"
     ]
    },
    {
     "name": "stdout",
     "output_type": "stream",
     "text": [
      "dataset='val' f.stem='SVC_svm_knn_eclipse_72k_4000_samples_0' auc_test=0.7523367578823892\n",
      "dataset='test' f.stem='SVC_svm_knn_eclipse_72k_4000_samples_0' auc_test=0.7554976460616211\n"
     ]
    },
    {
     "name": "stderr",
     "output_type": "stream",
     "text": [
      " 78%|███████▊  | 28/36 [41:05<06:59, 52.41s/it]"
     ]
    },
    {
     "name": "stdout",
     "output_type": "stream",
     "text": [
      "dataset='val' f.stem='SVC_svm_knn_eclipse_72k_500_samples_0' auc_test=0.6641823742245845\n",
      "dataset='test' f.stem='SVC_svm_knn_eclipse_72k_500_samples_0' auc_test=0.6715005974203696\n"
     ]
    },
    {
     "name": "stderr",
     "output_type": "stream",
     "text": [
      " 81%|████████  | 29/36 [41:41<05:33, 47.58s/it]"
     ]
    },
    {
     "name": "stdout",
     "output_type": "stream",
     "text": [
      "dataset='val' f.stem='SVC_svm_knn_eclipse_72k_8000_samples_0' auc_test=0.758163613029533\n",
      "dataset='test' f.stem='SVC_svm_knn_eclipse_72k_8000_samples_0' auc_test=0.7645362077593161\n"
     ]
    },
    {
     "name": "stderr",
     "output_type": "stream",
     "text": [
      " 83%|████████▎ | 30/36 [42:14<04:18, 43.03s/it]"
     ]
    },
    {
     "name": "stdout",
     "output_type": "stream",
     "text": [
      "dataset='val' f.stem='SVC_svm_knn_mozilla_200k_1000_samples_0' auc_test=0.7676336033909782\n",
      "dataset='test' f.stem='SVC_svm_knn_mozilla_200k_1000_samples_0' auc_test=0.765402599854455\n"
     ]
    },
    {
     "name": "stderr",
     "output_type": "stream",
     "text": [
      " 86%|████████▌ | 31/36 [46:00<08:09, 97.96s/it]"
     ]
    },
    {
     "name": "stdout",
     "output_type": "stream",
     "text": [
      "dataset='val' f.stem='SVC_svm_knn_mozilla_200k_2000_samples_0' auc_test=0.7829090663697055\n",
      "dataset='test' f.stem='SVC_svm_knn_mozilla_200k_2000_samples_0' auc_test=0.7833748306057102\n"
     ]
    },
    {
     "name": "stderr",
     "output_type": "stream",
     "text": [
      " 89%|████████▉ | 32/36 [49:28<08:44, 131.01s/it]"
     ]
    },
    {
     "name": "stdout",
     "output_type": "stream",
     "text": [
      "dataset='val' f.stem='SVC_svm_knn_mozilla_200k_200_samples_0' auc_test=0.692343751881706\n",
      "dataset='test' f.stem='SVC_svm_knn_mozilla_200k_200_samples_0' auc_test=0.6864758843837638\n"
     ]
    },
    {
     "name": "stderr",
     "output_type": "stream",
     "text": [
      " 92%|█████████▏| 33/36 [50:29<05:29, 109.99s/it]"
     ]
    },
    {
     "name": "stdout",
     "output_type": "stream",
     "text": [
      "dataset='val' f.stem='SVC_svm_knn_mozilla_200k_4000_samples_0' auc_test=0.7954035321098524\n",
      "dataset='test' f.stem='SVC_svm_knn_mozilla_200k_4000_samples_0' auc_test=0.7949431876625808\n"
     ]
    },
    {
     "name": "stderr",
     "output_type": "stream",
     "text": [
      " 94%|█████████▍| 34/36 [53:51<04:34, 137.49s/it]"
     ]
    },
    {
     "name": "stdout",
     "output_type": "stream",
     "text": [
      "dataset='val' f.stem='SVC_svm_knn_mozilla_200k_500_samples_0' auc_test=0.7326326425866516\n",
      "dataset='test' f.stem='SVC_svm_knn_mozilla_200k_500_samples_0' auc_test=0.7273838647113249\n"
     ]
    },
    {
     "name": "stderr",
     "output_type": "stream",
     "text": [
      " 97%|█████████▋| 35/36 [55:49<02:11, 131.82s/it]"
     ]
    },
    {
     "name": "stdout",
     "output_type": "stream",
     "text": [
      "dataset='val' f.stem='SVC_svm_knn_mozilla_200k_8000_samples_0' auc_test=0.8056577889065122\n",
      "dataset='test' f.stem='SVC_svm_knn_mozilla_200k_8000_samples_0' auc_test=0.8045063818970057\n"
     ]
    },
    {
     "name": "stderr",
     "output_type": "stream",
     "text": [
      "100%|██████████| 36/36 [59:18<00:00, 98.85s/it] \n"
     ]
    }
   ],
   "source": [
    "l = []\n",
    "files = list(enumerate(root.rglob(\"*_0.json\")))\n",
    "for i,f in tqdm.tqdm(files):\n",
    "    algorithm_group: Literal['bayesian_network','svc','knn']\n",
    "    if \"_nb_\" in f.stem:\n",
    "        algorithm_group = 'bayesian_network'\n",
    "    elif \"_svm_knn_\" in f.stem:\n",
    "        if \"KNeighborsClassifier\" in f.stem:\n",
    "            algorithm_group = \"knn\"\n",
    "        elif \"SVC_\" in f.stem:\n",
    "            algorithm_group = \"svc\"\n",
    "        else:\n",
    "            raise Exception\n",
    "    else:\n",
    "        raise Exception\n",
    "    num_samples = int(re.search(\"([0-9]+)_samples\", f.stem).group(1))\n",
    "            \n",
    "    with open(f) as fp:\n",
    "        data = json.load(fp)[0]\n",
    "    dataset_choice = \"eclipse_72k\" if \"eclipse_72k\" in f.stem else \"mozilla_200k\"\n",
    "    fixed_params = {k:v for k,v in data.items() if not isinstance(v, list)}\n",
    "    fixed_params[\"params\"] = fixed_params\n",
    "    fixed_params[\"run_id\"] = i\n",
    "    fixed_params[\"num_samples\"] = num_samples\n",
    "    fixed_params[\"algorithm_group\"] = algorithm_group\n",
    "    fixed_params[\"dataset_choice\"] = dataset_choice\n",
    "    infos = {**fixed_params}\n",
    "    for dataset in [\"val\",\"test\"]:\n",
    "        d = [\n",
    "            {\"binary_severity\":b, \"severity_pred\": p, \"bug_id\": i} \n",
    "            for i,(b,p) in enumerate(zip(\n",
    "                data[f'binary_severity_{dataset}'],\n",
    "                data[f'y_{dataset}_pred']\n",
    "                ))]\n",
    "        threasholds = sorted(np.unique(filter(lambda x:x is not None,data[f'thresholds_{dataset}'])))\n",
    "        fpr, tpr, thresholds = roc_curve(data[f'binary_severity_{dataset}'], data[f'y_{dataset}_pred'])\n",
    "        auc_test = auc(fpr, tpr)\n",
    "        fig = go.Figure()\n",
    "        y_scores = data[f'y_{dataset}_pred']\n",
    "        y_true = data[f'binary_severity_{dataset}']\n",
    "        roc_data = []\n",
    "        best_accuracy = 0\n",
    "        best_threshold = -1\n",
    "        best_data = None\n",
    "\n",
    "        for i, threshold in enumerate(thresholds):\n",
    "            y_pred = (y_scores >= threshold).astype(int)\n",
    "            cm = confusion_matrix(y_true, y_pred)\n",
    "            accuracy = np.sum(np.diag(cm))/np.sum(cm)*100\n",
    "            if accuracy > best_accuracy:\n",
    "                best_accuracy = accuracy\n",
    "                best_threshold = threshold\n",
    "                best_data = y_true, y_pred\n",
    "        assert best_data is not None\n",
    "        d = [\n",
    "            {\"binary_severity\":y_true, \"severity_pred\": y_pred, \"bug_id\": i} for i,(y_true, y_pred) in enumerate(zip(*best_data))]\n",
    "        cm, f1, _ = compute_metrics_from_list(d, pred_field=\"severity_pred\")\n",
    "        accuracy = np.sum(np.diag(cm)) / np.sum(cm)\n",
    "        print(f\"{dataset=} {f.stem=} {auc_test=}\")\n",
    "        infos[f\"thresholdtest_accuracy_{dataset}\"] = accuracy\n",
    "        infos[f\"thresholdtest_f1_{dataset}\"] = f1\n",
    "        infos[f\"threashold_used_{dataset}\"] = best_threshold\n",
    "    l.append(infos)\n",
    "df = pd.DataFrame(l)"
   ]
  },
  {
   "cell_type": "code",
   "execution_count": 13,
   "metadata": {},
   "outputs": [],
   "source": [
    "df.to_pickle(\"../../data/baseline_results_analysed.json\")"
   ]
  },
  {
   "cell_type": "code",
   "execution_count": 15,
   "metadata": {},
   "outputs": [],
   "source": [
    "df = pd.read_pickle(\"../../data/baseline_results_analysed.json\")"
   ]
  },
  {
   "cell_type": "code",
   "execution_count": 19,
   "metadata": {},
   "outputs": [
    {
     "name": "stderr",
     "output_type": "stream",
     "text": [
      "C:\\Users\\robin\\AppData\\Local\\Temp\\ipykernel_19428\\246019619.py:3: SettingWithCopyWarning:\n",
      "\n",
      "\n",
      "A value is trying to be set on a copy of a slice from a DataFrame\n",
      "\n",
      "See the caveats in the documentation: https://pandas.pydata.org/pandas-docs/stable/user_guide/indexing.html#returning-a-view-versus-a-copy\n",
      "\n"
     ]
    },
    {
     "data": {
      "application/vnd.plotly.v1+json": {
       "config": {
        "plotlyServerURL": "https://plot.ly"
       },
       "data": [
        {
         "hovertemplate": "algorithm_group=knn<br>num_samples=%{x}<br>Validation accuracy with best threshold=%{y}<extra></extra>",
         "legendgroup": "knn",
         "line": {
          "color": "#636efa",
          "dash": "solid"
         },
         "marker": {
          "symbol": "circle"
         },
         "mode": "markers+lines",
         "name": "knn validation",
         "orientation": "v",
         "showlegend": true,
         "type": "scatter",
         "x": [
          200,
          500,
          1000,
          2000,
          4000,
          8000
         ],
         "xaxis": "x",
         "y": [
          0.7494112757999722,
          0.7494112757999722,
          0.7499653691647042,
          0.7494112757999722,
          0.7501731541764788,
          0.7501731541764788
         ],
         "yaxis": "y"
        },
        {
         "hovertemplate": "algorithm_group=svc<br>num_samples=%{x}<br>Validation accuracy with best threshold=%{y}<extra></extra>",
         "legendgroup": "svc",
         "line": {
          "color": "#EF553B",
          "dash": "solid"
         },
         "marker": {
          "symbol": "circle"
         },
         "mode": "markers+lines",
         "name": "svc validation",
         "orientation": "v",
         "showlegend": true,
         "type": "scatter",
         "x": [
          200,
          500,
          1000,
          2000,
          4000,
          8000
         ],
         "xaxis": "x",
         "y": [
          0.7494112757999722,
          0.7494112757999722,
          0.7569607978944453,
          0.7670730018008034,
          0.7751766172600083,
          0.7832109710486217
         ],
         "yaxis": "y"
        },
        {
         "hovertemplate": "algorithm_group=bayesian_network<br>num_samples=%{x}<br>Validation accuracy with best threshold=%{y}<extra></extra>",
         "legendgroup": "bayesian_network",
         "line": {
          "color": "#00cc96",
          "dash": "solid"
         },
         "marker": {
          "symbol": "circle"
         },
         "mode": "markers+lines",
         "name": "bayesian_network validation",
         "orientation": "v",
         "showlegend": true,
         "type": "scatter",
         "x": [
          200,
          500,
          1000,
          2000,
          4000,
          8000
         ],
         "xaxis": "x",
         "y": [
          0.7556448261532068,
          0.7627095165535392,
          0.7708131320127442,
          0.7628480398947223,
          0.7685967585538164,
          0.7494112757999722
         ],
         "yaxis": "y"
        },
        {
         "hovertemplate": "algorithm_group=knn<br>num_samples=%{x}<br>Test accuracy with best threshold=%{y}<extra></extra>",
         "legendgroup": "knn",
         "line": {
          "color": "#636efa",
          "dash": "dot"
         },
         "marker": {
          "symbol": "circle"
         },
         "mode": "lines",
         "name": "knn test",
         "orientation": "v",
         "showlegend": true,
         "type": "scatter",
         "x": [
          200,
          500,
          1000,
          2000,
          4000,
          8000
         ],
         "xaxis": "x",
         "y": [
          0.7493074792243767,
          0.7493074792243767,
          0.75,
          0.7493074792243767,
          0.75,
          0.7512465373961219
         ],
         "yaxis": "y"
        },
        {
         "hovertemplate": "algorithm_group=svc<br>num_samples=%{x}<br>Test accuracy with best threshold=%{y}<extra></extra>",
         "legendgroup": "svc",
         "line": {
          "color": "#EF553B",
          "dash": "dot"
         },
         "marker": {
          "symbol": "circle"
         },
         "mode": "lines",
         "name": "svc test",
         "orientation": "v",
         "showlegend": true,
         "type": "scatter",
         "x": [
          200,
          500,
          1000,
          2000,
          4000,
          8000
         ],
         "xaxis": "x",
         "y": [
          0.7493074792243767,
          0.7493074792243767,
          0.7554016620498615,
          0.7666204986149584,
          0.7749307479224377,
          0.7837950138504155
         ],
         "yaxis": "y"
        },
        {
         "hovertemplate": "algorithm_group=bayesian_network<br>num_samples=%{x}<br>Test accuracy with best threshold=%{y}<extra></extra>",
         "legendgroup": "bayesian_network",
         "line": {
          "color": "#00cc96",
          "dash": "dot"
         },
         "marker": {
          "symbol": "circle"
         },
         "mode": "lines",
         "name": "bayesian_network test",
         "orientation": "v",
         "showlegend": true,
         "type": "scatter",
         "x": [
          200,
          500,
          1000,
          2000,
          4000,
          8000
         ],
         "xaxis": "x",
         "y": [
          0.7558171745152354,
          0.7646814404432133,
          0.7722991689750692,
          0.7591412742382272,
          0.7688365650969529,
          0.7493074792243767
         ],
         "yaxis": "y"
        }
       ],
       "layout": {
        "font": {
         "size": 16
        },
        "legend": {
         "title": {
          "text": "algorithm_group"
         },
         "tracegroupgap": 0
        },
        "template": {
         "data": {
          "bar": [
           {
            "error_x": {
             "color": "#2a3f5f"
            },
            "error_y": {
             "color": "#2a3f5f"
            },
            "marker": {
             "line": {
              "color": "#E5ECF6",
              "width": 0.5
             },
             "pattern": {
              "fillmode": "overlay",
              "size": 10,
              "solidity": 0.2
             }
            },
            "type": "bar"
           }
          ],
          "barpolar": [
           {
            "marker": {
             "line": {
              "color": "#E5ECF6",
              "width": 0.5
             },
             "pattern": {
              "fillmode": "overlay",
              "size": 10,
              "solidity": 0.2
             }
            },
            "type": "barpolar"
           }
          ],
          "carpet": [
           {
            "aaxis": {
             "endlinecolor": "#2a3f5f",
             "gridcolor": "white",
             "linecolor": "white",
             "minorgridcolor": "white",
             "startlinecolor": "#2a3f5f"
            },
            "baxis": {
             "endlinecolor": "#2a3f5f",
             "gridcolor": "white",
             "linecolor": "white",
             "minorgridcolor": "white",
             "startlinecolor": "#2a3f5f"
            },
            "type": "carpet"
           }
          ],
          "choropleth": [
           {
            "colorbar": {
             "outlinewidth": 0,
             "ticks": ""
            },
            "type": "choropleth"
           }
          ],
          "contour": [
           {
            "colorbar": {
             "outlinewidth": 0,
             "ticks": ""
            },
            "colorscale": [
             [
              0,
              "#0d0887"
             ],
             [
              0.1111111111111111,
              "#46039f"
             ],
             [
              0.2222222222222222,
              "#7201a8"
             ],
             [
              0.3333333333333333,
              "#9c179e"
             ],
             [
              0.4444444444444444,
              "#bd3786"
             ],
             [
              0.5555555555555556,
              "#d8576b"
             ],
             [
              0.6666666666666666,
              "#ed7953"
             ],
             [
              0.7777777777777778,
              "#fb9f3a"
             ],
             [
              0.8888888888888888,
              "#fdca26"
             ],
             [
              1,
              "#f0f921"
             ]
            ],
            "type": "contour"
           }
          ],
          "contourcarpet": [
           {
            "colorbar": {
             "outlinewidth": 0,
             "ticks": ""
            },
            "type": "contourcarpet"
           }
          ],
          "heatmap": [
           {
            "colorbar": {
             "outlinewidth": 0,
             "ticks": ""
            },
            "colorscale": [
             [
              0,
              "#0d0887"
             ],
             [
              0.1111111111111111,
              "#46039f"
             ],
             [
              0.2222222222222222,
              "#7201a8"
             ],
             [
              0.3333333333333333,
              "#9c179e"
             ],
             [
              0.4444444444444444,
              "#bd3786"
             ],
             [
              0.5555555555555556,
              "#d8576b"
             ],
             [
              0.6666666666666666,
              "#ed7953"
             ],
             [
              0.7777777777777778,
              "#fb9f3a"
             ],
             [
              0.8888888888888888,
              "#fdca26"
             ],
             [
              1,
              "#f0f921"
             ]
            ],
            "type": "heatmap"
           }
          ],
          "heatmapgl": [
           {
            "colorbar": {
             "outlinewidth": 0,
             "ticks": ""
            },
            "colorscale": [
             [
              0,
              "#0d0887"
             ],
             [
              0.1111111111111111,
              "#46039f"
             ],
             [
              0.2222222222222222,
              "#7201a8"
             ],
             [
              0.3333333333333333,
              "#9c179e"
             ],
             [
              0.4444444444444444,
              "#bd3786"
             ],
             [
              0.5555555555555556,
              "#d8576b"
             ],
             [
              0.6666666666666666,
              "#ed7953"
             ],
             [
              0.7777777777777778,
              "#fb9f3a"
             ],
             [
              0.8888888888888888,
              "#fdca26"
             ],
             [
              1,
              "#f0f921"
             ]
            ],
            "type": "heatmapgl"
           }
          ],
          "histogram": [
           {
            "marker": {
             "pattern": {
              "fillmode": "overlay",
              "size": 10,
              "solidity": 0.2
             }
            },
            "type": "histogram"
           }
          ],
          "histogram2d": [
           {
            "colorbar": {
             "outlinewidth": 0,
             "ticks": ""
            },
            "colorscale": [
             [
              0,
              "#0d0887"
             ],
             [
              0.1111111111111111,
              "#46039f"
             ],
             [
              0.2222222222222222,
              "#7201a8"
             ],
             [
              0.3333333333333333,
              "#9c179e"
             ],
             [
              0.4444444444444444,
              "#bd3786"
             ],
             [
              0.5555555555555556,
              "#d8576b"
             ],
             [
              0.6666666666666666,
              "#ed7953"
             ],
             [
              0.7777777777777778,
              "#fb9f3a"
             ],
             [
              0.8888888888888888,
              "#fdca26"
             ],
             [
              1,
              "#f0f921"
             ]
            ],
            "type": "histogram2d"
           }
          ],
          "histogram2dcontour": [
           {
            "colorbar": {
             "outlinewidth": 0,
             "ticks": ""
            },
            "colorscale": [
             [
              0,
              "#0d0887"
             ],
             [
              0.1111111111111111,
              "#46039f"
             ],
             [
              0.2222222222222222,
              "#7201a8"
             ],
             [
              0.3333333333333333,
              "#9c179e"
             ],
             [
              0.4444444444444444,
              "#bd3786"
             ],
             [
              0.5555555555555556,
              "#d8576b"
             ],
             [
              0.6666666666666666,
              "#ed7953"
             ],
             [
              0.7777777777777778,
              "#fb9f3a"
             ],
             [
              0.8888888888888888,
              "#fdca26"
             ],
             [
              1,
              "#f0f921"
             ]
            ],
            "type": "histogram2dcontour"
           }
          ],
          "mesh3d": [
           {
            "colorbar": {
             "outlinewidth": 0,
             "ticks": ""
            },
            "type": "mesh3d"
           }
          ],
          "parcoords": [
           {
            "line": {
             "colorbar": {
              "outlinewidth": 0,
              "ticks": ""
             }
            },
            "type": "parcoords"
           }
          ],
          "pie": [
           {
            "automargin": true,
            "type": "pie"
           }
          ],
          "scatter": [
           {
            "fillpattern": {
             "fillmode": "overlay",
             "size": 10,
             "solidity": 0.2
            },
            "type": "scatter"
           }
          ],
          "scatter3d": [
           {
            "line": {
             "colorbar": {
              "outlinewidth": 0,
              "ticks": ""
             }
            },
            "marker": {
             "colorbar": {
              "outlinewidth": 0,
              "ticks": ""
             }
            },
            "type": "scatter3d"
           }
          ],
          "scattercarpet": [
           {
            "marker": {
             "colorbar": {
              "outlinewidth": 0,
              "ticks": ""
             }
            },
            "type": "scattercarpet"
           }
          ],
          "scattergeo": [
           {
            "marker": {
             "colorbar": {
              "outlinewidth": 0,
              "ticks": ""
             }
            },
            "type": "scattergeo"
           }
          ],
          "scattergl": [
           {
            "marker": {
             "colorbar": {
              "outlinewidth": 0,
              "ticks": ""
             }
            },
            "type": "scattergl"
           }
          ],
          "scattermapbox": [
           {
            "marker": {
             "colorbar": {
              "outlinewidth": 0,
              "ticks": ""
             }
            },
            "type": "scattermapbox"
           }
          ],
          "scatterpolar": [
           {
            "marker": {
             "colorbar": {
              "outlinewidth": 0,
              "ticks": ""
             }
            },
            "type": "scatterpolar"
           }
          ],
          "scatterpolargl": [
           {
            "marker": {
             "colorbar": {
              "outlinewidth": 0,
              "ticks": ""
             }
            },
            "type": "scatterpolargl"
           }
          ],
          "scatterternary": [
           {
            "marker": {
             "colorbar": {
              "outlinewidth": 0,
              "ticks": ""
             }
            },
            "type": "scatterternary"
           }
          ],
          "surface": [
           {
            "colorbar": {
             "outlinewidth": 0,
             "ticks": ""
            },
            "colorscale": [
             [
              0,
              "#0d0887"
             ],
             [
              0.1111111111111111,
              "#46039f"
             ],
             [
              0.2222222222222222,
              "#7201a8"
             ],
             [
              0.3333333333333333,
              "#9c179e"
             ],
             [
              0.4444444444444444,
              "#bd3786"
             ],
             [
              0.5555555555555556,
              "#d8576b"
             ],
             [
              0.6666666666666666,
              "#ed7953"
             ],
             [
              0.7777777777777778,
              "#fb9f3a"
             ],
             [
              0.8888888888888888,
              "#fdca26"
             ],
             [
              1,
              "#f0f921"
             ]
            ],
            "type": "surface"
           }
          ],
          "table": [
           {
            "cells": {
             "fill": {
              "color": "#EBF0F8"
             },
             "line": {
              "color": "white"
             }
            },
            "header": {
             "fill": {
              "color": "#C8D4E3"
             },
             "line": {
              "color": "white"
             }
            },
            "type": "table"
           }
          ]
         },
         "layout": {
          "annotationdefaults": {
           "arrowcolor": "#2a3f5f",
           "arrowhead": 0,
           "arrowwidth": 1
          },
          "autotypenumbers": "strict",
          "coloraxis": {
           "colorbar": {
            "outlinewidth": 0,
            "ticks": ""
           }
          },
          "colorscale": {
           "diverging": [
            [
             0,
             "#8e0152"
            ],
            [
             0.1,
             "#c51b7d"
            ],
            [
             0.2,
             "#de77ae"
            ],
            [
             0.3,
             "#f1b6da"
            ],
            [
             0.4,
             "#fde0ef"
            ],
            [
             0.5,
             "#f7f7f7"
            ],
            [
             0.6,
             "#e6f5d0"
            ],
            [
             0.7,
             "#b8e186"
            ],
            [
             0.8,
             "#7fbc41"
            ],
            [
             0.9,
             "#4d9221"
            ],
            [
             1,
             "#276419"
            ]
           ],
           "sequential": [
            [
             0,
             "#0d0887"
            ],
            [
             0.1111111111111111,
             "#46039f"
            ],
            [
             0.2222222222222222,
             "#7201a8"
            ],
            [
             0.3333333333333333,
             "#9c179e"
            ],
            [
             0.4444444444444444,
             "#bd3786"
            ],
            [
             0.5555555555555556,
             "#d8576b"
            ],
            [
             0.6666666666666666,
             "#ed7953"
            ],
            [
             0.7777777777777778,
             "#fb9f3a"
            ],
            [
             0.8888888888888888,
             "#fdca26"
            ],
            [
             1,
             "#f0f921"
            ]
           ],
           "sequentialminus": [
            [
             0,
             "#0d0887"
            ],
            [
             0.1111111111111111,
             "#46039f"
            ],
            [
             0.2222222222222222,
             "#7201a8"
            ],
            [
             0.3333333333333333,
             "#9c179e"
            ],
            [
             0.4444444444444444,
             "#bd3786"
            ],
            [
             0.5555555555555556,
             "#d8576b"
            ],
            [
             0.6666666666666666,
             "#ed7953"
            ],
            [
             0.7777777777777778,
             "#fb9f3a"
            ],
            [
             0.8888888888888888,
             "#fdca26"
            ],
            [
             1,
             "#f0f921"
            ]
           ]
          },
          "colorway": [
           "#636efa",
           "#EF553B",
           "#00cc96",
           "#ab63fa",
           "#FFA15A",
           "#19d3f3",
           "#FF6692",
           "#B6E880",
           "#FF97FF",
           "#FECB52"
          ],
          "font": {
           "color": "#2a3f5f"
          },
          "geo": {
           "bgcolor": "white",
           "lakecolor": "white",
           "landcolor": "#E5ECF6",
           "showlakes": true,
           "showland": true,
           "subunitcolor": "white"
          },
          "hoverlabel": {
           "align": "left"
          },
          "hovermode": "closest",
          "mapbox": {
           "style": "light"
          },
          "paper_bgcolor": "white",
          "plot_bgcolor": "#E5ECF6",
          "polar": {
           "angularaxis": {
            "gridcolor": "white",
            "linecolor": "white",
            "ticks": ""
           },
           "bgcolor": "#E5ECF6",
           "radialaxis": {
            "gridcolor": "white",
            "linecolor": "white",
            "ticks": ""
           }
          },
          "scene": {
           "xaxis": {
            "backgroundcolor": "#E5ECF6",
            "gridcolor": "white",
            "gridwidth": 2,
            "linecolor": "white",
            "showbackground": true,
            "ticks": "",
            "zerolinecolor": "white"
           },
           "yaxis": {
            "backgroundcolor": "#E5ECF6",
            "gridcolor": "white",
            "gridwidth": 2,
            "linecolor": "white",
            "showbackground": true,
            "ticks": "",
            "zerolinecolor": "white"
           },
           "zaxis": {
            "backgroundcolor": "#E5ECF6",
            "gridcolor": "white",
            "gridwidth": 2,
            "linecolor": "white",
            "showbackground": true,
            "ticks": "",
            "zerolinecolor": "white"
           }
          },
          "shapedefaults": {
           "line": {
            "color": "#2a3f5f"
           }
          },
          "ternary": {
           "aaxis": {
            "gridcolor": "white",
            "linecolor": "white",
            "ticks": ""
           },
           "baxis": {
            "gridcolor": "white",
            "linecolor": "white",
            "ticks": ""
           },
           "bgcolor": "#E5ECF6",
           "caxis": {
            "gridcolor": "white",
            "linecolor": "white",
            "ticks": ""
           }
          },
          "title": {
           "x": 0.05
          },
          "xaxis": {
           "automargin": true,
           "gridcolor": "white",
           "linecolor": "white",
           "ticks": "",
           "title": {
            "standoff": 15
           },
           "zerolinecolor": "white",
           "zerolinewidth": 2
          },
          "yaxis": {
           "automargin": true,
           "gridcolor": "white",
           "linecolor": "white",
           "ticks": "",
           "title": {
            "standoff": 15
           },
           "zerolinecolor": "white",
           "zerolinewidth": 2
          }
         }
        },
        "title": {
         "text": "Accuracy reached for dataset eclipse_72k"
        },
        "xaxis": {
         "anchor": "y",
         "domain": [
          0,
          1
         ],
         "title": {
          "text": "num_samples"
         }
        },
        "yaxis": {
         "anchor": "x",
         "domain": [
          0,
          1
         ],
         "title": {
          "text": "Accuracy with best threshold"
         }
        }
       }
      }
     },
     "metadata": {},
     "output_type": "display_data"
    }
   ],
   "source": [
    "dataset_choice = \"eclipse_72k\"\n",
    "d = df.query(f\"dataset_choice == '{dataset_choice}'\")\n",
    "d.sort_values(\"num_samples\",inplace=True)\n",
    "d = d.rename({\"thresholdtest_accuracy_val\": \"Validation accuracy with best threshold\", \"thresholdtest_accuracy_test\": \"Test accuracy with best threshold\"}, axis=1)\n",
    "fig = px.line(\n",
    "    d,\n",
    "    x=\"num_samples\",\n",
    "    y=\"Validation accuracy with best threshold\",\n",
    "    color=\"algorithm_group\",\n",
    "    title=f\"Accuracy reached for dataset {dataset_choice}\",\n",
    "    markers=True,\n",
    ")\n",
    "for i,trace in enumerate(fig.data):\n",
    "    trace.name =  trace.name + ' validation'\n",
    "fig2 = px.line(d, x=\"num_samples\", y=\"Test accuracy with best threshold\", color=\"algorithm_group\")\n",
    "for i,trace in enumerate(fig2.data):\n",
    "    trace.name = trace.name + ' test'\n",
    "fig2.update_traces(patch={\"line\": {\"dash\": 'dot'}}) \n",
    "for i in range(3):\n",
    "    fig.add_trace(fig2.data[i])\n",
    "fig.update_layout(\n",
    "    font=dict(size=16)  # Set the default font size for all text elements in the figure\n",
    ")\n",
    "fig.update_yaxes(title_text=\"Accuracy with best threshold\")\n",
    "fig.show()"
   ]
  },
  {
   "cell_type": "code",
   "execution_count": 20,
   "metadata": {},
   "outputs": [
    {
     "name": "stderr",
     "output_type": "stream",
     "text": [
      "C:\\Users\\robin\\AppData\\Local\\Temp\\ipykernel_19428\\2388561007.py:3: SettingWithCopyWarning:\n",
      "\n",
      "\n",
      "A value is trying to be set on a copy of a slice from a DataFrame\n",
      "\n",
      "See the caveats in the documentation: https://pandas.pydata.org/pandas-docs/stable/user_guide/indexing.html#returning-a-view-versus-a-copy\n",
      "\n"
     ]
    },
    {
     "data": {
      "application/vnd.plotly.v1+json": {
       "config": {
        "plotlyServerURL": "https://plot.ly"
       },
       "data": [
        {
         "hovertemplate": "algorithm_group=knn<br>num_samples=%{x}<br>Validation accuracy with best threshold=%{y}<extra></extra>",
         "legendgroup": "knn",
         "line": {
          "color": "#636efa",
          "dash": "solid"
         },
         "marker": {
          "symbol": "circle"
         },
         "mode": "markers+lines",
         "name": "knn validation",
         "orientation": "v",
         "showlegend": true,
         "type": "scatter",
         "x": [
          200,
          500,
          1000,
          2000,
          4000,
          8000
         ],
         "xaxis": "x",
         "y": [
          0.7380555209759742,
          0.7381053155732603,
          0.7387277480393377,
          0.7381053155732603,
          0.7386530561434085,
          0.7391261048176273
         ],
         "yaxis": "y"
        },
        {
         "hovertemplate": "algorithm_group=bayesian_network<br>num_samples=%{x}<br>Validation accuracy with best threshold=%{y}<extra></extra>",
         "legendgroup": "bayesian_network",
         "line": {
          "color": "#EF553B",
          "dash": "solid"
         },
         "marker": {
          "symbol": "circle"
         },
         "mode": "markers+lines",
         "name": "bayesian_network validation",
         "orientation": "v",
         "showlegend": true,
         "type": "scatter",
         "x": [
          200,
          500,
          1000,
          2000,
          4000,
          8000
         ],
         "xaxis": "x",
         "y": [
          0.740844018424001,
          0.7489356404830076,
          0.7583468193700983,
          0.7617577492842027,
          0.7627785385285697,
          0.7763226689904146
         ],
         "yaxis": "y"
        },
        {
         "hovertemplate": "algorithm_group=svc<br>num_samples=%{x}<br>Validation accuracy with best threshold=%{y}<extra></extra>",
         "legendgroup": "svc",
         "line": {
          "color": "#00cc96",
          "dash": "solid"
         },
         "marker": {
          "symbol": "circle"
         },
         "mode": "markers+lines",
         "name": "svc validation",
         "orientation": "v",
         "showlegend": true,
         "type": "scatter",
         "x": [
          200,
          500,
          1000,
          2000,
          4000,
          8000
         ],
         "xaxis": "x",
         "y": [
          0.7387526453379808,
          0.7440806672476037,
          0.7575252085148761,
          0.7599153491846135,
          0.7696999875513507,
          0.7736586580356032
         ],
         "yaxis": "y"
        },
        {
         "hovertemplate": "algorithm_group=knn<br>num_samples=%{x}<br>Test accuracy with best threshold=%{y}<extra></extra>",
         "legendgroup": "knn",
         "line": {
          "color": "#636efa",
          "dash": "dot"
         },
         "marker": {
          "symbol": "circle"
         },
         "mode": "lines",
         "name": "knn test",
         "orientation": "v",
         "showlegend": true,
         "type": "scatter",
         "x": [
          200,
          500,
          1000,
          2000,
          4000,
          8000
         ],
         "xaxis": "x",
         "y": [
          0.7384852860628393,
          0.7392819797838969,
          0.7401284668625205,
          0.7380869392023104,
          0.7386346661355375,
          0.7384354927052731
         ],
         "yaxis": "y"
        },
        {
         "hovertemplate": "algorithm_group=bayesian_network<br>num_samples=%{x}<br>Test accuracy with best threshold=%{y}<extra></extra>",
         "legendgroup": "bayesian_network",
         "line": {
          "color": "#EF553B",
          "dash": "dot"
         },
         "marker": {
          "symbol": "circle"
         },
         "mode": "lines",
         "name": "bayesian_network test",
         "orientation": "v",
         "showlegend": true,
         "type": "scatter",
         "x": [
          200,
          500,
          1000,
          2000,
          4000,
          8000
         ],
         "xaxis": "x",
         "y": [
          0.7413733008016731,
          0.7468505701339442,
          0.7570084150774287,
          0.7613404371856795,
          0.7638301050639844,
          0.7752327839466215
         ],
         "yaxis": "y"
        },
        {
         "hovertemplate": "algorithm_group=svc<br>num_samples=%{x}<br>Test accuracy with best threshold=%{y}<extra></extra>",
         "legendgroup": "svc",
         "line": {
          "color": "#00cc96",
          "dash": "dot"
         },
         "marker": {
          "symbol": "circle"
         },
         "mode": "lines",
         "name": "svc test",
         "orientation": "v",
         "showlegend": true,
         "type": "scatter",
         "x": [
          200,
          500,
          1000,
          2000,
          4000,
          8000
         ],
         "xaxis": "x",
         "y": [
          0.7391325997111985,
          0.7459542896977543,
          0.7590001493800727,
          0.7627346511975303,
          0.770502414977842,
          0.7776726584673604
         ],
         "yaxis": "y"
        }
       ],
       "layout": {
        "font": {
         "size": 16
        },
        "legend": {
         "title": {
          "text": "algorithm_group"
         },
         "tracegroupgap": 0
        },
        "template": {
         "data": {
          "bar": [
           {
            "error_x": {
             "color": "#2a3f5f"
            },
            "error_y": {
             "color": "#2a3f5f"
            },
            "marker": {
             "line": {
              "color": "#E5ECF6",
              "width": 0.5
             },
             "pattern": {
              "fillmode": "overlay",
              "size": 10,
              "solidity": 0.2
             }
            },
            "type": "bar"
           }
          ],
          "barpolar": [
           {
            "marker": {
             "line": {
              "color": "#E5ECF6",
              "width": 0.5
             },
             "pattern": {
              "fillmode": "overlay",
              "size": 10,
              "solidity": 0.2
             }
            },
            "type": "barpolar"
           }
          ],
          "carpet": [
           {
            "aaxis": {
             "endlinecolor": "#2a3f5f",
             "gridcolor": "white",
             "linecolor": "white",
             "minorgridcolor": "white",
             "startlinecolor": "#2a3f5f"
            },
            "baxis": {
             "endlinecolor": "#2a3f5f",
             "gridcolor": "white",
             "linecolor": "white",
             "minorgridcolor": "white",
             "startlinecolor": "#2a3f5f"
            },
            "type": "carpet"
           }
          ],
          "choropleth": [
           {
            "colorbar": {
             "outlinewidth": 0,
             "ticks": ""
            },
            "type": "choropleth"
           }
          ],
          "contour": [
           {
            "colorbar": {
             "outlinewidth": 0,
             "ticks": ""
            },
            "colorscale": [
             [
              0,
              "#0d0887"
             ],
             [
              0.1111111111111111,
              "#46039f"
             ],
             [
              0.2222222222222222,
              "#7201a8"
             ],
             [
              0.3333333333333333,
              "#9c179e"
             ],
             [
              0.4444444444444444,
              "#bd3786"
             ],
             [
              0.5555555555555556,
              "#d8576b"
             ],
             [
              0.6666666666666666,
              "#ed7953"
             ],
             [
              0.7777777777777778,
              "#fb9f3a"
             ],
             [
              0.8888888888888888,
              "#fdca26"
             ],
             [
              1,
              "#f0f921"
             ]
            ],
            "type": "contour"
           }
          ],
          "contourcarpet": [
           {
            "colorbar": {
             "outlinewidth": 0,
             "ticks": ""
            },
            "type": "contourcarpet"
           }
          ],
          "heatmap": [
           {
            "colorbar": {
             "outlinewidth": 0,
             "ticks": ""
            },
            "colorscale": [
             [
              0,
              "#0d0887"
             ],
             [
              0.1111111111111111,
              "#46039f"
             ],
             [
              0.2222222222222222,
              "#7201a8"
             ],
             [
              0.3333333333333333,
              "#9c179e"
             ],
             [
              0.4444444444444444,
              "#bd3786"
             ],
             [
              0.5555555555555556,
              "#d8576b"
             ],
             [
              0.6666666666666666,
              "#ed7953"
             ],
             [
              0.7777777777777778,
              "#fb9f3a"
             ],
             [
              0.8888888888888888,
              "#fdca26"
             ],
             [
              1,
              "#f0f921"
             ]
            ],
            "type": "heatmap"
           }
          ],
          "heatmapgl": [
           {
            "colorbar": {
             "outlinewidth": 0,
             "ticks": ""
            },
            "colorscale": [
             [
              0,
              "#0d0887"
             ],
             [
              0.1111111111111111,
              "#46039f"
             ],
             [
              0.2222222222222222,
              "#7201a8"
             ],
             [
              0.3333333333333333,
              "#9c179e"
             ],
             [
              0.4444444444444444,
              "#bd3786"
             ],
             [
              0.5555555555555556,
              "#d8576b"
             ],
             [
              0.6666666666666666,
              "#ed7953"
             ],
             [
              0.7777777777777778,
              "#fb9f3a"
             ],
             [
              0.8888888888888888,
              "#fdca26"
             ],
             [
              1,
              "#f0f921"
             ]
            ],
            "type": "heatmapgl"
           }
          ],
          "histogram": [
           {
            "marker": {
             "pattern": {
              "fillmode": "overlay",
              "size": 10,
              "solidity": 0.2
             }
            },
            "type": "histogram"
           }
          ],
          "histogram2d": [
           {
            "colorbar": {
             "outlinewidth": 0,
             "ticks": ""
            },
            "colorscale": [
             [
              0,
              "#0d0887"
             ],
             [
              0.1111111111111111,
              "#46039f"
             ],
             [
              0.2222222222222222,
              "#7201a8"
             ],
             [
              0.3333333333333333,
              "#9c179e"
             ],
             [
              0.4444444444444444,
              "#bd3786"
             ],
             [
              0.5555555555555556,
              "#d8576b"
             ],
             [
              0.6666666666666666,
              "#ed7953"
             ],
             [
              0.7777777777777778,
              "#fb9f3a"
             ],
             [
              0.8888888888888888,
              "#fdca26"
             ],
             [
              1,
              "#f0f921"
             ]
            ],
            "type": "histogram2d"
           }
          ],
          "histogram2dcontour": [
           {
            "colorbar": {
             "outlinewidth": 0,
             "ticks": ""
            },
            "colorscale": [
             [
              0,
              "#0d0887"
             ],
             [
              0.1111111111111111,
              "#46039f"
             ],
             [
              0.2222222222222222,
              "#7201a8"
             ],
             [
              0.3333333333333333,
              "#9c179e"
             ],
             [
              0.4444444444444444,
              "#bd3786"
             ],
             [
              0.5555555555555556,
              "#d8576b"
             ],
             [
              0.6666666666666666,
              "#ed7953"
             ],
             [
              0.7777777777777778,
              "#fb9f3a"
             ],
             [
              0.8888888888888888,
              "#fdca26"
             ],
             [
              1,
              "#f0f921"
             ]
            ],
            "type": "histogram2dcontour"
           }
          ],
          "mesh3d": [
           {
            "colorbar": {
             "outlinewidth": 0,
             "ticks": ""
            },
            "type": "mesh3d"
           }
          ],
          "parcoords": [
           {
            "line": {
             "colorbar": {
              "outlinewidth": 0,
              "ticks": ""
             }
            },
            "type": "parcoords"
           }
          ],
          "pie": [
           {
            "automargin": true,
            "type": "pie"
           }
          ],
          "scatter": [
           {
            "fillpattern": {
             "fillmode": "overlay",
             "size": 10,
             "solidity": 0.2
            },
            "type": "scatter"
           }
          ],
          "scatter3d": [
           {
            "line": {
             "colorbar": {
              "outlinewidth": 0,
              "ticks": ""
             }
            },
            "marker": {
             "colorbar": {
              "outlinewidth": 0,
              "ticks": ""
             }
            },
            "type": "scatter3d"
           }
          ],
          "scattercarpet": [
           {
            "marker": {
             "colorbar": {
              "outlinewidth": 0,
              "ticks": ""
             }
            },
            "type": "scattercarpet"
           }
          ],
          "scattergeo": [
           {
            "marker": {
             "colorbar": {
              "outlinewidth": 0,
              "ticks": ""
             }
            },
            "type": "scattergeo"
           }
          ],
          "scattergl": [
           {
            "marker": {
             "colorbar": {
              "outlinewidth": 0,
              "ticks": ""
             }
            },
            "type": "scattergl"
           }
          ],
          "scattermapbox": [
           {
            "marker": {
             "colorbar": {
              "outlinewidth": 0,
              "ticks": ""
             }
            },
            "type": "scattermapbox"
           }
          ],
          "scatterpolar": [
           {
            "marker": {
             "colorbar": {
              "outlinewidth": 0,
              "ticks": ""
             }
            },
            "type": "scatterpolar"
           }
          ],
          "scatterpolargl": [
           {
            "marker": {
             "colorbar": {
              "outlinewidth": 0,
              "ticks": ""
             }
            },
            "type": "scatterpolargl"
           }
          ],
          "scatterternary": [
           {
            "marker": {
             "colorbar": {
              "outlinewidth": 0,
              "ticks": ""
             }
            },
            "type": "scatterternary"
           }
          ],
          "surface": [
           {
            "colorbar": {
             "outlinewidth": 0,
             "ticks": ""
            },
            "colorscale": [
             [
              0,
              "#0d0887"
             ],
             [
              0.1111111111111111,
              "#46039f"
             ],
             [
              0.2222222222222222,
              "#7201a8"
             ],
             [
              0.3333333333333333,
              "#9c179e"
             ],
             [
              0.4444444444444444,
              "#bd3786"
             ],
             [
              0.5555555555555556,
              "#d8576b"
             ],
             [
              0.6666666666666666,
              "#ed7953"
             ],
             [
              0.7777777777777778,
              "#fb9f3a"
             ],
             [
              0.8888888888888888,
              "#fdca26"
             ],
             [
              1,
              "#f0f921"
             ]
            ],
            "type": "surface"
           }
          ],
          "table": [
           {
            "cells": {
             "fill": {
              "color": "#EBF0F8"
             },
             "line": {
              "color": "white"
             }
            },
            "header": {
             "fill": {
              "color": "#C8D4E3"
             },
             "line": {
              "color": "white"
             }
            },
            "type": "table"
           }
          ]
         },
         "layout": {
          "annotationdefaults": {
           "arrowcolor": "#2a3f5f",
           "arrowhead": 0,
           "arrowwidth": 1
          },
          "autotypenumbers": "strict",
          "coloraxis": {
           "colorbar": {
            "outlinewidth": 0,
            "ticks": ""
           }
          },
          "colorscale": {
           "diverging": [
            [
             0,
             "#8e0152"
            ],
            [
             0.1,
             "#c51b7d"
            ],
            [
             0.2,
             "#de77ae"
            ],
            [
             0.3,
             "#f1b6da"
            ],
            [
             0.4,
             "#fde0ef"
            ],
            [
             0.5,
             "#f7f7f7"
            ],
            [
             0.6,
             "#e6f5d0"
            ],
            [
             0.7,
             "#b8e186"
            ],
            [
             0.8,
             "#7fbc41"
            ],
            [
             0.9,
             "#4d9221"
            ],
            [
             1,
             "#276419"
            ]
           ],
           "sequential": [
            [
             0,
             "#0d0887"
            ],
            [
             0.1111111111111111,
             "#46039f"
            ],
            [
             0.2222222222222222,
             "#7201a8"
            ],
            [
             0.3333333333333333,
             "#9c179e"
            ],
            [
             0.4444444444444444,
             "#bd3786"
            ],
            [
             0.5555555555555556,
             "#d8576b"
            ],
            [
             0.6666666666666666,
             "#ed7953"
            ],
            [
             0.7777777777777778,
             "#fb9f3a"
            ],
            [
             0.8888888888888888,
             "#fdca26"
            ],
            [
             1,
             "#f0f921"
            ]
           ],
           "sequentialminus": [
            [
             0,
             "#0d0887"
            ],
            [
             0.1111111111111111,
             "#46039f"
            ],
            [
             0.2222222222222222,
             "#7201a8"
            ],
            [
             0.3333333333333333,
             "#9c179e"
            ],
            [
             0.4444444444444444,
             "#bd3786"
            ],
            [
             0.5555555555555556,
             "#d8576b"
            ],
            [
             0.6666666666666666,
             "#ed7953"
            ],
            [
             0.7777777777777778,
             "#fb9f3a"
            ],
            [
             0.8888888888888888,
             "#fdca26"
            ],
            [
             1,
             "#f0f921"
            ]
           ]
          },
          "colorway": [
           "#636efa",
           "#EF553B",
           "#00cc96",
           "#ab63fa",
           "#FFA15A",
           "#19d3f3",
           "#FF6692",
           "#B6E880",
           "#FF97FF",
           "#FECB52"
          ],
          "font": {
           "color": "#2a3f5f"
          },
          "geo": {
           "bgcolor": "white",
           "lakecolor": "white",
           "landcolor": "#E5ECF6",
           "showlakes": true,
           "showland": true,
           "subunitcolor": "white"
          },
          "hoverlabel": {
           "align": "left"
          },
          "hovermode": "closest",
          "mapbox": {
           "style": "light"
          },
          "paper_bgcolor": "white",
          "plot_bgcolor": "#E5ECF6",
          "polar": {
           "angularaxis": {
            "gridcolor": "white",
            "linecolor": "white",
            "ticks": ""
           },
           "bgcolor": "#E5ECF6",
           "radialaxis": {
            "gridcolor": "white",
            "linecolor": "white",
            "ticks": ""
           }
          },
          "scene": {
           "xaxis": {
            "backgroundcolor": "#E5ECF6",
            "gridcolor": "white",
            "gridwidth": 2,
            "linecolor": "white",
            "showbackground": true,
            "ticks": "",
            "zerolinecolor": "white"
           },
           "yaxis": {
            "backgroundcolor": "#E5ECF6",
            "gridcolor": "white",
            "gridwidth": 2,
            "linecolor": "white",
            "showbackground": true,
            "ticks": "",
            "zerolinecolor": "white"
           },
           "zaxis": {
            "backgroundcolor": "#E5ECF6",
            "gridcolor": "white",
            "gridwidth": 2,
            "linecolor": "white",
            "showbackground": true,
            "ticks": "",
            "zerolinecolor": "white"
           }
          },
          "shapedefaults": {
           "line": {
            "color": "#2a3f5f"
           }
          },
          "ternary": {
           "aaxis": {
            "gridcolor": "white",
            "linecolor": "white",
            "ticks": ""
           },
           "baxis": {
            "gridcolor": "white",
            "linecolor": "white",
            "ticks": ""
           },
           "bgcolor": "#E5ECF6",
           "caxis": {
            "gridcolor": "white",
            "linecolor": "white",
            "ticks": ""
           }
          },
          "title": {
           "x": 0.05
          },
          "xaxis": {
           "automargin": true,
           "gridcolor": "white",
           "linecolor": "white",
           "ticks": "",
           "title": {
            "standoff": 15
           },
           "zerolinecolor": "white",
           "zerolinewidth": 2
          },
          "yaxis": {
           "automargin": true,
           "gridcolor": "white",
           "linecolor": "white",
           "ticks": "",
           "title": {
            "standoff": 15
           },
           "zerolinecolor": "white",
           "zerolinewidth": 2
          }
         }
        },
        "title": {
         "text": "Accuracy reached for dataset mozilla_200k"
        },
        "xaxis": {
         "anchor": "y",
         "domain": [
          0,
          1
         ],
         "title": {
          "text": "num_samples"
         }
        },
        "yaxis": {
         "anchor": "x",
         "domain": [
          0,
          1
         ],
         "title": {
          "text": "Accuracy with best threshold"
         }
        }
       }
      }
     },
     "metadata": {},
     "output_type": "display_data"
    }
   ],
   "source": [
    "dataset_choice = \"mozilla_200k\"\n",
    "d = df.query(f\"dataset_choice == '{dataset_choice}'\")\n",
    "d.sort_values(\"num_samples\",inplace=True)\n",
    "d = d.rename({\"thresholdtest_accuracy_val\": \"Validation accuracy with best threshold\", \"thresholdtest_accuracy_test\": \"Test accuracy with best threshold\"}, axis=1)\n",
    "fig = px.line(\n",
    "    d,\n",
    "    x=\"num_samples\",\n",
    "    y=\"Validation accuracy with best threshold\",\n",
    "    color=\"algorithm_group\",\n",
    "    title=f\"Accuracy reached for dataset {dataset_choice}\",\n",
    "    markers=True,\n",
    ")\n",
    "for i,trace in enumerate(fig.data):\n",
    "    trace.name =  trace.name + ' validation'\n",
    "fig2 = px.line(d, x=\"num_samples\", y=\"Test accuracy with best threshold\", color=\"algorithm_group\")\n",
    "for i,trace in enumerate(fig2.data):\n",
    "    trace.name = trace.name + ' test'\n",
    "fig2.update_traces(patch={\"line\": {\"dash\": 'dot'}}) \n",
    "for i in range(3):\n",
    "    fig.add_trace(fig2.data[i])\n",
    "fig.update_layout(\n",
    "    font=dict(size=16)  # Set the default font size for all text elements in the figure\n",
    ")\n",
    "fig.update_yaxes(title_text=\"Accuracy with best threshold\")\n",
    "fig.show()"
   ]
  },
  {
   "cell_type": "code",
   "execution_count": 27,
   "metadata": {},
   "outputs": [
    {
     "data": {
      "text/plain": [
       "seed                                                                           0\n",
       "classifier                                                                   SVC\n",
       "train_fun                                                                  train\n",
       "train_accuracy                                                          0.843209\n",
       "fold_id                                                                        0\n",
       "auc_val                                                                 0.756181\n",
       "classifier_name                                                              SVC\n",
       "alpha                                                                        NaN\n",
       "fit_prior                                                                    NaN\n",
       "binarize                                                                     NaN\n",
       "auc_test                                                                0.756181\n",
       "params                         {'seed': 0, 'classifier': 'SVC', 'train_fun': ...\n",
       "run_id                                                                        20\n",
       "num_samples                                                                 4000\n",
       "algorithm_group                                                              svc\n",
       "dataset_choice                                                       eclipse_72k\n",
       "thresholdtest_accuracy_val                                              0.334448\n",
       "thresholdtest_f1_val                                   [0.5012531328320802, 0.0]\n",
       "threashold_used_val                        <filter object at 0x0000019CE5AC3F40>\n",
       "thresholdtest_accuracy_test                                             0.244444\n",
       "thresholdtest_f1_test                                 [0.39285714285714285, 0.0]\n",
       "threashold_used_test                       <filter object at 0x0000019CE5A6FE80>\n",
       "norm                                                                         NaN\n",
       "var_smoothing                                                                NaN\n",
       "n_neighbors                                                                  NaN\n",
       "weights                                                                      NaN\n",
       "algorithm                                                                    NaN\n",
       "leaf_size                                                                    NaN\n",
       "p                                                                            NaN\n",
       "C                                                                       0.334449\n",
       "kernel                                                                   sigmoid\n",
       "degree                                                                       3.0\n",
       "gamma                                                                      scale\n",
       "coef0                                                                  -0.010096\n",
       "shrinking                                                                   True\n",
       "probability                                                                 True\n",
       "tol                                                                     0.075109\n",
       "class_weight                                                            balanced\n",
       "max_iter                                                                    -1.0\n",
       "decision_function_shape                                                      ovo\n",
       "break_ties                                                                 False\n",
       "Name: 20, dtype: object"
      ]
     },
     "metadata": {},
     "output_type": "display_data"
    },
    {
     "data": {
      "text/plain": [
       "seed                                                                           0\n",
       "classifier                                                            GaussianNB\n",
       "train_fun                                                                  train\n",
       "train_accuracy                                                             0.786\n",
       "fold_id                                                                        0\n",
       "auc_val                                                                 0.710356\n",
       "classifier_name                                                       GaussianNB\n",
       "alpha                                                                        NaN\n",
       "fit_prior                                                                    NaN\n",
       "binarize                                                                     NaN\n",
       "auc_test                                                                0.710356\n",
       "params                         {'seed': 0, 'classifier': 'GaussianNB', 'train...\n",
       "run_id                                                                         6\n",
       "num_samples                                                                 2000\n",
       "algorithm_group                                                 bayesian_network\n",
       "dataset_choice                                                      mozilla_200k\n",
       "thresholdtest_accuracy_val                                              0.384804\n",
       "thresholdtest_f1_val                    [0.4251200591060215, 0.3384065980783947]\n",
       "threashold_used_val                        <filter object at 0x0000019CE5A83F40>\n",
       "thresholdtest_accuracy_test                                             0.377922\n",
       "thresholdtest_f1_test                   [0.4146043385273449, 0.3363352961551784]\n",
       "threashold_used_test                       <filter object at 0x0000019CE5096430>\n",
       "norm                                                                         NaN\n",
       "var_smoothing                                                           0.059691\n",
       "n_neighbors                                                                  NaN\n",
       "weights                                                                      NaN\n",
       "algorithm                                                                    NaN\n",
       "leaf_size                                                                    NaN\n",
       "p                                                                            NaN\n",
       "C                                                                            NaN\n",
       "kernel                                                                       NaN\n",
       "degree                                                                       NaN\n",
       "gamma                                                                        NaN\n",
       "coef0                                                                        NaN\n",
       "shrinking                                                                    NaN\n",
       "probability                                                                  NaN\n",
       "tol                                                                          NaN\n",
       "class_weight                                                                 NaN\n",
       "max_iter                                                                     NaN\n",
       "decision_function_shape                                                      NaN\n",
       "break_ties                                                                   NaN\n",
       "Name: 6, dtype: object"
      ]
     },
     "metadata": {},
     "output_type": "display_data"
    }
   ],
   "source": [
    "d = df.query(\"dataset_choice == 'eclipse_72k'\").query(\"auc_val == auc_val.max()\").query(\"thresholdtest_accuracy_val == thresholdtest_accuracy_val.max()\")\n",
    "display(d.iloc[0])\n",
    "d = df.query(\"dataset_choice == 'mozilla_200k'\").query(\"auc_val == auc_val.max()\").query(\"thresholdtest_accuracy_val == thresholdtest_accuracy_val.max()\")\n",
    "display(d.iloc[0])"
   ]
  },
  {
   "cell_type": "code",
   "execution_count": null,
   "metadata": {},
   "outputs": [],
   "source": []
  }
 ],
 "metadata": {
  "kernelspec": {
   "display_name": "severityPrediction",
   "language": "python",
   "name": "python3"
  },
  "language_info": {
   "codemirror_mode": {
    "name": "ipython",
    "version": 3
   },
   "file_extension": ".py",
   "mimetype": "text/x-python",
   "name": "python",
   "nbconvert_exporter": "python",
   "pygments_lexer": "ipython3",
   "version": "3.9.18"
  }
 },
 "nbformat": 4,
 "nbformat_minor": 2
}
