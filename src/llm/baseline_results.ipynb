{
 "cells": [
  {
   "cell_type": "code",
   "execution_count": 1,
   "metadata": {},
   "outputs": [
    {
     "name": "stderr",
     "output_type": "stream",
     "text": [
      "c:\\Users\\robin\\miniconda3\\envs\\severityPrediction\\lib\\site-packages\\bitsandbytes\\cextension.py:34: UserWarning: The installed version of bitsandbytes was compiled without GPU support. 8-bit optimizers, 8-bit multiplication, and GPU quantization are unavailable.\n",
      "  warn(\"The installed version of bitsandbytes was compiled without GPU support. \"\n"
     ]
    },
    {
     "name": "stdout",
     "output_type": "stream",
     "text": [
      "'NoneType' object has no attribute 'cadam32bit_grad_fp32'\n",
      "Import of import evaluate failed\n",
      "Import of from pytorchtools import EarlyStopping failed\n"
     ]
    }
   ],
   "source": [
    "import plotly.express as px\n",
    "import pandas as pd\n",
    "import json\n",
    "import os\n",
    "os.environ['USER'] = \"rmoine\"\n",
    "from pathlib import Path\n",
    "import plotly.graph_objects as go\n",
    "import numpy as np\n",
    "from typing import *\n",
    "from llama.main import compute_metrics_from_files, DatasetName, compute_metrics_from_list, get_tokenizer\n",
    "import llama.main as m\n",
    "from sklearn.metrics import f1_score, auc, roc_curve, confusion_matrix\n",
    "from PIL import Image\n",
    "from pandasql import sqldf\n",
    "from io import BytesIO\n",
    "import base64\n",
    "from plotly.graph_objects import Figure\n",
    "import win32clipboard\n",
    "import textwrap\n",
    "import colorsys\n",
    "import optuna\n",
    "import tqdm\n",
    "import re\n",
    "import random\n",
    "from sklearn.metrics import accuracy_score, roc_curve, auc\n",
    "def img_to_clipboard(fig: Figure):\n",
    "    img_bytes = fig.to_image(format=\"png\")\n",
    "    image = Image.open(BytesIO(img_bytes))\n",
    "    \n",
    "    output = BytesIO()\n",
    "    image.convert('RGB').save(output, 'BMP')\n",
    "    data = output.getvalue()[14:]\n",
    "    output.close()\n",
    "    win32clipboard.OpenClipboard()\n",
    "    win32clipboard.EmptyClipboard()\n",
    "    win32clipboard.SetClipboardData(win32clipboard.CF_DIB, data)\n",
    "    win32clipboard.CloseClipboard()\n",
    "root = Path(f\"../../data/baseline_studies/analysis/sel/\")"
   ]
  },
  {
   "cell_type": "code",
   "execution_count": null,
   "metadata": {},
   "outputs": [],
   "source": [
    "l = []\n",
    "files = list(enumerate(root.rglob(\"*_0.json\")))\n",
    "for i,f in tqdm.tqdm(files):\n",
    "    algorithm_group: Literal['bayesian_network','svc','knn']\n",
    "    if \"_nb_\" in f.stem:\n",
    "        algorithm_group = 'bayesian_network'\n",
    "    elif \"_svm_knn_\" in f.stem:\n",
    "        if \"KNeighborsClassifier\" in f.stem:\n",
    "            algorithm_group = \"knn\"\n",
    "        elif \"SVC_\" in f.stem:\n",
    "            algorithm_group = \"svc\"\n",
    "        else:\n",
    "            raise Exception\n",
    "    else:\n",
    "        raise Exception\n",
    "    num_samples = int(re.search(\"([0-9]+)_samples\", f.stem).group(1))\n",
    "            \n",
    "    with open(f) as fp:\n",
    "        data = json.load(fp)[0]\n",
    "    dataset_choice = \"eclipse_72k\" if \"eclipse_72k\" in f.stem else \"mozilla_200k\"\n",
    "    fixed_params = {k:v for k,v in data.items() if not isinstance(v, list)}\n",
    "    fixed_params[\"params\"] = fixed_params\n",
    "    fixed_params[\"run_id\"] = i\n",
    "    fixed_params[\"num_samples\"] = num_samples\n",
    "    fixed_params[\"algorithm_group\"] = algorithm_group\n",
    "    fixed_params[\"dataset_choice\"] = dataset_choice\n",
    "    infos = {**fixed_params}\n",
    "    for dataset in [\"val\",\"test\"]:\n",
    "        d = [\n",
    "            {\"binary_severity\":b, \"severity_pred\": p, \"bug_id\": i} \n",
    "            for i,(b,p) in enumerate(zip(\n",
    "                data[f'binary_severity_{dataset}'],\n",
    "                data[f'y_{dataset}_pred']\n",
    "                ))]\n",
    "        threasholds = sorted(np.unique(filter(lambda x:x is not None,data[f'thresholds_{dataset}'])))\n",
    "        fpr, tpr, thresholds = roc_curve(data[f'binary_severity_{dataset}'], data[f'y_{dataset}_pred'])\n",
    "        auc_test = auc(fpr, tpr)\n",
    "        fig = go.Figure()\n",
    "        y_scores = data[f'y_{dataset}_pred']\n",
    "        y_true = data[f'binary_severity_{dataset}']\n",
    "        roc_data = []\n",
    "        best_accuracy = 0\n",
    "        best_threshold = -1\n",
    "        best_data = None\n",
    "\n",
    "        for i, threshold in enumerate(thresholds):\n",
    "            y_pred = (y_scores >= threshold).astype(int)\n",
    "            cm = confusion_matrix(y_true, y_pred)\n",
    "            accuracy = np.sum(np.diag(cm))/np.sum(cm)*100\n",
    "            if accuracy > best_accuracy:\n",
    "                best_accuracy = accuracy\n",
    "                best_threshold = threshold\n",
    "                best_data = y_true, y_pred\n",
    "        assert best_data is not None\n",
    "        d = [\n",
    "            {\"binary_severity\":y_true, \"severity_pred\": y_pred, \"bug_id\": i} for i,(y_true, y_pred) in enumerate(zip(*best_data))]\n",
    "        cm, f1, _ = compute_metrics_from_list(d, pred_field=\"severity_pred\")\n",
    "        accuracy = np.sum(np.diag(cm)) / np.sum(cm)\n",
    "        print(f\"{dataset=} {f.stem=} {auc_test=}\")\n",
    "        infos[f\"accuracy_{dataset}\"] = accuracy\n",
    "        infos[f\"auc_{dataset}\"] = accuracy\n",
    "        infos[f\"f1_{dataset}\"] = f1\n",
    "        infos[f\"threashold_{dataset}\"] = best_threshold\n",
    "        infos[f\"confusion_matrix_{dataset}\"] = cm\n",
    "    l.append(infos)\n",
    "df = pd.DataFrame(l)"
   ]
  },
  {
   "cell_type": "code",
   "execution_count": 3,
   "metadata": {},
   "outputs": [],
   "source": [
    "df.to_pickle(\"../../data/baseline_results_analysed_v2.json\")"
   ]
  },
  {
   "cell_type": "code",
   "execution_count": 10,
   "metadata": {},
   "outputs": [
    {
     "data": {
      "text/plain": [
       "Index(['seed', 'classifier', 'train_fun', 'train_accuracy', 'fold_id',\n",
       "       'auc_val', 'classifier_name', 'alpha', 'fit_prior', 'binarize',\n",
       "       'auc_test', 'params', 'run_id', 'num_samples', 'algorithm_group',\n",
       "       'dataset_choice', 'accuracy_val', 'f1_val', 'threashold_val',\n",
       "       'confusion_matrix_val', 'accuracy_test', 'f1_test', 'threashold_test',\n",
       "       'confusion_matrix_test', 'norm', 'var_smoothing', 'n_neighbors',\n",
       "       'weights', 'algorithm', 'leaf_size', 'p', 'C', 'kernel', 'degree',\n",
       "       'gamma', 'coef0', 'shrinking', 'probability', 'tol', 'class_weight',\n",
       "       'max_iter', 'decision_function_shape', 'break_ties'],\n",
       "      dtype='object')"
      ]
     },
     "execution_count": 10,
     "metadata": {},
     "output_type": "execute_result"
    }
   ],
   "source": [
    "df = pd.read_pickle(\"../../data/baseline_results_analysed_v2.json\")\n",
    "df.columns"
   ]
  },
  {
   "cell_type": "code",
   "execution_count": 17,
   "metadata": {},
   "outputs": [
    {
     "name": "stderr",
     "output_type": "stream",
     "text": [
      "C:\\Users\\robin\\AppData\\Local\\Temp\\ipykernel_11648\\40830822.py:3: SettingWithCopyWarning:\n",
      "\n",
      "\n",
      "A value is trying to be set on a copy of a slice from a DataFrame\n",
      "\n",
      "See the caveats in the documentation: https://pandas.pydata.org/pandas-docs/stable/user_guide/indexing.html#returning-a-view-versus-a-copy\n",
      "\n"
     ]
    },
    {
     "data": {
      "application/vnd.plotly.v1+json": {
       "config": {
        "plotlyServerURL": "https://plot.ly"
       },
       "data": [
        {
         "hovertemplate": "algorithm_group=bayesian_network<br>num_samples=%{x}<br>auc_val=%{y}<extra></extra>",
         "legendgroup": "bayesian_network",
         "line": {
          "color": "#636efa",
          "dash": "solid"
         },
         "marker": {
          "symbol": "circle"
         },
         "mode": "markers+lines",
         "name": "bayesian_network validation",
         "orientation": "v",
         "showlegend": true,
         "type": "scatter",
         "x": [
          200,
          500,
          1000,
          2000,
          4000,
          8000
         ],
         "xaxis": "x",
         "y": [
          0.7070808031,
          0.7254573431,
          0.7462207089,
          0.7454863059,
          0.7567386292,
          0.7549148895
         ],
         "yaxis": "y"
        },
        {
         "hovertemplate": "algorithm_group=knn<br>num_samples=%{x}<br>auc_val=%{y}<extra></extra>",
         "legendgroup": "knn",
         "line": {
          "color": "#EF553B",
          "dash": "solid"
         },
         "marker": {
          "symbol": "circle"
         },
         "mode": "markers+lines",
         "name": "knn validation",
         "orientation": "v",
         "showlegend": true,
         "type": "scatter",
         "x": [
          200,
          500,
          1000,
          2000,
          4000,
          8000
         ],
         "xaxis": "x",
         "y": [
          0.5620136635,
          0.6016200958,
          0.5716412546,
          0.5636741585,
          0.5959496265,
          0.5955277142
         ],
         "yaxis": "y"
        },
        {
         "hovertemplate": "algorithm_group=svc<br>num_samples=%{x}<br>auc_val=%{y}<extra></extra>",
         "legendgroup": "svc",
         "line": {
          "color": "#00cc96",
          "dash": "solid"
         },
         "marker": {
          "symbol": "circle"
         },
         "mode": "markers+lines",
         "name": "svc validation",
         "orientation": "v",
         "showlegend": true,
         "type": "scatter",
         "x": [
          200,
          500,
          1000,
          2000,
          4000,
          8000
         ],
         "xaxis": "x",
         "y": [
          0.6703304309,
          0.664180701,
          0.6902725028,
          0.7312238867,
          0.7523357616,
          0.7581648009
         ],
         "yaxis": "y"
        },
        {
         "hovertemplate": "algorithm_group=bayesian_network<br>num_samples=%{x}<br>auc_test=%{y}<extra></extra>",
         "legendgroup": "bayesian_network",
         "line": {
          "color": "#636efa",
          "dash": "dot"
         },
         "marker": {
          "symbol": "circle"
         },
         "mode": "lines",
         "name": "bayesian_network test",
         "orientation": "v",
         "showlegend": true,
         "type": "scatter",
         "x": [
          200,
          500,
          1000,
          2000,
          4000,
          8000
         ],
         "xaxis": "x",
         "y": [
          0.7070808031,
          0.7254573431,
          0.7462207089,
          0.7454863059,
          0.7567386292,
          0.7549148895
         ],
         "yaxis": "y"
        },
        {
         "hovertemplate": "algorithm_group=knn<br>num_samples=%{x}<br>auc_test=%{y}<extra></extra>",
         "legendgroup": "knn",
         "line": {
          "color": "#EF553B",
          "dash": "dot"
         },
         "marker": {
          "symbol": "circle"
         },
         "mode": "lines",
         "name": "knn test",
         "orientation": "v",
         "showlegend": true,
         "type": "scatter",
         "x": [
          200,
          500,
          1000,
          2000,
          4000,
          8000
         ],
         "xaxis": "x",
         "y": [
          0.5620136635,
          0.6016200958,
          0.5716412546,
          0.5636741585,
          0.5959496265,
          0.5955277142
         ],
         "yaxis": "y"
        },
        {
         "hovertemplate": "algorithm_group=svc<br>num_samples=%{x}<br>auc_test=%{y}<extra></extra>",
         "legendgroup": "svc",
         "line": {
          "color": "#00cc96",
          "dash": "dot"
         },
         "marker": {
          "symbol": "circle"
         },
         "mode": "lines",
         "name": "svc test",
         "orientation": "v",
         "showlegend": true,
         "type": "scatter",
         "x": [
          200,
          500,
          1000,
          2000,
          4000,
          8000
         ],
         "xaxis": "x",
         "y": [
          0.6703304309,
          0.664180701,
          0.6902725028,
          0.7312238867,
          0.7523357616,
          0.7581648009
         ],
         "yaxis": "y"
        }
       ],
       "layout": {
        "font": {
         "size": 16
        },
        "legend": {
         "title": {
          "text": "algorithm_group"
         },
         "tracegroupgap": 0
        },
        "template": {
         "data": {
          "bar": [
           {
            "error_x": {
             "color": "#2a3f5f"
            },
            "error_y": {
             "color": "#2a3f5f"
            },
            "marker": {
             "line": {
              "color": "#E5ECF6",
              "width": 0.5
             },
             "pattern": {
              "fillmode": "overlay",
              "size": 10,
              "solidity": 0.2
             }
            },
            "type": "bar"
           }
          ],
          "barpolar": [
           {
            "marker": {
             "line": {
              "color": "#E5ECF6",
              "width": 0.5
             },
             "pattern": {
              "fillmode": "overlay",
              "size": 10,
              "solidity": 0.2
             }
            },
            "type": "barpolar"
           }
          ],
          "carpet": [
           {
            "aaxis": {
             "endlinecolor": "#2a3f5f",
             "gridcolor": "white",
             "linecolor": "white",
             "minorgridcolor": "white",
             "startlinecolor": "#2a3f5f"
            },
            "baxis": {
             "endlinecolor": "#2a3f5f",
             "gridcolor": "white",
             "linecolor": "white",
             "minorgridcolor": "white",
             "startlinecolor": "#2a3f5f"
            },
            "type": "carpet"
           }
          ],
          "choropleth": [
           {
            "colorbar": {
             "outlinewidth": 0,
             "ticks": ""
            },
            "type": "choropleth"
           }
          ],
          "contour": [
           {
            "colorbar": {
             "outlinewidth": 0,
             "ticks": ""
            },
            "colorscale": [
             [
              0,
              "#0d0887"
             ],
             [
              0.1111111111111111,
              "#46039f"
             ],
             [
              0.2222222222222222,
              "#7201a8"
             ],
             [
              0.3333333333333333,
              "#9c179e"
             ],
             [
              0.4444444444444444,
              "#bd3786"
             ],
             [
              0.5555555555555556,
              "#d8576b"
             ],
             [
              0.6666666666666666,
              "#ed7953"
             ],
             [
              0.7777777777777778,
              "#fb9f3a"
             ],
             [
              0.8888888888888888,
              "#fdca26"
             ],
             [
              1,
              "#f0f921"
             ]
            ],
            "type": "contour"
           }
          ],
          "contourcarpet": [
           {
            "colorbar": {
             "outlinewidth": 0,
             "ticks": ""
            },
            "type": "contourcarpet"
           }
          ],
          "heatmap": [
           {
            "colorbar": {
             "outlinewidth": 0,
             "ticks": ""
            },
            "colorscale": [
             [
              0,
              "#0d0887"
             ],
             [
              0.1111111111111111,
              "#46039f"
             ],
             [
              0.2222222222222222,
              "#7201a8"
             ],
             [
              0.3333333333333333,
              "#9c179e"
             ],
             [
              0.4444444444444444,
              "#bd3786"
             ],
             [
              0.5555555555555556,
              "#d8576b"
             ],
             [
              0.6666666666666666,
              "#ed7953"
             ],
             [
              0.7777777777777778,
              "#fb9f3a"
             ],
             [
              0.8888888888888888,
              "#fdca26"
             ],
             [
              1,
              "#f0f921"
             ]
            ],
            "type": "heatmap"
           }
          ],
          "heatmapgl": [
           {
            "colorbar": {
             "outlinewidth": 0,
             "ticks": ""
            },
            "colorscale": [
             [
              0,
              "#0d0887"
             ],
             [
              0.1111111111111111,
              "#46039f"
             ],
             [
              0.2222222222222222,
              "#7201a8"
             ],
             [
              0.3333333333333333,
              "#9c179e"
             ],
             [
              0.4444444444444444,
              "#bd3786"
             ],
             [
              0.5555555555555556,
              "#d8576b"
             ],
             [
              0.6666666666666666,
              "#ed7953"
             ],
             [
              0.7777777777777778,
              "#fb9f3a"
             ],
             [
              0.8888888888888888,
              "#fdca26"
             ],
             [
              1,
              "#f0f921"
             ]
            ],
            "type": "heatmapgl"
           }
          ],
          "histogram": [
           {
            "marker": {
             "pattern": {
              "fillmode": "overlay",
              "size": 10,
              "solidity": 0.2
             }
            },
            "type": "histogram"
           }
          ],
          "histogram2d": [
           {
            "colorbar": {
             "outlinewidth": 0,
             "ticks": ""
            },
            "colorscale": [
             [
              0,
              "#0d0887"
             ],
             [
              0.1111111111111111,
              "#46039f"
             ],
             [
              0.2222222222222222,
              "#7201a8"
             ],
             [
              0.3333333333333333,
              "#9c179e"
             ],
             [
              0.4444444444444444,
              "#bd3786"
             ],
             [
              0.5555555555555556,
              "#d8576b"
             ],
             [
              0.6666666666666666,
              "#ed7953"
             ],
             [
              0.7777777777777778,
              "#fb9f3a"
             ],
             [
              0.8888888888888888,
              "#fdca26"
             ],
             [
              1,
              "#f0f921"
             ]
            ],
            "type": "histogram2d"
           }
          ],
          "histogram2dcontour": [
           {
            "colorbar": {
             "outlinewidth": 0,
             "ticks": ""
            },
            "colorscale": [
             [
              0,
              "#0d0887"
             ],
             [
              0.1111111111111111,
              "#46039f"
             ],
             [
              0.2222222222222222,
              "#7201a8"
             ],
             [
              0.3333333333333333,
              "#9c179e"
             ],
             [
              0.4444444444444444,
              "#bd3786"
             ],
             [
              0.5555555555555556,
              "#d8576b"
             ],
             [
              0.6666666666666666,
              "#ed7953"
             ],
             [
              0.7777777777777778,
              "#fb9f3a"
             ],
             [
              0.8888888888888888,
              "#fdca26"
             ],
             [
              1,
              "#f0f921"
             ]
            ],
            "type": "histogram2dcontour"
           }
          ],
          "mesh3d": [
           {
            "colorbar": {
             "outlinewidth": 0,
             "ticks": ""
            },
            "type": "mesh3d"
           }
          ],
          "parcoords": [
           {
            "line": {
             "colorbar": {
              "outlinewidth": 0,
              "ticks": ""
             }
            },
            "type": "parcoords"
           }
          ],
          "pie": [
           {
            "automargin": true,
            "type": "pie"
           }
          ],
          "scatter": [
           {
            "fillpattern": {
             "fillmode": "overlay",
             "size": 10,
             "solidity": 0.2
            },
            "type": "scatter"
           }
          ],
          "scatter3d": [
           {
            "line": {
             "colorbar": {
              "outlinewidth": 0,
              "ticks": ""
             }
            },
            "marker": {
             "colorbar": {
              "outlinewidth": 0,
              "ticks": ""
             }
            },
            "type": "scatter3d"
           }
          ],
          "scattercarpet": [
           {
            "marker": {
             "colorbar": {
              "outlinewidth": 0,
              "ticks": ""
             }
            },
            "type": "scattercarpet"
           }
          ],
          "scattergeo": [
           {
            "marker": {
             "colorbar": {
              "outlinewidth": 0,
              "ticks": ""
             }
            },
            "type": "scattergeo"
           }
          ],
          "scattergl": [
           {
            "marker": {
             "colorbar": {
              "outlinewidth": 0,
              "ticks": ""
             }
            },
            "type": "scattergl"
           }
          ],
          "scattermapbox": [
           {
            "marker": {
             "colorbar": {
              "outlinewidth": 0,
              "ticks": ""
             }
            },
            "type": "scattermapbox"
           }
          ],
          "scatterpolar": [
           {
            "marker": {
             "colorbar": {
              "outlinewidth": 0,
              "ticks": ""
             }
            },
            "type": "scatterpolar"
           }
          ],
          "scatterpolargl": [
           {
            "marker": {
             "colorbar": {
              "outlinewidth": 0,
              "ticks": ""
             }
            },
            "type": "scatterpolargl"
           }
          ],
          "scatterternary": [
           {
            "marker": {
             "colorbar": {
              "outlinewidth": 0,
              "ticks": ""
             }
            },
            "type": "scatterternary"
           }
          ],
          "surface": [
           {
            "colorbar": {
             "outlinewidth": 0,
             "ticks": ""
            },
            "colorscale": [
             [
              0,
              "#0d0887"
             ],
             [
              0.1111111111111111,
              "#46039f"
             ],
             [
              0.2222222222222222,
              "#7201a8"
             ],
             [
              0.3333333333333333,
              "#9c179e"
             ],
             [
              0.4444444444444444,
              "#bd3786"
             ],
             [
              0.5555555555555556,
              "#d8576b"
             ],
             [
              0.6666666666666666,
              "#ed7953"
             ],
             [
              0.7777777777777778,
              "#fb9f3a"
             ],
             [
              0.8888888888888888,
              "#fdca26"
             ],
             [
              1,
              "#f0f921"
             ]
            ],
            "type": "surface"
           }
          ],
          "table": [
           {
            "cells": {
             "fill": {
              "color": "#EBF0F8"
             },
             "line": {
              "color": "white"
             }
            },
            "header": {
             "fill": {
              "color": "#C8D4E3"
             },
             "line": {
              "color": "white"
             }
            },
            "type": "table"
           }
          ]
         },
         "layout": {
          "annotationdefaults": {
           "arrowcolor": "#2a3f5f",
           "arrowhead": 0,
           "arrowwidth": 1
          },
          "autotypenumbers": "strict",
          "coloraxis": {
           "colorbar": {
            "outlinewidth": 0,
            "ticks": ""
           }
          },
          "colorscale": {
           "diverging": [
            [
             0,
             "#8e0152"
            ],
            [
             0.1,
             "#c51b7d"
            ],
            [
             0.2,
             "#de77ae"
            ],
            [
             0.3,
             "#f1b6da"
            ],
            [
             0.4,
             "#fde0ef"
            ],
            [
             0.5,
             "#f7f7f7"
            ],
            [
             0.6,
             "#e6f5d0"
            ],
            [
             0.7,
             "#b8e186"
            ],
            [
             0.8,
             "#7fbc41"
            ],
            [
             0.9,
             "#4d9221"
            ],
            [
             1,
             "#276419"
            ]
           ],
           "sequential": [
            [
             0,
             "#0d0887"
            ],
            [
             0.1111111111111111,
             "#46039f"
            ],
            [
             0.2222222222222222,
             "#7201a8"
            ],
            [
             0.3333333333333333,
             "#9c179e"
            ],
            [
             0.4444444444444444,
             "#bd3786"
            ],
            [
             0.5555555555555556,
             "#d8576b"
            ],
            [
             0.6666666666666666,
             "#ed7953"
            ],
            [
             0.7777777777777778,
             "#fb9f3a"
            ],
            [
             0.8888888888888888,
             "#fdca26"
            ],
            [
             1,
             "#f0f921"
            ]
           ],
           "sequentialminus": [
            [
             0,
             "#0d0887"
            ],
            [
             0.1111111111111111,
             "#46039f"
            ],
            [
             0.2222222222222222,
             "#7201a8"
            ],
            [
             0.3333333333333333,
             "#9c179e"
            ],
            [
             0.4444444444444444,
             "#bd3786"
            ],
            [
             0.5555555555555556,
             "#d8576b"
            ],
            [
             0.6666666666666666,
             "#ed7953"
            ],
            [
             0.7777777777777778,
             "#fb9f3a"
            ],
            [
             0.8888888888888888,
             "#fdca26"
            ],
            [
             1,
             "#f0f921"
            ]
           ]
          },
          "colorway": [
           "#636efa",
           "#EF553B",
           "#00cc96",
           "#ab63fa",
           "#FFA15A",
           "#19d3f3",
           "#FF6692",
           "#B6E880",
           "#FF97FF",
           "#FECB52"
          ],
          "font": {
           "color": "#2a3f5f"
          },
          "geo": {
           "bgcolor": "white",
           "lakecolor": "white",
           "landcolor": "#E5ECF6",
           "showlakes": true,
           "showland": true,
           "subunitcolor": "white"
          },
          "hoverlabel": {
           "align": "left"
          },
          "hovermode": "closest",
          "mapbox": {
           "style": "light"
          },
          "paper_bgcolor": "white",
          "plot_bgcolor": "#E5ECF6",
          "polar": {
           "angularaxis": {
            "gridcolor": "white",
            "linecolor": "white",
            "ticks": ""
           },
           "bgcolor": "#E5ECF6",
           "radialaxis": {
            "gridcolor": "white",
            "linecolor": "white",
            "ticks": ""
           }
          },
          "scene": {
           "xaxis": {
            "backgroundcolor": "#E5ECF6",
            "gridcolor": "white",
            "gridwidth": 2,
            "linecolor": "white",
            "showbackground": true,
            "ticks": "",
            "zerolinecolor": "white"
           },
           "yaxis": {
            "backgroundcolor": "#E5ECF6",
            "gridcolor": "white",
            "gridwidth": 2,
            "linecolor": "white",
            "showbackground": true,
            "ticks": "",
            "zerolinecolor": "white"
           },
           "zaxis": {
            "backgroundcolor": "#E5ECF6",
            "gridcolor": "white",
            "gridwidth": 2,
            "linecolor": "white",
            "showbackground": true,
            "ticks": "",
            "zerolinecolor": "white"
           }
          },
          "shapedefaults": {
           "line": {
            "color": "#2a3f5f"
           }
          },
          "ternary": {
           "aaxis": {
            "gridcolor": "white",
            "linecolor": "white",
            "ticks": ""
           },
           "baxis": {
            "gridcolor": "white",
            "linecolor": "white",
            "ticks": ""
           },
           "bgcolor": "#E5ECF6",
           "caxis": {
            "gridcolor": "white",
            "linecolor": "white",
            "ticks": ""
           }
          },
          "title": {
           "x": 0.05
          },
          "xaxis": {
           "automargin": true,
           "gridcolor": "white",
           "linecolor": "white",
           "ticks": "",
           "title": {
            "standoff": 15
           },
           "zerolinecolor": "white",
           "zerolinewidth": 2
          },
          "yaxis": {
           "automargin": true,
           "gridcolor": "white",
           "linecolor": "white",
           "ticks": "",
           "title": {
            "standoff": 15
           },
           "zerolinecolor": "white",
           "zerolinewidth": 2
          }
         }
        },
        "title": {
         "text": "Area under the curve for eclipse_72k"
        },
        "xaxis": {
         "anchor": "y",
         "domain": [
          0,
          1
         ],
         "title": {
          "text": "num_samples"
         }
        },
        "yaxis": {
         "anchor": "x",
         "domain": [
          0,
          1
         ],
         "title": {
          "text": "Area under the curve"
         }
        }
       }
      }
     },
     "metadata": {},
     "output_type": "display_data"
    }
   ],
   "source": [
    "dataset_choice = \"eclipse_72k\"\n",
    "d = df.query(f\"dataset_choice == '{dataset_choice}'\")\n",
    "d.sort_values([\"num_samples\",\"algorithm_group\"],inplace=True)\n",
    "d = d.rename({\"accuracy_val\": \"Validation accuracy with best threshold\", \"accuracy_test\": \"Test accuracy with best threshold\"}, axis=1)\n",
    "fig = px.line(\n",
    "    d,\n",
    "    x=\"num_samples\",\n",
    "    y=\"auc_val\",\n",
    "    color=\"algorithm_group\",\n",
    "    title=f\"Area under the curve for {dataset_choice}\",\n",
    "    markers=True,\n",
    ")\n",
    "for i,trace in enumerate(fig.data):\n",
    "    trace.name =  trace.name + ' validation'\n",
    "fig2 = px.line(d, x=\"num_samples\", y=\"auc_test\", color=\"algorithm_group\")\n",
    "for i,trace in enumerate(fig2.data):\n",
    "    trace.name = trace.name + ' test'\n",
    "fig2.update_traces(patch={\"line\": {\"dash\": 'dot'}}) \n",
    "for i in range(3):\n",
    "    fig.add_trace(fig2.data[i])\n",
    "fig.update_layout(\n",
    "    font=dict(size=16)  # Set the default font size for all text elements in the figure\n",
    ")\n",
    "fig.update_yaxes(title_text=\"Area under the curve\")\n",
    "fig.show()"
   ]
  },
  {
   "cell_type": "code",
   "execution_count": 22,
   "metadata": {},
   "outputs": [
    {
     "name": "stderr",
     "output_type": "stream",
     "text": [
      "C:\\Users\\robin\\AppData\\Local\\Temp\\ipykernel_11648\\1523708317.py:3: SettingWithCopyWarning:\n",
      "\n",
      "\n",
      "A value is trying to be set on a copy of a slice from a DataFrame\n",
      "\n",
      "See the caveats in the documentation: https://pandas.pydata.org/pandas-docs/stable/user_guide/indexing.html#returning-a-view-versus-a-copy\n",
      "\n",
      "c:\\Users\\robin\\Documents\\projets\\severityPrediction\\src\\llm\\llama\\main.py:907: UserWarning:\n",
      "\n",
      "FigureCanvasAgg is non-interactive, and thus cannot be shown\n",
      "\n",
      "c:\\Users\\robin\\Documents\\projets\\severityPrediction\\src\\llm\\llama\\main.py:907: UserWarning:\n",
      "\n",
      "FigureCanvasAgg is non-interactive, and thus cannot be shown\n",
      "\n",
      "c:\\Users\\robin\\Documents\\projets\\severityPrediction\\src\\llm\\llama\\main.py:907: UserWarning:\n",
      "\n",
      "FigureCanvasAgg is non-interactive, and thus cannot be shown\n",
      "\n",
      "c:\\Users\\robin\\Documents\\projets\\severityPrediction\\src\\llm\\llama\\main.py:907: UserWarning:\n",
      "\n",
      "FigureCanvasAgg is non-interactive, and thus cannot be shown\n",
      "\n",
      "c:\\Users\\robin\\Documents\\projets\\severityPrediction\\src\\llm\\llama\\main.py:907: UserWarning:\n",
      "\n",
      "FigureCanvasAgg is non-interactive, and thus cannot be shown\n",
      "\n",
      "c:\\Users\\robin\\Documents\\projets\\severityPrediction\\src\\llm\\llama\\main.py:907: UserWarning:\n",
      "\n",
      "FigureCanvasAgg is non-interactive, and thus cannot be shown\n",
      "\n"
     ]
    }
   ],
   "source": [
    "dataset_choice = \"eclipse_72k\"\n",
    "d = df.query(f\"dataset_choice == '{dataset_choice}' & num_samples == 8000\")\n",
    "d.sort_values([\"num_samples\",\"algorithm_group\"],inplace=True)\n",
    "for i,l in d.iterrows():\n",
    "    conf_matrix_test = l[\"confusion_matrix_test\"]\n",
    "    algo = l['classifier']\n",
    "    for conf_matrix_name, conf_matrix_id in zip([\"Validation\", \"Test\"],[\"val\",\"test\"]):\n",
    "        conf_matrix = l[f\"confusion_matrix_{conf_matrix_id}\"]\n",
    "        f1 = l[f\"f1_{conf_matrix_id}\"]\n",
    "        compute_metrics_from_files(\n",
    "            conf_matrix=conf_matrix,\n",
    "            f1=f1,\n",
    "            folder_out=Path(\"../../data/baseline_studies/\"),\n",
    "            title=f\"{dataset_choice} {conf_matrix_name}\",\n",
    "            id=f\"{dataset_choice}_{conf_matrix_name}\"\n",
    "        )"
   ]
  },
  {
   "cell_type": "code",
   "execution_count": 18,
   "metadata": {},
   "outputs": [
    {
     "name": "stderr",
     "output_type": "stream",
     "text": [
      "C:\\Users\\robin\\AppData\\Local\\Temp\\ipykernel_11648\\3881500014.py:3: SettingWithCopyWarning:\n",
      "\n",
      "\n",
      "A value is trying to be set on a copy of a slice from a DataFrame\n",
      "\n",
      "See the caveats in the documentation: https://pandas.pydata.org/pandas-docs/stable/user_guide/indexing.html#returning-a-view-versus-a-copy\n",
      "\n"
     ]
    },
    {
     "data": {
      "application/vnd.plotly.v1+json": {
       "config": {
        "plotlyServerURL": "https://plot.ly"
       },
       "data": [
        {
         "hovertemplate": "algorithm_group=bayesian_network<br>num_samples=%{x}<br>auc_val=%{y}<extra></extra>",
         "legendgroup": "bayesian_network",
         "line": {
          "color": "#636efa",
          "dash": "solid"
         },
         "marker": {
          "symbol": "circle"
         },
         "mode": "markers+lines",
         "name": "bayesian_network validation",
         "orientation": "v",
         "showlegend": true,
         "type": "scatter",
         "x": [
          200,
          500,
          1000,
          2000,
          4000,
          8000
         ],
         "xaxis": "x",
         "y": [
          0.6805507445,
          0.7135078927,
          0.7553334243,
          0.7578710703,
          0.7744747316,
          0.8055546434
         ],
         "yaxis": "y"
        },
        {
         "hovertemplate": "algorithm_group=knn<br>num_samples=%{x}<br>auc_val=%{y}<extra></extra>",
         "legendgroup": "knn",
         "line": {
          "color": "#EF553B",
          "dash": "solid"
         },
         "marker": {
          "symbol": "circle"
         },
         "mode": "markers+lines",
         "name": "knn validation",
         "orientation": "v",
         "showlegend": true,
         "type": "scatter",
         "x": [
          200,
          500,
          1000,
          2000,
          4000,
          8000
         ],
         "xaxis": "x",
         "y": [
          0.6430764115,
          0.6425812395,
          0.6738853063,
          0.6776245268,
          0.6897921392,
          0.6830823529
         ],
         "yaxis": "y"
        },
        {
         "hovertemplate": "algorithm_group=svc<br>num_samples=%{x}<br>auc_val=%{y}<extra></extra>",
         "legendgroup": "svc",
         "line": {
          "color": "#00cc96",
          "dash": "solid"
         },
         "marker": {
          "symbol": "circle"
         },
         "mode": "markers+lines",
         "name": "svc validation",
         "orientation": "v",
         "showlegend": true,
         "type": "scatter",
         "x": [
          200,
          500,
          1000,
          2000,
          4000,
          8000
         ],
         "xaxis": "x",
         "y": [
          0.6923437535,
          0.7326266901,
          0.7676345044,
          0.7829090375,
          0.7954035321,
          0.8056577889
         ],
         "yaxis": "y"
        },
        {
         "hovertemplate": "algorithm_group=bayesian_network<br>num_samples=%{x}<br>auc_test=%{y}<extra></extra>",
         "legendgroup": "bayesian_network",
         "line": {
          "color": "#636efa",
          "dash": "dot"
         },
         "marker": {
          "symbol": "circle"
         },
         "mode": "lines",
         "name": "bayesian_network test",
         "orientation": "v",
         "showlegend": true,
         "type": "scatter",
         "x": [
          200,
          500,
          1000,
          2000,
          4000,
          8000
         ],
         "xaxis": "x",
         "y": [
          0.6805507445,
          0.7135078927,
          0.7553334243,
          0.7578710703,
          0.7744747316,
          0.8055546434
         ],
         "yaxis": "y"
        },
        {
         "hovertemplate": "algorithm_group=knn<br>num_samples=%{x}<br>auc_test=%{y}<extra></extra>",
         "legendgroup": "knn",
         "line": {
          "color": "#EF553B",
          "dash": "dot"
         },
         "marker": {
          "symbol": "circle"
         },
         "mode": "lines",
         "name": "knn test",
         "orientation": "v",
         "showlegend": true,
         "type": "scatter",
         "x": [
          200,
          500,
          1000,
          2000,
          4000,
          8000
         ],
         "xaxis": "x",
         "y": [
          0.6430764115,
          0.6425812395,
          0.6738853063,
          0.6776245268,
          0.6897921392,
          0.6830823529
         ],
         "yaxis": "y"
        },
        {
         "hovertemplate": "algorithm_group=svc<br>num_samples=%{x}<br>auc_test=%{y}<extra></extra>",
         "legendgroup": "svc",
         "line": {
          "color": "#00cc96",
          "dash": "dot"
         },
         "marker": {
          "symbol": "circle"
         },
         "mode": "lines",
         "name": "svc test",
         "orientation": "v",
         "showlegend": true,
         "type": "scatter",
         "x": [
          200,
          500,
          1000,
          2000,
          4000,
          8000
         ],
         "xaxis": "x",
         "y": [
          0.6923437535,
          0.7326266901,
          0.7676345044,
          0.7829090375,
          0.7954035321,
          0.8056577889
         ],
         "yaxis": "y"
        }
       ],
       "layout": {
        "font": {
         "size": 16
        },
        "legend": {
         "title": {
          "text": "algorithm_group"
         },
         "tracegroupgap": 0
        },
        "template": {
         "data": {
          "bar": [
           {
            "error_x": {
             "color": "#2a3f5f"
            },
            "error_y": {
             "color": "#2a3f5f"
            },
            "marker": {
             "line": {
              "color": "#E5ECF6",
              "width": 0.5
             },
             "pattern": {
              "fillmode": "overlay",
              "size": 10,
              "solidity": 0.2
             }
            },
            "type": "bar"
           }
          ],
          "barpolar": [
           {
            "marker": {
             "line": {
              "color": "#E5ECF6",
              "width": 0.5
             },
             "pattern": {
              "fillmode": "overlay",
              "size": 10,
              "solidity": 0.2
             }
            },
            "type": "barpolar"
           }
          ],
          "carpet": [
           {
            "aaxis": {
             "endlinecolor": "#2a3f5f",
             "gridcolor": "white",
             "linecolor": "white",
             "minorgridcolor": "white",
             "startlinecolor": "#2a3f5f"
            },
            "baxis": {
             "endlinecolor": "#2a3f5f",
             "gridcolor": "white",
             "linecolor": "white",
             "minorgridcolor": "white",
             "startlinecolor": "#2a3f5f"
            },
            "type": "carpet"
           }
          ],
          "choropleth": [
           {
            "colorbar": {
             "outlinewidth": 0,
             "ticks": ""
            },
            "type": "choropleth"
           }
          ],
          "contour": [
           {
            "colorbar": {
             "outlinewidth": 0,
             "ticks": ""
            },
            "colorscale": [
             [
              0,
              "#0d0887"
             ],
             [
              0.1111111111111111,
              "#46039f"
             ],
             [
              0.2222222222222222,
              "#7201a8"
             ],
             [
              0.3333333333333333,
              "#9c179e"
             ],
             [
              0.4444444444444444,
              "#bd3786"
             ],
             [
              0.5555555555555556,
              "#d8576b"
             ],
             [
              0.6666666666666666,
              "#ed7953"
             ],
             [
              0.7777777777777778,
              "#fb9f3a"
             ],
             [
              0.8888888888888888,
              "#fdca26"
             ],
             [
              1,
              "#f0f921"
             ]
            ],
            "type": "contour"
           }
          ],
          "contourcarpet": [
           {
            "colorbar": {
             "outlinewidth": 0,
             "ticks": ""
            },
            "type": "contourcarpet"
           }
          ],
          "heatmap": [
           {
            "colorbar": {
             "outlinewidth": 0,
             "ticks": ""
            },
            "colorscale": [
             [
              0,
              "#0d0887"
             ],
             [
              0.1111111111111111,
              "#46039f"
             ],
             [
              0.2222222222222222,
              "#7201a8"
             ],
             [
              0.3333333333333333,
              "#9c179e"
             ],
             [
              0.4444444444444444,
              "#bd3786"
             ],
             [
              0.5555555555555556,
              "#d8576b"
             ],
             [
              0.6666666666666666,
              "#ed7953"
             ],
             [
              0.7777777777777778,
              "#fb9f3a"
             ],
             [
              0.8888888888888888,
              "#fdca26"
             ],
             [
              1,
              "#f0f921"
             ]
            ],
            "type": "heatmap"
           }
          ],
          "heatmapgl": [
           {
            "colorbar": {
             "outlinewidth": 0,
             "ticks": ""
            },
            "colorscale": [
             [
              0,
              "#0d0887"
             ],
             [
              0.1111111111111111,
              "#46039f"
             ],
             [
              0.2222222222222222,
              "#7201a8"
             ],
             [
              0.3333333333333333,
              "#9c179e"
             ],
             [
              0.4444444444444444,
              "#bd3786"
             ],
             [
              0.5555555555555556,
              "#d8576b"
             ],
             [
              0.6666666666666666,
              "#ed7953"
             ],
             [
              0.7777777777777778,
              "#fb9f3a"
             ],
             [
              0.8888888888888888,
              "#fdca26"
             ],
             [
              1,
              "#f0f921"
             ]
            ],
            "type": "heatmapgl"
           }
          ],
          "histogram": [
           {
            "marker": {
             "pattern": {
              "fillmode": "overlay",
              "size": 10,
              "solidity": 0.2
             }
            },
            "type": "histogram"
           }
          ],
          "histogram2d": [
           {
            "colorbar": {
             "outlinewidth": 0,
             "ticks": ""
            },
            "colorscale": [
             [
              0,
              "#0d0887"
             ],
             [
              0.1111111111111111,
              "#46039f"
             ],
             [
              0.2222222222222222,
              "#7201a8"
             ],
             [
              0.3333333333333333,
              "#9c179e"
             ],
             [
              0.4444444444444444,
              "#bd3786"
             ],
             [
              0.5555555555555556,
              "#d8576b"
             ],
             [
              0.6666666666666666,
              "#ed7953"
             ],
             [
              0.7777777777777778,
              "#fb9f3a"
             ],
             [
              0.8888888888888888,
              "#fdca26"
             ],
             [
              1,
              "#f0f921"
             ]
            ],
            "type": "histogram2d"
           }
          ],
          "histogram2dcontour": [
           {
            "colorbar": {
             "outlinewidth": 0,
             "ticks": ""
            },
            "colorscale": [
             [
              0,
              "#0d0887"
             ],
             [
              0.1111111111111111,
              "#46039f"
             ],
             [
              0.2222222222222222,
              "#7201a8"
             ],
             [
              0.3333333333333333,
              "#9c179e"
             ],
             [
              0.4444444444444444,
              "#bd3786"
             ],
             [
              0.5555555555555556,
              "#d8576b"
             ],
             [
              0.6666666666666666,
              "#ed7953"
             ],
             [
              0.7777777777777778,
              "#fb9f3a"
             ],
             [
              0.8888888888888888,
              "#fdca26"
             ],
             [
              1,
              "#f0f921"
             ]
            ],
            "type": "histogram2dcontour"
           }
          ],
          "mesh3d": [
           {
            "colorbar": {
             "outlinewidth": 0,
             "ticks": ""
            },
            "type": "mesh3d"
           }
          ],
          "parcoords": [
           {
            "line": {
             "colorbar": {
              "outlinewidth": 0,
              "ticks": ""
             }
            },
            "type": "parcoords"
           }
          ],
          "pie": [
           {
            "automargin": true,
            "type": "pie"
           }
          ],
          "scatter": [
           {
            "fillpattern": {
             "fillmode": "overlay",
             "size": 10,
             "solidity": 0.2
            },
            "type": "scatter"
           }
          ],
          "scatter3d": [
           {
            "line": {
             "colorbar": {
              "outlinewidth": 0,
              "ticks": ""
             }
            },
            "marker": {
             "colorbar": {
              "outlinewidth": 0,
              "ticks": ""
             }
            },
            "type": "scatter3d"
           }
          ],
          "scattercarpet": [
           {
            "marker": {
             "colorbar": {
              "outlinewidth": 0,
              "ticks": ""
             }
            },
            "type": "scattercarpet"
           }
          ],
          "scattergeo": [
           {
            "marker": {
             "colorbar": {
              "outlinewidth": 0,
              "ticks": ""
             }
            },
            "type": "scattergeo"
           }
          ],
          "scattergl": [
           {
            "marker": {
             "colorbar": {
              "outlinewidth": 0,
              "ticks": ""
             }
            },
            "type": "scattergl"
           }
          ],
          "scattermapbox": [
           {
            "marker": {
             "colorbar": {
              "outlinewidth": 0,
              "ticks": ""
             }
            },
            "type": "scattermapbox"
           }
          ],
          "scatterpolar": [
           {
            "marker": {
             "colorbar": {
              "outlinewidth": 0,
              "ticks": ""
             }
            },
            "type": "scatterpolar"
           }
          ],
          "scatterpolargl": [
           {
            "marker": {
             "colorbar": {
              "outlinewidth": 0,
              "ticks": ""
             }
            },
            "type": "scatterpolargl"
           }
          ],
          "scatterternary": [
           {
            "marker": {
             "colorbar": {
              "outlinewidth": 0,
              "ticks": ""
             }
            },
            "type": "scatterternary"
           }
          ],
          "surface": [
           {
            "colorbar": {
             "outlinewidth": 0,
             "ticks": ""
            },
            "colorscale": [
             [
              0,
              "#0d0887"
             ],
             [
              0.1111111111111111,
              "#46039f"
             ],
             [
              0.2222222222222222,
              "#7201a8"
             ],
             [
              0.3333333333333333,
              "#9c179e"
             ],
             [
              0.4444444444444444,
              "#bd3786"
             ],
             [
              0.5555555555555556,
              "#d8576b"
             ],
             [
              0.6666666666666666,
              "#ed7953"
             ],
             [
              0.7777777777777778,
              "#fb9f3a"
             ],
             [
              0.8888888888888888,
              "#fdca26"
             ],
             [
              1,
              "#f0f921"
             ]
            ],
            "type": "surface"
           }
          ],
          "table": [
           {
            "cells": {
             "fill": {
              "color": "#EBF0F8"
             },
             "line": {
              "color": "white"
             }
            },
            "header": {
             "fill": {
              "color": "#C8D4E3"
             },
             "line": {
              "color": "white"
             }
            },
            "type": "table"
           }
          ]
         },
         "layout": {
          "annotationdefaults": {
           "arrowcolor": "#2a3f5f",
           "arrowhead": 0,
           "arrowwidth": 1
          },
          "autotypenumbers": "strict",
          "coloraxis": {
           "colorbar": {
            "outlinewidth": 0,
            "ticks": ""
           }
          },
          "colorscale": {
           "diverging": [
            [
             0,
             "#8e0152"
            ],
            [
             0.1,
             "#c51b7d"
            ],
            [
             0.2,
             "#de77ae"
            ],
            [
             0.3,
             "#f1b6da"
            ],
            [
             0.4,
             "#fde0ef"
            ],
            [
             0.5,
             "#f7f7f7"
            ],
            [
             0.6,
             "#e6f5d0"
            ],
            [
             0.7,
             "#b8e186"
            ],
            [
             0.8,
             "#7fbc41"
            ],
            [
             0.9,
             "#4d9221"
            ],
            [
             1,
             "#276419"
            ]
           ],
           "sequential": [
            [
             0,
             "#0d0887"
            ],
            [
             0.1111111111111111,
             "#46039f"
            ],
            [
             0.2222222222222222,
             "#7201a8"
            ],
            [
             0.3333333333333333,
             "#9c179e"
            ],
            [
             0.4444444444444444,
             "#bd3786"
            ],
            [
             0.5555555555555556,
             "#d8576b"
            ],
            [
             0.6666666666666666,
             "#ed7953"
            ],
            [
             0.7777777777777778,
             "#fb9f3a"
            ],
            [
             0.8888888888888888,
             "#fdca26"
            ],
            [
             1,
             "#f0f921"
            ]
           ],
           "sequentialminus": [
            [
             0,
             "#0d0887"
            ],
            [
             0.1111111111111111,
             "#46039f"
            ],
            [
             0.2222222222222222,
             "#7201a8"
            ],
            [
             0.3333333333333333,
             "#9c179e"
            ],
            [
             0.4444444444444444,
             "#bd3786"
            ],
            [
             0.5555555555555556,
             "#d8576b"
            ],
            [
             0.6666666666666666,
             "#ed7953"
            ],
            [
             0.7777777777777778,
             "#fb9f3a"
            ],
            [
             0.8888888888888888,
             "#fdca26"
            ],
            [
             1,
             "#f0f921"
            ]
           ]
          },
          "colorway": [
           "#636efa",
           "#EF553B",
           "#00cc96",
           "#ab63fa",
           "#FFA15A",
           "#19d3f3",
           "#FF6692",
           "#B6E880",
           "#FF97FF",
           "#FECB52"
          ],
          "font": {
           "color": "#2a3f5f"
          },
          "geo": {
           "bgcolor": "white",
           "lakecolor": "white",
           "landcolor": "#E5ECF6",
           "showlakes": true,
           "showland": true,
           "subunitcolor": "white"
          },
          "hoverlabel": {
           "align": "left"
          },
          "hovermode": "closest",
          "mapbox": {
           "style": "light"
          },
          "paper_bgcolor": "white",
          "plot_bgcolor": "#E5ECF6",
          "polar": {
           "angularaxis": {
            "gridcolor": "white",
            "linecolor": "white",
            "ticks": ""
           },
           "bgcolor": "#E5ECF6",
           "radialaxis": {
            "gridcolor": "white",
            "linecolor": "white",
            "ticks": ""
           }
          },
          "scene": {
           "xaxis": {
            "backgroundcolor": "#E5ECF6",
            "gridcolor": "white",
            "gridwidth": 2,
            "linecolor": "white",
            "showbackground": true,
            "ticks": "",
            "zerolinecolor": "white"
           },
           "yaxis": {
            "backgroundcolor": "#E5ECF6",
            "gridcolor": "white",
            "gridwidth": 2,
            "linecolor": "white",
            "showbackground": true,
            "ticks": "",
            "zerolinecolor": "white"
           },
           "zaxis": {
            "backgroundcolor": "#E5ECF6",
            "gridcolor": "white",
            "gridwidth": 2,
            "linecolor": "white",
            "showbackground": true,
            "ticks": "",
            "zerolinecolor": "white"
           }
          },
          "shapedefaults": {
           "line": {
            "color": "#2a3f5f"
           }
          },
          "ternary": {
           "aaxis": {
            "gridcolor": "white",
            "linecolor": "white",
            "ticks": ""
           },
           "baxis": {
            "gridcolor": "white",
            "linecolor": "white",
            "ticks": ""
           },
           "bgcolor": "#E5ECF6",
           "caxis": {
            "gridcolor": "white",
            "linecolor": "white",
            "ticks": ""
           }
          },
          "title": {
           "x": 0.05
          },
          "xaxis": {
           "automargin": true,
           "gridcolor": "white",
           "linecolor": "white",
           "ticks": "",
           "title": {
            "standoff": 15
           },
           "zerolinecolor": "white",
           "zerolinewidth": 2
          },
          "yaxis": {
           "automargin": true,
           "gridcolor": "white",
           "linecolor": "white",
           "ticks": "",
           "title": {
            "standoff": 15
           },
           "zerolinecolor": "white",
           "zerolinewidth": 2
          }
         }
        },
        "title": {
         "text": "Area under the curve for mozilla_200k"
        },
        "xaxis": {
         "anchor": "y",
         "domain": [
          0,
          1
         ],
         "title": {
          "text": "num_samples"
         }
        },
        "yaxis": {
         "anchor": "x",
         "domain": [
          0,
          1
         ],
         "title": {
          "text": "Area under the curve"
         }
        }
       }
      }
     },
     "metadata": {},
     "output_type": "display_data"
    }
   ],
   "source": [
    "dataset_choice = \"mozilla_200k\"\n",
    "d = df.query(f\"dataset_choice == '{dataset_choice}'\")\n",
    "d.sort_values([\"num_samples\",\"algorithm_group\"],inplace=True)\n",
    "d = d.rename({\"accuracy_val\": \"Validation accuracy with best threshold\", \"accuracy_test\": \"Test accuracy with best threshold\"}, axis=1)\n",
    "fig = px.line(\n",
    "    d,\n",
    "    x=\"num_samples\",\n",
    "    y=\"auc_val\",\n",
    "    color=\"algorithm_group\",\n",
    "    title=f\"Area under the curve for {dataset_choice}\",\n",
    "    markers=True,\n",
    ")\n",
    "for i,trace in enumerate(fig.data):\n",
    "    trace.name =  trace.name + ' validation'\n",
    "fig2 = px.line(d, x=\"num_samples\", y=\"auc_test\", color=\"algorithm_group\")\n",
    "for i,trace in enumerate(fig2.data):\n",
    "    trace.name = trace.name + ' test'\n",
    "fig2.update_traces(patch={\"line\": {\"dash\": 'dot'}}) \n",
    "for i in range(3):\n",
    "    fig.add_trace(fig2.data[i])\n",
    "fig.update_layout(\n",
    "    font=dict(size=16)  # Set the default font size for all text elements in the figure\n",
    ")\n",
    "fig.update_yaxes(title_text=\"Area under the curve\")\n",
    "fig.show()"
   ]
  },
  {
   "cell_type": "code",
   "execution_count": 23,
   "metadata": {},
   "outputs": [
    {
     "name": "stderr",
     "output_type": "stream",
     "text": [
      "C:\\Users\\robin\\AppData\\Local\\Temp\\ipykernel_11648\\3823768617.py:3: SettingWithCopyWarning:\n",
      "\n",
      "\n",
      "A value is trying to be set on a copy of a slice from a DataFrame\n",
      "\n",
      "See the caveats in the documentation: https://pandas.pydata.org/pandas-docs/stable/user_guide/indexing.html#returning-a-view-versus-a-copy\n",
      "\n",
      "c:\\Users\\robin\\Documents\\projets\\severityPrediction\\src\\llm\\llama\\main.py:907: UserWarning:\n",
      "\n",
      "FigureCanvasAgg is non-interactive, and thus cannot be shown\n",
      "\n",
      "c:\\Users\\robin\\Documents\\projets\\severityPrediction\\src\\llm\\llama\\main.py:907: UserWarning:\n",
      "\n",
      "FigureCanvasAgg is non-interactive, and thus cannot be shown\n",
      "\n",
      "c:\\Users\\robin\\Documents\\projets\\severityPrediction\\src\\llm\\llama\\main.py:907: UserWarning:\n",
      "\n",
      "FigureCanvasAgg is non-interactive, and thus cannot be shown\n",
      "\n",
      "c:\\Users\\robin\\Documents\\projets\\severityPrediction\\src\\llm\\llama\\main.py:907: UserWarning:\n",
      "\n",
      "FigureCanvasAgg is non-interactive, and thus cannot be shown\n",
      "\n",
      "c:\\Users\\robin\\Documents\\projets\\severityPrediction\\src\\llm\\llama\\main.py:907: UserWarning:\n",
      "\n",
      "FigureCanvasAgg is non-interactive, and thus cannot be shown\n",
      "\n",
      "c:\\Users\\robin\\Documents\\projets\\severityPrediction\\src\\llm\\llama\\main.py:907: UserWarning:\n",
      "\n",
      "FigureCanvasAgg is non-interactive, and thus cannot be shown\n",
      "\n"
     ]
    }
   ],
   "source": [
    "dataset_choice = \"mozilla_200k\"\n",
    "d = df.query(f\"dataset_choice == '{dataset_choice}' & num_samples == 8000\")\n",
    "d.sort_values([\"num_samples\",\"algorithm_group\"],inplace=True)\n",
    "for i,l in d.iterrows():\n",
    "    conf_matrix_test = l[\"confusion_matrix_test\"]\n",
    "    algo = l['classifier']\n",
    "    for conf_matrix_name, conf_matrix_id in zip([\"Validation\", \"Test\"],[\"val\",\"test\"]):\n",
    "        conf_matrix = l[f\"confusion_matrix_{conf_matrix_id}\"]\n",
    "        f1 = l[f\"f1_{conf_matrix_id}\"]\n",
    "        compute_metrics_from_files(\n",
    "            conf_matrix=conf_matrix,\n",
    "            f1=f1,\n",
    "            folder_out=Path(\"../../data/baseline_studies/\"),\n",
    "            title=f\"{dataset_choice} {conf_matrix_name}\",\n",
    "            id=f\"{dataset_choice}_{conf_matrix_name}\"\n",
    "        )"
   ]
  },
  {
   "cell_type": "code",
   "execution_count": 27,
   "metadata": {},
   "outputs": [
    {
     "data": {
      "text/plain": [
       "seed                                                                           0\n",
       "classifier                                                                   SVC\n",
       "train_fun                                                                  train\n",
       "train_accuracy                                                          0.843209\n",
       "fold_id                                                                        0\n",
       "auc_val                                                                 0.756181\n",
       "classifier_name                                                              SVC\n",
       "alpha                                                                        NaN\n",
       "fit_prior                                                                    NaN\n",
       "binarize                                                                     NaN\n",
       "auc_test                                                                0.756181\n",
       "params                         {'seed': 0, 'classifier': 'SVC', 'train_fun': ...\n",
       "run_id                                                                        20\n",
       "num_samples                                                                 4000\n",
       "algorithm_group                                                              svc\n",
       "dataset_choice                                                       eclipse_72k\n",
       "thresholdtest_accuracy_val                                              0.334448\n",
       "thresholdtest_f1_val                                   [0.5012531328320802, 0.0]\n",
       "threashold_used_val                        <filter object at 0x0000019CE5AC3F40>\n",
       "thresholdtest_accuracy_test                                             0.244444\n",
       "thresholdtest_f1_test                                 [0.39285714285714285, 0.0]\n",
       "threashold_used_test                       <filter object at 0x0000019CE5A6FE80>\n",
       "norm                                                                         NaN\n",
       "var_smoothing                                                                NaN\n",
       "n_neighbors                                                                  NaN\n",
       "weights                                                                      NaN\n",
       "algorithm                                                                    NaN\n",
       "leaf_size                                                                    NaN\n",
       "p                                                                            NaN\n",
       "C                                                                       0.334449\n",
       "kernel                                                                   sigmoid\n",
       "degree                                                                       3.0\n",
       "gamma                                                                      scale\n",
       "coef0                                                                  -0.010096\n",
       "shrinking                                                                   True\n",
       "probability                                                                 True\n",
       "tol                                                                     0.075109\n",
       "class_weight                                                            balanced\n",
       "max_iter                                                                    -1.0\n",
       "decision_function_shape                                                      ovo\n",
       "break_ties                                                                 False\n",
       "Name: 20, dtype: object"
      ]
     },
     "metadata": {},
     "output_type": "display_data"
    },
    {
     "data": {
      "text/plain": [
       "seed                                                                           0\n",
       "classifier                                                            GaussianNB\n",
       "train_fun                                                                  train\n",
       "train_accuracy                                                             0.786\n",
       "fold_id                                                                        0\n",
       "auc_val                                                                 0.710356\n",
       "classifier_name                                                       GaussianNB\n",
       "alpha                                                                        NaN\n",
       "fit_prior                                                                    NaN\n",
       "binarize                                                                     NaN\n",
       "auc_test                                                                0.710356\n",
       "params                         {'seed': 0, 'classifier': 'GaussianNB', 'train...\n",
       "run_id                                                                         6\n",
       "num_samples                                                                 2000\n",
       "algorithm_group                                                 bayesian_network\n",
       "dataset_choice                                                      mozilla_200k\n",
       "thresholdtest_accuracy_val                                              0.384804\n",
       "thresholdtest_f1_val                    [0.4251200591060215, 0.3384065980783947]\n",
       "threashold_used_val                        <filter object at 0x0000019CE5A83F40>\n",
       "thresholdtest_accuracy_test                                             0.377922\n",
       "thresholdtest_f1_test                   [0.4146043385273449, 0.3363352961551784]\n",
       "threashold_used_test                       <filter object at 0x0000019CE5096430>\n",
       "norm                                                                         NaN\n",
       "var_smoothing                                                           0.059691\n",
       "n_neighbors                                                                  NaN\n",
       "weights                                                                      NaN\n",
       "algorithm                                                                    NaN\n",
       "leaf_size                                                                    NaN\n",
       "p                                                                            NaN\n",
       "C                                                                            NaN\n",
       "kernel                                                                       NaN\n",
       "degree                                                                       NaN\n",
       "gamma                                                                        NaN\n",
       "coef0                                                                        NaN\n",
       "shrinking                                                                    NaN\n",
       "probability                                                                  NaN\n",
       "tol                                                                          NaN\n",
       "class_weight                                                                 NaN\n",
       "max_iter                                                                     NaN\n",
       "decision_function_shape                                                      NaN\n",
       "break_ties                                                                   NaN\n",
       "Name: 6, dtype: object"
      ]
     },
     "metadata": {},
     "output_type": "display_data"
    }
   ],
   "source": [
    "d = df.query(\"dataset_choice == 'eclipse_72k'\").query(\"auc_val == auc_val.max()\").query(\"thresholdtest_accuracy_val == thresholdtest_accuracy_val.max()\")\n",
    "display(d.iloc[0])\n",
    "d = df.query(\"dataset_choice == 'mozilla_200k'\").query(\"auc_val == auc_val.max()\").query(\"thresholdtest_accuracy_val == thresholdtest_accuracy_val.max()\")\n",
    "display(d.iloc[0])"
   ]
  },
  {
   "cell_type": "code",
   "execution_count": null,
   "metadata": {},
   "outputs": [],
   "source": []
  }
 ],
 "metadata": {
  "kernelspec": {
   "display_name": "severityPrediction",
   "language": "python",
   "name": "python3"
  },
  "language_info": {
   "codemirror_mode": {
    "name": "ipython",
    "version": 3
   },
   "file_extension": ".py",
   "mimetype": "text/x-python",
   "name": "python",
   "nbconvert_exporter": "python",
   "pygments_lexer": "ipython3",
   "version": "3.9.18"
  }
 },
 "nbformat": 4,
 "nbformat_minor": 2
}
