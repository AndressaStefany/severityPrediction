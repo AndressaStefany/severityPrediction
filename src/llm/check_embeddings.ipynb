{
 "cells": [
  {
   "cell_type": "code",
   "execution_count": 1,
   "metadata": {},
   "outputs": [
    {
     "name": "stderr",
     "output_type": "stream",
     "text": [
      "c:\\Users\\robin\\miniconda3\\envs\\severityPrediction\\lib\\site-packages\\bitsandbytes\\cextension.py:34: UserWarning: The installed version of bitsandbytes was compiled without GPU support. 8-bit optimizers, 8-bit multiplication, and GPU quantization are unavailable.\n",
      "  warn(\"The installed version of bitsandbytes was compiled without GPU support. \"\n"
     ]
    },
    {
     "name": "stdout",
     "output_type": "stream",
     "text": [
      "'NoneType' object has no attribute 'cadam32bit_grad_fp32'\n",
      "Import of import evaluate failed\n"
     ]
    }
   ],
   "source": [
    "import pandas as pd\n",
    "from h5py import File\n",
    "from pathlib import Path\n",
    "import json\n",
    "import tqdm\n",
    "import transformers as trf\n",
    "import os\n",
    "os.environ['USER'] = \"rmoine\"\n",
    "import llama.main as m"
   ]
  },
  {
   "cell_type": "code",
   "execution_count": 4,
   "metadata": {},
   "outputs": [
    {
     "name": "stdout",
     "output_type": "stream",
     "text": [
      "C:\\Users\\robin\\Documents\\projets\\severityPrediction\\data\\embeddings\\embeddings_mozilla_200k.hdf5\n",
      "C:\\Users\\robin\\Documents\\projets\\severityPrediction\\data\\llm\\mozilla_200k.json\n"
     ]
    }
   ],
   "source": [
    "root_folder = Path(\"../../data/embeddings\")\n",
    "dataset = \"mozilla\"\n",
    "ref_path = root_folder.parent / f\"llm\" \n",
    "ref_path = list(ref_path.rglob(f\"{dataset}_*.json\"))[0]\n",
    "hdf5_path = root_folder / f\"embeddings_{ref_path.stem}.hdf5\"\n",
    "print(hdf5_path.resolve())\n",
    "print(ref_path.resolve())\n",
    "assert hdf5_path.exists()"
   ]
  },
  {
   "cell_type": "code",
   "execution_count": 5,
   "metadata": {},
   "outputs": [],
   "source": [
    "bug_id_hdf5 = set({})\n",
    "with File(hdf5_path) as fp:\n",
    "    for k in fp:\n",
    "        bug_id_hdf5.add(int(k))"
   ]
  },
  {
   "cell_type": "code",
   "execution_count": 6,
   "metadata": {},
   "outputs": [],
   "source": [
    "bug_id_ref = set({})\n",
    "with open(ref_path) as fp:\n",
    "    data_ref = json.load(fp)\n",
    "    for e in data_ref:\n",
    "        bug_id_ref.add(e['bug_id'])"
   ]
  },
  {
   "cell_type": "code",
   "execution_count": 8,
   "metadata": {},
   "outputs": [
    {
     "name": "stdout",
     "output_type": "stream",
     "text": [
      "len(bug_id_hdf5)=200723\\nlen(bug_id_ref)=200824\n",
      "len(bug_id_ref)-len(bug_id_hdf5)=101\n",
      "len(bug_id_ref.difference(bug_id_hdf5))=101\n"
     ]
    }
   ],
   "source": [
    "print(f\"{len(bug_id_hdf5)=}\\\\n{len(bug_id_ref)=}\\n{len(bug_id_ref)-len(bug_id_hdf5)=}\\n{len(bug_id_ref.difference(bug_id_hdf5))=}\")"
   ]
  },
  {
   "cell_type": "code",
   "execution_count": 9,
   "metadata": {},
   "outputs": [
    {
     "name": "stdout",
     "output_type": "stream",
     "text": [
      "Token will not been saved to git credential helper. Pass `add_to_git_credential=True` if you want to set the git credential as well.\n",
      "Token is valid (permission: write).\n",
      "Your token has been saved to C:\\Users\\robin\\.cache\\huggingface\\token\n",
      "Login successful\n"
     ]
    },
    {
     "name": "stderr",
     "output_type": "stream",
     "text": [
      "100%|██████████| 200824/200824 [22:42<00:00, 147.36it/s]\n"
     ]
    }
   ],
   "source": [
    "tokenizer = m.get_tokenizer(token=m.default_token,model_name=m.default_model)\n",
    "missing = []\n",
    "for e in tqdm.tqdm(data_ref):\n",
    "    if not (e['bug_id']) in bug_id_ref.difference(bug_id_hdf5):\n",
    "        continue\n",
    "    e['tokens_description'] = tokenizer.convert_ids_to_tokens(tokenizer(e['description'])['input_ids'])\n",
    "    e['n_tokens_description'] = len(e['tokens_description'])\n",
    "    missing.append(e)\n"
   ]
  },
  {
   "cell_type": "code",
   "execution_count": 3,
   "metadata": {},
   "outputs": [],
   "source": [
    "path = hdf5_path.parent / f\"{hdf5_path.stem}_missing.json\"\n",
    "if path.exists():\n",
    "    df = pd.read_json(path)\n",
    "else:\n",
    "    df = pd.DataFrame(missing)\n",
    "    df.to_json(path,orient=\"records\")"
   ]
  },
  {
   "cell_type": "code",
   "execution_count": 4,
   "metadata": {},
   "outputs": [
    {
     "data": {
      "text/plain": [
       "(101,\n",
       " Index(['bug_id', 'bug_severity', 'binary_severity', 'description',\n",
       "        'stemmed_description', 'tokens_description', 'n_tokens_description'],\n",
       "       dtype='object'))"
      ]
     },
     "execution_count": 4,
     "metadata": {},
     "output_type": "execute_result"
    }
   ],
   "source": [
    "len(df),df.columns"
   ]
  },
  {
   "cell_type": "code",
   "execution_count": 6,
   "metadata": {},
   "outputs": [
    {
     "data": {
      "text/html": [
       "<div>\n",
       "<style scoped>\n",
       "    .dataframe tbody tr th:only-of-type {\n",
       "        vertical-align: middle;\n",
       "    }\n",
       "\n",
       "    .dataframe tbody tr th {\n",
       "        vertical-align: top;\n",
       "    }\n",
       "\n",
       "    .dataframe thead th {\n",
       "        text-align: right;\n",
       "    }\n",
       "</style>\n",
       "<table border=\"1\" class=\"dataframe\">\n",
       "  <thead>\n",
       "    <tr style=\"text-align: right;\">\n",
       "      <th></th>\n",
       "      <th>bug_id</th>\n",
       "      <th>bug_severity</th>\n",
       "      <th>binary_severity</th>\n",
       "      <th>description</th>\n",
       "      <th>stemmed_description</th>\n",
       "      <th>tokens_description</th>\n",
       "      <th>n_tokens_description</th>\n",
       "    </tr>\n",
       "  </thead>\n",
       "  <tbody>\n",
       "    <tr>\n",
       "      <th>0</th>\n",
       "      <td>255059</td>\n",
       "      <td>critical</td>\n",
       "      <td>1</td>\n",
       "      <td>close applet jFrame window crash browser</td>\n",
       "      <td>close applet jframe window crash browser</td>\n",
       "      <td>[&lt;s&gt;, ▁close, ▁app, let, ▁j, Frame, ▁window, ▁...</td>\n",
       "      <td>9</td>\n",
       "    </tr>\n",
       "    <tr>\n",
       "      <th>1</th>\n",
       "      <td>255050</td>\n",
       "      <td>minor</td>\n",
       "      <td>0</td>\n",
       "      <td>saving draft progress dialog box title first s...</td>\n",
       "      <td>save draft progress dialog box titl first say ...</td>\n",
       "      <td>[&lt;s&gt;, ▁saving, ▁draft, ▁progress, ▁dialog, ▁bo...</td>\n",
       "      <td>17</td>\n",
       "    </tr>\n",
       "    <tr>\n",
       "      <th>2</th>\n",
       "      <td>255063</td>\n",
       "      <td>minor</td>\n",
       "      <td>0</td>\n",
       "      <td>Installing Firefox 0.9.3 n't remove 0.9.2 unin...</td>\n",
       "      <td>instal firefox 0.9.3 n't remov 0.9.2 uninstal ...</td>\n",
       "      <td>[&lt;s&gt;, ▁Install, ing, ▁Firefox, ▁, 0, ., 9, ., ...</td>\n",
       "      <td>24</td>\n",
       "    </tr>\n",
       "    <tr>\n",
       "      <th>3</th>\n",
       "      <td>255060</td>\n",
       "      <td>blocker</td>\n",
       "      <td>1</td>\n",
       "      <td>Firefox Thunderbird migration requires Seamonk...</td>\n",
       "      <td>firefox thunderbird migrat requir seamonkey cr...</td>\n",
       "      <td>[&lt;s&gt;, ▁Firefox, ▁Th, under, bird, ▁migration, ...</td>\n",
       "      <td>16</td>\n",
       "    </tr>\n",
       "    <tr>\n",
       "      <th>4</th>\n",
       "      <td>255065</td>\n",
       "      <td>major</td>\n",
       "      <td>1</td>\n",
       "      <td>migration occurs Eudora Mac OS X</td>\n",
       "      <td>migrat occur eudora mac os x</td>\n",
       "      <td>[&lt;s&gt;, ▁migration, ▁occurs, ▁E, ud, ora, ▁Mac, ...</td>\n",
       "      <td>9</td>\n",
       "    </tr>\n",
       "    <tr>\n",
       "      <th>...</th>\n",
       "      <td>...</td>\n",
       "      <td>...</td>\n",
       "      <td>...</td>\n",
       "      <td>...</td>\n",
       "      <td>...</td>\n",
       "      <td>...</td>\n",
       "      <td>...</td>\n",
       "    </tr>\n",
       "    <tr>\n",
       "      <th>96</th>\n",
       "      <td>255366</td>\n",
       "      <td>blocker</td>\n",
       "      <td>1</td>\n",
       "      <td>File picker calls crash mozilla open file file...</td>\n",
       "      <td>file picker call crash mozilla open file file ...</td>\n",
       "      <td>[&lt;s&gt;, ▁File, ▁pick, er, ▁calls, ▁crash, ▁m, oz...</td>\n",
       "      <td>16</td>\n",
       "    </tr>\n",
       "    <tr>\n",
       "      <th>97</th>\n",
       "      <td>255373</td>\n",
       "      <td>minor</td>\n",
       "      <td>0</td>\n",
       "      <td>Selecting bookmark properties right clicking b...</td>\n",
       "      <td>select bookmark properti right click bookmark ...</td>\n",
       "      <td>[&lt;s&gt;, ▁Select, ing, ▁book, mark, ▁properties, ...</td>\n",
       "      <td>12</td>\n",
       "    </tr>\n",
       "    <tr>\n",
       "      <th>98</th>\n",
       "      <td>255371</td>\n",
       "      <td>critical</td>\n",
       "      <td>1</td>\n",
       "      <td>Crash openning webpages nsTextFrame :TextStyle...</td>\n",
       "      <td>crash open webpag nstextfram :textstyl :textstyl</td>\n",
       "      <td>[&lt;s&gt;, ▁Cr, ash, ▁open, ning, ▁web, pages, ▁ns,...</td>\n",
       "      <td>16</td>\n",
       "    </tr>\n",
       "    <tr>\n",
       "      <th>99</th>\n",
       "      <td>255379</td>\n",
       "      <td>minor</td>\n",
       "      <td>0</td>\n",
       "      <td>Firefox remembers two distinct download direct...</td>\n",
       "      <td>firefox rememb two distinct download directori</td>\n",
       "      <td>[&lt;s&gt;, ▁Firefox, ▁rem, embers, ▁two, ▁distinct,...</td>\n",
       "      <td>8</td>\n",
       "    </tr>\n",
       "    <tr>\n",
       "      <th>100</th>\n",
       "      <td>255382</td>\n",
       "      <td>minor</td>\n",
       "      <td>0</td>\n",
       "      <td>Choosing Save Image ... context menu sometimes...</td>\n",
       "      <td>choos save imag ... context menu sometim caus ...</td>\n",
       "      <td>[&lt;s&gt;, ▁Cho, osing, ▁Save, ▁Image, ▁..., ▁conte...</td>\n",
       "      <td>18</td>\n",
       "    </tr>\n",
       "  </tbody>\n",
       "</table>\n",
       "<p>101 rows × 7 columns</p>\n",
       "</div>"
      ],
      "text/plain": [
       "     bug_id bug_severity  binary_severity  \\\n",
       "0    255059     critical                1   \n",
       "1    255050        minor                0   \n",
       "2    255063        minor                0   \n",
       "3    255060      blocker                1   \n",
       "4    255065        major                1   \n",
       "..      ...          ...              ...   \n",
       "96   255366      blocker                1   \n",
       "97   255373        minor                0   \n",
       "98   255371     critical                1   \n",
       "99   255379        minor                0   \n",
       "100  255382        minor                0   \n",
       "\n",
       "                                           description  \\\n",
       "0             close applet jFrame window crash browser   \n",
       "1    saving draft progress dialog box title first s...   \n",
       "2    Installing Firefox 0.9.3 n't remove 0.9.2 unin...   \n",
       "3    Firefox Thunderbird migration requires Seamonk...   \n",
       "4                     migration occurs Eudora Mac OS X   \n",
       "..                                                 ...   \n",
       "96   File picker calls crash mozilla open file file...   \n",
       "97   Selecting bookmark properties right clicking b...   \n",
       "98   Crash openning webpages nsTextFrame :TextStyle...   \n",
       "99   Firefox remembers two distinct download direct...   \n",
       "100  Choosing Save Image ... context menu sometimes...   \n",
       "\n",
       "                                   stemmed_description  \\\n",
       "0             close applet jframe window crash browser   \n",
       "1    save draft progress dialog box titl first say ...   \n",
       "2    instal firefox 0.9.3 n't remov 0.9.2 uninstal ...   \n",
       "3    firefox thunderbird migrat requir seamonkey cr...   \n",
       "4                         migrat occur eudora mac os x   \n",
       "..                                                 ...   \n",
       "96   file picker call crash mozilla open file file ...   \n",
       "97   select bookmark properti right click bookmark ...   \n",
       "98    crash open webpag nstextfram :textstyl :textstyl   \n",
       "99      firefox rememb two distinct download directori   \n",
       "100  choos save imag ... context menu sometim caus ...   \n",
       "\n",
       "                                    tokens_description  n_tokens_description  \n",
       "0    [<s>, ▁close, ▁app, let, ▁j, Frame, ▁window, ▁...                     9  \n",
       "1    [<s>, ▁saving, ▁draft, ▁progress, ▁dialog, ▁bo...                    17  \n",
       "2    [<s>, ▁Install, ing, ▁Firefox, ▁, 0, ., 9, ., ...                    24  \n",
       "3    [<s>, ▁Firefox, ▁Th, under, bird, ▁migration, ...                    16  \n",
       "4    [<s>, ▁migration, ▁occurs, ▁E, ud, ora, ▁Mac, ...                     9  \n",
       "..                                                 ...                   ...  \n",
       "96   [<s>, ▁File, ▁pick, er, ▁calls, ▁crash, ▁m, oz...                    16  \n",
       "97   [<s>, ▁Select, ing, ▁book, mark, ▁properties, ...                    12  \n",
       "98   [<s>, ▁Cr, ash, ▁open, ning, ▁web, pages, ▁ns,...                    16  \n",
       "99   [<s>, ▁Firefox, ▁rem, embers, ▁two, ▁distinct,...                     8  \n",
       "100  [<s>, ▁Cho, osing, ▁Save, ▁Image, ▁..., ▁conte...                    18  \n",
       "\n",
       "[101 rows x 7 columns]"
      ]
     },
     "execution_count": 6,
     "metadata": {},
     "output_type": "execute_result"
    }
   ],
   "source": [
    "df"
   ]
  },
  {
   "cell_type": "code",
   "execution_count": 5,
   "metadata": {},
   "outputs": [
    {
     "data": {
      "text/plain": [
       "count    101.000000\n",
       "mean      13.138614\n",
       "std        5.669268\n",
       "min        5.000000\n",
       "25%        9.000000\n",
       "50%       12.000000\n",
       "75%       16.000000\n",
       "max       38.000000\n",
       "Name: n_tokens_description, dtype: float64"
      ]
     },
     "execution_count": 5,
     "metadata": {},
     "output_type": "execute_result"
    }
   ],
   "source": [
    "df['n_tokens_description'].describe()"
   ]
  },
  {
   "cell_type": "code",
   "execution_count": 38,
   "metadata": {},
   "outputs": [
    {
     "data": {
      "text/plain": [
       "['<s>',\n",
       " '▁close',\n",
       " '▁app',\n",
       " 'let',\n",
       " '▁j',\n",
       " 'Frame',\n",
       " '▁window',\n",
       " '▁crash',\n",
       " '▁browser']"
      ]
     },
     "execution_count": 38,
     "metadata": {},
     "output_type": "execute_result"
    }
   ],
   "source": [
    "df.query(\"n_tokens_description < 300\").iloc[0].tokens_description"
   ]
  },
  {
   "cell_type": "code",
   "execution_count": null,
   "metadata": {},
   "outputs": [],
   "source": []
  }
 ],
 "metadata": {
  "kernelspec": {
   "display_name": "severityPrediction",
   "language": "python",
   "name": "python3"
  },
  "language_info": {
   "codemirror_mode": {
    "name": "ipython",
    "version": 3
   },
   "file_extension": ".py",
   "mimetype": "text/x-python",
   "name": "python",
   "nbconvert_exporter": "python",
   "pygments_lexer": "ipython3",
   "version": "3.9.18"
  }
 },
 "nbformat": 4,
 "nbformat_minor": 2
}
