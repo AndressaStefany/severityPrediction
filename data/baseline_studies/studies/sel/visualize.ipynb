{
 "cells": [
  {
   "cell_type": "code",
   "execution_count": 1,
   "metadata": {},
   "outputs": [],
   "source": [
    "import optuna\n",
    "from pathlib import Path\n",
    "import plotly.express as px"
   ]
  },
  {
   "cell_type": "code",
   "execution_count": 2,
   "metadata": {},
   "outputs": [],
   "source": [
    "p = Path(\"../images\")\n",
    "p.mkdir(exist_ok=True)"
   ]
  },
  {
   "cell_type": "code",
   "execution_count": 5,
   "metadata": {},
   "outputs": [],
   "source": [
    "study_name = \"study-knn_mozilla_200k_1000_samples-_24932448\"\n",
    "study_name = \"study-svc_mozilla_200k_1000_samples-_24932435\"\n",
    "study_name = \"study-bayesian-networks_mozilla_200k_1000_samples-_24932422\"\n",
    "study = optuna.load_study(study_name=study_name,storage=f\"sqlite:///{study_name}.db\")"
   ]
  },
  {
   "cell_type": "code",
   "execution_count": 17,
   "metadata": {},
   "outputs": [
    {
     "data": {
      "application/vnd.plotly.v1+json": {
       "config": {
        "plotlyServerURL": "https://plot.ly"
       },
       "data": [
        {
         "dimensions": [
          {
           "label": "<br>AUC",
           "range": [
            0.6431350666586234,
            0.7407225875208623
           ],
           "values": [
            0.67579326778066,
            0.710716152902616,
            0.7407225875208623,
            0.6745163982224367,
            0.6431350666586234,
            0.6516383141300195,
            0.6484587078482236,
            0.6437156904144297,
            0.6714147111459653,
            0.6515603949246949,
            0.6815592889746838,
            0.6506655808248376,
            0.6519449639058132,
            0.6506530132110757,
            0.6516910981078201,
            0.7073983028694376,
            0.6440374213267379,
            0.6504494178681305,
            0.6844950835494963,
            0.6745792362912469,
            0.6500874705917838,
            0.6473628119281736,
            0.6616119724115743,
            0.6714096841004604,
            0.6490870885363255,
            0.6846408678691359,
            0.6696552452192797,
            0.6679862661116809,
            0.7172362309223623,
            0.7184477488890231,
            0.6508716896905351,
            0.7137122720234863,
            0.6440273672357282,
            0.7140691922543282,
            0.6572007399810983,
            0.6732445557097183
           ]
          },
          {
           "label": "<br>alpha",
           "range": [
            -9.397745283707302,
            -0.22504860255553222
           ],
           "ticktext": [
            "4e-10",
            "1e-09",
            "1e-08",
            "1e-07",
            "1e-06",
            "1e-05",
            "0.0001",
            "0.001",
            "0.01",
            "0.1",
            "0.596"
           ],
           "tickvals": [
            -9.397745283707302,
            -9,
            -8,
            -7,
            -6,
            -5,
            -4,
            -3,
            -2,
            -1,
            -0.22504860255553222
           ],
           "values": [
            -5.763452006610954,
            -0.7440336170733892,
            -0.5533108295041606,
            -3.82364502924123,
            -9.397745283707302,
            -4.298032295821204,
            -7.46708397460218,
            -9.039015921060368,
            -7.171930374235905,
            -4.333985457934249,
            -4.134870651899168,
            -5.528746213823727,
            -4.1872712736414135,
            -7.099223927895559,
            -4.256747511504212,
            -1.0807664498432794,
            -8.375070653236252,
            -5.4645731732193115,
            -2.700094375759419,
            -3.785215985002365,
            -6.880550045203981,
            -7.725853720266768,
            -9.327503685367514,
            -7.366776232628495,
            -7.2645796518436425,
            -2.6914419322984218,
            -8.167201637859213,
            -8.997060577345021,
            -0.22504860255553222,
            -1.2571203337505301,
            -5.216296929600119,
            -0.3916534193699977,
            -8.53053354599625,
            -1.394488261712063,
            -3.1671866445231953,
            -4.12400364803611
           ]
          },
          {
           "label": "<br>Fit prior",
           "range": [
            0,
            2
           ],
           "ticktext": [
            "ComplementNB",
            "BernoulliNB",
            "MultinomialNB"
           ],
           "tickvals": [
            0,
            1,
            2
           ],
           "values": [
            0,
            0,
            1,
            1,
            2,
            2,
            2,
            2,
            1,
            2,
            0,
            2,
            2,
            2,
            2,
            0,
            0,
            2,
            1,
            1,
            2,
            0,
            1,
            0,
            2,
            1,
            0,
            0,
            0,
            1,
            2,
            2,
            2,
            1,
            2,
            1
           ]
          },
          {
           "label": "<br>Classifier name",
           "range": [
            0,
            1
           ],
           "ticktext": [
            "True",
            "False"
           ],
           "tickvals": [
            0,
            1
           ],
           "values": [
            0,
            1,
            0,
            1,
            1,
            1,
            0,
            0,
            1,
            1,
            1,
            0,
            0,
            0,
            0,
            0,
            0,
            1,
            1,
            0,
            0,
            0,
            0,
            1,
            0,
            0,
            1,
            1,
            0,
            1,
            1,
            0,
            1,
            0,
            0,
            1
           ]
          }
         ],
         "labelangle": 0,
         "labelside": "bottom",
         "line": {
          "color": [
           0.67579326778066,
           0.710716152902616,
           0.7407225875208623,
           0.6745163982224367,
           0.6431350666586234,
           0.6516383141300195,
           0.6484587078482236,
           0.6437156904144297,
           0.6714147111459653,
           0.6515603949246949,
           0.6815592889746838,
           0.6506655808248376,
           0.6519449639058132,
           0.6506530132110757,
           0.6516910981078201,
           0.7073983028694376,
           0.6440374213267379,
           0.6504494178681305,
           0.6844950835494963,
           0.6745792362912469,
           0.6500874705917838,
           0.6473628119281736,
           0.6616119724115743,
           0.6714096841004604,
           0.6490870885363255,
           0.6846408678691359,
           0.6696552452192797,
           0.6679862661116809,
           0.7172362309223623,
           0.7184477488890231,
           0.6508716896905351,
           0.7137122720234863,
           0.6440273672357282,
           0.7140691922543282,
           0.6572007399810983,
           0.6732445557097183
          ],
          "colorbar": {
           "title": {
            "text": "AUC"
           }
          },
          "colorscale": [
           [
            0,
            "rgb(247,251,255)"
           ],
           [
            0.125,
            "rgb(222,235,247)"
           ],
           [
            0.25,
            "rgb(198,219,239)"
           ],
           [
            0.375,
            "rgb(158,202,225)"
           ],
           [
            0.5,
            "rgb(107,174,214)"
           ],
           [
            0.625,
            "rgb(66,146,198)"
           ],
           [
            0.75,
            "rgb(33,113,181)"
           ],
           [
            0.875,
            "rgb(8,81,156)"
           ],
           [
            1,
            "rgb(8,48,107)"
           ]
          ],
          "reversescale": false,
          "showscale": true
         },
         "type": "parcoords"
        }
       ],
       "layout": {
        "font": {
         "size": 25
        },
        "margin": {
         "b": 60,
         "t": 30
        },
        "template": {
         "data": {
          "bar": [
           {
            "error_x": {
             "color": "#2a3f5f"
            },
            "error_y": {
             "color": "#2a3f5f"
            },
            "marker": {
             "line": {
              "color": "#E5ECF6",
              "width": 0.5
             },
             "pattern": {
              "fillmode": "overlay",
              "size": 10,
              "solidity": 0.2
             }
            },
            "type": "bar"
           }
          ],
          "barpolar": [
           {
            "marker": {
             "line": {
              "color": "#E5ECF6",
              "width": 0.5
             },
             "pattern": {
              "fillmode": "overlay",
              "size": 10,
              "solidity": 0.2
             }
            },
            "type": "barpolar"
           }
          ],
          "carpet": [
           {
            "aaxis": {
             "endlinecolor": "#2a3f5f",
             "gridcolor": "white",
             "linecolor": "white",
             "minorgridcolor": "white",
             "startlinecolor": "#2a3f5f"
            },
            "baxis": {
             "endlinecolor": "#2a3f5f",
             "gridcolor": "white",
             "linecolor": "white",
             "minorgridcolor": "white",
             "startlinecolor": "#2a3f5f"
            },
            "type": "carpet"
           }
          ],
          "choropleth": [
           {
            "colorbar": {
             "outlinewidth": 0,
             "ticks": ""
            },
            "type": "choropleth"
           }
          ],
          "contour": [
           {
            "colorbar": {
             "outlinewidth": 0,
             "ticks": ""
            },
            "colorscale": [
             [
              0,
              "#0d0887"
             ],
             [
              0.1111111111111111,
              "#46039f"
             ],
             [
              0.2222222222222222,
              "#7201a8"
             ],
             [
              0.3333333333333333,
              "#9c179e"
             ],
             [
              0.4444444444444444,
              "#bd3786"
             ],
             [
              0.5555555555555556,
              "#d8576b"
             ],
             [
              0.6666666666666666,
              "#ed7953"
             ],
             [
              0.7777777777777778,
              "#fb9f3a"
             ],
             [
              0.8888888888888888,
              "#fdca26"
             ],
             [
              1,
              "#f0f921"
             ]
            ],
            "type": "contour"
           }
          ],
          "contourcarpet": [
           {
            "colorbar": {
             "outlinewidth": 0,
             "ticks": ""
            },
            "type": "contourcarpet"
           }
          ],
          "heatmap": [
           {
            "colorbar": {
             "outlinewidth": 0,
             "ticks": ""
            },
            "colorscale": [
             [
              0,
              "#0d0887"
             ],
             [
              0.1111111111111111,
              "#46039f"
             ],
             [
              0.2222222222222222,
              "#7201a8"
             ],
             [
              0.3333333333333333,
              "#9c179e"
             ],
             [
              0.4444444444444444,
              "#bd3786"
             ],
             [
              0.5555555555555556,
              "#d8576b"
             ],
             [
              0.6666666666666666,
              "#ed7953"
             ],
             [
              0.7777777777777778,
              "#fb9f3a"
             ],
             [
              0.8888888888888888,
              "#fdca26"
             ],
             [
              1,
              "#f0f921"
             ]
            ],
            "type": "heatmap"
           }
          ],
          "heatmapgl": [
           {
            "colorbar": {
             "outlinewidth": 0,
             "ticks": ""
            },
            "colorscale": [
             [
              0,
              "#0d0887"
             ],
             [
              0.1111111111111111,
              "#46039f"
             ],
             [
              0.2222222222222222,
              "#7201a8"
             ],
             [
              0.3333333333333333,
              "#9c179e"
             ],
             [
              0.4444444444444444,
              "#bd3786"
             ],
             [
              0.5555555555555556,
              "#d8576b"
             ],
             [
              0.6666666666666666,
              "#ed7953"
             ],
             [
              0.7777777777777778,
              "#fb9f3a"
             ],
             [
              0.8888888888888888,
              "#fdca26"
             ],
             [
              1,
              "#f0f921"
             ]
            ],
            "type": "heatmapgl"
           }
          ],
          "histogram": [
           {
            "marker": {
             "pattern": {
              "fillmode": "overlay",
              "size": 10,
              "solidity": 0.2
             }
            },
            "type": "histogram"
           }
          ],
          "histogram2d": [
           {
            "colorbar": {
             "outlinewidth": 0,
             "ticks": ""
            },
            "colorscale": [
             [
              0,
              "#0d0887"
             ],
             [
              0.1111111111111111,
              "#46039f"
             ],
             [
              0.2222222222222222,
              "#7201a8"
             ],
             [
              0.3333333333333333,
              "#9c179e"
             ],
             [
              0.4444444444444444,
              "#bd3786"
             ],
             [
              0.5555555555555556,
              "#d8576b"
             ],
             [
              0.6666666666666666,
              "#ed7953"
             ],
             [
              0.7777777777777778,
              "#fb9f3a"
             ],
             [
              0.8888888888888888,
              "#fdca26"
             ],
             [
              1,
              "#f0f921"
             ]
            ],
            "type": "histogram2d"
           }
          ],
          "histogram2dcontour": [
           {
            "colorbar": {
             "outlinewidth": 0,
             "ticks": ""
            },
            "colorscale": [
             [
              0,
              "#0d0887"
             ],
             [
              0.1111111111111111,
              "#46039f"
             ],
             [
              0.2222222222222222,
              "#7201a8"
             ],
             [
              0.3333333333333333,
              "#9c179e"
             ],
             [
              0.4444444444444444,
              "#bd3786"
             ],
             [
              0.5555555555555556,
              "#d8576b"
             ],
             [
              0.6666666666666666,
              "#ed7953"
             ],
             [
              0.7777777777777778,
              "#fb9f3a"
             ],
             [
              0.8888888888888888,
              "#fdca26"
             ],
             [
              1,
              "#f0f921"
             ]
            ],
            "type": "histogram2dcontour"
           }
          ],
          "mesh3d": [
           {
            "colorbar": {
             "outlinewidth": 0,
             "ticks": ""
            },
            "type": "mesh3d"
           }
          ],
          "parcoords": [
           {
            "line": {
             "colorbar": {
              "outlinewidth": 0,
              "ticks": ""
             }
            },
            "type": "parcoords"
           }
          ],
          "pie": [
           {
            "automargin": true,
            "type": "pie"
           }
          ],
          "scatter": [
           {
            "fillpattern": {
             "fillmode": "overlay",
             "size": 10,
             "solidity": 0.2
            },
            "type": "scatter"
           }
          ],
          "scatter3d": [
           {
            "line": {
             "colorbar": {
              "outlinewidth": 0,
              "ticks": ""
             }
            },
            "marker": {
             "colorbar": {
              "outlinewidth": 0,
              "ticks": ""
             }
            },
            "type": "scatter3d"
           }
          ],
          "scattercarpet": [
           {
            "marker": {
             "colorbar": {
              "outlinewidth": 0,
              "ticks": ""
             }
            },
            "type": "scattercarpet"
           }
          ],
          "scattergeo": [
           {
            "marker": {
             "colorbar": {
              "outlinewidth": 0,
              "ticks": ""
             }
            },
            "type": "scattergeo"
           }
          ],
          "scattergl": [
           {
            "marker": {
             "colorbar": {
              "outlinewidth": 0,
              "ticks": ""
             }
            },
            "type": "scattergl"
           }
          ],
          "scattermapbox": [
           {
            "marker": {
             "colorbar": {
              "outlinewidth": 0,
              "ticks": ""
             }
            },
            "type": "scattermapbox"
           }
          ],
          "scatterpolar": [
           {
            "marker": {
             "colorbar": {
              "outlinewidth": 0,
              "ticks": ""
             }
            },
            "type": "scatterpolar"
           }
          ],
          "scatterpolargl": [
           {
            "marker": {
             "colorbar": {
              "outlinewidth": 0,
              "ticks": ""
             }
            },
            "type": "scatterpolargl"
           }
          ],
          "scatterternary": [
           {
            "marker": {
             "colorbar": {
              "outlinewidth": 0,
              "ticks": ""
             }
            },
            "type": "scatterternary"
           }
          ],
          "surface": [
           {
            "colorbar": {
             "outlinewidth": 0,
             "ticks": ""
            },
            "colorscale": [
             [
              0,
              "#0d0887"
             ],
             [
              0.1111111111111111,
              "#46039f"
             ],
             [
              0.2222222222222222,
              "#7201a8"
             ],
             [
              0.3333333333333333,
              "#9c179e"
             ],
             [
              0.4444444444444444,
              "#bd3786"
             ],
             [
              0.5555555555555556,
              "#d8576b"
             ],
             [
              0.6666666666666666,
              "#ed7953"
             ],
             [
              0.7777777777777778,
              "#fb9f3a"
             ],
             [
              0.8888888888888888,
              "#fdca26"
             ],
             [
              1,
              "#f0f921"
             ]
            ],
            "type": "surface"
           }
          ],
          "table": [
           {
            "cells": {
             "fill": {
              "color": "#EBF0F8"
             },
             "line": {
              "color": "white"
             }
            },
            "header": {
             "fill": {
              "color": "#C8D4E3"
             },
             "line": {
              "color": "white"
             }
            },
            "type": "table"
           }
          ]
         },
         "layout": {
          "annotationdefaults": {
           "arrowcolor": "#2a3f5f",
           "arrowhead": 0,
           "arrowwidth": 1
          },
          "autotypenumbers": "strict",
          "coloraxis": {
           "colorbar": {
            "outlinewidth": 0,
            "ticks": ""
           }
          },
          "colorscale": {
           "diverging": [
            [
             0,
             "#8e0152"
            ],
            [
             0.1,
             "#c51b7d"
            ],
            [
             0.2,
             "#de77ae"
            ],
            [
             0.3,
             "#f1b6da"
            ],
            [
             0.4,
             "#fde0ef"
            ],
            [
             0.5,
             "#f7f7f7"
            ],
            [
             0.6,
             "#e6f5d0"
            ],
            [
             0.7,
             "#b8e186"
            ],
            [
             0.8,
             "#7fbc41"
            ],
            [
             0.9,
             "#4d9221"
            ],
            [
             1,
             "#276419"
            ]
           ],
           "sequential": [
            [
             0,
             "#0d0887"
            ],
            [
             0.1111111111111111,
             "#46039f"
            ],
            [
             0.2222222222222222,
             "#7201a8"
            ],
            [
             0.3333333333333333,
             "#9c179e"
            ],
            [
             0.4444444444444444,
             "#bd3786"
            ],
            [
             0.5555555555555556,
             "#d8576b"
            ],
            [
             0.6666666666666666,
             "#ed7953"
            ],
            [
             0.7777777777777778,
             "#fb9f3a"
            ],
            [
             0.8888888888888888,
             "#fdca26"
            ],
            [
             1,
             "#f0f921"
            ]
           ],
           "sequentialminus": [
            [
             0,
             "#0d0887"
            ],
            [
             0.1111111111111111,
             "#46039f"
            ],
            [
             0.2222222222222222,
             "#7201a8"
            ],
            [
             0.3333333333333333,
             "#9c179e"
            ],
            [
             0.4444444444444444,
             "#bd3786"
            ],
            [
             0.5555555555555556,
             "#d8576b"
            ],
            [
             0.6666666666666666,
             "#ed7953"
            ],
            [
             0.7777777777777778,
             "#fb9f3a"
            ],
            [
             0.8888888888888888,
             "#fdca26"
            ],
            [
             1,
             "#f0f921"
            ]
           ]
          },
          "colorway": [
           "#636efa",
           "#EF553B",
           "#00cc96",
           "#ab63fa",
           "#FFA15A",
           "#19d3f3",
           "#FF6692",
           "#B6E880",
           "#FF97FF",
           "#FECB52"
          ],
          "font": {
           "color": "#2a3f5f"
          },
          "geo": {
           "bgcolor": "white",
           "lakecolor": "white",
           "landcolor": "#E5ECF6",
           "showlakes": true,
           "showland": true,
           "subunitcolor": "white"
          },
          "hoverlabel": {
           "align": "left"
          },
          "hovermode": "closest",
          "mapbox": {
           "style": "light"
          },
          "paper_bgcolor": "white",
          "plot_bgcolor": "#E5ECF6",
          "polar": {
           "angularaxis": {
            "gridcolor": "white",
            "linecolor": "white",
            "ticks": ""
           },
           "bgcolor": "#E5ECF6",
           "radialaxis": {
            "gridcolor": "white",
            "linecolor": "white",
            "ticks": ""
           }
          },
          "scene": {
           "xaxis": {
            "backgroundcolor": "#E5ECF6",
            "gridcolor": "white",
            "gridwidth": 2,
            "linecolor": "white",
            "showbackground": true,
            "ticks": "",
            "zerolinecolor": "white"
           },
           "yaxis": {
            "backgroundcolor": "#E5ECF6",
            "gridcolor": "white",
            "gridwidth": 2,
            "linecolor": "white",
            "showbackground": true,
            "ticks": "",
            "zerolinecolor": "white"
           },
           "zaxis": {
            "backgroundcolor": "#E5ECF6",
            "gridcolor": "white",
            "gridwidth": 2,
            "linecolor": "white",
            "showbackground": true,
            "ticks": "",
            "zerolinecolor": "white"
           }
          },
          "shapedefaults": {
           "line": {
            "color": "#2a3f5f"
           }
          },
          "ternary": {
           "aaxis": {
            "gridcolor": "white",
            "linecolor": "white",
            "ticks": ""
           },
           "baxis": {
            "gridcolor": "white",
            "linecolor": "white",
            "ticks": ""
           },
           "bgcolor": "#E5ECF6",
           "caxis": {
            "gridcolor": "white",
            "linecolor": "white",
            "ticks": ""
           }
          },
          "title": {
           "x": 0.05
          },
          "xaxis": {
           "automargin": true,
           "gridcolor": "white",
           "linecolor": "white",
           "ticks": "",
           "title": {
            "standoff": 15
           },
           "zerolinecolor": "white",
           "zerolinewidth": 2
          },
          "yaxis": {
           "automargin": true,
           "gridcolor": "white",
           "linecolor": "white",
           "ticks": "",
           "title": {
            "standoff": 15
           },
           "zerolinecolor": "white",
           "zerolinewidth": 2
          }
         }
        },
        "title": {
         "text": ""
        },
        "width": 1700
       }
      }
     },
     "metadata": {},
     "output_type": "display_data"
    }
   ],
   "source": [
    "mapping = {'algorithm':'Algorithm','leaf_size':'Leaf size','n_neighbors':'Number of neighbors','p':'p','weights':'Weight'}\n",
    "mapping = {'C':'C (regularization)','class_weight':'Class weight','coef0':'coef0','decision_function_shape':'Decision fn shape','degree':'Degree', 'kernel': 'Kernel', 'max_iter': 'Max. iterations', 'shrinking':'Shrinking','tol':'Tolerance'}\n",
    "mapping = {'alpha':'alpha','binarize':'Binarize','fit_prior':'Fit prior','classifier_name':'Classifier name'}\n",
    "mapping = {'alpha':'alpha','classifier_name':'Classifier name','fit_prior':'Fit prior', 'norm':\"Normalization\"}\n",
    "mapping = {'classifier_name':'Classifier name','var_smoothing':'Variable smoothing'}\n",
    "mapping = {'alpha':'alpha','fit_prior':'Fit prior','classifier_name':'Classifier name'}\n",
    "fig = optuna.visualization.plot_parallel_coordinate(study,list(mapping.keys()))\n",
    "\n",
    "# print(fig.data[0])\n",
    "fig.update_layout(font_size=25,margin=dict(t=30,b=60),width=1700)\n",
    "fig.data[0].dimensions[0]['label'] = '<br>AUC'\n",
    "for i,(k,v) in enumerate(mapping.items()):\n",
    "    old = fig.data[0].dimensions[1+i]['label']\n",
    "    fig.data[0].dimensions[1+i]['label'] = f'<br>{v}'\n",
    "fig.data[0].line['colorbar']['title']['text'] = 'AUC'\n",
    "fig.data[0].labelangle = 0\n",
    "fig.layout.title['text'] = \"\"\n",
    "fig.show()\n",
    "fig.write_image(p / f\"{study_name[6:-10]}.png\")"
   ]
  },
  {
   "cell_type": "markdown",
   "metadata": {},
   "source": []
  },
  {
   "cell_type": "code",
   "execution_count": 39,
   "metadata": {},
   "outputs": [
    {
     "data": {
      "text/plain": [
       "Parcoords({\n",
       "    'dimensions': [{'label': '<br>AUC',\n",
       "                    'range': [0.56, 0.7214],\n",
       "                    'values': [0.6510666666666667, 0.6729333333333333,\n",
       "                               0.5633333333333334, 0.7214, 0.6994666666666667,\n",
       "                               0.6184, 0.6638000000000001, 0.6317333333333334,\n",
       "                               0.5633333333333334, 0.6247999999999999,\n",
       "                               0.6451999999999999, 0.6648000000000001, 0.57,\n",
       "                               0.6488, 0.56, 0.6525333333333333,\n",
       "                               0.6644666666666666, 0.5633333333333334,\n",
       "                               0.6282666666666666, 0.6652, 0.6646666666666666,\n",
       "                               0.6270666666666667, 0.6462666666666667,\n",
       "                               0.6920000000000001, 0.5633333333333334,\n",
       "                               0.6993333333333333, 0.628, 0.6316,\n",
       "                               0.6186666666666666, 0.6513333333333333, 0.63,\n",
       "                               0.6920000000000001, 0.5633333333333334,\n",
       "                               0.5633333333333334, 0.6518666666666666, 0.56,\n",
       "                               0.6532, 0.6837333333333333, 0.7136000000000001,\n",
       "                               0.6522666666666667, 0.5633333333333334,\n",
       "                               0.6794666666666666, 0.5633333333333334,\n",
       "                               0.6270666666666667, 0.7138666666666668,\n",
       "                               0.6634666666666666, 0.5666666666666667,\n",
       "                               0.7003999999999999, 0.5633333333333334,\n",
       "                               0.5633333333333334]},\n",
       "                   {'label': '<br>Model',\n",
       "                    'range': [0, 3],\n",
       "                    'ticktext': [ComplementNB, GaussianNB, BernoulliNB,\n",
       "                                 MultinomialNB],\n",
       "                    'tickvals': [0, 1, 2, 3],\n",
       "                    'values': [0, 0, 1, 2, 2, 3, 3, 3, 1, 3, 2, 3, 1, 0, 1, 3, 3,\n",
       "                               1, 3, 3, 0, 0, 3, 2, 1, 2, 3, 0, 2, 0, 3, 2, 1, 1,\n",
       "                               0, 1, 0, 0, 2, 3, 1, 3, 1, 3, 2, 3, 1, 2, 1, 1]}],\n",
       "    'labelangle': 0,\n",
       "    'labelside': 'bottom',\n",
       "    'line': {'color': [0.6510666666666667, 0.6729333333333333, 0.5633333333333334,\n",
       "                       0.7214, 0.6994666666666667, 0.6184, 0.6638000000000001,\n",
       "                       0.6317333333333334, 0.5633333333333334, 0.6247999999999999,\n",
       "                       0.6451999999999999, 0.6648000000000001, 0.57, 0.6488, 0.56,\n",
       "                       0.6525333333333333, 0.6644666666666666, 0.5633333333333334,\n",
       "                       0.6282666666666666, 0.6652, 0.6646666666666666,\n",
       "                       0.6270666666666667, 0.6462666666666667, 0.6920000000000001,\n",
       "                       0.5633333333333334, 0.6993333333333333, 0.628, 0.6316,\n",
       "                       0.6186666666666666, 0.6513333333333333, 0.63,\n",
       "                       0.6920000000000001, 0.5633333333333334, 0.5633333333333334,\n",
       "                       0.6518666666666666, 0.56, 0.6532, 0.6837333333333333,\n",
       "                       0.7136000000000001, 0.6522666666666667, 0.5633333333333334,\n",
       "                       0.6794666666666666, 0.5633333333333334, 0.6270666666666667,\n",
       "                       0.7138666666666668, 0.6634666666666666, 0.5666666666666667,\n",
       "                       0.7003999999999999, 0.5633333333333334, 0.5633333333333334],\n",
       "             'colorbar': {'title': {'text': 'AUC'}},\n",
       "             'colorscale': [[0.0, 'rgb(247,251,255)'], [0.125,\n",
       "                            'rgb(222,235,247)'], [0.25, 'rgb(198,219,239)'],\n",
       "                            [0.375, 'rgb(158,202,225)'], [0.5, 'rgb(107,174,214)'],\n",
       "                            [0.625, 'rgb(66,146,198)'], [0.75, 'rgb(33,113,181)'],\n",
       "                            [0.875, 'rgb(8,81,156)'], [1.0, 'rgb(8,48,107)']],\n",
       "             'reversescale': False,\n",
       "             'showscale': True}\n",
       "})"
      ]
     },
     "execution_count": 39,
     "metadata": {},
     "output_type": "execute_result"
    }
   ],
   "source": [
    "fig.data[0]"
   ]
  },
  {
   "cell_type": "code",
   "execution_count": null,
   "metadata": {},
   "outputs": [],
   "source": []
  }
 ],
 "metadata": {
  "kernelspec": {
   "display_name": "severityPrediction",
   "language": "python",
   "name": "python3"
  },
  "language_info": {
   "codemirror_mode": {
    "name": "ipython",
    "version": 3
   },
   "file_extension": ".py",
   "mimetype": "text/x-python",
   "name": "python",
   "nbconvert_exporter": "python",
   "pygments_lexer": "ipython3",
   "version": "3.9.18"
  }
 },
 "nbformat": 4,
 "nbformat_minor": 2
}
